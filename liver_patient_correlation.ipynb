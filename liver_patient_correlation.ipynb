{
 "cells": [
  {
   "cell_type": "code",
   "execution_count": 2,
   "metadata": {},
   "outputs": [],
   "source": [
    "#stats\n",
    "import statsmodels.api as sm\n",
    "from scipy import stats\n",
    "from statsmodels.stats.outliers_influence import variance_inflation_factor\n",
    "import pingouin as pg\n",
    "# import ppscore as pps\n",
    "\n",
    "#viz\n",
    "import seaborn as sns\n",
    "import matplotlib.pyplot as plt\n",
    "import pandas as pd\n",
    "import plotly.express as px\n",
    "import numpy as np"
   ]
  },
  {
   "cell_type": "code",
   "execution_count": 6,
   "metadata": {},
   "outputs": [
    {
     "data": {
      "text/html": [
       "<div>\n",
       "<style scoped>\n",
       "    .dataframe tbody tr th:only-of-type {\n",
       "        vertical-align: middle;\n",
       "    }\n",
       "\n",
       "    .dataframe tbody tr th {\n",
       "        vertical-align: top;\n",
       "    }\n",
       "\n",
       "    .dataframe thead th {\n",
       "        text-align: right;\n",
       "    }\n",
       "</style>\n",
       "<table border=\"1\" class=\"dataframe\">\n",
       "  <thead>\n",
       "    <tr style=\"text-align: right;\">\n",
       "      <th></th>\n",
       "      <th>Age</th>\n",
       "      <th>Gender</th>\n",
       "      <th>Total_Bilirubin</th>\n",
       "      <th>Direct_Bilirubin</th>\n",
       "      <th>Alkaline_Phosphotase</th>\n",
       "      <th>Alanine_Aminotransferase</th>\n",
       "      <th>Aspartate_Aminotransferase</th>\n",
       "      <th>Total_Protiens</th>\n",
       "      <th>Albumin</th>\n",
       "      <th>Albumin_and_Globulin_Ratio</th>\n",
       "      <th>Dataset</th>\n",
       "    </tr>\n",
       "  </thead>\n",
       "  <tbody>\n",
       "    <tr>\n",
       "      <th>0</th>\n",
       "      <td>65</td>\n",
       "      <td>Female</td>\n",
       "      <td>0.7</td>\n",
       "      <td>0.1</td>\n",
       "      <td>187</td>\n",
       "      <td>16</td>\n",
       "      <td>18</td>\n",
       "      <td>6.8</td>\n",
       "      <td>3.3</td>\n",
       "      <td>0.90</td>\n",
       "      <td>1</td>\n",
       "    </tr>\n",
       "    <tr>\n",
       "      <th>1</th>\n",
       "      <td>62</td>\n",
       "      <td>Male</td>\n",
       "      <td>10.9</td>\n",
       "      <td>5.5</td>\n",
       "      <td>699</td>\n",
       "      <td>64</td>\n",
       "      <td>100</td>\n",
       "      <td>7.5</td>\n",
       "      <td>3.2</td>\n",
       "      <td>0.74</td>\n",
       "      <td>1</td>\n",
       "    </tr>\n",
       "    <tr>\n",
       "      <th>2</th>\n",
       "      <td>62</td>\n",
       "      <td>Male</td>\n",
       "      <td>7.3</td>\n",
       "      <td>4.1</td>\n",
       "      <td>490</td>\n",
       "      <td>60</td>\n",
       "      <td>68</td>\n",
       "      <td>7.0</td>\n",
       "      <td>3.3</td>\n",
       "      <td>0.89</td>\n",
       "      <td>1</td>\n",
       "    </tr>\n",
       "    <tr>\n",
       "      <th>3</th>\n",
       "      <td>58</td>\n",
       "      <td>Male</td>\n",
       "      <td>1.0</td>\n",
       "      <td>0.4</td>\n",
       "      <td>182</td>\n",
       "      <td>14</td>\n",
       "      <td>20</td>\n",
       "      <td>6.8</td>\n",
       "      <td>3.4</td>\n",
       "      <td>1.00</td>\n",
       "      <td>1</td>\n",
       "    </tr>\n",
       "    <tr>\n",
       "      <th>4</th>\n",
       "      <td>72</td>\n",
       "      <td>Male</td>\n",
       "      <td>3.9</td>\n",
       "      <td>2.0</td>\n",
       "      <td>195</td>\n",
       "      <td>27</td>\n",
       "      <td>59</td>\n",
       "      <td>7.3</td>\n",
       "      <td>2.4</td>\n",
       "      <td>0.40</td>\n",
       "      <td>1</td>\n",
       "    </tr>\n",
       "  </tbody>\n",
       "</table>\n",
       "</div>"
      ],
      "text/plain": [
       "   Age  Gender  Total_Bilirubin  Direct_Bilirubin  Alkaline_Phosphotase  \\\n",
       "0   65  Female              0.7               0.1                   187   \n",
       "1   62    Male             10.9               5.5                   699   \n",
       "2   62    Male              7.3               4.1                   490   \n",
       "3   58    Male              1.0               0.4                   182   \n",
       "4   72    Male              3.9               2.0                   195   \n",
       "\n",
       "   Alanine_Aminotransferase  Aspartate_Aminotransferase  Total_Protiens  \\\n",
       "0                        16                          18             6.8   \n",
       "1                        64                         100             7.5   \n",
       "2                        60                          68             7.0   \n",
       "3                        14                          20             6.8   \n",
       "4                        27                          59             7.3   \n",
       "\n",
       "   Albumin  Albumin_and_Globulin_Ratio  Dataset  \n",
       "0      3.3                        0.90        1  \n",
       "1      3.2                        0.74        1  \n",
       "2      3.3                        0.89        1  \n",
       "3      3.4                        1.00        1  \n",
       "4      2.4                        0.40        1  "
      ]
     },
     "execution_count": 6,
     "metadata": {},
     "output_type": "execute_result"
    }
   ],
   "source": [
    "csv_file_path = 'liverpatients.csv'\n",
    "df = pd.read_csv('liverpatients.csv') \n",
    "df.head()"
   ]
  },
  {
   "cell_type": "markdown",
   "metadata": {},
   "source": [
    "****TB - Total Bilirubin**** is a combination of direct and indirect bilirubin. Typically, you'll get results for direct and total bilirubin. \n",
    "\n",
    "****DB - Direct Bilirubin**** - Higher levels of direct bilirubin in your blood may indicate your liver isn't clearing bilirubin properly\n",
    "\n",
    "****Alkphos - Alkaline Phosphatase**** -  Test measures the level of ALP in your blood. ALP is an enzyme found in many tissues in the body, including the liver. Abnormal ALP levels can indicate a number of health conditions, including liver disease.\n",
    "\n",
    "****Sgpt - Alanine aminotransferase (ALT)**** test measures the level of ALT in your blood. ALT is an enzyme that helps the liver convert food into energy\n",
    "\n",
    "****Sgot - Aspartate Aminotransferase (AST)**** test, is a blood test that measures the level of the AST enzyme in your blood. This test is used to assess liver health and can help diagnose liver ailments and damage.\n",
    "\n",
    "****TP - A total protein (TP)**** test measures the amount of albumin and globulin in your blood. Proteins are important for the health of your cells and tissues. A TP test can help diagnose a number of health conditions, including kidney and liver disease, as well as nutritional deficiencies. \n",
    "\n",
    "****ALB - Albumin****, which is a protein produced by the liver that helps maintain fluid balance in the body. This test can help indicate liver and kidney function. Low albumin levels can be a sign of liver or kidney disease, inflammation, or infections.\n",
    "\n",
    "****A/G Ratio - Albumin/Globulin Ratio****, is a measurement of the amount of albumin compared to globulin in your blood. It's a part of a total protein test that measures the levels of proteins in your blood."
   ]
  },
  {
   "cell_type": "code",
   "execution_count": 13,
   "metadata": {},
   "outputs": [
    {
     "name": "stdout",
     "output_type": "stream",
     "text": [
      "<class 'pandas.core.frame.DataFrame'>\n",
      "RangeIndex: 583 entries, 0 to 582\n",
      "Data columns (total 11 columns):\n",
      " #   Column                      Non-Null Count  Dtype  \n",
      "---  ------                      --------------  -----  \n",
      " 0   Age                         583 non-null    int64  \n",
      " 1   Gender                      583 non-null    object \n",
      " 2   Total_Bilirubin             583 non-null    float64\n",
      " 3   Direct_Bilirubin            583 non-null    float64\n",
      " 4   Alkaline_Phosphotase        583 non-null    int64  \n",
      " 5   Alanine_Aminotransferase    583 non-null    int64  \n",
      " 6   Aspartate_Aminotransferase  583 non-null    int64  \n",
      " 7   Total_Protiens              583 non-null    float64\n",
      " 8   Albumin                     583 non-null    float64\n",
      " 9   Albumin_and_Globulin_Ratio  579 non-null    float64\n",
      " 10  Dataset                     583 non-null    int64  \n",
      "dtypes: float64(5), int64(5), object(1)\n",
      "memory usage: 50.2+ KB\n"
     ]
    }
   ],
   "source": [
    "df.info()"
   ]
  },
  {
   "cell_type": "code",
   "execution_count": 14,
   "metadata": {},
   "outputs": [
    {
     "data": {
      "text/html": [
       "<div>\n",
       "<style scoped>\n",
       "    .dataframe tbody tr th:only-of-type {\n",
       "        vertical-align: middle;\n",
       "    }\n",
       "\n",
       "    .dataframe tbody tr th {\n",
       "        vertical-align: top;\n",
       "    }\n",
       "\n",
       "    .dataframe thead th {\n",
       "        text-align: right;\n",
       "    }\n",
       "</style>\n",
       "<table border=\"1\" class=\"dataframe\">\n",
       "  <thead>\n",
       "    <tr style=\"text-align: right;\">\n",
       "      <th></th>\n",
       "      <th>Age</th>\n",
       "      <th>Total_Bilirubin</th>\n",
       "      <th>Direct_Bilirubin</th>\n",
       "      <th>Alkaline_Phosphotase</th>\n",
       "      <th>Alanine_Aminotransferase</th>\n",
       "      <th>Aspartate_Aminotransferase</th>\n",
       "      <th>Total_Protiens</th>\n",
       "      <th>Albumin</th>\n",
       "      <th>Albumin_and_Globulin_Ratio</th>\n",
       "      <th>Dataset</th>\n",
       "    </tr>\n",
       "  </thead>\n",
       "  <tbody>\n",
       "    <tr>\n",
       "      <th>count</th>\n",
       "      <td>583.000000</td>\n",
       "      <td>583.000000</td>\n",
       "      <td>583.000000</td>\n",
       "      <td>583.000000</td>\n",
       "      <td>583.000000</td>\n",
       "      <td>583.000000</td>\n",
       "      <td>583.000000</td>\n",
       "      <td>583.000000</td>\n",
       "      <td>579.000000</td>\n",
       "      <td>583.000000</td>\n",
       "    </tr>\n",
       "    <tr>\n",
       "      <th>mean</th>\n",
       "      <td>44.746141</td>\n",
       "      <td>3.298799</td>\n",
       "      <td>1.486106</td>\n",
       "      <td>290.576329</td>\n",
       "      <td>80.713551</td>\n",
       "      <td>109.910806</td>\n",
       "      <td>6.483190</td>\n",
       "      <td>3.141852</td>\n",
       "      <td>0.947064</td>\n",
       "      <td>1.286449</td>\n",
       "    </tr>\n",
       "    <tr>\n",
       "      <th>std</th>\n",
       "      <td>16.189833</td>\n",
       "      <td>6.209522</td>\n",
       "      <td>2.808498</td>\n",
       "      <td>242.937989</td>\n",
       "      <td>182.620356</td>\n",
       "      <td>288.918529</td>\n",
       "      <td>1.085451</td>\n",
       "      <td>0.795519</td>\n",
       "      <td>0.319592</td>\n",
       "      <td>0.452490</td>\n",
       "    </tr>\n",
       "    <tr>\n",
       "      <th>min</th>\n",
       "      <td>4.000000</td>\n",
       "      <td>0.400000</td>\n",
       "      <td>0.100000</td>\n",
       "      <td>63.000000</td>\n",
       "      <td>10.000000</td>\n",
       "      <td>10.000000</td>\n",
       "      <td>2.700000</td>\n",
       "      <td>0.900000</td>\n",
       "      <td>0.300000</td>\n",
       "      <td>1.000000</td>\n",
       "    </tr>\n",
       "    <tr>\n",
       "      <th>25%</th>\n",
       "      <td>33.000000</td>\n",
       "      <td>0.800000</td>\n",
       "      <td>0.200000</td>\n",
       "      <td>175.500000</td>\n",
       "      <td>23.000000</td>\n",
       "      <td>25.000000</td>\n",
       "      <td>5.800000</td>\n",
       "      <td>2.600000</td>\n",
       "      <td>0.700000</td>\n",
       "      <td>1.000000</td>\n",
       "    </tr>\n",
       "    <tr>\n",
       "      <th>50%</th>\n",
       "      <td>45.000000</td>\n",
       "      <td>1.000000</td>\n",
       "      <td>0.300000</td>\n",
       "      <td>208.000000</td>\n",
       "      <td>35.000000</td>\n",
       "      <td>42.000000</td>\n",
       "      <td>6.600000</td>\n",
       "      <td>3.100000</td>\n",
       "      <td>0.930000</td>\n",
       "      <td>1.000000</td>\n",
       "    </tr>\n",
       "    <tr>\n",
       "      <th>75%</th>\n",
       "      <td>58.000000</td>\n",
       "      <td>2.600000</td>\n",
       "      <td>1.300000</td>\n",
       "      <td>298.000000</td>\n",
       "      <td>60.500000</td>\n",
       "      <td>87.000000</td>\n",
       "      <td>7.200000</td>\n",
       "      <td>3.800000</td>\n",
       "      <td>1.100000</td>\n",
       "      <td>2.000000</td>\n",
       "    </tr>\n",
       "    <tr>\n",
       "      <th>max</th>\n",
       "      <td>90.000000</td>\n",
       "      <td>75.000000</td>\n",
       "      <td>19.700000</td>\n",
       "      <td>2110.000000</td>\n",
       "      <td>2000.000000</td>\n",
       "      <td>4929.000000</td>\n",
       "      <td>9.600000</td>\n",
       "      <td>5.500000</td>\n",
       "      <td>2.800000</td>\n",
       "      <td>2.000000</td>\n",
       "    </tr>\n",
       "  </tbody>\n",
       "</table>\n",
       "</div>"
      ],
      "text/plain": [
       "              Age  Total_Bilirubin  Direct_Bilirubin  Alkaline_Phosphotase  \\\n",
       "count  583.000000       583.000000        583.000000            583.000000   \n",
       "mean    44.746141         3.298799          1.486106            290.576329   \n",
       "std     16.189833         6.209522          2.808498            242.937989   \n",
       "min      4.000000         0.400000          0.100000             63.000000   \n",
       "25%     33.000000         0.800000          0.200000            175.500000   \n",
       "50%     45.000000         1.000000          0.300000            208.000000   \n",
       "75%     58.000000         2.600000          1.300000            298.000000   \n",
       "max     90.000000        75.000000         19.700000           2110.000000   \n",
       "\n",
       "       Alanine_Aminotransferase  Aspartate_Aminotransferase  Total_Protiens  \\\n",
       "count                583.000000                  583.000000      583.000000   \n",
       "mean                  80.713551                  109.910806        6.483190   \n",
       "std                  182.620356                  288.918529        1.085451   \n",
       "min                   10.000000                   10.000000        2.700000   \n",
       "25%                   23.000000                   25.000000        5.800000   \n",
       "50%                   35.000000                   42.000000        6.600000   \n",
       "75%                   60.500000                   87.000000        7.200000   \n",
       "max                 2000.000000                 4929.000000        9.600000   \n",
       "\n",
       "          Albumin  Albumin_and_Globulin_Ratio     Dataset  \n",
       "count  583.000000                  579.000000  583.000000  \n",
       "mean     3.141852                    0.947064    1.286449  \n",
       "std      0.795519                    0.319592    0.452490  \n",
       "min      0.900000                    0.300000    1.000000  \n",
       "25%      2.600000                    0.700000    1.000000  \n",
       "50%      3.100000                    0.930000    1.000000  \n",
       "75%      3.800000                    1.100000    2.000000  \n",
       "max      5.500000                    2.800000    2.000000  "
      ]
     },
     "execution_count": 14,
     "metadata": {},
     "output_type": "execute_result"
    }
   ],
   "source": [
    "df.describe()"
   ]
  },
  {
   "cell_type": "code",
   "execution_count": 15,
   "metadata": {},
   "outputs": [
    {
     "data": {
      "text/plain": [
       "Age                           0\n",
       "Gender                        0\n",
       "Total_Bilirubin               0\n",
       "Direct_Bilirubin              0\n",
       "Alkaline_Phosphotase          0\n",
       "Alanine_Aminotransferase      0\n",
       "Aspartate_Aminotransferase    0\n",
       "Total_Protiens                0\n",
       "Albumin                       0\n",
       "Albumin_and_Globulin_Ratio    4\n",
       "Dataset                       0\n",
       "dtype: int64"
      ]
     },
     "execution_count": 15,
     "metadata": {},
     "output_type": "execute_result"
    }
   ],
   "source": [
    "df.isnull().sum()"
   ]
  },
  {
   "cell_type": "markdown",
   "metadata": {},
   "source": [
    "SPURIOUS CORRELATION"
   ]
  },
  {
   "cell_type": "code",
   "execution_count": 46,
   "metadata": {},
   "outputs": [
    {
     "data": {
      "application/vnd.plotly.v1+json": {
       "config": {
        "plotlyServerURL": "https://plot.ly"
       },
       "data": [
        {
         "hovertemplate": "Gender=Female<br>Age=%{x}<br>Alkaline_Phosphotase=%{y}<extra></extra>",
         "legendgroup": "Female",
         "marker": {
          "color": "#636efa",
          "size": 8,
          "symbol": "circle"
         },
         "mode": "markers",
         "name": "Female",
         "orientation": "v",
         "showlegend": true,
         "type": "scatter",
         "x": [
          65,
          26,
          29,
          74,
          40,
          40,
          84,
          38,
          38,
          17,
          46,
          85,
          32,
          45,
          34,
          48,
          31,
          19,
          75,
          75,
          29,
          68,
          58,
          58,
          55,
          24,
          64,
          58,
          70,
          18,
          46,
          66,
          45,
          66,
          46,
          47,
          44,
          48,
          26,
          7,
          38,
          70,
          45,
          8,
          68,
          65,
          40,
          35,
          35,
          29,
          28,
          35,
          38,
          38,
          43,
          48,
          34,
          50,
          45,
          74,
          25,
          31,
          24,
          51,
          50,
          55,
          54,
          45,
          48,
          54,
          30,
          30,
          30,
          36,
          36,
          13,
          13,
          36,
          49,
          26,
          48,
          48,
          69,
          65,
          42,
          42,
          58,
          54,
          25,
          56,
          20,
          50,
          58,
          60,
          48,
          66,
          42,
          31,
          23,
          55,
          55,
          32,
          52,
          53,
          47,
          41,
          30,
          17,
          42,
          49,
          42,
          42,
          42,
          45,
          48,
          48,
          21,
          22,
          28,
          45,
          45,
          28,
          28,
          49,
          22,
          42,
          53,
          35,
          37,
          46,
          53,
          22,
          46,
          10,
          65,
          54,
          45,
          50,
          40,
          38,
          50,
          20
         ],
         "xaxis": "x",
         "y": [
          187,
          154,
          202,
          214,
          293,
          293,
          188,
          410,
          410,
          145,
          374,
          208,
          176,
          170,
          161,
          175,
          158,
          186,
          188,
          205,
          162,
          1620,
          670,
          915,
          225,
          188,
          178,
          1896,
          237,
          199,
          310,
          159,
          189,
          168,
          182,
          292,
          298,
          218,
          142,
          1420,
          145,
          220,
          189,
          401,
          186,
          202,
          285,
          158,
          190,
          205,
          316,
          180,
          152,
          185,
          140,
          144,
          192,
          239,
          250,
          234,
          159,
          190,
          195,
          280,
          430,
          155,
          195,
          165,
          527,
          574,
          158,
          63,
          198,
          358,
          152,
          350,
          182,
          650,
          158,
          144,
          621,
          150,
          146,
          182,
          165,
          182,
          130,
          558,
          140,
          145,
          202,
          192,
          172,
          159,
          310,
          162,
          162,
          215,
          509,
          1350,
          1350,
          240,
          194,
          182,
          236,
          201,
          194,
          206,
          168,
          198,
          292,
          298,
          152,
          1550,
          142,
          173,
          186,
          215,
          309,
          164,
          270,
          137,
          90,
          185,
          850,
          195,
          193,
          805,
          205,
          185,
          210,
          138,
          298,
          395,
          406,
          350,
          153,
          380,
          768,
          165,
          191,
          200
         ],
         "yaxis": "y"
        },
        {
         "hovertemplate": "Gender=Male<br>Age=%{x}<br>Alkaline_Phosphotase=%{y}<extra></extra>",
         "legendgroup": "Male",
         "marker": {
          "color": "#EF553B",
          "size": 8,
          "symbol": "circle"
         },
         "mode": "markers",
         "name": "Male",
         "orientation": "v",
         "showlegend": true,
         "type": "scatter",
         "x": [
          62,
          62,
          58,
          72,
          46,
          17,
          55,
          57,
          72,
          64,
          61,
          25,
          38,
          33,
          51,
          51,
          62,
          40,
          63,
          34,
          34,
          34,
          20,
          57,
          52,
          57,
          30,
          48,
          47,
          45,
          62,
          42,
          50,
          35,
          21,
          40,
          55,
          38,
          38,
          42,
          42,
          33,
          51,
          64,
          58,
          58,
          57,
          57,
          57,
          54,
          37,
          66,
          60,
          52,
          68,
          31,
          70,
          29,
          49,
          33,
          32,
          14,
          13,
          58,
          18,
          60,
          60,
          60,
          60,
          60,
          60,
          75,
          39,
          39,
          18,
          18,
          27,
          27,
          17,
          63,
          36,
          36,
          36,
          36,
          36,
          48,
          27,
          74,
          50,
          50,
          48,
          32,
          32,
          32,
          32,
          32,
          58,
          28,
          60,
          48,
          64,
          45,
          45,
          53,
          18,
          66,
          18,
          18,
          15,
          60,
          30,
          30,
          65,
          65,
          50,
          60,
          56,
          50,
          52,
          34,
          34,
          32,
          72,
          72,
          50,
          60,
          60,
          60,
          39,
          39,
          48,
          55,
          60,
          60,
          72,
          55,
          31,
          31,
          31,
          55,
          75,
          75,
          75,
          75,
          75,
          65,
          40,
          64,
          38,
          60,
          60,
          60,
          60,
          60,
          60,
          49,
          49,
          60,
          60,
          41,
          49,
          49,
          21,
          21,
          45,
          40,
          40,
          28,
          42,
          22,
          38,
          66,
          55,
          49,
          6,
          37,
          37,
          47,
          47,
          50,
          70,
          26,
          26,
          46,
          61,
          61,
          50,
          33,
          60,
          22,
          40,
          48,
          51,
          54,
          54,
          55,
          55,
          40,
          33,
          33,
          33,
          65,
          38,
          50,
          44,
          36,
          42,
          42,
          33,
          18,
          38,
          4,
          62,
          40,
          26,
          37,
          4,
          21,
          30,
          33,
          26,
          35,
          60,
          45,
          58,
          50,
          50,
          18,
          18,
          13,
          43,
          57,
          60,
          45,
          23,
          22,
          22,
          58,
          50,
          48,
          30,
          51,
          27,
          26,
          22,
          44,
          35,
          38,
          14,
          36,
          12,
          60,
          42,
          24,
          43,
          21,
          26,
          26,
          26,
          75,
          75,
          75,
          75,
          75,
          35,
          70,
          37,
          60,
          46,
          38,
          70,
          37,
          37,
          19,
          33,
          33,
          37,
          24,
          55,
          21,
          40,
          16,
          60,
          33,
          48,
          47,
          33,
          72,
          50,
          39,
          34,
          50,
          38,
          51,
          46,
          72,
          72,
          75,
          41,
          41,
          45,
          74,
          78,
          38,
          27,
          50,
          65,
          22,
          45,
          12,
          48,
          48,
          18,
          65,
          48,
          65,
          70,
          70,
          11,
          50,
          26,
          41,
          53,
          58,
          45,
          65,
          73,
          29,
          23,
          35,
          65,
          61,
          17,
          54,
          65,
          35,
          58,
          46,
          28,
          32,
          61,
          26,
          65,
          38,
          25,
          66,
          66,
          66,
          42,
          42,
          35,
          38,
          38,
          55,
          33,
          33,
          7,
          45,
          45,
          30,
          62,
          32,
          60,
          65,
          27,
          65,
          25,
          32,
          24,
          67,
          68,
          55,
          70,
          36,
          42,
          53,
          32,
          32,
          56,
          50,
          46,
          46,
          45,
          56,
          69,
          49,
          49,
          60,
          28,
          45,
          35,
          62,
          55,
          50,
          29,
          46,
          40,
          45,
          55,
          40,
          62,
          39,
          60,
          46,
          52,
          42,
          42,
          62,
          40,
          45,
          42,
          46,
          29,
          45,
          46,
          73,
          55,
          51,
          51,
          51,
          26,
          66,
          66,
          66,
          64,
          43,
          52,
          16,
          16,
          90,
          32,
          32,
          32,
          32,
          32,
          32,
          60,
          40,
          52,
          31,
          38
         ],
         "xaxis": "x",
         "y": [
          699,
          490,
          182,
          195,
          208,
          202,
          290,
          210,
          260,
          310,
          145,
          183,
          342,
          165,
          610,
          482,
          542,
          231,
          194,
          289,
          289,
          240,
          128,
          190,
          156,
          187,
          482,
          263,
          275,
          168,
          160,
          630,
          415,
          275,
          150,
          230,
          206,
          253,
          198,
          272,
          272,
          198,
          367,
          145,
          158,
          158,
          208,
          259,
          470,
          195,
          215,
          239,
          215,
          171,
          145,
          518,
          146,
          75,
          148,
          258,
          237,
          269,
          320,
          298,
          538,
          238,
          214,
          308,
          298,
          204,
          168,
          282,
          298,
          215,
          265,
          312,
          161,
          243,
          224,
          170,
          145,
          145,
          158,
          158,
          486,
          257,
          179,
          272,
          661,
          1580,
          1630,
          194,
          280,
          298,
          300,
          290,
          188,
          177,
          201,
          802,
          248,
          263,
          512,
          238,
          178,
          1110,
          282,
          282,
          380,
          186,
          332,
          332,
          201,
          392,
          202,
          286,
          180,
          218,
          178,
          290,
          298,
          462,
          196,
          196,
          282,
          750,
          1050,
          599,
          180,
          180,
          282,
          332,
          962,
          950,
          200,
          750,
          175,
          175,
          198,
          482,
          1020,
          562,
          386,
          250,
          218,
          170,
          171,
          201,
          298,
          750,
          191,
          614,
          314,
          257,
          272,
          206,
          209,
          1124,
          664,
          169,
          218,
          218,
          142,
          135,
          163,
          285,
          350,
          190,
          219,
          160,
          180,
          100,
          116,
          159,
          289,
          125,
          147,
          192,
          265,
          175,
          400,
          120,
          173,
          290,
          196,
          282,
          157,
          2110,
          360,
          300,
          196,
          165,
          230,
          218,
          290,
          272,
          190,
          202,
          498,
          480,
          680,
          258,
          859,
          901,
          335,
          182,
          285,
          245,
          505,
          228,
          247,
          348,
          195,
          358,
          110,
          235,
          460,
          380,
          262,
          196,
          180,
          190,
          190,
          209,
          123,
          192,
          188,
          316,
          300,
          575,
          155,
          315,
          174,
          245,
          191,
          340,
          202,
          180,
          206,
          588,
          174,
          175,
          106,
          195,
          179,
          182,
          198,
          216,
          310,
          205,
          302,
          171,
          158,
          174,
          192,
          211,
          157,
          210,
          258,
          458,
          375,
          405,
          215,
          206,
          198,
          198,
          195,
          230,
          115,
          216,
          358,
          145,
          195,
          178,
          256,
          205,
          176,
          218,
          215,
          183,
          176,
          418,
          271,
          135,
          326,
          206,
          168,
          185,
          331,
          188,
          490,
          152,
          105,
          160,
          160,
          102,
          148,
          162,
          149,
          580,
          140,
          175,
          152,
          208,
          205,
          92,
          199,
          198,
          180,
          719,
          554,
          555,
          215,
          190,
          208,
          260,
          690,
          862,
          592,
          450,
          163,
          246,
          178,
          100,
          166,
          170,
          1750,
          165,
          212,
          157,
          162,
          163,
          279,
          181,
          282,
          279,
          1100,
          224,
          159,
          189,
          192,
          140,
          686,
          110,
          130,
          190,
          165,
          167,
          197,
          154,
          226,
          310,
          310,
          220,
          196,
          186,
          352,
          282,
          92,
          182,
          103,
          276,
          171,
          146,
          180,
          265,
          185,
          165,
          189,
          198,
          151,
          349,
          365,
          305,
          127,
          238,
          218,
          219,
          239,
          194,
          450,
          254,
          320,
          195,
          215,
          230,
          189,
          168,
          215,
          210,
          108,
          224,
          230,
          137,
          156,
          268,
          298,
          315,
          214,
          285,
          162,
          230,
          466,
          227,
          97,
          114,
          198,
          173,
          204,
          188,
          214,
          172,
          160,
          196,
          232,
          220,
          290,
          180,
          189,
          275,
          390,
          356,
          315,
          388,
          298,
          143,
          251,
          268,
          236,
          215,
          134,
          612,
          515,
          560,
          289,
          190,
          500,
          98,
          245,
          184,
          216
         ],
         "yaxis": "y"
        },
        {
         "hovertemplate": "<b>OLS trendline</b><br>Alkaline_Phosphotase = 1.20682 * Age + 236.576<br>R<sup>2</sup>=0.006468<br><br>Age=%{x}<br>Alkaline_Phosphotase=%{y} <b>(trend)</b><extra></extra>",
         "legendgroup": "Overall Trendline",
         "line": {
          "color": "#00cc96"
         },
         "marker": {
          "size": 8
         },
         "mode": "lines",
         "name": "Overall Trendline",
         "showlegend": true,
         "type": "scatter",
         "x": [
          4,
          4,
          6,
          7,
          7,
          8,
          10,
          11,
          12,
          12,
          13,
          13,
          13,
          13,
          14,
          14,
          15,
          16,
          16,
          16,
          17,
          17,
          17,
          17,
          17,
          18,
          18,
          18,
          18,
          18,
          18,
          18,
          18,
          18,
          18,
          18,
          19,
          19,
          20,
          20,
          20,
          21,
          21,
          21,
          21,
          21,
          21,
          21,
          22,
          22,
          22,
          22,
          22,
          22,
          22,
          22,
          22,
          23,
          23,
          23,
          24,
          24,
          24,
          24,
          24,
          25,
          25,
          25,
          25,
          25,
          26,
          26,
          26,
          26,
          26,
          26,
          26,
          26,
          26,
          26,
          26,
          26,
          26,
          26,
          27,
          27,
          27,
          27,
          27,
          27,
          28,
          28,
          28,
          28,
          28,
          28,
          28,
          28,
          29,
          29,
          29,
          29,
          29,
          29,
          29,
          30,
          30,
          30,
          30,
          30,
          30,
          30,
          30,
          30,
          30,
          31,
          31,
          31,
          31,
          31,
          31,
          31,
          31,
          32,
          32,
          32,
          32,
          32,
          32,
          32,
          32,
          32,
          32,
          32,
          32,
          32,
          32,
          32,
          32,
          32,
          32,
          32,
          32,
          33,
          33,
          33,
          33,
          33,
          33,
          33,
          33,
          33,
          33,
          33,
          33,
          33,
          33,
          33,
          34,
          34,
          34,
          34,
          34,
          34,
          34,
          34,
          35,
          35,
          35,
          35,
          35,
          35,
          35,
          35,
          35,
          35,
          35,
          35,
          36,
          36,
          36,
          36,
          36,
          36,
          36,
          36,
          36,
          36,
          36,
          37,
          37,
          37,
          37,
          37,
          37,
          37,
          37,
          37,
          38,
          38,
          38,
          38,
          38,
          38,
          38,
          38,
          38,
          38,
          38,
          38,
          38,
          38,
          38,
          38,
          38,
          38,
          38,
          38,
          38,
          39,
          39,
          39,
          39,
          39,
          39,
          40,
          40,
          40,
          40,
          40,
          40,
          40,
          40,
          40,
          40,
          40,
          40,
          40,
          40,
          40,
          40,
          40,
          41,
          41,
          41,
          41,
          41,
          42,
          42,
          42,
          42,
          42,
          42,
          42,
          42,
          42,
          42,
          42,
          42,
          42,
          42,
          42,
          42,
          42,
          42,
          42,
          42,
          42,
          43,
          43,
          43,
          43,
          44,
          44,
          44,
          45,
          45,
          45,
          45,
          45,
          45,
          45,
          45,
          45,
          45,
          45,
          45,
          45,
          45,
          45,
          45,
          45,
          45,
          45,
          45,
          45,
          45,
          45,
          45,
          45,
          46,
          46,
          46,
          46,
          46,
          46,
          46,
          46,
          46,
          46,
          46,
          46,
          46,
          46,
          46,
          46,
          47,
          47,
          47,
          47,
          47,
          47,
          48,
          48,
          48,
          48,
          48,
          48,
          48,
          48,
          48,
          48,
          48,
          48,
          48,
          48,
          48,
          48,
          48,
          48,
          48,
          48,
          49,
          49,
          49,
          49,
          49,
          49,
          49,
          49,
          49,
          49,
          49,
          50,
          50,
          50,
          50,
          50,
          50,
          50,
          50,
          50,
          50,
          50,
          50,
          50,
          50,
          50,
          50,
          50,
          50,
          50,
          50,
          50,
          50,
          50,
          51,
          51,
          51,
          51,
          51,
          51,
          51,
          51,
          51,
          51,
          52,
          52,
          52,
          52,
          52,
          52,
          52,
          53,
          53,
          53,
          53,
          53,
          53,
          54,
          54,
          54,
          54,
          54,
          54,
          54,
          54,
          55,
          55,
          55,
          55,
          55,
          55,
          55,
          55,
          55,
          55,
          55,
          55,
          55,
          55,
          55,
          55,
          55,
          55,
          56,
          56,
          56,
          56,
          57,
          57,
          57,
          57,
          57,
          57,
          57,
          58,
          58,
          58,
          58,
          58,
          58,
          58,
          58,
          58,
          58,
          58,
          58,
          58,
          58,
          60,
          60,
          60,
          60,
          60,
          60,
          60,
          60,
          60,
          60,
          60,
          60,
          60,
          60,
          60,
          60,
          60,
          60,
          60,
          60,
          60,
          60,
          60,
          60,
          60,
          60,
          60,
          60,
          60,
          60,
          60,
          60,
          60,
          60,
          61,
          61,
          61,
          61,
          61,
          62,
          62,
          62,
          62,
          62,
          62,
          62,
          62,
          62,
          63,
          63,
          64,
          64,
          64,
          64,
          64,
          64,
          65,
          65,
          65,
          65,
          65,
          65,
          65,
          65,
          65,
          65,
          65,
          65,
          65,
          65,
          65,
          65,
          65,
          66,
          66,
          66,
          66,
          66,
          66,
          66,
          66,
          66,
          66,
          66,
          66,
          67,
          68,
          68,
          68,
          68,
          69,
          69,
          70,
          70,
          70,
          70,
          70,
          70,
          70,
          70,
          70,
          72,
          72,
          72,
          72,
          72,
          72,
          72,
          72,
          73,
          73,
          74,
          74,
          74,
          74,
          75,
          75,
          75,
          75,
          75,
          75,
          75,
          75,
          75,
          75,
          75,
          75,
          75,
          75,
          78,
          84,
          85,
          90
         ],
         "xaxis": "x",
         "y": [
          241.40312478896269,
          241.40312478896269,
          243.81676219144933,
          245.02358089269265,
          245.02358089269265,
          246.23039959393597,
          248.64403699642259,
          249.8508556976659,
          251.05767439890923,
          251.05767439890923,
          252.26449310015255,
          252.26449310015255,
          252.26449310015255,
          252.26449310015255,
          253.47131180139587,
          253.47131180139587,
          254.67813050263916,
          255.88494920388248,
          255.88494920388248,
          255.88494920388248,
          257.09176790512583,
          257.09176790512583,
          257.09176790512583,
          257.09176790512583,
          257.09176790512583,
          258.2985866063691,
          258.2985866063691,
          258.2985866063691,
          258.2985866063691,
          258.2985866063691,
          258.2985866063691,
          258.2985866063691,
          258.2985866063691,
          258.2985866063691,
          258.2985866063691,
          258.2985866063691,
          259.5054053076124,
          259.5054053076124,
          260.71222400885574,
          260.71222400885574,
          260.71222400885574,
          261.91904271009906,
          261.91904271009906,
          261.91904271009906,
          261.91904271009906,
          261.91904271009906,
          261.91904271009906,
          261.91904271009906,
          263.1258614113424,
          263.1258614113424,
          263.1258614113424,
          263.1258614113424,
          263.1258614113424,
          263.1258614113424,
          263.1258614113424,
          263.1258614113424,
          263.1258614113424,
          264.3326801125857,
          264.3326801125857,
          264.3326801125857,
          265.539498813829,
          265.539498813829,
          265.539498813829,
          265.539498813829,
          265.539498813829,
          266.74631751507235,
          266.74631751507235,
          266.74631751507235,
          266.74631751507235,
          266.74631751507235,
          267.95313621631567,
          267.95313621631567,
          267.95313621631567,
          267.95313621631567,
          267.95313621631567,
          267.95313621631567,
          267.95313621631567,
          267.95313621631567,
          267.95313621631567,
          267.95313621631567,
          267.95313621631567,
          267.95313621631567,
          267.95313621631567,
          267.95313621631567,
          269.159954917559,
          269.159954917559,
          269.159954917559,
          269.159954917559,
          269.159954917559,
          269.159954917559,
          270.3667736188023,
          270.3667736188023,
          270.3667736188023,
          270.3667736188023,
          270.3667736188023,
          270.3667736188023,
          270.3667736188023,
          270.3667736188023,
          271.5735923200456,
          271.5735923200456,
          271.5735923200456,
          271.5735923200456,
          271.5735923200456,
          271.5735923200456,
          271.5735923200456,
          272.7804110212889,
          272.7804110212889,
          272.7804110212889,
          272.7804110212889,
          272.7804110212889,
          272.7804110212889,
          272.7804110212889,
          272.7804110212889,
          272.7804110212889,
          272.7804110212889,
          273.9872297225322,
          273.9872297225322,
          273.9872297225322,
          273.9872297225322,
          273.9872297225322,
          273.9872297225322,
          273.9872297225322,
          273.9872297225322,
          275.19404842377554,
          275.19404842377554,
          275.19404842377554,
          275.19404842377554,
          275.19404842377554,
          275.19404842377554,
          275.19404842377554,
          275.19404842377554,
          275.19404842377554,
          275.19404842377554,
          275.19404842377554,
          275.19404842377554,
          275.19404842377554,
          275.19404842377554,
          275.19404842377554,
          275.19404842377554,
          275.19404842377554,
          275.19404842377554,
          275.19404842377554,
          275.19404842377554,
          276.40086712501886,
          276.40086712501886,
          276.40086712501886,
          276.40086712501886,
          276.40086712501886,
          276.40086712501886,
          276.40086712501886,
          276.40086712501886,
          276.40086712501886,
          276.40086712501886,
          276.40086712501886,
          276.40086712501886,
          276.40086712501886,
          276.40086712501886,
          276.40086712501886,
          277.6076858262622,
          277.6076858262622,
          277.6076858262622,
          277.6076858262622,
          277.6076858262622,
          277.6076858262622,
          277.6076858262622,
          277.6076858262622,
          278.8145045275055,
          278.8145045275055,
          278.8145045275055,
          278.8145045275055,
          278.8145045275055,
          278.8145045275055,
          278.8145045275055,
          278.8145045275055,
          278.8145045275055,
          278.8145045275055,
          278.8145045275055,
          278.8145045275055,
          280.0213232287488,
          280.0213232287488,
          280.0213232287488,
          280.0213232287488,
          280.0213232287488,
          280.0213232287488,
          280.0213232287488,
          280.0213232287488,
          280.0213232287488,
          280.0213232287488,
          280.0213232287488,
          281.22814192999215,
          281.22814192999215,
          281.22814192999215,
          281.22814192999215,
          281.22814192999215,
          281.22814192999215,
          281.22814192999215,
          281.22814192999215,
          281.22814192999215,
          282.43496063123547,
          282.43496063123547,
          282.43496063123547,
          282.43496063123547,
          282.43496063123547,
          282.43496063123547,
          282.43496063123547,
          282.43496063123547,
          282.43496063123547,
          282.43496063123547,
          282.43496063123547,
          282.43496063123547,
          282.43496063123547,
          282.43496063123547,
          282.43496063123547,
          282.43496063123547,
          282.43496063123547,
          282.43496063123547,
          282.43496063123547,
          282.43496063123547,
          282.43496063123547,
          283.6417793324788,
          283.6417793324788,
          283.6417793324788,
          283.6417793324788,
          283.6417793324788,
          283.6417793324788,
          284.84859803372206,
          284.84859803372206,
          284.84859803372206,
          284.84859803372206,
          284.84859803372206,
          284.84859803372206,
          284.84859803372206,
          284.84859803372206,
          284.84859803372206,
          284.84859803372206,
          284.84859803372206,
          284.84859803372206,
          284.84859803372206,
          284.84859803372206,
          284.84859803372206,
          284.84859803372206,
          284.84859803372206,
          286.05541673496543,
          286.05541673496543,
          286.05541673496543,
          286.05541673496543,
          286.05541673496543,
          287.2622354362087,
          287.2622354362087,
          287.2622354362087,
          287.2622354362087,
          287.2622354362087,
          287.2622354362087,
          287.2622354362087,
          287.2622354362087,
          287.2622354362087,
          287.2622354362087,
          287.2622354362087,
          287.2622354362087,
          287.2622354362087,
          287.2622354362087,
          287.2622354362087,
          287.2622354362087,
          287.2622354362087,
          287.2622354362087,
          287.2622354362087,
          287.2622354362087,
          287.2622354362087,
          288.469054137452,
          288.469054137452,
          288.469054137452,
          288.469054137452,
          289.67587283869534,
          289.67587283869534,
          289.67587283869534,
          290.88269153993866,
          290.88269153993866,
          290.88269153993866,
          290.88269153993866,
          290.88269153993866,
          290.88269153993866,
          290.88269153993866,
          290.88269153993866,
          290.88269153993866,
          290.88269153993866,
          290.88269153993866,
          290.88269153993866,
          290.88269153993866,
          290.88269153993866,
          290.88269153993866,
          290.88269153993866,
          290.88269153993866,
          290.88269153993866,
          290.88269153993866,
          290.88269153993866,
          290.88269153993866,
          290.88269153993866,
          290.88269153993866,
          290.88269153993866,
          290.88269153993866,
          292.089510241182,
          292.089510241182,
          292.089510241182,
          292.089510241182,
          292.089510241182,
          292.089510241182,
          292.089510241182,
          292.089510241182,
          292.089510241182,
          292.089510241182,
          292.089510241182,
          292.089510241182,
          292.089510241182,
          292.089510241182,
          292.089510241182,
          292.089510241182,
          293.2963289424253,
          293.2963289424253,
          293.2963289424253,
          293.2963289424253,
          293.2963289424253,
          293.2963289424253,
          294.5031476436686,
          294.5031476436686,
          294.5031476436686,
          294.5031476436686,
          294.5031476436686,
          294.5031476436686,
          294.5031476436686,
          294.5031476436686,
          294.5031476436686,
          294.5031476436686,
          294.5031476436686,
          294.5031476436686,
          294.5031476436686,
          294.5031476436686,
          294.5031476436686,
          294.5031476436686,
          294.5031476436686,
          294.5031476436686,
          294.5031476436686,
          294.5031476436686,
          295.70996634491195,
          295.70996634491195,
          295.70996634491195,
          295.70996634491195,
          295.70996634491195,
          295.70996634491195,
          295.70996634491195,
          295.70996634491195,
          295.70996634491195,
          295.70996634491195,
          295.70996634491195,
          296.91678504615527,
          296.91678504615527,
          296.91678504615527,
          296.91678504615527,
          296.91678504615527,
          296.91678504615527,
          296.91678504615527,
          296.91678504615527,
          296.91678504615527,
          296.91678504615527,
          296.91678504615527,
          296.91678504615527,
          296.91678504615527,
          296.91678504615527,
          296.91678504615527,
          296.91678504615527,
          296.91678504615527,
          296.91678504615527,
          296.91678504615527,
          296.91678504615527,
          296.91678504615527,
          296.91678504615527,
          296.91678504615527,
          298.1236037473986,
          298.1236037473986,
          298.1236037473986,
          298.1236037473986,
          298.1236037473986,
          298.1236037473986,
          298.1236037473986,
          298.1236037473986,
          298.1236037473986,
          298.1236037473986,
          299.3304224486419,
          299.3304224486419,
          299.3304224486419,
          299.3304224486419,
          299.3304224486419,
          299.3304224486419,
          299.3304224486419,
          300.5372411498852,
          300.5372411498852,
          300.5372411498852,
          300.5372411498852,
          300.5372411498852,
          300.5372411498852,
          301.7440598511285,
          301.7440598511285,
          301.7440598511285,
          301.7440598511285,
          301.7440598511285,
          301.7440598511285,
          301.7440598511285,
          301.7440598511285,
          302.9508785523718,
          302.9508785523718,
          302.9508785523718,
          302.9508785523718,
          302.9508785523718,
          302.9508785523718,
          302.9508785523718,
          302.9508785523718,
          302.9508785523718,
          302.9508785523718,
          302.9508785523718,
          302.9508785523718,
          302.9508785523718,
          302.9508785523718,
          302.9508785523718,
          302.9508785523718,
          302.9508785523718,
          302.9508785523718,
          304.15769725361514,
          304.15769725361514,
          304.15769725361514,
          304.15769725361514,
          305.36451595485846,
          305.36451595485846,
          305.36451595485846,
          305.36451595485846,
          305.36451595485846,
          305.36451595485846,
          305.36451595485846,
          306.5713346561018,
          306.5713346561018,
          306.5713346561018,
          306.5713346561018,
          306.5713346561018,
          306.5713346561018,
          306.5713346561018,
          306.5713346561018,
          306.5713346561018,
          306.5713346561018,
          306.5713346561018,
          306.5713346561018,
          306.5713346561018,
          306.5713346561018,
          308.9849720585884,
          308.9849720585884,
          308.9849720585884,
          308.9849720585884,
          308.9849720585884,
          308.9849720585884,
          308.9849720585884,
          308.9849720585884,
          308.9849720585884,
          308.9849720585884,
          308.9849720585884,
          308.9849720585884,
          308.9849720585884,
          308.9849720585884,
          308.9849720585884,
          308.9849720585884,
          308.9849720585884,
          308.9849720585884,
          308.9849720585884,
          308.9849720585884,
          308.9849720585884,
          308.9849720585884,
          308.9849720585884,
          308.9849720585884,
          308.9849720585884,
          308.9849720585884,
          308.9849720585884,
          308.9849720585884,
          308.9849720585884,
          308.9849720585884,
          308.9849720585884,
          308.9849720585884,
          308.9849720585884,
          308.9849720585884,
          310.19179075983175,
          310.19179075983175,
          310.19179075983175,
          310.19179075983175,
          310.19179075983175,
          311.39860946107507,
          311.39860946107507,
          311.39860946107507,
          311.39860946107507,
          311.39860946107507,
          311.39860946107507,
          311.39860946107507,
          311.39860946107507,
          311.39860946107507,
          312.6054281623184,
          312.6054281623184,
          313.81224686356165,
          313.81224686356165,
          313.81224686356165,
          313.81224686356165,
          313.81224686356165,
          313.81224686356165,
          315.01906556480503,
          315.01906556480503,
          315.01906556480503,
          315.01906556480503,
          315.01906556480503,
          315.01906556480503,
          315.01906556480503,
          315.01906556480503,
          315.01906556480503,
          315.01906556480503,
          315.01906556480503,
          315.01906556480503,
          315.01906556480503,
          315.01906556480503,
          315.01906556480503,
          315.01906556480503,
          315.01906556480503,
          316.2258842660483,
          316.2258842660483,
          316.2258842660483,
          316.2258842660483,
          316.2258842660483,
          316.2258842660483,
          316.2258842660483,
          316.2258842660483,
          316.2258842660483,
          316.2258842660483,
          316.2258842660483,
          316.2258842660483,
          317.4327029672916,
          318.63952166853494,
          318.63952166853494,
          318.63952166853494,
          318.63952166853494,
          319.84634036977826,
          319.84634036977826,
          321.0531590710216,
          321.0531590710216,
          321.0531590710216,
          321.0531590710216,
          321.0531590710216,
          321.0531590710216,
          321.0531590710216,
          321.0531590710216,
          321.0531590710216,
          323.4667964735082,
          323.4667964735082,
          323.4667964735082,
          323.4667964735082,
          323.4667964735082,
          323.4667964735082,
          323.4667964735082,
          323.4667964735082,
          324.67361517475155,
          324.67361517475155,
          325.88043387599487,
          325.88043387599487,
          325.88043387599487,
          325.88043387599487,
          327.08725257723813,
          327.08725257723813,
          327.08725257723813,
          327.08725257723813,
          327.08725257723813,
          327.08725257723813,
          327.08725257723813,
          327.08725257723813,
          327.08725257723813,
          327.08725257723813,
          327.08725257723813,
          327.08725257723813,
          327.08725257723813,
          327.08725257723813,
          330.7077086809681,
          337.948620888428,
          339.15543958967135,
          345.1895330958879
         ],
         "yaxis": "y"
        }
       ],
       "layout": {
        "autosize": false,
        "coloraxis": {
         "showscale": true
        },
        "height": 500,
        "legend": {
         "title": {
          "text": "Gender"
         },
         "tracegroupgap": 0
        },
        "margin": {
         "t": 60
        },
        "template": {
         "data": {
          "bar": [
           {
            "error_x": {
             "color": "#2a3f5f"
            },
            "error_y": {
             "color": "#2a3f5f"
            },
            "marker": {
             "line": {
              "color": "white",
              "width": 0.5
             },
             "pattern": {
              "fillmode": "overlay",
              "size": 10,
              "solidity": 0.2
             }
            },
            "type": "bar"
           }
          ],
          "barpolar": [
           {
            "marker": {
             "line": {
              "color": "white",
              "width": 0.5
             },
             "pattern": {
              "fillmode": "overlay",
              "size": 10,
              "solidity": 0.2
             }
            },
            "type": "barpolar"
           }
          ],
          "carpet": [
           {
            "aaxis": {
             "endlinecolor": "#2a3f5f",
             "gridcolor": "#C8D4E3",
             "linecolor": "#C8D4E3",
             "minorgridcolor": "#C8D4E3",
             "startlinecolor": "#2a3f5f"
            },
            "baxis": {
             "endlinecolor": "#2a3f5f",
             "gridcolor": "#C8D4E3",
             "linecolor": "#C8D4E3",
             "minorgridcolor": "#C8D4E3",
             "startlinecolor": "#2a3f5f"
            },
            "type": "carpet"
           }
          ],
          "choropleth": [
           {
            "colorbar": {
             "outlinewidth": 0,
             "ticks": ""
            },
            "type": "choropleth"
           }
          ],
          "contour": [
           {
            "colorbar": {
             "outlinewidth": 0,
             "ticks": ""
            },
            "colorscale": [
             [
              0,
              "#0d0887"
             ],
             [
              0.1111111111111111,
              "#46039f"
             ],
             [
              0.2222222222222222,
              "#7201a8"
             ],
             [
              0.3333333333333333,
              "#9c179e"
             ],
             [
              0.4444444444444444,
              "#bd3786"
             ],
             [
              0.5555555555555556,
              "#d8576b"
             ],
             [
              0.6666666666666666,
              "#ed7953"
             ],
             [
              0.7777777777777778,
              "#fb9f3a"
             ],
             [
              0.8888888888888888,
              "#fdca26"
             ],
             [
              1,
              "#f0f921"
             ]
            ],
            "type": "contour"
           }
          ],
          "contourcarpet": [
           {
            "colorbar": {
             "outlinewidth": 0,
             "ticks": ""
            },
            "type": "contourcarpet"
           }
          ],
          "heatmap": [
           {
            "colorbar": {
             "outlinewidth": 0,
             "ticks": ""
            },
            "colorscale": [
             [
              0,
              "#0d0887"
             ],
             [
              0.1111111111111111,
              "#46039f"
             ],
             [
              0.2222222222222222,
              "#7201a8"
             ],
             [
              0.3333333333333333,
              "#9c179e"
             ],
             [
              0.4444444444444444,
              "#bd3786"
             ],
             [
              0.5555555555555556,
              "#d8576b"
             ],
             [
              0.6666666666666666,
              "#ed7953"
             ],
             [
              0.7777777777777778,
              "#fb9f3a"
             ],
             [
              0.8888888888888888,
              "#fdca26"
             ],
             [
              1,
              "#f0f921"
             ]
            ],
            "type": "heatmap"
           }
          ],
          "heatmapgl": [
           {
            "colorbar": {
             "outlinewidth": 0,
             "ticks": ""
            },
            "colorscale": [
             [
              0,
              "#0d0887"
             ],
             [
              0.1111111111111111,
              "#46039f"
             ],
             [
              0.2222222222222222,
              "#7201a8"
             ],
             [
              0.3333333333333333,
              "#9c179e"
             ],
             [
              0.4444444444444444,
              "#bd3786"
             ],
             [
              0.5555555555555556,
              "#d8576b"
             ],
             [
              0.6666666666666666,
              "#ed7953"
             ],
             [
              0.7777777777777778,
              "#fb9f3a"
             ],
             [
              0.8888888888888888,
              "#fdca26"
             ],
             [
              1,
              "#f0f921"
             ]
            ],
            "type": "heatmapgl"
           }
          ],
          "histogram": [
           {
            "marker": {
             "pattern": {
              "fillmode": "overlay",
              "size": 10,
              "solidity": 0.2
             }
            },
            "type": "histogram"
           }
          ],
          "histogram2d": [
           {
            "colorbar": {
             "outlinewidth": 0,
             "ticks": ""
            },
            "colorscale": [
             [
              0,
              "#0d0887"
             ],
             [
              0.1111111111111111,
              "#46039f"
             ],
             [
              0.2222222222222222,
              "#7201a8"
             ],
             [
              0.3333333333333333,
              "#9c179e"
             ],
             [
              0.4444444444444444,
              "#bd3786"
             ],
             [
              0.5555555555555556,
              "#d8576b"
             ],
             [
              0.6666666666666666,
              "#ed7953"
             ],
             [
              0.7777777777777778,
              "#fb9f3a"
             ],
             [
              0.8888888888888888,
              "#fdca26"
             ],
             [
              1,
              "#f0f921"
             ]
            ],
            "type": "histogram2d"
           }
          ],
          "histogram2dcontour": [
           {
            "colorbar": {
             "outlinewidth": 0,
             "ticks": ""
            },
            "colorscale": [
             [
              0,
              "#0d0887"
             ],
             [
              0.1111111111111111,
              "#46039f"
             ],
             [
              0.2222222222222222,
              "#7201a8"
             ],
             [
              0.3333333333333333,
              "#9c179e"
             ],
             [
              0.4444444444444444,
              "#bd3786"
             ],
             [
              0.5555555555555556,
              "#d8576b"
             ],
             [
              0.6666666666666666,
              "#ed7953"
             ],
             [
              0.7777777777777778,
              "#fb9f3a"
             ],
             [
              0.8888888888888888,
              "#fdca26"
             ],
             [
              1,
              "#f0f921"
             ]
            ],
            "type": "histogram2dcontour"
           }
          ],
          "mesh3d": [
           {
            "colorbar": {
             "outlinewidth": 0,
             "ticks": ""
            },
            "type": "mesh3d"
           }
          ],
          "parcoords": [
           {
            "line": {
             "colorbar": {
              "outlinewidth": 0,
              "ticks": ""
             }
            },
            "type": "parcoords"
           }
          ],
          "pie": [
           {
            "automargin": true,
            "type": "pie"
           }
          ],
          "scatter": [
           {
            "fillpattern": {
             "fillmode": "overlay",
             "size": 10,
             "solidity": 0.2
            },
            "type": "scatter"
           }
          ],
          "scatter3d": [
           {
            "line": {
             "colorbar": {
              "outlinewidth": 0,
              "ticks": ""
             }
            },
            "marker": {
             "colorbar": {
              "outlinewidth": 0,
              "ticks": ""
             }
            },
            "type": "scatter3d"
           }
          ],
          "scattercarpet": [
           {
            "marker": {
             "colorbar": {
              "outlinewidth": 0,
              "ticks": ""
             }
            },
            "type": "scattercarpet"
           }
          ],
          "scattergeo": [
           {
            "marker": {
             "colorbar": {
              "outlinewidth": 0,
              "ticks": ""
             }
            },
            "type": "scattergeo"
           }
          ],
          "scattergl": [
           {
            "marker": {
             "colorbar": {
              "outlinewidth": 0,
              "ticks": ""
             }
            },
            "type": "scattergl"
           }
          ],
          "scattermapbox": [
           {
            "marker": {
             "colorbar": {
              "outlinewidth": 0,
              "ticks": ""
             }
            },
            "type": "scattermapbox"
           }
          ],
          "scatterpolar": [
           {
            "marker": {
             "colorbar": {
              "outlinewidth": 0,
              "ticks": ""
             }
            },
            "type": "scatterpolar"
           }
          ],
          "scatterpolargl": [
           {
            "marker": {
             "colorbar": {
              "outlinewidth": 0,
              "ticks": ""
             }
            },
            "type": "scatterpolargl"
           }
          ],
          "scatterternary": [
           {
            "marker": {
             "colorbar": {
              "outlinewidth": 0,
              "ticks": ""
             }
            },
            "type": "scatterternary"
           }
          ],
          "surface": [
           {
            "colorbar": {
             "outlinewidth": 0,
             "ticks": ""
            },
            "colorscale": [
             [
              0,
              "#0d0887"
             ],
             [
              0.1111111111111111,
              "#46039f"
             ],
             [
              0.2222222222222222,
              "#7201a8"
             ],
             [
              0.3333333333333333,
              "#9c179e"
             ],
             [
              0.4444444444444444,
              "#bd3786"
             ],
             [
              0.5555555555555556,
              "#d8576b"
             ],
             [
              0.6666666666666666,
              "#ed7953"
             ],
             [
              0.7777777777777778,
              "#fb9f3a"
             ],
             [
              0.8888888888888888,
              "#fdca26"
             ],
             [
              1,
              "#f0f921"
             ]
            ],
            "type": "surface"
           }
          ],
          "table": [
           {
            "cells": {
             "fill": {
              "color": "#EBF0F8"
             },
             "line": {
              "color": "white"
             }
            },
            "header": {
             "fill": {
              "color": "#C8D4E3"
             },
             "line": {
              "color": "white"
             }
            },
            "type": "table"
           }
          ]
         },
         "layout": {
          "annotationdefaults": {
           "arrowcolor": "#2a3f5f",
           "arrowhead": 0,
           "arrowwidth": 1
          },
          "autotypenumbers": "strict",
          "coloraxis": {
           "colorbar": {
            "outlinewidth": 0,
            "ticks": ""
           }
          },
          "colorscale": {
           "diverging": [
            [
             0,
             "#8e0152"
            ],
            [
             0.1,
             "#c51b7d"
            ],
            [
             0.2,
             "#de77ae"
            ],
            [
             0.3,
             "#f1b6da"
            ],
            [
             0.4,
             "#fde0ef"
            ],
            [
             0.5,
             "#f7f7f7"
            ],
            [
             0.6,
             "#e6f5d0"
            ],
            [
             0.7,
             "#b8e186"
            ],
            [
             0.8,
             "#7fbc41"
            ],
            [
             0.9,
             "#4d9221"
            ],
            [
             1,
             "#276419"
            ]
           ],
           "sequential": [
            [
             0,
             "#0d0887"
            ],
            [
             0.1111111111111111,
             "#46039f"
            ],
            [
             0.2222222222222222,
             "#7201a8"
            ],
            [
             0.3333333333333333,
             "#9c179e"
            ],
            [
             0.4444444444444444,
             "#bd3786"
            ],
            [
             0.5555555555555556,
             "#d8576b"
            ],
            [
             0.6666666666666666,
             "#ed7953"
            ],
            [
             0.7777777777777778,
             "#fb9f3a"
            ],
            [
             0.8888888888888888,
             "#fdca26"
            ],
            [
             1,
             "#f0f921"
            ]
           ],
           "sequentialminus": [
            [
             0,
             "#0d0887"
            ],
            [
             0.1111111111111111,
             "#46039f"
            ],
            [
             0.2222222222222222,
             "#7201a8"
            ],
            [
             0.3333333333333333,
             "#9c179e"
            ],
            [
             0.4444444444444444,
             "#bd3786"
            ],
            [
             0.5555555555555556,
             "#d8576b"
            ],
            [
             0.6666666666666666,
             "#ed7953"
            ],
            [
             0.7777777777777778,
             "#fb9f3a"
            ],
            [
             0.8888888888888888,
             "#fdca26"
            ],
            [
             1,
             "#f0f921"
            ]
           ]
          },
          "colorway": [
           "#636efa",
           "#EF553B",
           "#00cc96",
           "#ab63fa",
           "#FFA15A",
           "#19d3f3",
           "#FF6692",
           "#B6E880",
           "#FF97FF",
           "#FECB52"
          ],
          "font": {
           "color": "#2a3f5f"
          },
          "geo": {
           "bgcolor": "white",
           "lakecolor": "white",
           "landcolor": "white",
           "showlakes": true,
           "showland": true,
           "subunitcolor": "#C8D4E3"
          },
          "hoverlabel": {
           "align": "left"
          },
          "hovermode": "closest",
          "mapbox": {
           "style": "light"
          },
          "paper_bgcolor": "white",
          "plot_bgcolor": "white",
          "polar": {
           "angularaxis": {
            "gridcolor": "#EBF0F8",
            "linecolor": "#EBF0F8",
            "ticks": ""
           },
           "bgcolor": "white",
           "radialaxis": {
            "gridcolor": "#EBF0F8",
            "linecolor": "#EBF0F8",
            "ticks": ""
           }
          },
          "scene": {
           "xaxis": {
            "backgroundcolor": "white",
            "gridcolor": "#DFE8F3",
            "gridwidth": 2,
            "linecolor": "#EBF0F8",
            "showbackground": true,
            "ticks": "",
            "zerolinecolor": "#EBF0F8"
           },
           "yaxis": {
            "backgroundcolor": "white",
            "gridcolor": "#DFE8F3",
            "gridwidth": 2,
            "linecolor": "#EBF0F8",
            "showbackground": true,
            "ticks": "",
            "zerolinecolor": "#EBF0F8"
           },
           "zaxis": {
            "backgroundcolor": "white",
            "gridcolor": "#DFE8F3",
            "gridwidth": 2,
            "linecolor": "#EBF0F8",
            "showbackground": true,
            "ticks": "",
            "zerolinecolor": "#EBF0F8"
           }
          },
          "shapedefaults": {
           "line": {
            "color": "#2a3f5f"
           }
          },
          "ternary": {
           "aaxis": {
            "gridcolor": "#DFE8F3",
            "linecolor": "#A2B1C6",
            "ticks": ""
           },
           "baxis": {
            "gridcolor": "#DFE8F3",
            "linecolor": "#A2B1C6",
            "ticks": ""
           },
           "bgcolor": "white",
           "caxis": {
            "gridcolor": "#DFE8F3",
            "linecolor": "#A2B1C6",
            "ticks": ""
           }
          },
          "title": {
           "x": 0.05
          },
          "xaxis": {
           "automargin": true,
           "gridcolor": "#EBF0F8",
           "linecolor": "#EBF0F8",
           "ticks": "",
           "title": {
            "standoff": 15
           },
           "zerolinecolor": "#EBF0F8",
           "zerolinewidth": 2
          },
          "yaxis": {
           "automargin": true,
           "gridcolor": "#EBF0F8",
           "linecolor": "#EBF0F8",
           "ticks": "",
           "title": {
            "standoff": 15
           },
           "zerolinecolor": "#EBF0F8",
           "zerolinewidth": 2
          }
         }
        },
        "width": 500,
        "xaxis": {
         "anchor": "y",
         "domain": [
          0,
          1
         ],
         "title": {
          "text": "Age"
         }
        },
        "yaxis": {
         "anchor": "x",
         "automargin": true,
         "domain": [
          0,
          1
         ],
         "title": {
          "text": "Alkaline_Phosphotase"
         }
        }
       }
      }
     },
     "metadata": {},
     "output_type": "display_data"
    },
    {
     "data": {
      "text/plain": [
       "<Figure size 300x300 with 0 Axes>"
      ]
     },
     "metadata": {},
     "output_type": "display_data"
    }
   ],
   "source": [
    "fig = px.scatter(df, \n",
    "                    x = \"Age\",\n",
    "                    y = \"Alkaline_Phosphotase\", trendline=\"ols\", color=\"Gender\",  trendline_scope=\"overall\")\n",
    "plt.figure(figsize=(3,3))\n",
    "fig.update_traces(marker = dict(size = 8))\n",
    "fig.update_coloraxes(showscale = True)\n",
    "fig.update_layout(template = \"plotly_white\",\n",
    " autosize=False,\n",
    "    width=500,\n",
    "    height=500)\n",
    "fig.update_yaxes(automargin=True)\n",
    "fig.show()"
   ]
  },
  {
   "cell_type": "code",
   "execution_count": 4,
   "metadata": {},
   "outputs": [
    {
     "data": {
      "text/plain": [
       "<Axes: >"
      ]
     },
     "execution_count": 4,
     "metadata": {},
     "output_type": "execute_result"
    },
    {
     "data": {
      "image/png": "[encoded data removed]",
      "text/plain": [
       "<Figure size 500x400 with 2 Axes>"
      ]
     },
     "metadata": {},
     "output_type": "display_data"
    }
   ],
   "source": [
    "cols = [\"Age\", \"Alkaline_Phosphotase\"]\n",
    "numerical_df = df[cols]\n",
    "\n",
    "plt.figure(figsize=(5, 4))\n",
    "sns.heatmap(numerical_df.corr(), annot=True, cmap='Reds', fmt='.2f')"
   ]
  },
  {
   "cell_type": "markdown",
   "metadata": {},
   "source": [
    "It's also important to note that normal alkaline phosphatase levels vary with age and gender. ALP levels are typically elevated during childhood and puberty due to bone growth and development. Between the ages of 15 to 50 years, ALP levels are slightly higher in males than females. ALP levels then rise again in old age."
   ]
  },
  {
   "cell_type": "code",
   "execution_count": 9,
   "metadata": {},
   "outputs": [
    {
     "data": {
      "application/vnd.plotly.v1+json": {
       "config": {
        "plotlyServerURL": "https://plot.ly"
       },
       "data": [
        {
         "hovertemplate": "Total_Bilirubin=%{x}<br>Direct_Bilirubin=%{y}<extra></extra>",
         "legendgroup": "",
         "marker": {
          "color": "indianred",
          "size": 8,
          "symbol": "circle"
         },
         "mode": "markers",
         "name": "",
         "orientation": "v",
         "showlegend": false,
         "type": "scatter",
         "x": [
          0.7,
          10.9,
          7.3,
          1,
          3.9,
          1.8,
          0.9,
          0.9,
          0.9,
          0.7,
          0.6,
          2.7,
          0.9,
          1.1,
          0.7,
          0.6,
          1.8,
          1.6,
          0.9,
          0.9,
          2.2,
          2.9,
          6.8,
          1.9,
          0.9,
          4.1,
          4.1,
          6.2,
          1.1,
          0.7,
          4,
          0.9,
          1,
          2.6,
          2.6,
          1.3,
          0.7,
          14.2,
          1.4,
          2.7,
          2.4,
          0.6,
          6.8,
          2.6,
          1,
          1.8,
          3.9,
          1.1,
          0.6,
          18.4,
          0.7,
          0.6,
          3.1,
          1.1,
          8.9,
          8.9,
          0.8,
          0.9,
          0.8,
          1.1,
          0.8,
          1,
          1,
          0.7,
          1.3,
          1.4,
          2.2,
          1.8,
          0.7,
          0.8,
          0.7,
          0.8,
          0.8,
          0.6,
          0.7,
          0.7,
          0.9,
          0.6,
          1.4,
          2.8,
          2.4,
          1,
          0.7,
          2,
          0.6,
          1.4,
          0.6,
          0.8,
          0.6,
          4,
          5.7,
          6.8,
          8.6,
          5.8,
          5.2,
          0.9,
          3.8,
          6.6,
          0.6,
          0.7,
          0.6,
          0.7,
          0.9,
          0.8,
          0.5,
          5.3,
          5.3,
          0.8,
          0.8,
          0.9,
          0.7,
          3.2,
          1.2,
          0.6,
          5.8,
          7.3,
          0.7,
          12.7,
          15.9,
          18,
          23,
          22.7,
          1.7,
          0.8,
          0.6,
          1.8,
          5.8,
          3,
          1.7,
          2.8,
          3.2,
          0.7,
          0.8,
          0.9,
          1.8,
          11.3,
          4.7,
          0.8,
          0.8,
          0.8,
          0.6,
          4.2,
          1.6,
          1.6,
          3.5,
          0.8,
          2.9,
          0.7,
          0.9,
          0.8,
          1.1,
          1.6,
          0.8,
          0.6,
          5.9,
          8.7,
          0.9,
          0.7,
          0.7,
          1.2,
          11,
          11.5,
          5.8,
          1.9,
          1.9,
          4.5,
          75,
          3,
          22.8,
          8.9,
          1.7,
          1.9,
          14.1,
          0.6,
          0.6,
          0.8,
          0.8,
          14.8,
          10.6,
          8,
          2.8,
          2.9,
          1.9,
          0.6,
          1.1,
          1.5,
          3.2,
          2.1,
          1.9,
          0.8,
          6.3,
          5.8,
          2.3,
          1.3,
          2,
          2.4,
          2,
          0.6,
          0.9,
          27.2,
          0.6,
          0.6,
          0.8,
          1,
          0.7,
          2.5,
          3.6,
          3.9,
          0.9,
          0.9,
          0.8,
          2.7,
          2.7,
          0.9,
          1.7,
          0.6,
          0.9,
          1.1,
          0.6,
          0.8,
          0.8,
          0.9,
          0.9,
          1.1,
          1.7,
          0.6,
          1.3,
          0.7,
          1,
          0.6,
          1.5,
          0.8,
          2.7,
          2,
          0.9,
          1.5,
          0.8,
          0.9,
          0.9,
          0.9,
          0.7,
          0.8,
          0.8,
          0.9,
          0.8,
          0.9,
          1.8,
          0.9,
          0.7,
          1.2,
          2.1,
          0.9,
          1.1,
          0.6,
          0.7,
          1.7,
          0.9,
          0.8,
          0.8,
          30.5,
          16.4,
          1.5,
          0.8,
          0.8,
          0.8,
          0.9,
          1.2,
          0.9,
          14.5,
          0.6,
          0.7,
          0.8,
          18.5,
          0.7,
          1.8,
          1.9,
          0.9,
          2,
          2.2,
          1,
          0.8,
          0.7,
          0.7,
          1.3,
          0.9,
          1.5,
          0.8,
          1.3,
          1,
          4.5,
          1,
          0.7,
          0.6,
          1.1,
          2.4,
          0.6,
          0.9,
          0.9,
          1.1,
          0.9,
          0.8,
          0.9,
          1.7,
          0.7,
          0.8,
          1.4,
          1.6,
          0.8,
          0.8,
          1.1,
          0.8,
          23.2,
          1.3,
          0.8,
          2,
          0.9,
          0.9,
          0.7,
          3.7,
          0.9,
          0.7,
          0.8,
          1.7,
          0.8,
          2.6,
          0.8,
          1.2,
          3.3,
          0.8,
          0.7,
          2,
          1.7,
          7.1,
          0.7,
          0.7,
          0.7,
          6.7,
          2.5,
          1.8,
          1.4,
          0.9,
          0.8,
          0.8,
          3.1,
          0.8,
          2.9,
          0.6,
          0.7,
          1.3,
          0.8,
          1.8,
          1.3,
          0.7,
          1.4,
          0.8,
          1.4,
          0.7,
          2.1,
          0.7,
          0.8,
          0.7,
          0.7,
          1.1,
          0.9,
          0.8,
          0.7,
          0.7,
          2.2,
          0.8,
          0.8,
          22.6,
          0.8,
          0.7,
          0.7,
          0.7,
          3.5,
          0.7,
          0.6,
          0.7,
          0.7,
          1.7,
          0.6,
          0.7,
          1.4,
          3.7,
          0.8,
          2.7,
          0.8,
          0.8,
          0.6,
          0.8,
          0.9,
          7.5,
          2.7,
          1,
          0.8,
          1,
          1,
          0.8,
          1,
          0.7,
          7.3,
          0.5,
          0.7,
          0.8,
          0.8,
          0.7,
          1,
          2.4,
          5,
          1.4,
          2.3,
          4.9,
          0.7,
          1.4,
          1.3,
          0.6,
          0.7,
          4.2,
          8.2,
          10.9,
          1,
          1.2,
          1.6,
          0.7,
          0.4,
          1.3,
          0.9,
          0.6,
          1.9,
          0.7,
          0.8,
          0.7,
          0.9,
          0.7,
          0.5,
          1,
          1.6,
          0.8,
          0.8,
          0.8,
          2.3,
          7.4,
          0.7,
          0.8,
          0.9,
          0.8,
          23.3,
          0.8,
          0.9,
          7.9,
          0.8,
          0.9,
          0.7,
          0.6,
          0.6,
          0.7,
          0.8,
          6.8,
          1.1,
          2.2,
          0.8,
          0.7,
          0.8,
          0.7,
          0.6,
          0.6,
          1,
          1,
          0.8,
          1.1,
          0.6,
          0.7,
          1,
          2,
          2.2,
          0.9,
          0.6,
          7.1,
          3.4,
          0.5,
          2.3,
          1.1,
          0.8,
          5,
          6.7,
          0.8,
          0.7,
          0.7,
          0.8,
          0.8,
          1,
          1,
          0.7,
          0.7,
          0.7,
          1,
          2.2,
          1.8,
          3.6,
          2.7,
          2.8,
          0.8,
          19.8,
          30.5,
          32.6,
          17.7,
          0.9,
          18.4,
          20,
          0.8,
          2.2,
          1,
          0.9,
          1,
          3.9,
          0.9,
          0.9,
          2.9,
          26.3,
          1.8,
          4.4,
          0.8,
          0.6,
          0.8,
          0.9,
          9.4,
          3.5,
          1.7,
          3.3,
          1.1,
          30.8,
          0.7,
          1.4,
          1.6,
          19.6,
          15.8,
          0.8,
          1.8,
          0.7,
          0.8,
          0.8,
          0.7,
          1.2,
          5.5,
          0.7,
          20.2,
          27.7,
          11.1,
          2.1,
          3.3,
          1.2,
          0.6,
          10.2,
          1.8,
          0.8,
          0.7,
          2.9,
          4,
          42.8,
          15.2,
          16.6,
          17.3,
          1.4,
          0.6,
          22.5,
          1,
          2.7,
          16.7,
          7.7,
          2.6,
          1.1,
          15.6,
          3.7,
          12.1,
          25,
          15,
          12.7,
          0.5,
          0.6,
          0.8,
          1.3,
          1
         ],
         "xaxis": "x",
         "y": [
          0.1,
          5.5,
          4.1,
          0.4,
          2,
          0.7,
          0.2,
          0.3,
          0.3,
          0.2,
          0.1,
          1.3,
          0.3,
          0.4,
          0.2,
          0.1,
          0.8,
          0.5,
          0.3,
          0.3,
          1,
          1.3,
          3,
          1,
          0.2,
          2,
          2,
          3,
          0.5,
          0.2,
          1.9,
          0.2,
          0.3,
          1.2,
          1.2,
          0.4,
          0.2,
          7.8,
          0.6,
          1.3,
          1.1,
          0.1,
          3.2,
          1.2,
          0.3,
          0.6,
          1.8,
          0.3,
          0.1,
          8.8,
          0.2,
          0.1,
          1.6,
          0.3,
          4.5,
          4.5,
          0.2,
          0.2,
          0.2,
          0.5,
          0.2,
          0.5,
          0.5,
          0.2,
          0.4,
          0.7,
          1.2,
          0.8,
          0.2,
          0.2,
          0.2,
          0.2,
          0.2,
          0.1,
          0.1,
          0.1,
          0.2,
          0.1,
          0.6,
          1.3,
          1.1,
          0.3,
          0.1,
          1,
          0.1,
          0.5,
          0.1,
          0.2,
          0.2,
          1.9,
          2.8,
          3.2,
          4,
          2.7,
          2.4,
          0.2,
          1.5,
          3,
          0.1,
          0.1,
          0.2,
          0.2,
          0.2,
          0.2,
          0.1,
          2.3,
          2.3,
          0.2,
          0.2,
          0.1,
          0.2,
          1.6,
          0.4,
          0.1,
          3,
          3.6,
          0.1,
          6.2,
          7,
          8.2,
          11.3,
          10.2,
          0.8,
          0.2,
          0.1,
          0.5,
          2.5,
          1.4,
          0.8,
          1.7,
          1.4,
          0.2,
          0.2,
          0.4,
          0.7,
          5.6,
          2.2,
          0.2,
          0.2,
          0.2,
          0.1,
          2.1,
          0.4,
          0.4,
          1.5,
          0.2,
          1.3,
          0.1,
          0.2,
          0.2,
          0.5,
          0.8,
          0.2,
          0.1,
          2.5,
          4,
          0.3,
          0.1,
          0.1,
          0.4,
          4.9,
          5,
          2.7,
          0.9,
          0.9,
          2.3,
          3.6,
          1.5,
          12.6,
          4,
          0.8,
          0.6,
          7.6,
          0.1,
          0.1,
          0.2,
          0.2,
          9,
          5,
          4.6,
          1.3,
          1.3,
          0.8,
          0.1,
          0.4,
          0.4,
          1.8,
          1,
          0.8,
          0.2,
          3.2,
          3,
          0.6,
          0.4,
          0.6,
          1,
          1.1,
          0.2,
          0.2,
          11.8,
          0.1,
          0.1,
          0.2,
          0.3,
          0.2,
          1.2,
          1.8,
          1.7,
          0.3,
          0.3,
          0.3,
          1.3,
          1,
          0.2,
          1,
          0.2,
          0.2,
          0.5,
          0.1,
          0.2,
          0.2,
          0.2,
          0.2,
          0.3,
          0.5,
          0.2,
          0.4,
          0.2,
          0.3,
          0.2,
          0.6,
          0.1,
          1.6,
          1.4,
          0.2,
          0.6,
          0.2,
          0.3,
          0.2,
          0.3,
          0.2,
          0.2,
          0.2,
          0.2,
          0.2,
          0.2,
          9,
          0.2,
          0.1,
          0.3,
          1.3,
          0.8,
          0.3,
          0.2,
          0.1,
          0.7,
          0.3,
          0.2,
          0.2,
          14.2,
          8.9,
          7,
          0.2,
          0.2,
          0.2,
          0.2,
          0.4,
          0.3,
          6.4,
          0.1,
          0.2,
          0.2,
          9.5,
          0.2,
          0.8,
          0.8,
          0.2,
          0.8,
          0.8,
          1.4,
          0.2,
          0.2,
          0.2,
          0.7,
          0.3,
          0.5,
          0.2,
          0.6,
          0.5,
          2.3,
          0.3,
          0.2,
          0.2,
          0.5,
          1,
          0.2,
          0.3,
          0.3,
          0.3,
          0.2,
          0.2,
          0.2,
          0.6,
          0.2,
          0.2,
          0.7,
          1,
          0.2,
          0.2,
          0.7,
          0.2,
          12.6,
          0.6,
          0.2,
          0.9,
          0.3,
          0.2,
          0.2,
          2.2,
          0.3,
          0.2,
          0.2,
          0.5,
          0.2,
          1.2,
          0.2,
          0.4,
          1.6,
          0.2,
          0.2,
          0.9,
          0.6,
          3.3,
          0.2,
          0.2,
          0.1,
          3.6,
          1.2,
          0.8,
          0.4,
          0.2,
          0.2,
          0.2,
          1.6,
          0.2,
          1.3,
          0.2,
          0.2,
          0.4,
          0.2,
          0.8,
          0.4,
          0.2,
          0.8,
          0.2,
          0.8,
          0.2,
          0.7,
          0.2,
          0.2,
          0.2,
          0.2,
          0.3,
          0.2,
          0.2,
          0.2,
          0.2,
          1,
          0.2,
          0.2,
          11.4,
          0.2,
          0.2,
          0.1,
          0.1,
          1.6,
          0.1,
          0.2,
          0.1,
          0.2,
          0.8,
          0.2,
          0.1,
          0.7,
          2.1,
          0.2,
          1.4,
          0.2,
          0.2,
          0.1,
          0.2,
          0.2,
          4.3,
          1.3,
          0.3,
          0.2,
          0.3,
          0.3,
          0.2,
          0.2,
          0.2,
          3.7,
          0.1,
          0.2,
          0.2,
          0.2,
          0.2,
          0.2,
          1.1,
          2.6,
          0.6,
          0.8,
          2.7,
          0.2,
          0.6,
          0.3,
          0.1,
          0.1,
          2.3,
          3.9,
          5.1,
          0.3,
          0.5,
          0.9,
          0.1,
          0.1,
          0.6,
          0.2,
          0.1,
          0.7,
          0.1,
          0.2,
          0.2,
          0.2,
          0.2,
          0.1,
          0.3,
          0.7,
          0.2,
          0.2,
          0.2,
          1.1,
          3.6,
          0.2,
          0.2,
          0.2,
          0.2,
          12.8,
          0.2,
          0.2,
          4.3,
          0.2,
          0.2,
          0.2,
          0.2,
          0.1,
          0.2,
          0.2,
          3.2,
          0.5,
          1,
          0.2,
          0.2,
          0.1,
          0.2,
          0.1,
          0.1,
          0.3,
          0.3,
          0.2,
          0.5,
          0.1,
          0.2,
          0.3,
          1.1,
          1,
          0.3,
          0.2,
          3.7,
          1.6,
          0.1,
          1.3,
          0.4,
          0.2,
          2.1,
          3.2,
          0.2,
          0.2,
          0.2,
          0.1,
          0.2,
          0.3,
          0.3,
          0.2,
          0.2,
          0.2,
          0.2,
          1.1,
          0.5,
          1.6,
          1.2,
          1.5,
          0.2,
          10.4,
          17.1,
          14.1,
          8.8,
          0.3,
          8.5,
          10,
          0.2,
          1.6,
          0.3,
          0.2,
          0.3,
          2.1,
          0.3,
          0.2,
          1.4,
          12.1,
          0.9,
          2.9,
          0.2,
          0.2,
          0.2,
          0.2,
          5.2,
          1.6,
          0.8,
          1.5,
          0.3,
          18.3,
          0.2,
          0.4,
          0.8,
          9.5,
          7.2,
          0.1,
          0.8,
          0.2,
          0.2,
          0.2,
          0.2,
          0.6,
          3.2,
          0.2,
          11.7,
          10.8,
          6.1,
          1,
          1.5,
          0.4,
          0.1,
          4.2,
          0.9,
          0.2,
          0.1,
          1.2,
          2.5,
          19.7,
          7.7,
          7.6,
          8.5,
          0.5,
          0.1,
          11.8,
          0.3,
          1.4,
          8.4,
          4.1,
          1.2,
          0.3,
          9.5,
          1.6,
          6,
          13.7,
          8.2,
          8.4,
          0.1,
          0.1,
          0.2,
          0.5,
          0.3
         ],
         "yaxis": "y"
        }
       ],
       "layout": {
        "autosize": false,
        "coloraxis": {
         "showscale": true
        },
        "height": 500,
        "legend": {
         "tracegroupgap": 0
        },
        "margin": {
         "t": 60
        },
        "template": {
         "data": {
          "bar": [
           {
            "error_x": {
             "color": "#2a3f5f"
            },
            "error_y": {
             "color": "#2a3f5f"
            },
            "marker": {
             "line": {
              "color": "white",
              "width": 0.5
             },
             "pattern": {
              "fillmode": "overlay",
              "size": 10,
              "solidity": 0.2
             }
            },
            "type": "bar"
           }
          ],
          "barpolar": [
           {
            "marker": {
             "line": {
              "color": "white",
              "width": 0.5
             },
             "pattern": {
              "fillmode": "overlay",
              "size": 10,
              "solidity": 0.2
             }
            },
            "type": "barpolar"
           }
          ],
          "carpet": [
           {
            "aaxis": {
             "endlinecolor": "#2a3f5f",
             "gridcolor": "#C8D4E3",
             "linecolor": "#C8D4E3",
             "minorgridcolor": "#C8D4E3",
             "startlinecolor": "#2a3f5f"
            },
            "baxis": {
             "endlinecolor": "#2a3f5f",
             "gridcolor": "#C8D4E3",
             "linecolor": "#C8D4E3",
             "minorgridcolor": "#C8D4E3",
             "startlinecolor": "#2a3f5f"
            },
            "type": "carpet"
           }
          ],
          "choropleth": [
           {
            "colorbar": {
             "outlinewidth": 0,
             "ticks": ""
            },
            "type": "choropleth"
           }
          ],
          "contour": [
           {
            "colorbar": {
             "outlinewidth": 0,
             "ticks": ""
            },
            "colorscale": [
             [
              0,
              "#0d0887"
             ],
             [
              0.1111111111111111,
              "#46039f"
             ],
             [
              0.2222222222222222,
              "#7201a8"
             ],
             [
              0.3333333333333333,
              "#9c179e"
             ],
             [
              0.4444444444444444,
              "#bd3786"
             ],
             [
              0.5555555555555556,
              "#d8576b"
             ],
             [
              0.6666666666666666,
              "#ed7953"
             ],
             [
              0.7777777777777778,
              "#fb9f3a"
             ],
             [
              0.8888888888888888,
              "#fdca26"
             ],
             [
              1,
              "#f0f921"
             ]
            ],
            "type": "contour"
           }
          ],
          "contourcarpet": [
           {
            "colorbar": {
             "outlinewidth": 0,
             "ticks": ""
            },
            "type": "contourcarpet"
           }
          ],
          "heatmap": [
           {
            "colorbar": {
             "outlinewidth": 0,
             "ticks": ""
            },
            "colorscale": [
             [
              0,
              "#0d0887"
             ],
             [
              0.1111111111111111,
              "#46039f"
             ],
             [
              0.2222222222222222,
              "#7201a8"
             ],
             [
              0.3333333333333333,
              "#9c179e"
             ],
             [
              0.4444444444444444,
              "#bd3786"
             ],
             [
              0.5555555555555556,
              "#d8576b"
             ],
             [
              0.6666666666666666,
              "#ed7953"
             ],
             [
              0.7777777777777778,
              "#fb9f3a"
             ],
             [
              0.8888888888888888,
              "#fdca26"
             ],
             [
              1,
              "#f0f921"
             ]
            ],
            "type": "heatmap"
           }
          ],
          "heatmapgl": [
           {
            "colorbar": {
             "outlinewidth": 0,
             "ticks": ""
            },
            "colorscale": [
             [
              0,
              "#0d0887"
             ],
             [
              0.1111111111111111,
              "#46039f"
             ],
             [
              0.2222222222222222,
              "#7201a8"
             ],
             [
              0.3333333333333333,
              "#9c179e"
             ],
             [
              0.4444444444444444,
              "#bd3786"
             ],
             [
              0.5555555555555556,
              "#d8576b"
             ],
             [
              0.6666666666666666,
              "#ed7953"
             ],
             [
              0.7777777777777778,
              "#fb9f3a"
             ],
             [
              0.8888888888888888,
              "#fdca26"
             ],
             [
              1,
              "#f0f921"
             ]
            ],
            "type": "heatmapgl"
           }
          ],
          "histogram": [
           {
            "marker": {
             "pattern": {
              "fillmode": "overlay",
              "size": 10,
              "solidity": 0.2
             }
            },
            "type": "histogram"
           }
          ],
          "histogram2d": [
           {
            "colorbar": {
             "outlinewidth": 0,
             "ticks": ""
            },
            "colorscale": [
             [
              0,
              "#0d0887"
             ],
             [
              0.1111111111111111,
              "#46039f"
             ],
             [
              0.2222222222222222,
              "#7201a8"
             ],
             [
              0.3333333333333333,
              "#9c179e"
             ],
             [
              0.4444444444444444,
              "#bd3786"
             ],
             [
              0.5555555555555556,
              "#d8576b"
             ],
             [
              0.6666666666666666,
              "#ed7953"
             ],
             [
              0.7777777777777778,
              "#fb9f3a"
             ],
             [
              0.8888888888888888,
              "#fdca26"
             ],
             [
              1,
              "#f0f921"
             ]
            ],
            "type": "histogram2d"
           }
          ],
          "histogram2dcontour": [
           {
            "colorbar": {
             "outlinewidth": 0,
             "ticks": ""
            },
            "colorscale": [
             [
              0,
              "#0d0887"
             ],
             [
              0.1111111111111111,
              "#46039f"
             ],
             [
              0.2222222222222222,
              "#7201a8"
             ],
             [
              0.3333333333333333,
              "#9c179e"
             ],
             [
              0.4444444444444444,
              "#bd3786"
             ],
             [
              0.5555555555555556,
              "#d8576b"
             ],
             [
              0.6666666666666666,
              "#ed7953"
             ],
             [
              0.7777777777777778,
              "#fb9f3a"
             ],
             [
              0.8888888888888888,
              "#fdca26"
             ],
             [
              1,
              "#f0f921"
             ]
            ],
            "type": "histogram2dcontour"
           }
          ],
          "mesh3d": [
           {
            "colorbar": {
             "outlinewidth": 0,
             "ticks": ""
            },
            "type": "mesh3d"
           }
          ],
          "parcoords": [
           {
            "line": {
             "colorbar": {
              "outlinewidth": 0,
              "ticks": ""
             }
            },
            "type": "parcoords"
           }
          ],
          "pie": [
           {
            "automargin": true,
            "type": "pie"
           }
          ],
          "scatter": [
           {
            "fillpattern": {
             "fillmode": "overlay",
             "size": 10,
             "solidity": 0.2
            },
            "type": "scatter"
           }
          ],
          "scatter3d": [
           {
            "line": {
             "colorbar": {
              "outlinewidth": 0,
              "ticks": ""
             }
            },
            "marker": {
             "colorbar": {
              "outlinewidth": 0,
              "ticks": ""
             }
            },
            "type": "scatter3d"
           }
          ],
          "scattercarpet": [
           {
            "marker": {
             "colorbar": {
              "outlinewidth": 0,
              "ticks": ""
             }
            },
            "type": "scattercarpet"
           }
          ],
          "scattergeo": [
           {
            "marker": {
             "colorbar": {
              "outlinewidth": 0,
              "ticks": ""
             }
            },
            "type": "scattergeo"
           }
          ],
          "scattergl": [
           {
            "marker": {
             "colorbar": {
              "outlinewidth": 0,
              "ticks": ""
             }
            },
            "type": "scattergl"
           }
          ],
          "scattermapbox": [
           {
            "marker": {
             "colorbar": {
              "outlinewidth": 0,
              "ticks": ""
             }
            },
            "type": "scattermapbox"
           }
          ],
          "scatterpolar": [
           {
            "marker": {
             "colorbar": {
              "outlinewidth": 0,
              "ticks": ""
             }
            },
            "type": "scatterpolar"
           }
          ],
          "scatterpolargl": [
           {
            "marker": {
             "colorbar": {
              "outlinewidth": 0,
              "ticks": ""
             }
            },
            "type": "scatterpolargl"
           }
          ],
          "scatterternary": [
           {
            "marker": {
             "colorbar": {
              "outlinewidth": 0,
              "ticks": ""
             }
            },
            "type": "scatterternary"
           }
          ],
          "surface": [
           {
            "colorbar": {
             "outlinewidth": 0,
             "ticks": ""
            },
            "colorscale": [
             [
              0,
              "#0d0887"
             ],
             [
              0.1111111111111111,
              "#46039f"
             ],
             [
              0.2222222222222222,
              "#7201a8"
             ],
             [
              0.3333333333333333,
              "#9c179e"
             ],
             [
              0.4444444444444444,
              "#bd3786"
             ],
             [
              0.5555555555555556,
              "#d8576b"
             ],
             [
              0.6666666666666666,
              "#ed7953"
             ],
             [
              0.7777777777777778,
              "#fb9f3a"
             ],
             [
              0.8888888888888888,
              "#fdca26"
             ],
             [
              1,
              "#f0f921"
             ]
            ],
            "type": "surface"
           }
          ],
          "table": [
           {
            "cells": {
             "fill": {
              "color": "#EBF0F8"
             },
             "line": {
              "color": "white"
             }
            },
            "header": {
             "fill": {
              "color": "#C8D4E3"
             },
             "line": {
              "color": "white"
             }
            },
            "type": "table"
           }
          ]
         },
         "layout": {
          "annotationdefaults": {
           "arrowcolor": "#2a3f5f",
           "arrowhead": 0,
           "arrowwidth": 1
          },
          "autotypenumbers": "strict",
          "coloraxis": {
           "colorbar": {
            "outlinewidth": 0,
            "ticks": ""
           }
          },
          "colorscale": {
           "diverging": [
            [
             0,
             "#8e0152"
            ],
            [
             0.1,
             "#c51b7d"
            ],
            [
             0.2,
             "#de77ae"
            ],
            [
             0.3,
             "#f1b6da"
            ],
            [
             0.4,
             "#fde0ef"
            ],
            [
             0.5,
             "#f7f7f7"
            ],
            [
             0.6,
             "#e6f5d0"
            ],
            [
             0.7,
             "#b8e186"
            ],
            [
             0.8,
             "#7fbc41"
            ],
            [
             0.9,
             "#4d9221"
            ],
            [
             1,
             "#276419"
            ]
           ],
           "sequential": [
            [
             0,
             "#0d0887"
            ],
            [
             0.1111111111111111,
             "#46039f"
            ],
            [
             0.2222222222222222,
             "#7201a8"
            ],
            [
             0.3333333333333333,
             "#9c179e"
            ],
            [
             0.4444444444444444,
             "#bd3786"
            ],
            [
             0.5555555555555556,
             "#d8576b"
            ],
            [
             0.6666666666666666,
             "#ed7953"
            ],
            [
             0.7777777777777778,
             "#fb9f3a"
            ],
            [
             0.8888888888888888,
             "#fdca26"
            ],
            [
             1,
             "#f0f921"
            ]
           ],
           "sequentialminus": [
            [
             0,
             "#0d0887"
            ],
            [
             0.1111111111111111,
             "#46039f"
            ],
            [
             0.2222222222222222,
             "#7201a8"
            ],
            [
             0.3333333333333333,
             "#9c179e"
            ],
            [
             0.4444444444444444,
             "#bd3786"
            ],
            [
             0.5555555555555556,
             "#d8576b"
            ],
            [
             0.6666666666666666,
             "#ed7953"
            ],
            [
             0.7777777777777778,
             "#fb9f3a"
            ],
            [
             0.8888888888888888,
             "#fdca26"
            ],
            [
             1,
             "#f0f921"
            ]
           ]
          },
          "colorway": [
           "#636efa",
           "#EF553B",
           "#00cc96",
           "#ab63fa",
           "#FFA15A",
           "#19d3f3",
           "#FF6692",
           "#B6E880",
           "#FF97FF",
           "#FECB52"
          ],
          "font": {
           "color": "#2a3f5f"
          },
          "geo": {
           "bgcolor": "white",
           "lakecolor": "white",
           "landcolor": "white",
           "showlakes": true,
           "showland": true,
           "subunitcolor": "#C8D4E3"
          },
          "hoverlabel": {
           "align": "left"
          },
          "hovermode": "closest",
          "mapbox": {
           "style": "light"
          },
          "paper_bgcolor": "white",
          "plot_bgcolor": "white",
          "polar": {
           "angularaxis": {
            "gridcolor": "#EBF0F8",
            "linecolor": "#EBF0F8",
            "ticks": ""
           },
           "bgcolor": "white",
           "radialaxis": {
            "gridcolor": "#EBF0F8",
            "linecolor": "#EBF0F8",
            "ticks": ""
           }
          },
          "scene": {
           "xaxis": {
            "backgroundcolor": "white",
            "gridcolor": "#DFE8F3",
            "gridwidth": 2,
            "linecolor": "#EBF0F8",
            "showbackground": true,
            "ticks": "",
            "zerolinecolor": "#EBF0F8"
           },
           "yaxis": {
            "backgroundcolor": "white",
            "gridcolor": "#DFE8F3",
            "gridwidth": 2,
            "linecolor": "#EBF0F8",
            "showbackground": true,
            "ticks": "",
            "zerolinecolor": "#EBF0F8"
           },
           "zaxis": {
            "backgroundcolor": "white",
            "gridcolor": "#DFE8F3",
            "gridwidth": 2,
            "linecolor": "#EBF0F8",
            "showbackground": true,
            "ticks": "",
            "zerolinecolor": "#EBF0F8"
           }
          },
          "shapedefaults": {
           "line": {
            "color": "#2a3f5f"
           }
          },
          "ternary": {
           "aaxis": {
            "gridcolor": "#DFE8F3",
            "linecolor": "#A2B1C6",
            "ticks": ""
           },
           "baxis": {
            "gridcolor": "#DFE8F3",
            "linecolor": "#A2B1C6",
            "ticks": ""
           },
           "bgcolor": "white",
           "caxis": {
            "gridcolor": "#DFE8F3",
            "linecolor": "#A2B1C6",
            "ticks": ""
           }
          },
          "title": {
           "x": 0.05
          },
          "xaxis": {
           "automargin": true,
           "gridcolor": "#EBF0F8",
           "linecolor": "#EBF0F8",
           "ticks": "",
           "title": {
            "standoff": 15
           },
           "zerolinecolor": "#EBF0F8",
           "zerolinewidth": 2
          },
          "yaxis": {
           "automargin": true,
           "gridcolor": "#EBF0F8",
           "linecolor": "#EBF0F8",
           "ticks": "",
           "title": {
            "standoff": 15
           },
           "zerolinecolor": "#EBF0F8",
           "zerolinewidth": 2
          }
         }
        },
        "width": 500,
        "xaxis": {
         "anchor": "y",
         "domain": [
          0,
          1
         ],
         "title": {
          "text": "Total_Bilirubin"
         }
        },
        "yaxis": {
         "anchor": "x",
         "automargin": true,
         "domain": [
          0,
          1
         ],
         "title": {
          "text": "Direct_Bilirubin"
         }
        }
       }
      }
     },
     "metadata": {},
     "output_type": "display_data"
    },
    {
     "data": {
      "text/plain": [
       "<Figure size 300x300 with 0 Axes>"
      ]
     },
     "metadata": {},
     "output_type": "display_data"
    }
   ],
   "source": [
    "fig = px.scatter(df, \n",
    "                    x = \"Total_Bilirubin\",\n",
    "                    y = \"Direct_Bilirubin\")\n",
    "plt.figure(figsize=(3,3))\n",
    "fig.update_traces(marker = dict(size = 8, color='indianred'))\n",
    "fig.update_coloraxes(showscale = True)\n",
    "fig.update_layout(template = \"plotly_white\",\n",
    " autosize=False,\n",
    "    width=500,\n",
    "    height=500)\n",
    "fig.update_yaxes(automargin=True)\n",
    "fig.show()"
   ]
  },
  {
   "cell_type": "code",
   "execution_count": 65,
   "metadata": {},
   "outputs": [
    {
     "data": {
      "application/vnd.plotly.v1+json": {
       "config": {
        "plotlyServerURL": "https://plot.ly"
       },
       "data": [
        {
         "hovertemplate": "Albumin=%{x}<br>Total_Protiens=%{y}<extra></extra>",
         "legendgroup": "",
         "marker": {
          "color": "indianred",
          "size": 8,
          "symbol": "circle"
         },
         "mode": "markers",
         "name": "",
         "orientation": "v",
         "showlegend": false,
         "type": "scatter",
         "x": [
          3.3,
          3.2,
          3.3,
          3.4,
          2.4,
          4.4,
          3.5,
          3.6,
          4.1,
          3.4,
          2.7,
          3,
          3.4,
          4.1,
          2.7,
          2.3,
          4.4,
          3.5,
          3.1,
          3.1,
          2.6,
          2.4,
          3.1,
          1.6,
          3.9,
          2.7,
          2.7,
          4,
          1.9,
          3.2,
          1.5,
          2.9,
          2.9,
          3,
          3,
          3.3,
          3.9,
          2,
          2.2,
          3.3,
          2.6,
          2.6,
          2.3,
          3.2,
          3.6,
          3.2,
          3.9,
          2.8,
          3,
          1.8,
          2.5,
          3.4,
          3.9,
          3.5,
          2,
          2,
          4,
          2.7,
          2,
          3.2,
          3,
          3.6,
          3.6,
          2.1,
          2.5,
          2.5,
          3.7,
          3.8,
          3.7,
          3,
          3,
          1.8,
          2,
          3.6,
          2.9,
          2.5,
          2.3,
          2.1,
          3.8,
          1.6,
          1.8,
          2.9,
          2.8,
          3,
          4.3,
          3.9,
          3.6,
          3.1,
          3.2,
          3.3,
          3.2,
          3,
          3,
          3,
          2.9,
          2.2,
          3.3,
          1.7,
          3.1,
          3.7,
          1.6,
          2.3,
          4.2,
          3.3,
          2.5,
          2.6,
          2.6,
          2.2,
          2.2,
          2.8,
          2.3,
          2.2,
          3.3,
          2,
          2.3,
          2.3,
          2,
          3.3,
          2.8,
          2.6,
          3.5,
          2.8,
          3.5,
          3.1,
          4.1,
          1.7,
          2.8,
          3.2,
          3.9,
          2.3,
          2.7,
          2.5,
          3.5,
          2.9,
          3.6,
          2.4,
          2.5,
          2.5,
          2.5,
          3.7,
          3.3,
          2.2,
          2.7,
          2.7,
          2.9,
          2.9,
          1.8,
          2.8,
          4.5,
          4,
          3.8,
          2.9,
          2.9,
          3.6,
          2.7,
          2.4,
          3.1,
          2,
          2,
          3.9,
          2.1,
          2.8,
          1.8,
          4.3,
          4.3,
          2.4,
          2.5,
          1.8,
          3.3,
          3.1,
          3,
          3.3,
          1.6,
          3.7,
          3.7,
          4,
          2.6,
          2.2,
          1.8,
          1.8,
          0.9,
          1.5,
          1.4,
          2.5,
          4.1,
          3,
          3.2,
          1.6,
          1.8,
          2.5,
          3.7,
          3.5,
          3.5,
          3.1,
          3,
          1.9,
          2.1,
          2.4,
          3,
          2,
          2.4,
          2.4,
          3.1,
          3.5,
          3.3,
          4,
          2.9,
          3.8,
          2.8,
          3.9,
          2.4,
          3.2,
          3.1,
          3.4,
          3.6,
          3.3,
          3.2,
          4.3,
          2,
          3.4,
          2.5,
          4.3,
          4,
          4.5,
          3.1,
          4,
          4,
          3.8,
          2.6,
          3,
          3.8,
          4.3,
          3.1,
          3,
          3.5,
          2,
          3.8,
          4,
          4.7,
          3.1,
          4,
          3.1,
          4.1,
          5.5,
          2.5,
          2.8,
          2.7,
          2.7,
          2.6,
          3,
          3,
          2.6,
          3.9,
          2.7,
          4.2,
          3,
          3.5,
          3,
          3.8,
          2.1,
          2,
          3.9,
          4,
          3,
          4.3,
          4,
          3.8,
          3.5,
          2.1,
          1.6,
          4.9,
          3.2,
          4.1,
          4.7,
          4,
          4.1,
          3.6,
          2.8,
          4,
          4.2,
          3,
          4.2,
          3.4,
          2.1,
          4,
          3.9,
          4.7,
          4,
          3.7,
          4,
          4.3,
          4.2,
          3.4,
          4.3,
          4.5,
          3.9,
          4,
          4.4,
          3.8,
          4.1,
          4.4,
          3.2,
          3.5,
          4.2,
          3.8,
          3.7,
          2.4,
          2.3,
          4.1,
          4.2,
          4.6,
          3.5,
          4.8,
          4.5,
          4.3,
          3.7,
          3.7,
          3.4,
          4.5,
          4.2,
          3.4,
          2.8,
          3.9,
          3.5,
          2.7,
          3.1,
          4.4,
          3.9,
          2.9,
          4.1,
          2.7,
          2.2,
          2.9,
          3.1,
          4,
          4.9,
          3.2,
          2.9,
          2.9,
          2.6,
          2.9,
          3.1,
          4,
          2,
          5,
          2,
          3.4,
          3.5,
          2.8,
          3.6,
          2.9,
          2.1,
          4.3,
          3.9,
          3.9,
          4.6,
          3.9,
          3,
          2.6,
          4.9,
          3.3,
          2.9,
          2.9,
          4.4,
          3.5,
          2.4,
          4.1,
          2.9,
          3.9,
          4,
          3.4,
          4.4,
          5.5,
          4.3,
          4,
          3.4,
          3.7,
          3,
          3.3,
          3.7,
          3.4,
          3.3,
          3.2,
          2.5,
          2.8,
          4.1,
          4.2,
          3.7,
          3.8,
          3.2,
          3,
          3.7,
          3.1,
          4,
          2.5,
          3.2,
          3.4,
          3.1,
          3.7,
          3,
          3.2,
          1.6,
          4,
          3.6,
          3.9,
          4,
          3.7,
          3.7,
          3.6,
          3.3,
          1.9,
          2.9,
          2.9,
          2.1,
          2.2,
          2.7,
          2.7,
          4.2,
          3,
          2.9,
          2.3,
          3.7,
          3.4,
          3.9,
          3,
          2.5,
          2.5,
          3,
          3.3,
          2,
          1.9,
          2.9,
          4.6,
          3.8,
          3.6,
          4.5,
          3.1,
          2.5,
          1.4,
          3.1,
          4.3,
          1.8,
          1.9,
          3.2,
          2.8,
          4,
          2.7,
          3.5,
          2.6,
          3.1,
          3,
          3.2,
          3.5,
          3,
          3.5,
          3.4,
          3.1,
          3.4,
          0.9,
          1.5,
          2.5,
          4.1,
          2.5,
          4,
          1.4,
          2,
          1.9,
          3.1,
          2.1,
          2,
          4.1,
          2.9,
          2.4,
          3.9,
          2.7,
          4.1,
          2.7,
          2.4,
          3.6,
          3.2,
          4.2,
          4,
          3.8,
          4.3,
          2.1,
          2.8,
          3,
          2.9,
          3.5,
          3.2,
          3.6,
          3.9,
          3.3,
          1.8,
          3.9,
          3,
          4.8,
          3,
          4,
          2.9,
          2.4,
          2.5,
          2.7,
          2.5,
          2.7,
          3.1,
          2.4,
          3.9,
          3.3,
          3,
          4.6,
          3.4,
          2.6,
          3,
          4.2,
          3,
          3,
          4,
          3.6,
          2,
          4,
          2.1,
          3.7,
          2.6,
          3.7,
          3.9,
          2.8,
          3.4,
          2.1,
          1.8,
          3.8,
          2.7,
          3.2,
          1,
          4,
          2,
          2.6,
          3.6,
          2.7,
          3.5,
          3,
          3,
          4.1,
          4,
          3.2,
          2.2,
          2.3,
          2.3,
          2.8,
          4.9,
          2.4,
          3,
          2.9,
          2.7,
          3,
          3,
          3.1,
          3.1,
          4,
          2.6,
          2.2,
          2,
          2.6,
          2.6,
          2.9,
          2.1,
          4,
          1.7,
          3.5,
          4,
          2.6,
          3,
          4,
          1.9,
          2.4,
          2.5,
          2.2,
          2.6,
          1.6,
          3.2,
          3.2,
          3.4,
          4.4
         ],
         "xaxis": "x",
         "y": [
          6.8,
          7.5,
          7,
          6.8,
          7.3,
          7.6,
          7,
          6.7,
          7.4,
          6.8,
          5.9,
          7.4,
          7,
          8.1,
          5.8,
          5.5,
          7.6,
          7.3,
          6.8,
          6.8,
          7.3,
          7,
          6.4,
          4.3,
          6,
          5,
          5,
          7.2,
          3.9,
          6,
          5.2,
          4.9,
          5.2,
          5.6,
          5.6,
          6.9,
          7.2,
          4.3,
          5.8,
          6.2,
          5.1,
          4.9,
          6.1,
          6.4,
          7,
          6.5,
          6.8,
          4.9,
          6,
          6.2,
          5.7,
          6.6,
          6.8,
          6.3,
          5.8,
          5.8,
          8,
          5.5,
          5.2,
          5.5,
          6,
          7.2,
          7.2,
          5.1,
          6.5,
          5.6,
          6,
          6.4,
          6.3,
          6.3,
          5.5,
          4.4,
          4.4,
          6.6,
          5.8,
          5.2,
          5.3,
          4.6,
          6.2,
          4.7,
          4.7,
          5.1,
          5.4,
          5.4,
          7.5,
          6.7,
          7.2,
          6.2,
          7.5,
          7.1,
          7.3,
          6.8,
          7.4,
          7,
          6.8,
          4.4,
          7.1,
          4,
          5.9,
          6.9,
          3.7,
          5.3,
          6.9,
          6.1,
          5.5,
          5.1,
          5.1,
          6,
          6,
          5.9,
          5.5,
          5.7,
          6.1,
          5,
          5.7,
          5.6,
          5.3,
          5.7,
          5.6,
          5.4,
          7.1,
          6.6,
          5.9,
          6.3,
          6.9,
          3.9,
          6,
          6.5,
          8,
          5.1,
          6,
          5.8,
          6.5,
          6.6,
          6.8,
          7,
          6.4,
          5.5,
          5.5,
          6.1,
          6.2,
          7.1,
          5.6,
          5.6,
          5.6,
          5.4,
          5.5,
          5.3,
          7.2,
          7.1,
          6.9,
          5.9,
          6,
          6.5,
          5.6,
          5.8,
          6.2,
          5.8,
          5.8,
          7.2,
          5.5,
          6.2,
          5.4,
          7.4,
          7.4,
          7,
          6.2,
          5.6,
          6.9,
          6.8,
          6.2,
          6.6,
          5,
          6,
          6,
          7.3,
          5.7,
          5.3,
          5.1,
          5.5,
          2.7,
          3,
          3.8,
          5.4,
          6.9,
          6,
          7.8,
          4,
          4.5,
          5.2,
          6.6,
          6.6,
          6.6,
          6,
          5.7,
          5.2,
          6,
          5.7,
          6.1,
          6.1,
          5,
          5,
          6.1,
          6.4,
          6.4,
          7.6,
          7,
          6.7,
          6.1,
          6.6,
          4.1,
          7,
          5.5,
          7.5,
          7.2,
          5,
          6.2,
          7,
          4.8,
          6.4,
          5,
          7.3,
          8,
          7.1,
          5.7,
          7.9,
          8,
          6.4,
          5.3,
          6,
          6.7,
          8.5,
          7.9,
          6.2,
          7.7,
          4.5,
          7.9,
          8,
          7.3,
          6.8,
          8,
          6.5,
          8.2,
          8.5,
          6.3,
          6.1,
          6.1,
          5.9,
          5,
          7,
          6.5,
          5.9,
          7,
          5.2,
          7.1,
          6,
          6.2,
          5.6,
          6.4,
          5.2,
          5.4,
          7.5,
          6.9,
          7,
          7.4,
          8,
          6.3,
          7.4,
          5.7,
          2.8,
          9.5,
          6.5,
          8.2,
          9.6,
          8,
          8.2,
          6.4,
          6,
          8,
          8.3,
          6,
          7.4,
          7,
          6,
          8,
          7.9,
          8.6,
          8,
          7.5,
          7,
          8.6,
          7.8,
          7.1,
          7.7,
          8.3,
          8,
          7.9,
          6.9,
          7.9,
          7.4,
          8.2,
          6.7,
          6.8,
          8.4,
          6.9,
          7.9,
          7.3,
          4.6,
          8.2,
          8,
          8.1,
          7.2,
          8.5,
          7.9,
          7.8,
          6.7,
          7.1,
          6.8,
          7.8,
          8.1,
          5.8,
          5.2,
          7.1,
          6.7,
          5.4,
          6.7,
          8.3,
          7.6,
          6,
          7.3,
          6.1,
          5.4,
          6.2,
          5.9,
          7.4,
          8.9,
          6.2,
          6.4,
          6.1,
          5.9,
          6.2,
          6.6,
          7,
          5.6,
          8.2,
          5.6,
          6.9,
          7,
          6.1,
          6.6,
          5.7,
          5.3,
          8.2,
          7.2,
          7.5,
          8,
          8.5,
          6.8,
          5.6,
          8.4,
          6.6,
          6.8,
          6.2,
          8.5,
          6.8,
          5.3,
          7.2,
          6.1,
          7.2,
          7,
          7.8,
          7.2,
          8.7,
          7.6,
          7,
          6.8,
          7,
          6.1,
          7.3,
          7.3,
          7.3,
          8.1,
          6.7,
          4.9,
          6.5,
          7.4,
          7.5,
          6.9,
          7.3,
          6.3,
          6,
          6.9,
          6.3,
          8,
          5.9,
          6.3,
          6.4,
          6.3,
          7.1,
          6,
          6.4,
          6.8,
          8.1,
          6.3,
          6.8,
          7.6,
          6.7,
          7.2,
          7.5,
          6.5,
          5,
          6.9,
          7.1,
          4.6,
          5.2,
          3.6,
          6.3,
          7.1,
          7,
          6.7,
          6.4,
          7.1,
          6.9,
          6.5,
          7,
          4.3,
          5.6,
          7,
          6.9,
          5.5,
          4.8,
          6.7,
          7.5,
          7.6,
          7.5,
          7.1,
          6.2,
          5.2,
          3.8,
          6.2,
          7,
          4.1,
          4.6,
          6.2,
          6.3,
          7.3,
          5.5,
          7.7,
          6,
          6.2,
          6,
          7.2,
          7.1,
          7.1,
          7,
          6.8,
          7.4,
          6.9,
          3.6,
          5.7,
          5.5,
          6.8,
          6.4,
          8,
          4.5,
          5.1,
          4.9,
          6.8,
          5.3,
          4.4,
          7.1,
          6.6,
          5.8,
          6.8,
          6,
          7.9,
          5.5,
          5.1,
          6.9,
          7.3,
          7.9,
          7.3,
          7.2,
          7.8,
          5,
          6.2,
          6.7,
          6,
          7,
          5.9,
          6.7,
          6.8,
          7.9,
          5.2,
          6.5,
          6.1,
          8,
          7.2,
          6.5,
          7.2,
          6,
          5.9,
          4.9,
          8.1,
          5.5,
          5.8,
          5.6,
          7.5,
          7.5,
          5.4,
          9.2,
          6.8,
          5.8,
          6.9,
          8.4,
          6.9,
          6.7,
          8,
          7.2,
          9.2,
          8.6,
          7.1,
          7.9,
          4.8,
          6.8,
          8,
          6.4,
          7.1,
          6.3,
          5.1,
          7,
          7.9,
          8.2,
          3.6,
          8,
          6.1,
          6.9,
          7.6,
          6.4,
          7.2,
          7,
          6.6,
          7.3,
          7.6,
          7,
          4.5,
          5.4,
          7.1,
          6.9,
          7.8,
          5.6,
          6.2,
          5.8,
          7,
          6.5,
          7,
          6.1,
          6.2,
          7.5,
          7.5,
          6.5,
          6.9,
          7.8,
          7.2,
          5.9,
          6.6,
          7.8,
          6,
          6.9,
          7.1,
          5.4,
          6.9,
          5.6,
          6.2,
          6.6,
          7.9,
          5.3,
          5.4,
          5.9,
          6,
          6.4,
          6.8,
          7.3
         ],
         "yaxis": "y"
        }
       ],
       "layout": {
        "autosize": false,
        "coloraxis": {
         "showscale": true
        },
        "height": 500,
        "legend": {
         "tracegroupgap": 0
        },
        "margin": {
         "t": 60
        },
        "template": {
         "data": {
          "bar": [
           {
            "error_x": {
             "color": "#2a3f5f"
            },
            "error_y": {
             "color": "#2a3f5f"
            },
            "marker": {
             "line": {
              "color": "white",
              "width": 0.5
             },
             "pattern": {
              "fillmode": "overlay",
              "size": 10,
              "solidity": 0.2
             }
            },
            "type": "bar"
           }
          ],
          "barpolar": [
           {
            "marker": {
             "line": {
              "color": "white",
              "width": 0.5
             },
             "pattern": {
              "fillmode": "overlay",
              "size": 10,
              "solidity": 0.2
             }
            },
            "type": "barpolar"
           }
          ],
          "carpet": [
           {
            "aaxis": {
             "endlinecolor": "#2a3f5f",
             "gridcolor": "#C8D4E3",
             "linecolor": "#C8D4E3",
             "minorgridcolor": "#C8D4E3",
             "startlinecolor": "#2a3f5f"
            },
            "baxis": {
             "endlinecolor": "#2a3f5f",
             "gridcolor": "#C8D4E3",
             "linecolor": "#C8D4E3",
             "minorgridcolor": "#C8D4E3",
             "startlinecolor": "#2a3f5f"
            },
            "type": "carpet"
           }
          ],
          "choropleth": [
           {
            "colorbar": {
             "outlinewidth": 0,
             "ticks": ""
            },
            "type": "choropleth"
           }
          ],
          "contour": [
           {
            "colorbar": {
             "outlinewidth": 0,
             "ticks": ""
            },
            "colorscale": [
             [
              0,
              "#0d0887"
             ],
             [
              0.1111111111111111,
              "#46039f"
             ],
             [
              0.2222222222222222,
              "#7201a8"
             ],
             [
              0.3333333333333333,
              "#9c179e"
             ],
             [
              0.4444444444444444,
              "#bd3786"
             ],
             [
              0.5555555555555556,
              "#d8576b"
             ],
             [
              0.6666666666666666,
              "#ed7953"
             ],
             [
              0.7777777777777778,
              "#fb9f3a"
             ],
             [
              0.8888888888888888,
              "#fdca26"
             ],
             [
              1,
              "#f0f921"
             ]
            ],
            "type": "contour"
           }
          ],
          "contourcarpet": [
           {
            "colorbar": {
             "outlinewidth": 0,
             "ticks": ""
            },
            "type": "contourcarpet"
           }
          ],
          "heatmap": [
           {
            "colorbar": {
             "outlinewidth": 0,
             "ticks": ""
            },
            "colorscale": [
             [
              0,
              "#0d0887"
             ],
             [
              0.1111111111111111,
              "#46039f"
             ],
             [
              0.2222222222222222,
              "#7201a8"
             ],
             [
              0.3333333333333333,
              "#9c179e"
             ],
             [
              0.4444444444444444,
              "#bd3786"
             ],
             [
              0.5555555555555556,
              "#d8576b"
             ],
             [
              0.6666666666666666,
              "#ed7953"
             ],
             [
              0.7777777777777778,
              "#fb9f3a"
             ],
             [
              0.8888888888888888,
              "#fdca26"
             ],
             [
              1,
              "#f0f921"
             ]
            ],
            "type": "heatmap"
           }
          ],
          "heatmapgl": [
           {
            "colorbar": {
             "outlinewidth": 0,
             "ticks": ""
            },
            "colorscale": [
             [
              0,
              "#0d0887"
             ],
             [
              0.1111111111111111,
              "#46039f"
             ],
             [
              0.2222222222222222,
              "#7201a8"
             ],
             [
              0.3333333333333333,
              "#9c179e"
             ],
             [
              0.4444444444444444,
              "#bd3786"
             ],
             [
              0.5555555555555556,
              "#d8576b"
             ],
             [
              0.6666666666666666,
              "#ed7953"
             ],
             [
              0.7777777777777778,
              "#fb9f3a"
             ],
             [
              0.8888888888888888,
              "#fdca26"
             ],
             [
              1,
              "#f0f921"
             ]
            ],
            "type": "heatmapgl"
           }
          ],
          "histogram": [
           {
            "marker": {
             "pattern": {
              "fillmode": "overlay",
              "size": 10,
              "solidity": 0.2
             }
            },
            "type": "histogram"
           }
          ],
          "histogram2d": [
           {
            "colorbar": {
             "outlinewidth": 0,
             "ticks": ""
            },
            "colorscale": [
             [
              0,
              "#0d0887"
             ],
             [
              0.1111111111111111,
              "#46039f"
             ],
             [
              0.2222222222222222,
              "#7201a8"
             ],
             [
              0.3333333333333333,
              "#9c179e"
             ],
             [
              0.4444444444444444,
              "#bd3786"
             ],
             [
              0.5555555555555556,
              "#d8576b"
             ],
             [
              0.6666666666666666,
              "#ed7953"
             ],
             [
              0.7777777777777778,
              "#fb9f3a"
             ],
             [
              0.8888888888888888,
              "#fdca26"
             ],
             [
              1,
              "#f0f921"
             ]
            ],
            "type": "histogram2d"
           }
          ],
          "histogram2dcontour": [
           {
            "colorbar": {
             "outlinewidth": 0,
             "ticks": ""
            },
            "colorscale": [
             [
              0,
              "#0d0887"
             ],
             [
              0.1111111111111111,
              "#46039f"
             ],
             [
              0.2222222222222222,
              "#7201a8"
             ],
             [
              0.3333333333333333,
              "#9c179e"
             ],
             [
              0.4444444444444444,
              "#bd3786"
             ],
             [
              0.5555555555555556,
              "#d8576b"
             ],
             [
              0.6666666666666666,
              "#ed7953"
             ],
             [
              0.7777777777777778,
              "#fb9f3a"
             ],
             [
              0.8888888888888888,
              "#fdca26"
             ],
             [
              1,
              "#f0f921"
             ]
            ],
            "type": "histogram2dcontour"
           }
          ],
          "mesh3d": [
           {
            "colorbar": {
             "outlinewidth": 0,
             "ticks": ""
            },
            "type": "mesh3d"
           }
          ],
          "parcoords": [
           {
            "line": {
             "colorbar": {
              "outlinewidth": 0,
              "ticks": ""
             }
            },
            "type": "parcoords"
           }
          ],
          "pie": [
           {
            "automargin": true,
            "type": "pie"
           }
          ],
          "scatter": [
           {
            "fillpattern": {
             "fillmode": "overlay",
             "size": 10,
             "solidity": 0.2
            },
            "type": "scatter"
           }
          ],
          "scatter3d": [
           {
            "line": {
             "colorbar": {
              "outlinewidth": 0,
              "ticks": ""
             }
            },
            "marker": {
             "colorbar": {
              "outlinewidth": 0,
              "ticks": ""
             }
            },
            "type": "scatter3d"
           }
          ],
          "scattercarpet": [
           {
            "marker": {
             "colorbar": {
              "outlinewidth": 0,
              "ticks": ""
             }
            },
            "type": "scattercarpet"
           }
          ],
          "scattergeo": [
           {
            "marker": {
             "colorbar": {
              "outlinewidth": 0,
              "ticks": ""
             }
            },
            "type": "scattergeo"
           }
          ],
          "scattergl": [
           {
            "marker": {
             "colorbar": {
              "outlinewidth": 0,
              "ticks": ""
             }
            },
            "type": "scattergl"
           }
          ],
          "scattermapbox": [
           {
            "marker": {
             "colorbar": {
              "outlinewidth": 0,
              "ticks": ""
             }
            },
            "type": "scattermapbox"
           }
          ],
          "scatterpolar": [
           {
            "marker": {
             "colorbar": {
              "outlinewidth": 0,
              "ticks": ""
             }
            },
            "type": "scatterpolar"
           }
          ],
          "scatterpolargl": [
           {
            "marker": {
             "colorbar": {
              "outlinewidth": 0,
              "ticks": ""
             }
            },
            "type": "scatterpolargl"
           }
          ],
          "scatterternary": [
           {
            "marker": {
             "colorbar": {
              "outlinewidth": 0,
              "ticks": ""
             }
            },
            "type": "scatterternary"
           }
          ],
          "surface": [
           {
            "colorbar": {
             "outlinewidth": 0,
             "ticks": ""
            },
            "colorscale": [
             [
              0,
              "#0d0887"
             ],
             [
              0.1111111111111111,
              "#46039f"
             ],
             [
              0.2222222222222222,
              "#7201a8"
             ],
             [
              0.3333333333333333,
              "#9c179e"
             ],
             [
              0.4444444444444444,
              "#bd3786"
             ],
             [
              0.5555555555555556,
              "#d8576b"
             ],
             [
              0.6666666666666666,
              "#ed7953"
             ],
             [
              0.7777777777777778,
              "#fb9f3a"
             ],
             [
              0.8888888888888888,
              "#fdca26"
             ],
             [
              1,
              "#f0f921"
             ]
            ],
            "type": "surface"
           }
          ],
          "table": [
           {
            "cells": {
             "fill": {
              "color": "#EBF0F8"
             },
             "line": {
              "color": "white"
             }
            },
            "header": {
             "fill": {
              "color": "#C8D4E3"
             },
             "line": {
              "color": "white"
             }
            },
            "type": "table"
           }
          ]
         },
         "layout": {
          "annotationdefaults": {
           "arrowcolor": "#2a3f5f",
           "arrowhead": 0,
           "arrowwidth": 1
          },
          "autotypenumbers": "strict",
          "coloraxis": {
           "colorbar": {
            "outlinewidth": 0,
            "ticks": ""
           }
          },
          "colorscale": {
           "diverging": [
            [
             0,
             "#8e0152"
            ],
            [
             0.1,
             "#c51b7d"
            ],
            [
             0.2,
             "#de77ae"
            ],
            [
             0.3,
             "#f1b6da"
            ],
            [
             0.4,
             "#fde0ef"
            ],
            [
             0.5,
             "#f7f7f7"
            ],
            [
             0.6,
             "#e6f5d0"
            ],
            [
             0.7,
             "#b8e186"
            ],
            [
             0.8,
             "#7fbc41"
            ],
            [
             0.9,
             "#4d9221"
            ],
            [
             1,
             "#276419"
            ]
           ],
           "sequential": [
            [
             0,
             "#0d0887"
            ],
            [
             0.1111111111111111,
             "#46039f"
            ],
            [
             0.2222222222222222,
             "#7201a8"
            ],
            [
             0.3333333333333333,
             "#9c179e"
            ],
            [
             0.4444444444444444,
             "#bd3786"
            ],
            [
             0.5555555555555556,
             "#d8576b"
            ],
            [
             0.6666666666666666,
             "#ed7953"
            ],
            [
             0.7777777777777778,
             "#fb9f3a"
            ],
            [
             0.8888888888888888,
             "#fdca26"
            ],
            [
             1,
             "#f0f921"
            ]
           ],
           "sequentialminus": [
            [
             0,
             "#0d0887"
            ],
            [
             0.1111111111111111,
             "#46039f"
            ],
            [
             0.2222222222222222,
             "#7201a8"
            ],
            [
             0.3333333333333333,
             "#9c179e"
            ],
            [
             0.4444444444444444,
             "#bd3786"
            ],
            [
             0.5555555555555556,
             "#d8576b"
            ],
            [
             0.6666666666666666,
             "#ed7953"
            ],
            [
             0.7777777777777778,
             "#fb9f3a"
            ],
            [
             0.8888888888888888,
             "#fdca26"
            ],
            [
             1,
             "#f0f921"
            ]
           ]
          },
          "colorway": [
           "#636efa",
           "#EF553B",
           "#00cc96",
           "#ab63fa",
           "#FFA15A",
           "#19d3f3",
           "#FF6692",
           "#B6E880",
           "#FF97FF",
           "#FECB52"
          ],
          "font": {
           "color": "#2a3f5f"
          },
          "geo": {
           "bgcolor": "white",
           "lakecolor": "white",
           "landcolor": "white",
           "showlakes": true,
           "showland": true,
           "subunitcolor": "#C8D4E3"
          },
          "hoverlabel": {
           "align": "left"
          },
          "hovermode": "closest",
          "mapbox": {
           "style": "light"
          },
          "paper_bgcolor": "white",
          "plot_bgcolor": "white",
          "polar": {
           "angularaxis": {
            "gridcolor": "#EBF0F8",
            "linecolor": "#EBF0F8",
            "ticks": ""
           },
           "bgcolor": "white",
           "radialaxis": {
            "gridcolor": "#EBF0F8",
            "linecolor": "#EBF0F8",
            "ticks": ""
           }
          },
          "scene": {
           "xaxis": {
            "backgroundcolor": "white",
            "gridcolor": "#DFE8F3",
            "gridwidth": 2,
            "linecolor": "#EBF0F8",
            "showbackground": true,
            "ticks": "",
            "zerolinecolor": "#EBF0F8"
           },
           "yaxis": {
            "backgroundcolor": "white",
            "gridcolor": "#DFE8F3",
            "gridwidth": 2,
            "linecolor": "#EBF0F8",
            "showbackground": true,
            "ticks": "",
            "zerolinecolor": "#EBF0F8"
           },
           "zaxis": {
            "backgroundcolor": "white",
            "gridcolor": "#DFE8F3",
            "gridwidth": 2,
            "linecolor": "#EBF0F8",
            "showbackground": true,
            "ticks": "",
            "zerolinecolor": "#EBF0F8"
           }
          },
          "shapedefaults": {
           "line": {
            "color": "#2a3f5f"
           }
          },
          "ternary": {
           "aaxis": {
            "gridcolor": "#DFE8F3",
            "linecolor": "#A2B1C6",
            "ticks": ""
           },
           "baxis": {
            "gridcolor": "#DFE8F3",
            "linecolor": "#A2B1C6",
            "ticks": ""
           },
           "bgcolor": "white",
           "caxis": {
            "gridcolor": "#DFE8F3",
            "linecolor": "#A2B1C6",
            "ticks": ""
           }
          },
          "title": {
           "x": 0.05
          },
          "xaxis": {
           "automargin": true,
           "gridcolor": "#EBF0F8",
           "linecolor": "#EBF0F8",
           "ticks": "",
           "title": {
            "standoff": 15
           },
           "zerolinecolor": "#EBF0F8",
           "zerolinewidth": 2
          },
          "yaxis": {
           "automargin": true,
           "gridcolor": "#EBF0F8",
           "linecolor": "#EBF0F8",
           "ticks": "",
           "title": {
            "standoff": 15
           },
           "zerolinecolor": "#EBF0F8",
           "zerolinewidth": 2
          }
         }
        },
        "width": 500,
        "xaxis": {
         "anchor": "y",
         "domain": [
          0,
          1
         ],
         "title": {
          "text": "Albumin"
         }
        },
        "yaxis": {
         "anchor": "x",
         "automargin": true,
         "domain": [
          0,
          1
         ],
         "title": {
          "text": "Total_Protiens"
         }
        }
       }
      }
     },
     "metadata": {},
     "output_type": "display_data"
    },
    {
     "data": {
      "text/plain": [
       "<Figure size 300x300 with 0 Axes>"
      ]
     },
     "metadata": {},
     "output_type": "display_data"
    }
   ],
   "source": [
    "fig = px.scatter(df, \n",
    "                    y = \"Total_Protiens\",\n",
    "                    x = \"Albumin\")\n",
    "plt.figure(figsize=(3,3))\n",
    "fig.update_traces(marker = dict(size = 8, color='indianred'))\n",
    "fig.update_coloraxes(showscale = True)\n",
    "fig.update_layout(template = \"plotly_white\",\n",
    " autosize=False,\n",
    "    width=500,\n",
    "    height=500)\n",
    "fig.update_yaxes(automargin=True)\n",
    "fig.show()"
   ]
  },
  {
   "cell_type": "code",
   "execution_count": 22,
   "metadata": {},
   "outputs": [
    {
     "data": {
      "application/vnd.plotly.v1+json": {
       "config": {
        "plotlyServerURL": "https://plot.ly"
       },
       "data": [
        {
         "hovertemplate": "Albumin_and_Globulin_Ratio=%{x}<br>Albumin=%{y}<extra></extra>",
         "legendgroup": "",
         "marker": {
          "color": "indianred",
          "size": 8,
          "symbol": "circle"
         },
         "mode": "markers",
         "name": "",
         "orientation": "v",
         "showlegend": false,
         "type": "scatter",
         "x": [
          0.9,
          0.74,
          0.89,
          1,
          0.4,
          1.3,
          1,
          1.1,
          1.2,
          1,
          0.8,
          0.6,
          0.9,
          1,
          0.87,
          0.7,
          1.3,
          0.92,
          0.8,
          0.8,
          0.55,
          0.5,
          0.9,
          0.6,
          1.85,
          1.1,
          1.1,
          1.2,
          0.95,
          1.1,
          0.4,
          1.4,
          1.2,
          0.8,
          0.8,
          0.9,
          1.18,
          0.8,
          0.61,
          1.1,
          1,
          1.1,
          0.6,
          1,
          1,
          0.9,
          1.34,
          1.3,
          1,
          0.4,
          0.7,
          1,
          1.3,
          1.2,
          0.5,
          0.5,
          1,
          0.9,
          0.6,
          1.39,
          1,
          1,
          1,
          0.7,
          0.6,
          0.8,
          1.6,
          1.4,
          1.4,
          0.9,
          1.2,
          0.6,
          0.8,
          1.2,
          1,
          0.9,
          0.7,
          0.8,
          1.58,
          0.5,
          0.6,
          1.3,
          1,
          1.25,
          1.34,
          1.4,
          1,
          1,
          0.7,
          0.8,
          0.78,
          0.7,
          0.6,
          0.7,
          0.7,
          1,
          0.8,
          0.7,
          1.1,
          1.1,
          0.76,
          0.7,
          1.55,
          1.2,
          0.8,
          1,
          1,
          0.5,
          0.5,
          0.9,
          0.71,
          0.62,
          1.1,
          0.6,
          0.67,
          0.6,
          0.6,
          1.3,
          1,
          0.9,
          0.9,
          0.7,
          1.4,
          0.9,
          1.4,
          0.7,
          0.8,
          0.9,
          0.95,
          0.8,
          0.8,
          0.75,
          1.16,
          0.8,
          1.1,
          0.5,
          0.6,
          0.8,
          0.8,
          1.5,
          1.1,
          0.4,
          0.9,
          0.9,
          1,
          1.1,
          0.4,
          1.1,
          1.66,
          1.2,
          1.2,
          0.96,
          0.9,
          1.2,
          0.9,
          0.7,
          1,
          0.5,
          0.5,
          1.1,
          0.6,
          0.8,
          0.5,
          1.38,
          1.38,
          0.52,
          0.6,
          0.47,
          0.9,
          0.8,
          0.93,
          1,
          0.47,
          1.6,
          1.6,
          1.2,
          0.8,
          0.7,
          0.5,
          0.48,
          0.5,
          1,
          0.58,
          0.8,
          1.4,
          1,
          0.69,
          0.6,
          0.6,
          0.9,
          1.27,
          1.12,
          1.1,
          1.06,
          1.1,
          0.5,
          0.53,
          0.75,
          0.9,
          0.4,
          0.9,
          0.9,
          1.03,
          1.2,
          1,
          1.1,
          0.7,
          1.3,
          0.68,
          null,
          1.4,
          0.8,
          1.2,
          0.8,
          1,
          1.9,
          1,
          1.5,
          0.7,
          1.1,
          1,
          1.4,
          1,
          1.7,
          1.1,
          1,
          1,
          1.4,
          0.9,
          1,
          1.3,
          1,
          0.6,
          0.9,
          0.8,
          0.8,
          0.9,
          1,
          1.8,
          0.8,
          1,
          null,
          1,
          1.8,
          0.6,
          0.8,
          0.7,
          0.8,
          1,
          0.7,
          0.8,
          0.8,
          1.2,
          null,
          1.4,
          1,
          1.2,
          1.1,
          1.4,
          0.6,
          0.5,
          1,
          1.3,
          0.7,
          1.38,
          1,
          1.5,
          1.8,
          0.5,
          1.3,
          1,
          0.9,
          1,
          1.2,
          1,
          1,
          1.2,
          0.8,
          1,
          1,
          1,
          1.3,
          0.9,
          0.5,
          1,
          0.9,
          1.2,
          1,
          0.9,
          1.3,
          1,
          1.1,
          0.9,
          1.2,
          1.1,
          0.9,
          1,
          1.7,
          0.9,
          1.2,
          1.1,
          0.8,
          1,
          1,
          1.4,
          0.9,
          0.4,
          1,
          1,
          1.1,
          1.3,
          0.9,
          null,
          1.3,
          1.2,
          1.2,
          1,
          1,
          1.3,
          1,
          1.4,
          1.1,
          1.2,
          1.1,
          1,
          0.8,
          1.1,
          1,
          0.9,
          1.2,
          0.8,
          0.6,
          0.8,
          1.1,
          1.1,
          1.2,
          1,
          0.8,
          0.9,
          0.7,
          0.8,
          0.8,
          1.3,
          0.5,
          1.5,
          0.5,
          0.9,
          1,
          0.8,
          1.2,
          1,
          0.6,
          1.1,
          1.1,
          1,
          1.3,
          0.8,
          0.7,
          0.8,
          1.4,
          1,
          0.7,
          0.8,
          1,
          1,
          0.8,
          1.3,
          0.9,
          1.1,
          1.3,
          0.8,
          1.5,
          1.7,
          1.3,
          1.3,
          1,
          1.1,
          0.9,
          0.8,
          1,
          0.9,
          0.6,
          0.9,
          1,
          0.7,
          1.3,
          1.2,
          1.1,
          1.1,
          1,
          1,
          1.1,
          0.9,
          1,
          0.7,
          1,
          1.1,
          0.9,
          1,
          1,
          1,
          0.3,
          0.9,
          1.3,
          1.3,
          1.1,
          1.2,
          1,
          0.9,
          1,
          0.6,
          0.7,
          0.7,
          0.8,
          0.7,
          0.7,
          0.75,
          1.4,
          0.7,
          0.7,
          0.5,
          1,
          0.97,
          1.5,
          0.7,
          1.4,
          0.8,
          0.75,
          0.9,
          0.5,
          0.6,
          0.76,
          1.58,
          1,
          0.92,
          1.7,
          1,
          0.9,
          0.5,
          1,
          1.5,
          0.7,
          0.7,
          1.06,
          0.8,
          1.2,
          0.96,
          0.8,
          0.7,
          1,
          1,
          0.8,
          0.9,
          0.7,
          1,
          1,
          0.7,
          0.9,
          0.3,
          0.35,
          0.8,
          1.51,
          0.64,
          1,
          0.45,
          0.5,
          0.6,
          0.8,
          0.6,
          0.8,
          1.36,
          0.7,
          0.7,
          1.3,
          0.8,
          1,
          1,
          0.88,
          1.09,
          0.7,
          1.1,
          1.2,
          1.11,
          1.2,
          1.72,
          0.8,
          0.8,
          0.93,
          1,
          1.18,
          1.16,
          1.85,
          0.7,
          0.52,
          1.5,
          0.96,
          1.5,
          0.7,
          1.6,
          0.6,
          0.6,
          0.7,
          1.2,
          0.4,
          0.9,
          1.1,
          0.7,
          1,
          0.7,
          1.2,
          1,
          1,
          0.8,
          0.7,
          1,
          0.7,
          0.8,
          1,
          1,
          0.3,
          0.8,
          0.4,
          0.8,
          1.1,
          1.1,
          0.9,
          0.8,
          0.9,
          0.5,
          0.5,
          1.1,
          0.5,
          0.6,
          0.3,
          1,
          0.4,
          0.6,
          0.9,
          0.7,
          0.9,
          0.7,
          0.8,
          1.2,
          1.1,
          0.8,
          0.9,
          0.7,
          0.4,
          2.8,
          1.6,
          0.7,
          0.9,
          1,
          0.6,
          0.8,
          0.7,
          1,
          1,
          1.1,
          0.5,
          0.4,
          0.4,
          0.5,
          0.5,
          0.9,
          0.46,
          1,
          0.39,
          1.02,
          1.2,
          0.9,
          0.7,
          2.5,
          0.4,
          0.5,
          2.5,
          0.7,
          0.9,
          0.37,
          1.1,
          1,
          1,
          1.5
         ],
         "xaxis": "x",
         "y": [
          3.3,
          3.2,
          3.3,
          3.4,
          2.4,
          4.4,
          3.5,
          3.6,
          4.1,
          3.4,
          2.7,
          3,
          3.4,
          4.1,
          2.7,
          2.3,
          4.4,
          3.5,
          3.1,
          3.1,
          2.6,
          2.4,
          3.1,
          1.6,
          3.9,
          2.7,
          2.7,
          4,
          1.9,
          3.2,
          1.5,
          2.9,
          2.9,
          3,
          3,
          3.3,
          3.9,
          2,
          2.2,
          3.3,
          2.6,
          2.6,
          2.3,
          3.2,
          3.6,
          3.2,
          3.9,
          2.8,
          3,
          1.8,
          2.5,
          3.4,
          3.9,
          3.5,
          2,
          2,
          4,
          2.7,
          2,
          3.2,
          3,
          3.6,
          3.6,
          2.1,
          2.5,
          2.5,
          3.7,
          3.8,
          3.7,
          3,
          3,
          1.8,
          2,
          3.6,
          2.9,
          2.5,
          2.3,
          2.1,
          3.8,
          1.6,
          1.8,
          2.9,
          2.8,
          3,
          4.3,
          3.9,
          3.6,
          3.1,
          3.2,
          3.3,
          3.2,
          3,
          3,
          3,
          2.9,
          2.2,
          3.3,
          1.7,
          3.1,
          3.7,
          1.6,
          2.3,
          4.2,
          3.3,
          2.5,
          2.6,
          2.6,
          2.2,
          2.2,
          2.8,
          2.3,
          2.2,
          3.3,
          2,
          2.3,
          2.3,
          2,
          3.3,
          2.8,
          2.6,
          3.5,
          2.8,
          3.5,
          3.1,
          4.1,
          1.7,
          2.8,
          3.2,
          3.9,
          2.3,
          2.7,
          2.5,
          3.5,
          2.9,
          3.6,
          2.4,
          2.5,
          2.5,
          2.5,
          3.7,
          3.3,
          2.2,
          2.7,
          2.7,
          2.9,
          2.9,
          1.8,
          2.8,
          4.5,
          4,
          3.8,
          2.9,
          2.9,
          3.6,
          2.7,
          2.4,
          3.1,
          2,
          2,
          3.9,
          2.1,
          2.8,
          1.8,
          4.3,
          4.3,
          2.4,
          2.5,
          1.8,
          3.3,
          3.1,
          3,
          3.3,
          1.6,
          3.7,
          3.7,
          4,
          2.6,
          2.2,
          1.8,
          1.8,
          0.9,
          1.5,
          1.4,
          2.5,
          4.1,
          3,
          3.2,
          1.6,
          1.8,
          2.5,
          3.7,
          3.5,
          3.5,
          3.1,
          3,
          1.9,
          2.1,
          2.4,
          3,
          2,
          2.4,
          2.4,
          3.1,
          3.5,
          3.3,
          4,
          2.9,
          3.8,
          2.8,
          3.9,
          2.4,
          3.2,
          3.1,
          3.4,
          3.6,
          3.3,
          3.2,
          4.3,
          2,
          3.4,
          2.5,
          4.3,
          4,
          4.5,
          3.1,
          4,
          4,
          3.8,
          2.6,
          3,
          3.8,
          4.3,
          3.1,
          3,
          3.5,
          2,
          3.8,
          4,
          4.7,
          3.1,
          4,
          3.1,
          4.1,
          5.5,
          2.5,
          2.8,
          2.7,
          2.7,
          2.6,
          3,
          3,
          2.6,
          3.9,
          2.7,
          4.2,
          3,
          3.5,
          3,
          3.8,
          2.1,
          2,
          3.9,
          4,
          3,
          4.3,
          4,
          3.8,
          3.5,
          2.1,
          1.6,
          4.9,
          3.2,
          4.1,
          4.7,
          4,
          4.1,
          3.6,
          2.8,
          4,
          4.2,
          3,
          4.2,
          3.4,
          2.1,
          4,
          3.9,
          4.7,
          4,
          3.7,
          4,
          4.3,
          4.2,
          3.4,
          4.3,
          4.5,
          3.9,
          4,
          4.4,
          3.8,
          4.1,
          4.4,
          3.2,
          3.5,
          4.2,
          3.8,
          3.7,
          2.4,
          2.3,
          4.1,
          4.2,
          4.6,
          3.5,
          4.8,
          4.5,
          4.3,
          3.7,
          3.7,
          3.4,
          4.5,
          4.2,
          3.4,
          2.8,
          3.9,
          3.5,
          2.7,
          3.1,
          4.4,
          3.9,
          2.9,
          4.1,
          2.7,
          2.2,
          2.9,
          3.1,
          4,
          4.9,
          3.2,
          2.9,
          2.9,
          2.6,
          2.9,
          3.1,
          4,
          2,
          5,
          2,
          3.4,
          3.5,
          2.8,
          3.6,
          2.9,
          2.1,
          4.3,
          3.9,
          3.9,
          4.6,
          3.9,
          3,
          2.6,
          4.9,
          3.3,
          2.9,
          2.9,
          4.4,
          3.5,
          2.4,
          4.1,
          2.9,
          3.9,
          4,
          3.4,
          4.4,
          5.5,
          4.3,
          4,
          3.4,
          3.7,
          3,
          3.3,
          3.7,
          3.4,
          3.3,
          3.2,
          2.5,
          2.8,
          4.1,
          4.2,
          3.7,
          3.8,
          3.2,
          3,
          3.7,
          3.1,
          4,
          2.5,
          3.2,
          3.4,
          3.1,
          3.7,
          3,
          3.2,
          1.6,
          4,
          3.6,
          3.9,
          4,
          3.7,
          3.7,
          3.6,
          3.3,
          1.9,
          2.9,
          2.9,
          2.1,
          2.2,
          2.7,
          2.7,
          4.2,
          3,
          2.9,
          2.3,
          3.7,
          3.4,
          3.9,
          3,
          2.5,
          2.5,
          3,
          3.3,
          2,
          1.9,
          2.9,
          4.6,
          3.8,
          3.6,
          4.5,
          3.1,
          2.5,
          1.4,
          3.1,
          4.3,
          1.8,
          1.9,
          3.2,
          2.8,
          4,
          2.7,
          3.5,
          2.6,
          3.1,
          3,
          3.2,
          3.5,
          3,
          3.5,
          3.4,
          3.1,
          3.4,
          0.9,
          1.5,
          2.5,
          4.1,
          2.5,
          4,
          1.4,
          2,
          1.9,
          3.1,
          2.1,
          2,
          4.1,
          2.9,
          2.4,
          3.9,
          2.7,
          4.1,
          2.7,
          2.4,
          3.6,
          3.2,
          4.2,
          4,
          3.8,
          4.3,
          2.1,
          2.8,
          3,
          2.9,
          3.5,
          3.2,
          3.6,
          3.9,
          3.3,
          1.8,
          3.9,
          3,
          4.8,
          3,
          4,
          2.9,
          2.4,
          2.5,
          2.7,
          2.5,
          2.7,
          3.1,
          2.4,
          3.9,
          3.3,
          3,
          4.6,
          3.4,
          2.6,
          3,
          4.2,
          3,
          3,
          4,
          3.6,
          2,
          4,
          2.1,
          3.7,
          2.6,
          3.7,
          3.9,
          2.8,
          3.4,
          2.1,
          1.8,
          3.8,
          2.7,
          3.2,
          1,
          4,
          2,
          2.6,
          3.6,
          2.7,
          3.5,
          3,
          3,
          4.1,
          4,
          3.2,
          2.2,
          2.3,
          2.3,
          2.8,
          4.9,
          2.4,
          3,
          2.9,
          2.7,
          3,
          3,
          3.1,
          3.1,
          4,
          2.6,
          2.2,
          2,
          2.6,
          2.6,
          2.9,
          2.1,
          4,
          1.7,
          3.5,
          4,
          2.6,
          3,
          4,
          1.9,
          2.4,
          2.5,
          2.2,
          2.6,
          1.6,
          3.2,
          3.2,
          3.4,
          4.4
         ],
         "yaxis": "y"
        }
       ],
       "layout": {
        "autosize": false,
        "coloraxis": {
         "showscale": true
        },
        "height": 500,
        "legend": {
         "tracegroupgap": 0
        },
        "margin": {
         "t": 60
        },
        "template": {
         "data": {
          "bar": [
           {
            "error_x": {
             "color": "#2a3f5f"
            },
            "error_y": {
             "color": "#2a3f5f"
            },
            "marker": {
             "line": {
              "color": "white",
              "width": 0.5
             },
             "pattern": {
              "fillmode": "overlay",
              "size": 10,
              "solidity": 0.2
             }
            },
            "type": "bar"
           }
          ],
          "barpolar": [
           {
            "marker": {
             "line": {
              "color": "white",
              "width": 0.5
             },
             "pattern": {
              "fillmode": "overlay",
              "size": 10,
              "solidity": 0.2
             }
            },
            "type": "barpolar"
           }
          ],
          "carpet": [
           {
            "aaxis": {
             "endlinecolor": "#2a3f5f",
             "gridcolor": "#C8D4E3",
             "linecolor": "#C8D4E3",
             "minorgridcolor": "#C8D4E3",
             "startlinecolor": "#2a3f5f"
            },
            "baxis": {
             "endlinecolor": "#2a3f5f",
             "gridcolor": "#C8D4E3",
             "linecolor": "#C8D4E3",
             "minorgridcolor": "#C8D4E3",
             "startlinecolor": "#2a3f5f"
            },
            "type": "carpet"
           }
          ],
          "choropleth": [
           {
            "colorbar": {
             "outlinewidth": 0,
             "ticks": ""
            },
            "type": "choropleth"
           }
          ],
          "contour": [
           {
            "colorbar": {
             "outlinewidth": 0,
             "ticks": ""
            },
            "colorscale": [
             [
              0,
              "#0d0887"
             ],
             [
              0.1111111111111111,
              "#46039f"
             ],
             [
              0.2222222222222222,
              "#7201a8"
             ],
             [
              0.3333333333333333,
              "#9c179e"
             ],
             [
              0.4444444444444444,
              "#bd3786"
             ],
             [
              0.5555555555555556,
              "#d8576b"
             ],
             [
              0.6666666666666666,
              "#ed7953"
             ],
             [
              0.7777777777777778,
              "#fb9f3a"
             ],
             [
              0.8888888888888888,
              "#fdca26"
             ],
             [
              1,
              "#f0f921"
             ]
            ],
            "type": "contour"
           }
          ],
          "contourcarpet": [
           {
            "colorbar": {
             "outlinewidth": 0,
             "ticks": ""
            },
            "type": "contourcarpet"
           }
          ],
          "heatmap": [
           {
            "colorbar": {
             "outlinewidth": 0,
             "ticks": ""
            },
            "colorscale": [
             [
              0,
              "#0d0887"
             ],
             [
              0.1111111111111111,
              "#46039f"
             ],
             [
              0.2222222222222222,
              "#7201a8"
             ],
             [
              0.3333333333333333,
              "#9c179e"
             ],
             [
              0.4444444444444444,
              "#bd3786"
             ],
             [
              0.5555555555555556,
              "#d8576b"
             ],
             [
              0.6666666666666666,
              "#ed7953"
             ],
             [
              0.7777777777777778,
              "#fb9f3a"
             ],
             [
              0.8888888888888888,
              "#fdca26"
             ],
             [
              1,
              "#f0f921"
             ]
            ],
            "type": "heatmap"
           }
          ],
          "heatmapgl": [
           {
            "colorbar": {
             "outlinewidth": 0,
             "ticks": ""
            },
            "colorscale": [
             [
              0,
              "#0d0887"
             ],
             [
              0.1111111111111111,
              "#46039f"
             ],
             [
              0.2222222222222222,
              "#7201a8"
             ],
             [
              0.3333333333333333,
              "#9c179e"
             ],
             [
              0.4444444444444444,
              "#bd3786"
             ],
             [
              0.5555555555555556,
              "#d8576b"
             ],
             [
              0.6666666666666666,
              "#ed7953"
             ],
             [
              0.7777777777777778,
              "#fb9f3a"
             ],
             [
              0.8888888888888888,
              "#fdca26"
             ],
             [
              1,
              "#f0f921"
             ]
            ],
            "type": "heatmapgl"
           }
          ],
          "histogram": [
           {
            "marker": {
             "pattern": {
              "fillmode": "overlay",
              "size": 10,
              "solidity": 0.2
             }
            },
            "type": "histogram"
           }
          ],
          "histogram2d": [
           {
            "colorbar": {
             "outlinewidth": 0,
             "ticks": ""
            },
            "colorscale": [
             [
              0,
              "#0d0887"
             ],
             [
              0.1111111111111111,
              "#46039f"
             ],
             [
              0.2222222222222222,
              "#7201a8"
             ],
             [
              0.3333333333333333,
              "#9c179e"
             ],
             [
              0.4444444444444444,
              "#bd3786"
             ],
             [
              0.5555555555555556,
              "#d8576b"
             ],
             [
              0.6666666666666666,
              "#ed7953"
             ],
             [
              0.7777777777777778,
              "#fb9f3a"
             ],
             [
              0.8888888888888888,
              "#fdca26"
             ],
             [
              1,
              "#f0f921"
             ]
            ],
            "type": "histogram2d"
           }
          ],
          "histogram2dcontour": [
           {
            "colorbar": {
             "outlinewidth": 0,
             "ticks": ""
            },
            "colorscale": [
             [
              0,
              "#0d0887"
             ],
             [
              0.1111111111111111,
              "#46039f"
             ],
             [
              0.2222222222222222,
              "#7201a8"
             ],
             [
              0.3333333333333333,
              "#9c179e"
             ],
             [
              0.4444444444444444,
              "#bd3786"
             ],
             [
              0.5555555555555556,
              "#d8576b"
             ],
             [
              0.6666666666666666,
              "#ed7953"
             ],
             [
              0.7777777777777778,
              "#fb9f3a"
             ],
             [
              0.8888888888888888,
              "#fdca26"
             ],
             [
              1,
              "#f0f921"
             ]
            ],
            "type": "histogram2dcontour"
           }
          ],
          "mesh3d": [
           {
            "colorbar": {
             "outlinewidth": 0,
             "ticks": ""
            },
            "type": "mesh3d"
           }
          ],
          "parcoords": [
           {
            "line": {
             "colorbar": {
              "outlinewidth": 0,
              "ticks": ""
             }
            },
            "type": "parcoords"
           }
          ],
          "pie": [
           {
            "automargin": true,
            "type": "pie"
           }
          ],
          "scatter": [
           {
            "fillpattern": {
             "fillmode": "overlay",
             "size": 10,
             "solidity": 0.2
            },
            "type": "scatter"
           }
          ],
          "scatter3d": [
           {
            "line": {
             "colorbar": {
              "outlinewidth": 0,
              "ticks": ""
             }
            },
            "marker": {
             "colorbar": {
              "outlinewidth": 0,
              "ticks": ""
             }
            },
            "type": "scatter3d"
           }
          ],
          "scattercarpet": [
           {
            "marker": {
             "colorbar": {
              "outlinewidth": 0,
              "ticks": ""
             }
            },
            "type": "scattercarpet"
           }
          ],
          "scattergeo": [
           {
            "marker": {
             "colorbar": {
              "outlinewidth": 0,
              "ticks": ""
             }
            },
            "type": "scattergeo"
           }
          ],
          "scattergl": [
           {
            "marker": {
             "colorbar": {
              "outlinewidth": 0,
              "ticks": ""
             }
            },
            "type": "scattergl"
           }
          ],
          "scattermapbox": [
           {
            "marker": {
             "colorbar": {
              "outlinewidth": 0,
              "ticks": ""
             }
            },
            "type": "scattermapbox"
           }
          ],
          "scatterpolar": [
           {
            "marker": {
             "colorbar": {
              "outlinewidth": 0,
              "ticks": ""
             }
            },
            "type": "scatterpolar"
           }
          ],
          "scatterpolargl": [
           {
            "marker": {
             "colorbar": {
              "outlinewidth": 0,
              "ticks": ""
             }
            },
            "type": "scatterpolargl"
           }
          ],
          "scatterternary": [
           {
            "marker": {
             "colorbar": {
              "outlinewidth": 0,
              "ticks": ""
             }
            },
            "type": "scatterternary"
           }
          ],
          "surface": [
           {
            "colorbar": {
             "outlinewidth": 0,
             "ticks": ""
            },
            "colorscale": [
             [
              0,
              "#0d0887"
             ],
             [
              0.1111111111111111,
              "#46039f"
             ],
             [
              0.2222222222222222,
              "#7201a8"
             ],
             [
              0.3333333333333333,
              "#9c179e"
             ],
             [
              0.4444444444444444,
              "#bd3786"
             ],
             [
              0.5555555555555556,
              "#d8576b"
             ],
             [
              0.6666666666666666,
              "#ed7953"
             ],
             [
              0.7777777777777778,
              "#fb9f3a"
             ],
             [
              0.8888888888888888,
              "#fdca26"
             ],
             [
              1,
              "#f0f921"
             ]
            ],
            "type": "surface"
           }
          ],
          "table": [
           {
            "cells": {
             "fill": {
              "color": "#EBF0F8"
             },
             "line": {
              "color": "white"
             }
            },
            "header": {
             "fill": {
              "color": "#C8D4E3"
             },
             "line": {
              "color": "white"
             }
            },
            "type": "table"
           }
          ]
         },
         "layout": {
          "annotationdefaults": {
           "arrowcolor": "#2a3f5f",
           "arrowhead": 0,
           "arrowwidth": 1
          },
          "autotypenumbers": "strict",
          "coloraxis": {
           "colorbar": {
            "outlinewidth": 0,
            "ticks": ""
           }
          },
          "colorscale": {
           "diverging": [
            [
             0,
             "#8e0152"
            ],
            [
             0.1,
             "#c51b7d"
            ],
            [
             0.2,
             "#de77ae"
            ],
            [
             0.3,
             "#f1b6da"
            ],
            [
             0.4,
             "#fde0ef"
            ],
            [
             0.5,
             "#f7f7f7"
            ],
            [
             0.6,
             "#e6f5d0"
            ],
            [
             0.7,
             "#b8e186"
            ],
            [
             0.8,
             "#7fbc41"
            ],
            [
             0.9,
             "#4d9221"
            ],
            [
             1,
             "#276419"
            ]
           ],
           "sequential": [
            [
             0,
             "#0d0887"
            ],
            [
             0.1111111111111111,
             "#46039f"
            ],
            [
             0.2222222222222222,
             "#7201a8"
            ],
            [
             0.3333333333333333,
             "#9c179e"
            ],
            [
             0.4444444444444444,
             "#bd3786"
            ],
            [
             0.5555555555555556,
             "#d8576b"
            ],
            [
             0.6666666666666666,
             "#ed7953"
            ],
            [
             0.7777777777777778,
             "#fb9f3a"
            ],
            [
             0.8888888888888888,
             "#fdca26"
            ],
            [
             1,
             "#f0f921"
            ]
           ],
           "sequentialminus": [
            [
             0,
             "#0d0887"
            ],
            [
             0.1111111111111111,
             "#46039f"
            ],
            [
             0.2222222222222222,
             "#7201a8"
            ],
            [
             0.3333333333333333,
             "#9c179e"
            ],
            [
             0.4444444444444444,
             "#bd3786"
            ],
            [
             0.5555555555555556,
             "#d8576b"
            ],
            [
             0.6666666666666666,
             "#ed7953"
            ],
            [
             0.7777777777777778,
             "#fb9f3a"
            ],
            [
             0.8888888888888888,
             "#fdca26"
            ],
            [
             1,
             "#f0f921"
            ]
           ]
          },
          "colorway": [
           "#636efa",
           "#EF553B",
           "#00cc96",
           "#ab63fa",
           "#FFA15A",
           "#19d3f3",
           "#FF6692",
           "#B6E880",
           "#FF97FF",
           "#FECB52"
          ],
          "font": {
           "color": "#2a3f5f"
          },
          "geo": {
           "bgcolor": "white",
           "lakecolor": "white",
           "landcolor": "white",
           "showlakes": true,
           "showland": true,
           "subunitcolor": "#C8D4E3"
          },
          "hoverlabel": {
           "align": "left"
          },
          "hovermode": "closest",
          "mapbox": {
           "style": "light"
          },
          "paper_bgcolor": "white",
          "plot_bgcolor": "white",
          "polar": {
           "angularaxis": {
            "gridcolor": "#EBF0F8",
            "linecolor": "#EBF0F8",
            "ticks": ""
           },
           "bgcolor": "white",
           "radialaxis": {
            "gridcolor": "#EBF0F8",
            "linecolor": "#EBF0F8",
            "ticks": ""
           }
          },
          "scene": {
           "xaxis": {
            "backgroundcolor": "white",
            "gridcolor": "#DFE8F3",
            "gridwidth": 2,
            "linecolor": "#EBF0F8",
            "showbackground": true,
            "ticks": "",
            "zerolinecolor": "#EBF0F8"
           },
           "yaxis": {
            "backgroundcolor": "white",
            "gridcolor": "#DFE8F3",
            "gridwidth": 2,
            "linecolor": "#EBF0F8",
            "showbackground": true,
            "ticks": "",
            "zerolinecolor": "#EBF0F8"
           },
           "zaxis": {
            "backgroundcolor": "white",
            "gridcolor": "#DFE8F3",
            "gridwidth": 2,
            "linecolor": "#EBF0F8",
            "showbackground": true,
            "ticks": "",
            "zerolinecolor": "#EBF0F8"
           }
          },
          "shapedefaults": {
           "line": {
            "color": "#2a3f5f"
           }
          },
          "ternary": {
           "aaxis": {
            "gridcolor": "#DFE8F3",
            "linecolor": "#A2B1C6",
            "ticks": ""
           },
           "baxis": {
            "gridcolor": "#DFE8F3",
            "linecolor": "#A2B1C6",
            "ticks": ""
           },
           "bgcolor": "white",
           "caxis": {
            "gridcolor": "#DFE8F3",
            "linecolor": "#A2B1C6",
            "ticks": ""
           }
          },
          "title": {
           "x": 0.05
          },
          "xaxis": {
           "automargin": true,
           "gridcolor": "#EBF0F8",
           "linecolor": "#EBF0F8",
           "ticks": "",
           "title": {
            "standoff": 15
           },
           "zerolinecolor": "#EBF0F8",
           "zerolinewidth": 2
          },
          "yaxis": {
           "automargin": true,
           "gridcolor": "#EBF0F8",
           "linecolor": "#EBF0F8",
           "ticks": "",
           "title": {
            "standoff": 15
           },
           "zerolinecolor": "#EBF0F8",
           "zerolinewidth": 2
          }
         }
        },
        "width": 500,
        "xaxis": {
         "anchor": "y",
         "domain": [
          0,
          1
         ],
         "title": {
          "text": "Albumin_and_Globulin_Ratio"
         }
        },
        "yaxis": {
         "anchor": "x",
         "automargin": true,
         "domain": [
          0,
          1
         ],
         "title": {
          "text": "Albumin"
         }
        }
       }
      }
     },
     "metadata": {},
     "output_type": "display_data"
    },
    {
     "data": {
      "text/plain": [
       "<Figure size 300x300 with 0 Axes>"
      ]
     },
     "metadata": {},
     "output_type": "display_data"
    }
   ],
   "source": [
    "fig = px.scatter(df, \n",
    "                    x = \"Albumin_and_Globulin_Ratio\",\n",
    "                    y = \"Albumin\")\n",
    "plt.figure(figsize=(3,3))\n",
    "fig.update_traces(marker = dict(size = 8, color='indianred'))\n",
    "fig.update_coloraxes(showscale = True)\n",
    "fig.update_layout(template = \"plotly_white\",\n",
    " autosize=False,\n",
    "    width=500,\n",
    "    height=500)\n",
    "fig.update_yaxes(automargin=True)\n",
    "fig.show()"
   ]
  },
  {
   "cell_type": "code",
   "execution_count": null,
   "metadata": {},
   "outputs": [],
   "source": [
    "# Categorical Value Handling\n",
    "def convertgender(x):\n",
    "    if x== 'Male':\n",
    "        return 0\n",
    "    else:\n",
    "        return 1\n",
    "df['Gender Numeric'] = df['Gender'].map(convertgender)\n",
    "df.head()"
   ]
  },
  {
   "cell_type": "code",
   "execution_count": null,
   "metadata": {},
   "outputs": [],
   "source": [
    "df.corr()"
   ]
  },
  {
   "cell_type": "code",
   "execution_count": 7,
   "metadata": {},
   "outputs": [
    {
     "data": {
      "image/png": "[encoded data removed]",
      "text/plain": [
       "<Figure size 1000x800 with 2 Axes>"
      ]
     },
     "metadata": {},
     "output_type": "display_data"
    }
   ],
   "source": [
    "numerical_df = df.select_dtypes(include=['float64', 'int64'])\n",
    "\n",
    "plt.figure(figsize=(10, 8))\n",
    "sns.heatmap(numerical_df.corr(), annot=True, cmap='Reds', fmt='.2f')\n",
    "plt.title('Pearson Correlation Matrix')\n",
    "plt.show()\n",
    "\n",
    "# cols = [\"Age\",\"Total_Bilirubin\",\"Direct_Bilirubin\",\"Alkaline_Phosphotase\",\n",
    "#         \"Alanine_Aminotransferase\",\"Aspartate_Aminotransferase\",\"Total_Protiens\", \"Albumin\", \"Albumin_and_Globulin_Ratio\"]\n",
    "# numerical_df = df[cols]\n",
    "\n",
    "# plt.figure(figsize=(10, 8))\n",
    "# sns.heatmap(numerical_df.corr(), annot=True, cmap='Reds', fmt='.2f')\n",
    "# plt.title('Pearson Correlation Matrix')\n",
    "# plt.show()"
   ]
  },
  {
   "cell_type": "markdown",
   "metadata": {},
   "source": [
    "It is seen that there are some pairs of variables that have a linear relationship, for example:\n",
    "\n",
    "ALB and A/G Ratio\n",
    "\n",
    "TP and ALB\n",
    "\n",
    "TB and DB\n"
   ]
  },
  {
   "cell_type": "code",
   "execution_count": 55,
   "metadata": {},
   "outputs": [
    {
     "name": "stderr",
     "output_type": "stream",
     "text": [
      "C:\\Users\\Intel_i3\\AppData\\Local\\Temp\\ipykernel_10372\\1677871834.py:17: UserWarning:\n",
      "\n",
      "FigureCanvasAgg is non-interactive, and thus cannot be shown\n",
      "\n"
     ]
    },
    {
     "data": {
      "image/png": "[encoded data removed]",
      "text/plain": [
       "<Figure size 950x500 with 2 Axes>"
      ]
     },
     "metadata": {},
     "output_type": "display_data"
    }
   ],
   "source": [
    "numerical_features =  [\"Age\",\"Total_Bilirubin\",\"Direct_Bilirubin\",\"Alkaline_Phosphotase\",\n",
    "        \"Alanine_Aminotransferase\",\"Aspartate_Aminotransferase\",\"Total_Protiens\", \"Albumin\", \"Albumin_and_Globulin_Ratio\"]\n",
    "plt.style.use('default')\n",
    "corr_matrix_spearman = df[numerical_features].corr(method = 'spearman')\n",
    "mask = np.triu(np.ones_like(corr_matrix_spearman, dtype = bool))\n",
    "\n",
    "fig,ax = plt.subplots(figsize = (9.5, 5))\n",
    "sns.heatmap(corr_matrix_spearman, \n",
    "            cmap = 'Reds', \n",
    "            annot = True, \n",
    "            annot_kws = {'fontsize':7.5, 'fontweight':'bold'}, \n",
    "            linewidths = 1.5, \n",
    "            square = True, \n",
    "            mask = mask,\n",
    "            ax = ax)\n",
    "ax.set_title(\"Spearman Correlation Matrix\", fontsize = 9, fontweight = 'normal', color = 'black')\n",
    "fig.show()"
   ]
  },
  {
   "cell_type": "code",
   "execution_count": 57,
   "metadata": {},
   "outputs": [
    {
     "name": "stdout",
     "output_type": "stream",
     "text": [
      "Albumin  & Albumin_and_Globulin_Ratio\n"
     ]
    },
    {
     "data": {
      "text/html": [
       "<div>\n",
       "<style scoped>\n",
       "    .dataframe tbody tr th:only-of-type {\n",
       "        vertical-align: middle;\n",
       "    }\n",
       "\n",
       "    .dataframe tbody tr th {\n",
       "        vertical-align: top;\n",
       "    }\n",
       "\n",
       "    .dataframe thead th {\n",
       "        text-align: right;\n",
       "    }\n",
       "</style>\n",
       "<table border=\"1\" class=\"dataframe\">\n",
       "  <thead>\n",
       "    <tr style=\"text-align: right;\">\n",
       "      <th></th>\n",
       "      <th>n</th>\n",
       "      <th>r</th>\n",
       "      <th>CI95%</th>\n",
       "      <th>p-val</th>\n",
       "      <th>power</th>\n",
       "    </tr>\n",
       "  </thead>\n",
       "  <tbody>\n",
       "    <tr>\n",
       "      <th>spearman</th>\n",
       "      <td>579</td>\n",
       "      <td>0.75414</td>\n",
       "      <td>[0.72, 0.79]</td>\n",
       "      <td>1.857640e-107</td>\n",
       "      <td>1.0</td>\n",
       "    </tr>\n",
       "  </tbody>\n",
       "</table>\n",
       "</div>"
      ],
      "text/plain": [
       "            n        r         CI95%          p-val  power\n",
       "spearman  579  0.75414  [0.72, 0.79]  1.857640e-107    1.0"
      ]
     },
     "execution_count": 57,
     "metadata": {},
     "output_type": "execute_result"
    }
   ],
   "source": [
    "print(\"Albumin  & Albumin_and_Globulin_Ratio\")\n",
    "pg.corr(df['Albumin'], df['Albumin_and_Globulin_Ratio'], method = 'spearman')"
   ]
  },
  {
   "cell_type": "code",
   "execution_count": 60,
   "metadata": {},
   "outputs": [
    {
     "name": "stdout",
     "output_type": "stream",
     "text": [
      "Total_Protiens  & Albumin\n"
     ]
    },
    {
     "data": {
      "text/html": [
       "<div>\n",
       "<style scoped>\n",
       "    .dataframe tbody tr th:only-of-type {\n",
       "        vertical-align: middle;\n",
       "    }\n",
       "\n",
       "    .dataframe tbody tr th {\n",
       "        vertical-align: top;\n",
       "    }\n",
       "\n",
       "    .dataframe thead th {\n",
       "        text-align: right;\n",
       "    }\n",
       "</style>\n",
       "<table border=\"1\" class=\"dataframe\">\n",
       "  <thead>\n",
       "    <tr style=\"text-align: right;\">\n",
       "      <th></th>\n",
       "      <th>n</th>\n",
       "      <th>r</th>\n",
       "      <th>CI95%</th>\n",
       "      <th>p-val</th>\n",
       "      <th>power</th>\n",
       "    </tr>\n",
       "  </thead>\n",
       "  <tbody>\n",
       "    <tr>\n",
       "      <th>spearman</th>\n",
       "      <td>583</td>\n",
       "      <td>0.779077</td>\n",
       "      <td>[0.75, 0.81]</td>\n",
       "      <td>6.477305e-120</td>\n",
       "      <td>1.0</td>\n",
       "    </tr>\n",
       "  </tbody>\n",
       "</table>\n",
       "</div>"
      ],
      "text/plain": [
       "            n         r         CI95%          p-val  power\n",
       "spearman  583  0.779077  [0.75, 0.81]  6.477305e-120    1.0"
      ]
     },
     "execution_count": 60,
     "metadata": {},
     "output_type": "execute_result"
    }
   ],
   "source": [
    "print(\"Total_Protiens  & Albumin\")\n",
    "pg.corr(df['Total_Protiens'], df['Albumin'], method = 'spearman')"
   ]
  },
  {
   "cell_type": "code",
   "execution_count": 59,
   "metadata": {},
   "outputs": [
    {
     "name": "stdout",
     "output_type": "stream",
     "text": [
      "Total_Bilirubin  & Direct_Bilirubin\n"
     ]
    },
    {
     "data": {
      "text/html": [
       "<div>\n",
       "<style scoped>\n",
       "    .dataframe tbody tr th:only-of-type {\n",
       "        vertical-align: middle;\n",
       "    }\n",
       "\n",
       "    .dataframe tbody tr th {\n",
       "        vertical-align: top;\n",
       "    }\n",
       "\n",
       "    .dataframe thead th {\n",
       "        text-align: right;\n",
       "    }\n",
       "</style>\n",
       "<table border=\"1\" class=\"dataframe\">\n",
       "  <thead>\n",
       "    <tr style=\"text-align: right;\">\n",
       "      <th></th>\n",
       "      <th>n</th>\n",
       "      <th>r</th>\n",
       "      <th>CI95%</th>\n",
       "      <th>p-val</th>\n",
       "      <th>power</th>\n",
       "    </tr>\n",
       "  </thead>\n",
       "  <tbody>\n",
       "    <tr>\n",
       "      <th>spearman</th>\n",
       "      <td>583</td>\n",
       "      <td>0.959216</td>\n",
       "      <td>[0.95, 0.97]</td>\n",
       "      <td>5.424841e-321</td>\n",
       "      <td>1.0</td>\n",
       "    </tr>\n",
       "  </tbody>\n",
       "</table>\n",
       "</div>"
      ],
      "text/plain": [
       "            n         r         CI95%          p-val  power\n",
       "spearman  583  0.959216  [0.95, 0.97]  5.424841e-321    1.0"
      ]
     },
     "execution_count": 59,
     "metadata": {},
     "output_type": "execute_result"
    }
   ],
   "source": [
    "print(\"Total_Bilirubin  & Direct_Bilirubin\")\n",
    "pg.corr(df['Total_Bilirubin'], df['Direct_Bilirubin'], method = 'spearman')"
   ]
  },
  {
   "cell_type": "markdown",
   "metadata": {},
   "source": [
    "Selector\n",
    "\n",
    "The Selector variable only takes two values, but they are in numerical format, so we are going to convert it to a string object since according to the information provided it tells us that these values ​​must be liver disease or without liver disease."
   ]
  },
  {
   "cell_type": "code",
   "execution_count": 62,
   "metadata": {},
   "outputs": [
    {
     "data": {
      "text/plain": [
       "1    416\n",
       "2    167\n",
       "Name: Dataset, dtype: int64"
      ]
     },
     "execution_count": 62,
     "metadata": {},
     "output_type": "execute_result"
    }
   ],
   "source": [
    "df['Dataset'].value_counts()"
   ]
  },
  {
   "cell_type": "code",
   "execution_count": 64,
   "metadata": {},
   "outputs": [
    {
     "data": {
      "application/vnd.plotly.v1+json": {
       "config": {
        "plotlyServerURL": "https://plot.ly"
       },
       "data": [
        {
         "alignmentgroup": "True",
         "bingroup": "x",
         "hovertemplate": "Dataset=1<br>Age=%{x}<br>count=%{y}<extra></extra>",
         "legendgroup": "1",
         "marker": {
          "color": "#636efa",
          "pattern": {
           "shape": ""
          }
         },
         "name": "1",
         "offsetgroup": "1",
         "orientation": "v",
         "showlegend": true,
         "type": "histogram",
         "x": [
          65,
          62,
          62,
          58,
          72,
          46,
          26,
          29,
          55,
          57,
          72,
          74,
          61,
          38,
          40,
          40,
          51,
          51,
          62,
          40,
          34,
          34,
          34,
          57,
          52,
          30,
          46,
          48,
          47,
          45,
          50,
          21,
          40,
          32,
          55,
          45,
          34,
          38,
          38,
          42,
          42,
          51,
          31,
          58,
          58,
          57,
          57,
          57,
          54,
          37,
          66,
          19,
          75,
          75,
          52,
          68,
          31,
          68,
          58,
          58,
          29,
          33,
          32,
          14,
          58,
          18,
          60,
          60,
          60,
          60,
          60,
          60,
          75,
          39,
          39,
          18,
          18,
          17,
          63,
          48,
          74,
          48,
          32,
          32,
          32,
          32,
          32,
          64,
          48,
          64,
          58,
          45,
          45,
          53,
          18,
          66,
          46,
          18,
          18,
          15,
          66,
          30,
          30,
          45,
          66,
          65,
          50,
          60,
          50,
          46,
          34,
          34,
          32,
          72,
          72,
          50,
          60,
          60,
          60,
          39,
          39,
          48,
          55,
          47,
          60,
          60,
          72,
          44,
          55,
          31,
          31,
          31,
          55,
          75,
          75,
          75,
          75,
          75,
          40,
          64,
          60,
          60,
          60,
          60,
          60,
          60,
          60,
          60,
          26,
          7,
          49,
          49,
          45,
          40,
          40,
          70,
          45,
          28,
          42,
          8,
          38,
          49,
          37,
          37,
          47,
          47,
          70,
          26,
          26,
          68,
          46,
          61,
          50,
          33,
          40,
          60,
          35,
          40,
          51,
          29,
          28,
          54,
          54,
          55,
          55,
          40,
          33,
          33,
          33,
          38,
          50,
          44,
          42,
          42,
          33,
          18,
          38,
          62,
          43,
          40,
          26,
          37,
          21,
          30,
          33,
          60,
          45,
          48,
          58,
          50,
          18,
          13,
          34,
          50,
          57,
          45,
          45,
          22,
          22,
          74,
          31,
          51,
          50,
          55,
          48,
          30,
          45,
          48,
          51,
          54,
          26,
          35,
          38,
          30,
          30,
          36,
          60,
          26,
          26,
          26,
          13,
          13,
          75,
          75,
          75,
          75,
          75,
          36,
          70,
          60,
          46,
          38,
          70,
          37,
          37,
          26,
          48,
          48,
          33,
          33,
          37,
          24,
          42,
          58,
          54,
          48,
          47,
          33,
          50,
          50,
          39,
          58,
          34,
          50,
          51,
          46,
          72,
          72,
          75,
          41,
          41,
          48,
          74,
          78,
          38,
          27,
          50,
          42,
          22,
          31,
          12,
          48,
          48,
          18,
          65,
          70,
          70,
          50,
          55,
          55,
          41,
          32,
          58,
          65,
          73,
          53,
          29,
          23,
          35,
          65,
          42,
          49,
          42,
          42,
          42,
          54,
          45,
          48,
          48,
          65,
          35,
          58,
          46,
          21,
          26,
          65,
          22,
          28,
          38,
          25,
          66,
          66,
          66,
          38,
          55,
          33,
          33,
          45,
          45,
          62,
          22,
          42,
          32,
          53,
          35,
          25,
          24,
          67,
          68,
          55,
          70,
          36,
          42,
          53,
          32,
          32,
          56,
          50,
          46,
          46,
          45,
          69,
          49,
          49,
          60,
          28,
          45,
          35,
          62,
          55,
          46,
          50,
          46,
          40,
          45,
          55,
          40,
          46,
          60,
          46,
          10,
          52,
          40,
          54,
          45,
          50,
          42,
          40,
          46,
          45,
          46,
          73,
          55,
          51,
          51,
          51,
          26,
          66,
          66,
          66,
          64,
          43,
          52,
          20,
          16,
          16,
          90,
          32,
          32,
          32,
          32,
          32,
          32,
          40,
          52,
          31
         ],
         "xaxis": "x",
         "yaxis": "y"
        },
        {
         "alignmentgroup": "True",
         "bingroup": "x",
         "hovertemplate": "Dataset=2<br>Age=%{x}<br>count=%{y}<extra></extra>",
         "legendgroup": "2",
         "marker": {
          "color": "#EF553B",
          "pattern": {
           "shape": ""
          }
         },
         "name": "2",
         "offsetgroup": "2",
         "orientation": "v",
         "showlegend": true,
         "type": "histogram",
         "x": [
          17,
          64,
          25,
          33,
          63,
          20,
          84,
          57,
          38,
          38,
          17,
          62,
          42,
          85,
          35,
          33,
          48,
          64,
          60,
          29,
          70,
          49,
          13,
          27,
          27,
          55,
          36,
          36,
          36,
          36,
          36,
          24,
          27,
          50,
          50,
          58,
          28,
          60,
          70,
          18,
          60,
          65,
          56,
          52,
          65,
          38,
          48,
          49,
          49,
          41,
          38,
          21,
          21,
          22,
          66,
          55,
          6,
          50,
          65,
          61,
          22,
          35,
          48,
          65,
          35,
          38,
          36,
          38,
          4,
          4,
          26,
          35,
          50,
          18,
          43,
          60,
          23,
          25,
          24,
          58,
          50,
          54,
          27,
          30,
          22,
          44,
          14,
          12,
          42,
          36,
          24,
          43,
          21,
          36,
          35,
          37,
          49,
          19,
          69,
          65,
          55,
          42,
          21,
          40,
          16,
          60,
          33,
          25,
          56,
          20,
          72,
          60,
          38,
          45,
          66,
          65,
          45,
          23,
          48,
          65,
          11,
          26,
          53,
          45,
          52,
          47,
          41,
          30,
          17,
          61,
          17,
          28,
          32,
          61,
          45,
          45,
          28,
          28,
          49,
          42,
          42,
          35,
          38,
          7,
          30,
          60,
          65,
          27,
          65,
          32,
          37,
          56,
          29,
          53,
          22,
          62,
          39,
          65,
          42,
          42,
          62,
          45,
          29,
          38,
          50,
          60,
          38
         ],
         "xaxis": "x",
         "yaxis": "y"
        }
       ],
       "layout": {
        "barmode": "relative",
        "legend": {
         "title": {
          "text": "Dataset"
         },
         "tracegroupgap": 0
        },
        "margin": {
         "t": 60
        },
        "template": {
         "data": {
          "bar": [
           {
            "error_x": {
             "color": "#2a3f5f"
            },
            "error_y": {
             "color": "#2a3f5f"
            },
            "marker": {
             "line": {
              "color": "#E5ECF6",
              "width": 0.5
             },
             "pattern": {
              "fillmode": "overlay",
              "size": 10,
              "solidity": 0.2
             }
            },
            "type": "bar"
           }
          ],
          "barpolar": [
           {
            "marker": {
             "line": {
              "color": "#E5ECF6",
              "width": 0.5
             },
             "pattern": {
              "fillmode": "overlay",
              "size": 10,
              "solidity": 0.2
             }
            },
            "type": "barpolar"
           }
          ],
          "carpet": [
           {
            "aaxis": {
             "endlinecolor": "#2a3f5f",
             "gridcolor": "white",
             "linecolor": "white",
             "minorgridcolor": "white",
             "startlinecolor": "#2a3f5f"
            },
            "baxis": {
             "endlinecolor": "#2a3f5f",
             "gridcolor": "white",
             "linecolor": "white",
             "minorgridcolor": "white",
             "startlinecolor": "#2a3f5f"
            },
            "type": "carpet"
           }
          ],
          "choropleth": [
           {
            "colorbar": {
             "outlinewidth": 0,
             "ticks": ""
            },
            "type": "choropleth"
           }
          ],
          "contour": [
           {
            "colorbar": {
             "outlinewidth": 0,
             "ticks": ""
            },
            "colorscale": [
             [
              0,
              "#0d0887"
             ],
             [
              0.1111111111111111,
              "#46039f"
             ],
             [
              0.2222222222222222,
              "#7201a8"
             ],
             [
              0.3333333333333333,
              "#9c179e"
             ],
             [
              0.4444444444444444,
              "#bd3786"
             ],
             [
              0.5555555555555556,
              "#d8576b"
             ],
             [
              0.6666666666666666,
              "#ed7953"
             ],
             [
              0.7777777777777778,
              "#fb9f3a"
             ],
             [
              0.8888888888888888,
              "#fdca26"
             ],
             [
              1,
              "#f0f921"
             ]
            ],
            "type": "contour"
           }
          ],
          "contourcarpet": [
           {
            "colorbar": {
             "outlinewidth": 0,
             "ticks": ""
            },
            "type": "contourcarpet"
           }
          ],
          "heatmap": [
           {
            "colorbar": {
             "outlinewidth": 0,
             "ticks": ""
            },
            "colorscale": [
             [
              0,
              "#0d0887"
             ],
             [
              0.1111111111111111,
              "#46039f"
             ],
             [
              0.2222222222222222,
              "#7201a8"
             ],
             [
              0.3333333333333333,
              "#9c179e"
             ],
             [
              0.4444444444444444,
              "#bd3786"
             ],
             [
              0.5555555555555556,
              "#d8576b"
             ],
             [
              0.6666666666666666,
              "#ed7953"
             ],
             [
              0.7777777777777778,
              "#fb9f3a"
             ],
             [
              0.8888888888888888,
              "#fdca26"
             ],
             [
              1,
              "#f0f921"
             ]
            ],
            "type": "heatmap"
           }
          ],
          "heatmapgl": [
           {
            "colorbar": {
             "outlinewidth": 0,
             "ticks": ""
            },
            "colorscale": [
             [
              0,
              "#0d0887"
             ],
             [
              0.1111111111111111,
              "#46039f"
             ],
             [
              0.2222222222222222,
              "#7201a8"
             ],
             [
              0.3333333333333333,
              "#9c179e"
             ],
             [
              0.4444444444444444,
              "#bd3786"
             ],
             [
              0.5555555555555556,
              "#d8576b"
             ],
             [
              0.6666666666666666,
              "#ed7953"
             ],
             [
              0.7777777777777778,
              "#fb9f3a"
             ],
             [
              0.8888888888888888,
              "#fdca26"
             ],
             [
              1,
              "#f0f921"
             ]
            ],
            "type": "heatmapgl"
           }
          ],
          "histogram": [
           {
            "marker": {
             "pattern": {
              "fillmode": "overlay",
              "size": 10,
              "solidity": 0.2
             }
            },
            "type": "histogram"
           }
          ],
          "histogram2d": [
           {
            "colorbar": {
             "outlinewidth": 0,
             "ticks": ""
            },
            "colorscale": [
             [
              0,
              "#0d0887"
             ],
             [
              0.1111111111111111,
              "#46039f"
             ],
             [
              0.2222222222222222,
              "#7201a8"
             ],
             [
              0.3333333333333333,
              "#9c179e"
             ],
             [
              0.4444444444444444,
              "#bd3786"
             ],
             [
              0.5555555555555556,
              "#d8576b"
             ],
             [
              0.6666666666666666,
              "#ed7953"
             ],
             [
              0.7777777777777778,
              "#fb9f3a"
             ],
             [
              0.8888888888888888,
              "#fdca26"
             ],
             [
              1,
              "#f0f921"
             ]
            ],
            "type": "histogram2d"
           }
          ],
          "histogram2dcontour": [
           {
            "colorbar": {
             "outlinewidth": 0,
             "ticks": ""
            },
            "colorscale": [
             [
              0,
              "#0d0887"
             ],
             [
              0.1111111111111111,
              "#46039f"
             ],
             [
              0.2222222222222222,
              "#7201a8"
             ],
             [
              0.3333333333333333,
              "#9c179e"
             ],
             [
              0.4444444444444444,
              "#bd3786"
             ],
             [
              0.5555555555555556,
              "#d8576b"
             ],
             [
              0.6666666666666666,
              "#ed7953"
             ],
             [
              0.7777777777777778,
              "#fb9f3a"
             ],
             [
              0.8888888888888888,
              "#fdca26"
             ],
             [
              1,
              "#f0f921"
             ]
            ],
            "type": "histogram2dcontour"
           }
          ],
          "mesh3d": [
           {
            "colorbar": {
             "outlinewidth": 0,
             "ticks": ""
            },
            "type": "mesh3d"
           }
          ],
          "parcoords": [
           {
            "line": {
             "colorbar": {
              "outlinewidth": 0,
              "ticks": ""
             }
            },
            "type": "parcoords"
           }
          ],
          "pie": [
           {
            "automargin": true,
            "type": "pie"
           }
          ],
          "scatter": [
           {
            "fillpattern": {
             "fillmode": "overlay",
             "size": 10,
             "solidity": 0.2
            },
            "type": "scatter"
           }
          ],
          "scatter3d": [
           {
            "line": {
             "colorbar": {
              "outlinewidth": 0,
              "ticks": ""
             }
            },
            "marker": {
             "colorbar": {
              "outlinewidth": 0,
              "ticks": ""
             }
            },
            "type": "scatter3d"
           }
          ],
          "scattercarpet": [
           {
            "marker": {
             "colorbar": {
              "outlinewidth": 0,
              "ticks": ""
             }
            },
            "type": "scattercarpet"
           }
          ],
          "scattergeo": [
           {
            "marker": {
             "colorbar": {
              "outlinewidth": 0,
              "ticks": ""
             }
            },
            "type": "scattergeo"
           }
          ],
          "scattergl": [
           {
            "marker": {
             "colorbar": {
              "outlinewidth": 0,
              "ticks": ""
             }
            },
            "type": "scattergl"
           }
          ],
          "scattermapbox": [
           {
            "marker": {
             "colorbar": {
              "outlinewidth": 0,
              "ticks": ""
             }
            },
            "type": "scattermapbox"
           }
          ],
          "scatterpolar": [
           {
            "marker": {
             "colorbar": {
              "outlinewidth": 0,
              "ticks": ""
             }
            },
            "type": "scatterpolar"
           }
          ],
          "scatterpolargl": [
           {
            "marker": {
             "colorbar": {
              "outlinewidth": 0,
              "ticks": ""
             }
            },
            "type": "scatterpolargl"
           }
          ],
          "scatterternary": [
           {
            "marker": {
             "colorbar": {
              "outlinewidth": 0,
              "ticks": ""
             }
            },
            "type": "scatterternary"
           }
          ],
          "surface": [
           {
            "colorbar": {
             "outlinewidth": 0,
             "ticks": ""
            },
            "colorscale": [
             [
              0,
              "#0d0887"
             ],
             [
              0.1111111111111111,
              "#46039f"
             ],
             [
              0.2222222222222222,
              "#7201a8"
             ],
             [
              0.3333333333333333,
              "#9c179e"
             ],
             [
              0.4444444444444444,
              "#bd3786"
             ],
             [
              0.5555555555555556,
              "#d8576b"
             ],
             [
              0.6666666666666666,
              "#ed7953"
             ],
             [
              0.7777777777777778,
              "#fb9f3a"
             ],
             [
              0.8888888888888888,
              "#fdca26"
             ],
             [
              1,
              "#f0f921"
             ]
            ],
            "type": "surface"
           }
          ],
          "table": [
           {
            "cells": {
             "fill": {
              "color": "#EBF0F8"
             },
             "line": {
              "color": "white"
             }
            },
            "header": {
             "fill": {
              "color": "#C8D4E3"
             },
             "line": {
              "color": "white"
             }
            },
            "type": "table"
           }
          ]
         },
         "layout": {
          "annotationdefaults": {
           "arrowcolor": "#2a3f5f",
           "arrowhead": 0,
           "arrowwidth": 1
          },
          "autotypenumbers": "strict",
          "coloraxis": {
           "colorbar": {
            "outlinewidth": 0,
            "ticks": ""
           }
          },
          "colorscale": {
           "diverging": [
            [
             0,
             "#8e0152"
            ],
            [
             0.1,
             "#c51b7d"
            ],
            [
             0.2,
             "#de77ae"
            ],
            [
             0.3,
             "#f1b6da"
            ],
            [
             0.4,
             "#fde0ef"
            ],
            [
             0.5,
             "#f7f7f7"
            ],
            [
             0.6,
             "#e6f5d0"
            ],
            [
             0.7,
             "#b8e186"
            ],
            [
             0.8,
             "#7fbc41"
            ],
            [
             0.9,
             "#4d9221"
            ],
            [
             1,
             "#276419"
            ]
           ],
           "sequential": [
            [
             0,
             "#0d0887"
            ],
            [
             0.1111111111111111,
             "#46039f"
            ],
            [
             0.2222222222222222,
             "#7201a8"
            ],
            [
             0.3333333333333333,
             "#9c179e"
            ],
            [
             0.4444444444444444,
             "#bd3786"
            ],
            [
             0.5555555555555556,
             "#d8576b"
            ],
            [
             0.6666666666666666,
             "#ed7953"
            ],
            [
             0.7777777777777778,
             "#fb9f3a"
            ],
            [
             0.8888888888888888,
             "#fdca26"
            ],
            [
             1,
             "#f0f921"
            ]
           ],
           "sequentialminus": [
            [
             0,
             "#0d0887"
            ],
            [
             0.1111111111111111,
             "#46039f"
            ],
            [
             0.2222222222222222,
             "#7201a8"
            ],
            [
             0.3333333333333333,
             "#9c179e"
            ],
            [
             0.4444444444444444,
             "#bd3786"
            ],
            [
             0.5555555555555556,
             "#d8576b"
            ],
            [
             0.6666666666666666,
             "#ed7953"
            ],
            [
             0.7777777777777778,
             "#fb9f3a"
            ],
            [
             0.8888888888888888,
             "#fdca26"
            ],
            [
             1,
             "#f0f921"
            ]
           ]
          },
          "colorway": [
           "#636efa",
           "#EF553B",
           "#00cc96",
           "#ab63fa",
           "#FFA15A",
           "#19d3f3",
           "#FF6692",
           "#B6E880",
           "#FF97FF",
           "#FECB52"
          ],
          "font": {
           "color": "#2a3f5f"
          },
          "geo": {
           "bgcolor": "white",
           "lakecolor": "white",
           "landcolor": "#E5ECF6",
           "showlakes": true,
           "showland": true,
           "subunitcolor": "white"
          },
          "hoverlabel": {
           "align": "left"
          },
          "hovermode": "closest",
          "mapbox": {
           "style": "light"
          },
          "paper_bgcolor": "white",
          "plot_bgcolor": "#E5ECF6",
          "polar": {
           "angularaxis": {
            "gridcolor": "white",
            "linecolor": "white",
            "ticks": ""
           },
           "bgcolor": "#E5ECF6",
           "radialaxis": {
            "gridcolor": "white",
            "linecolor": "white",
            "ticks": ""
           }
          },
          "scene": {
           "xaxis": {
            "backgroundcolor": "#E5ECF6",
            "gridcolor": "white",
            "gridwidth": 2,
            "linecolor": "white",
            "showbackground": true,
            "ticks": "",
            "zerolinecolor": "white"
           },
           "yaxis": {
            "backgroundcolor": "#E5ECF6",
            "gridcolor": "white",
            "gridwidth": 2,
            "linecolor": "white",
            "showbackground": true,
            "ticks": "",
            "zerolinecolor": "white"
           },
           "zaxis": {
            "backgroundcolor": "#E5ECF6",
            "gridcolor": "white",
            "gridwidth": 2,
            "linecolor": "white",
            "showbackground": true,
            "ticks": "",
            "zerolinecolor": "white"
           }
          },
          "shapedefaults": {
           "line": {
            "color": "#2a3f5f"
           }
          },
          "ternary": {
           "aaxis": {
            "gridcolor": "white",
            "linecolor": "white",
            "ticks": ""
           },
           "baxis": {
            "gridcolor": "white",
            "linecolor": "white",
            "ticks": ""
           },
           "bgcolor": "#E5ECF6",
           "caxis": {
            "gridcolor": "white",
            "linecolor": "white",
            "ticks": ""
           }
          },
          "title": {
           "x": 0.05
          },
          "xaxis": {
           "automargin": true,
           "gridcolor": "white",
           "linecolor": "white",
           "ticks": "",
           "title": {
            "standoff": 15
           },
           "zerolinecolor": "white",
           "zerolinewidth": 2
          },
          "yaxis": {
           "automargin": true,
           "gridcolor": "white",
           "linecolor": "white",
           "ticks": "",
           "title": {
            "standoff": 15
           },
           "zerolinecolor": "white",
           "zerolinewidth": 2
          }
         }
        },
        "xaxis": {
         "anchor": "y",
         "domain": [
          0,
          1
         ],
         "title": {
          "text": "Age"
         }
        },
        "yaxis": {
         "anchor": "x",
         "domain": [
          0,
          1
         ],
         "title": {
          "text": "count"
         }
        }
       }
      }
     },
     "metadata": {},
     "output_type": "display_data"
    },
    {
     "data": {
      "application/vnd.plotly.v1+json": {
       "config": {
        "plotlyServerURL": "https://plot.ly"
       },
       "data": [
        {
         "alignmentgroup": "True",
         "bingroup": "x",
         "hovertemplate": "Dataset=1<br>Gender=%{x}<br>count=%{y}<extra></extra>",
         "legendgroup": "1",
         "marker": {
          "color": "#636efa",
          "pattern": {
           "shape": ""
          }
         },
         "name": "1",
         "offsetgroup": "1",
         "orientation": "v",
         "showlegend": true,
         "type": "histogram",
         "x": [
          "Female",
          "Male",
          "Male",
          "Male",
          "Male",
          "Male",
          "Female",
          "Female",
          "Male",
          "Male",
          "Male",
          "Female",
          "Male",
          "Male",
          "Female",
          "Female",
          "Male",
          "Male",
          "Male",
          "Male",
          "Male",
          "Male",
          "Male",
          "Male",
          "Male",
          "Male",
          "Female",
          "Male",
          "Male",
          "Male",
          "Male",
          "Male",
          "Male",
          "Female",
          "Male",
          "Female",
          "Female",
          "Male",
          "Male",
          "Male",
          "Male",
          "Male",
          "Female",
          "Male",
          "Male",
          "Male",
          "Male",
          "Male",
          "Male",
          "Male",
          "Male",
          "Female",
          "Female",
          "Female",
          "Male",
          "Male",
          "Male",
          "Female",
          "Female",
          "Female",
          "Male",
          "Male",
          "Male",
          "Male",
          "Male",
          "Male",
          "Male",
          "Male",
          "Male",
          "Male",
          "Male",
          "Male",
          "Male",
          "Male",
          "Male",
          "Male",
          "Male",
          "Male",
          "Male",
          "Male",
          "Male",
          "Male",
          "Male",
          "Male",
          "Male",
          "Male",
          "Male",
          "Female",
          "Male",
          "Male",
          "Female",
          "Male",
          "Male",
          "Male",
          "Male",
          "Male",
          "Female",
          "Male",
          "Male",
          "Male",
          "Female",
          "Male",
          "Male",
          "Female",
          "Female",
          "Male",
          "Male",
          "Male",
          "Male",
          "Female",
          "Male",
          "Male",
          "Male",
          "Male",
          "Male",
          "Male",
          "Male",
          "Male",
          "Male",
          "Male",
          "Male",
          "Male",
          "Male",
          "Female",
          "Male",
          "Male",
          "Male",
          "Female",
          "Male",
          "Male",
          "Male",
          "Male",
          "Male",
          "Male",
          "Male",
          "Male",
          "Male",
          "Male",
          "Male",
          "Male",
          "Male",
          "Male",
          "Male",
          "Male",
          "Male",
          "Male",
          "Male",
          "Male",
          "Female",
          "Female",
          "Male",
          "Male",
          "Male",
          "Male",
          "Male",
          "Female",
          "Female",
          "Male",
          "Male",
          "Female",
          "Male",
          "Male",
          "Male",
          "Male",
          "Male",
          "Male",
          "Male",
          "Male",
          "Male",
          "Female",
          "Male",
          "Male",
          "Male",
          "Male",
          "Female",
          "Male",
          "Female",
          "Male",
          "Male",
          "Female",
          "Female",
          "Male",
          "Male",
          "Male",
          "Male",
          "Male",
          "Male",
          "Male",
          "Male",
          "Male",
          "Male",
          "Male",
          "Male",
          "Male",
          "Male",
          "Male",
          "Female",
          "Male",
          "Female",
          "Male",
          "Male",
          "Male",
          "Male",
          "Male",
          "Male",
          "Male",
          "Male",
          "Female",
          "Male",
          "Male",
          "Male",
          "Male",
          "Female",
          "Female",
          "Male",
          "Female",
          "Male",
          "Male",
          "Male",
          "Female",
          "Female",
          "Female",
          "Female",
          "Female",
          "Male",
          "Male",
          "Female",
          "Female",
          "Male",
          "Female",
          "Male",
          "Male",
          "Male",
          "Female",
          "Female",
          "Male",
          "Male",
          "Male",
          "Male",
          "Male",
          "Female",
          "Female",
          "Male",
          "Male",
          "Male",
          "Male",
          "Male",
          "Female",
          "Male",
          "Male",
          "Male",
          "Male",
          "Male",
          "Male",
          "Male",
          "Female",
          "Female",
          "Female",
          "Male",
          "Male",
          "Male",
          "Male",
          "Female",
          "Female",
          "Female",
          "Male",
          "Male",
          "Male",
          "Female",
          "Male",
          "Male",
          "Female",
          "Male",
          "Male",
          "Male",
          "Male",
          "Male",
          "Male",
          "Male",
          "Male",
          "Male",
          "Female",
          "Male",
          "Male",
          "Male",
          "Male",
          "Male",
          "Female",
          "Male",
          "Female",
          "Male",
          "Male",
          "Male",
          "Male",
          "Male",
          "Male",
          "Male",
          "Male",
          "Female",
          "Female",
          "Male",
          "Female",
          "Male",
          "Male",
          "Male",
          "Female",
          "Male",
          "Male",
          "Male",
          "Male",
          "Female",
          "Female",
          "Female",
          "Female",
          "Female",
          "Male",
          "Female",
          "Female",
          "Female",
          "Male",
          "Male",
          "Male",
          "Male",
          "Female",
          "Male",
          "Male",
          "Female",
          "Female",
          "Male",
          "Male",
          "Male",
          "Male",
          "Male",
          "Male",
          "Male",
          "Male",
          "Male",
          "Male",
          "Male",
          "Male",
          "Female",
          "Female",
          "Male",
          "Female",
          "Female",
          "Male",
          "Male",
          "Male",
          "Male",
          "Male",
          "Male",
          "Male",
          "Male",
          "Male",
          "Male",
          "Male",
          "Male",
          "Male",
          "Male",
          "Male",
          "Male",
          "Male",
          "Male",
          "Male",
          "Male",
          "Male",
          "Male",
          "Male",
          "Male",
          "Male",
          "Female",
          "Male",
          "Male",
          "Male",
          "Male",
          "Male",
          "Male",
          "Female",
          "Male",
          "Male",
          "Female",
          "Male",
          "Male",
          "Female",
          "Male",
          "Female",
          "Male",
          "Female",
          "Male",
          "Male",
          "Male",
          "Male",
          "Male",
          "Male",
          "Male",
          "Male",
          "Male",
          "Male",
          "Male",
          "Male",
          "Male",
          "Male",
          "Male",
          "Female",
          "Male",
          "Male",
          "Male",
          "Male",
          "Male",
          "Male",
          "Male",
          "Male",
          "Male",
          "Male",
          "Male",
          "Male"
         ],
         "xaxis": "x",
         "yaxis": "y"
        },
        {
         "alignmentgroup": "True",
         "bingroup": "x",
         "hovertemplate": "Dataset=2<br>Gender=%{x}<br>count=%{y}<extra></extra>",
         "legendgroup": "2",
         "marker": {
          "color": "#EF553B",
          "pattern": {
           "shape": ""
          }
         },
         "name": "2",
         "offsetgroup": "2",
         "orientation": "v",
         "showlegend": true,
         "type": "histogram",
         "x": [
          "Male",
          "Male",
          "Male",
          "Male",
          "Male",
          "Male",
          "Female",
          "Male",
          "Female",
          "Female",
          "Female",
          "Male",
          "Male",
          "Female",
          "Male",
          "Male",
          "Female",
          "Male",
          "Male",
          "Female",
          "Male",
          "Male",
          "Male",
          "Male",
          "Male",
          "Female",
          "Male",
          "Male",
          "Male",
          "Male",
          "Male",
          "Female",
          "Male",
          "Male",
          "Male",
          "Male",
          "Male",
          "Male",
          "Female",
          "Female",
          "Male",
          "Male",
          "Male",
          "Male",
          "Male",
          "Male",
          "Female",
          "Male",
          "Male",
          "Male",
          "Female",
          "Male",
          "Male",
          "Male",
          "Male",
          "Male",
          "Male",
          "Male",
          "Female",
          "Male",
          "Male",
          "Female",
          "Male",
          "Male",
          "Female",
          "Female",
          "Male",
          "Male",
          "Male",
          "Male",
          "Male",
          "Male",
          "Male",
          "Male",
          "Male",
          "Male",
          "Male",
          "Female",
          "Female",
          "Male",
          "Male",
          "Female",
          "Male",
          "Female",
          "Male",
          "Male",
          "Male",
          "Male",
          "Male",
          "Female",
          "Male",
          "Male",
          "Male",
          "Female",
          "Male",
          "Male",
          "Female",
          "Male",
          "Female",
          "Female",
          "Male",
          "Female",
          "Male",
          "Male",
          "Male",
          "Male",
          "Male",
          "Female",
          "Female",
          "Female",
          "Male",
          "Female",
          "Male",
          "Male",
          "Female",
          "Male",
          "Male",
          "Female",
          "Male",
          "Male",
          "Male",
          "Male",
          "Male",
          "Male",
          "Female",
          "Female",
          "Female",
          "Female",
          "Female",
          "Male",
          "Male",
          "Male",
          "Male",
          "Male",
          "Female",
          "Female",
          "Female",
          "Female",
          "Female",
          "Male",
          "Male",
          "Male",
          "Male",
          "Male",
          "Male",
          "Male",
          "Male",
          "Male",
          "Male",
          "Male",
          "Female",
          "Male",
          "Male",
          "Female",
          "Female",
          "Male",
          "Male",
          "Female",
          "Male",
          "Male",
          "Male",
          "Female",
          "Male",
          "Female",
          "Female",
          "Male",
          "Male"
         ],
         "xaxis": "x",
         "yaxis": "y"
        }
       ],
       "layout": {
        "barmode": "relative",
        "legend": {
         "title": {
          "text": "Dataset"
         },
         "tracegroupgap": 0
        },
        "margin": {
         "t": 60
        },
        "template": {
         "data": {
          "bar": [
           {
            "error_x": {
             "color": "#2a3f5f"
            },
            "error_y": {
             "color": "#2a3f5f"
            },
            "marker": {
             "line": {
              "color": "#E5ECF6",
              "width": 0.5
             },
             "pattern": {
              "fillmode": "overlay",
              "size": 10,
              "solidity": 0.2
             }
            },
            "type": "bar"
           }
          ],
          "barpolar": [
           {
            "marker": {
             "line": {
              "color": "#E5ECF6",
              "width": 0.5
             },
             "pattern": {
              "fillmode": "overlay",
              "size": 10,
              "solidity": 0.2
             }
            },
            "type": "barpolar"
           }
          ],
          "carpet": [
           {
            "aaxis": {
             "endlinecolor": "#2a3f5f",
             "gridcolor": "white",
             "linecolor": "white",
             "minorgridcolor": "white",
             "startlinecolor": "#2a3f5f"
            },
            "baxis": {
             "endlinecolor": "#2a3f5f",
             "gridcolor": "white",
             "linecolor": "white",
             "minorgridcolor": "white",
             "startlinecolor": "#2a3f5f"
            },
            "type": "carpet"
           }
          ],
          "choropleth": [
           {
            "colorbar": {
             "outlinewidth": 0,
             "ticks": ""
            },
            "type": "choropleth"
           }
          ],
          "contour": [
           {
            "colorbar": {
             "outlinewidth": 0,
             "ticks": ""
            },
            "colorscale": [
             [
              0,
              "#0d0887"
             ],
             [
              0.1111111111111111,
              "#46039f"
             ],
             [
              0.2222222222222222,
              "#7201a8"
             ],
             [
              0.3333333333333333,
              "#9c179e"
             ],
             [
              0.4444444444444444,
              "#bd3786"
             ],
             [
              0.5555555555555556,
              "#d8576b"
             ],
             [
              0.6666666666666666,
              "#ed7953"
             ],
             [
              0.7777777777777778,
              "#fb9f3a"
             ],
             [
              0.8888888888888888,
              "#fdca26"
             ],
             [
              1,
              "#f0f921"
             ]
            ],
            "type": "contour"
           }
          ],
          "contourcarpet": [
           {
            "colorbar": {
             "outlinewidth": 0,
             "ticks": ""
            },
            "type": "contourcarpet"
           }
          ],
          "heatmap": [
           {
            "colorbar": {
             "outlinewidth": 0,
             "ticks": ""
            },
            "colorscale": [
             [
              0,
              "#0d0887"
             ],
             [
              0.1111111111111111,
              "#46039f"
             ],
             [
              0.2222222222222222,
              "#7201a8"
             ],
             [
              0.3333333333333333,
              "#9c179e"
             ],
             [
              0.4444444444444444,
              "#bd3786"
             ],
             [
              0.5555555555555556,
              "#d8576b"
             ],
             [
              0.6666666666666666,
              "#ed7953"
             ],
             [
              0.7777777777777778,
              "#fb9f3a"
             ],
             [
              0.8888888888888888,
              "#fdca26"
             ],
             [
              1,
              "#f0f921"
             ]
            ],
            "type": "heatmap"
           }
          ],
          "heatmapgl": [
           {
            "colorbar": {
             "outlinewidth": 0,
             "ticks": ""
            },
            "colorscale": [
             [
              0,
              "#0d0887"
             ],
             [
              0.1111111111111111,
              "#46039f"
             ],
             [
              0.2222222222222222,
              "#7201a8"
             ],
             [
              0.3333333333333333,
              "#9c179e"
             ],
             [
              0.4444444444444444,
              "#bd3786"
             ],
             [
              0.5555555555555556,
              "#d8576b"
             ],
             [
              0.6666666666666666,
              "#ed7953"
             ],
             [
              0.7777777777777778,
              "#fb9f3a"
             ],
             [
              0.8888888888888888,
              "#fdca26"
             ],
             [
              1,
              "#f0f921"
             ]
            ],
            "type": "heatmapgl"
           }
          ],
          "histogram": [
           {
            "marker": {
             "pattern": {
              "fillmode": "overlay",
              "size": 10,
              "solidity": 0.2
             }
            },
            "type": "histogram"
           }
          ],
          "histogram2d": [
           {
            "colorbar": {
             "outlinewidth": 0,
             "ticks": ""
            },
            "colorscale": [
             [
              0,
              "#0d0887"
             ],
             [
              0.1111111111111111,
              "#46039f"
             ],
             [
              0.2222222222222222,
              "#7201a8"
             ],
             [
              0.3333333333333333,
              "#9c179e"
             ],
             [
              0.4444444444444444,
              "#bd3786"
             ],
             [
              0.5555555555555556,
              "#d8576b"
             ],
             [
              0.6666666666666666,
              "#ed7953"
             ],
             [
              0.7777777777777778,
              "#fb9f3a"
             ],
             [
              0.8888888888888888,
              "#fdca26"
             ],
             [
              1,
              "#f0f921"
             ]
            ],
            "type": "histogram2d"
           }
          ],
          "histogram2dcontour": [
           {
            "colorbar": {
             "outlinewidth": 0,
             "ticks": ""
            },
            "colorscale": [
             [
              0,
              "#0d0887"
             ],
             [
              0.1111111111111111,
              "#46039f"
             ],
             [
              0.2222222222222222,
              "#7201a8"
             ],
             [
              0.3333333333333333,
              "#9c179e"
             ],
             [
              0.4444444444444444,
              "#bd3786"
             ],
             [
              0.5555555555555556,
              "#d8576b"
             ],
             [
              0.6666666666666666,
              "#ed7953"
             ],
             [
              0.7777777777777778,
              "#fb9f3a"
             ],
             [
              0.8888888888888888,
              "#fdca26"
             ],
             [
              1,
              "#f0f921"
             ]
            ],
            "type": "histogram2dcontour"
           }
          ],
          "mesh3d": [
           {
            "colorbar": {
             "outlinewidth": 0,
             "ticks": ""
            },
            "type": "mesh3d"
           }
          ],
          "parcoords": [
           {
            "line": {
             "colorbar": {
              "outlinewidth": 0,
              "ticks": ""
             }
            },
            "type": "parcoords"
           }
          ],
          "pie": [
           {
            "automargin": true,
            "type": "pie"
           }
          ],
          "scatter": [
           {
            "fillpattern": {
             "fillmode": "overlay",
             "size": 10,
             "solidity": 0.2
            },
            "type": "scatter"
           }
          ],
          "scatter3d": [
           {
            "line": {
             "colorbar": {
              "outlinewidth": 0,
              "ticks": ""
             }
            },
            "marker": {
             "colorbar": {
              "outlinewidth": 0,
              "ticks": ""
             }
            },
            "type": "scatter3d"
           }
          ],
          "scattercarpet": [
           {
            "marker": {
             "colorbar": {
              "outlinewidth": 0,
              "ticks": ""
             }
            },
            "type": "scattercarpet"
           }
          ],
          "scattergeo": [
           {
            "marker": {
             "colorbar": {
              "outlinewidth": 0,
              "ticks": ""
             }
            },
            "type": "scattergeo"
           }
          ],
          "scattergl": [
           {
            "marker": {
             "colorbar": {
              "outlinewidth": 0,
              "ticks": ""
             }
            },
            "type": "scattergl"
           }
          ],
          "scattermapbox": [
           {
            "marker": {
             "colorbar": {
              "outlinewidth": 0,
              "ticks": ""
             }
            },
            "type": "scattermapbox"
           }
          ],
          "scatterpolar": [
           {
            "marker": {
             "colorbar": {
              "outlinewidth": 0,
              "ticks": ""
             }
            },
            "type": "scatterpolar"
           }
          ],
          "scatterpolargl": [
           {
            "marker": {
             "colorbar": {
              "outlinewidth": 0,
              "ticks": ""
             }
            },
            "type": "scatterpolargl"
           }
          ],
          "scatterternary": [
           {
            "marker": {
             "colorbar": {
              "outlinewidth": 0,
              "ticks": ""
             }
            },
            "type": "scatterternary"
           }
          ],
          "surface": [
           {
            "colorbar": {
             "outlinewidth": 0,
             "ticks": ""
            },
            "colorscale": [
             [
              0,
              "#0d0887"
             ],
             [
              0.1111111111111111,
              "#46039f"
             ],
             [
              0.2222222222222222,
              "#7201a8"
             ],
             [
              0.3333333333333333,
              "#9c179e"
             ],
             [
              0.4444444444444444,
              "#bd3786"
             ],
             [
              0.5555555555555556,
              "#d8576b"
             ],
             [
              0.6666666666666666,
              "#ed7953"
             ],
             [
              0.7777777777777778,
              "#fb9f3a"
             ],
             [
              0.8888888888888888,
              "#fdca26"
             ],
             [
              1,
              "#f0f921"
             ]
            ],
            "type": "surface"
           }
          ],
          "table": [
           {
            "cells": {
             "fill": {
              "color": "#EBF0F8"
             },
             "line": {
              "color": "white"
             }
            },
            "header": {
             "fill": {
              "color": "#C8D4E3"
             },
             "line": {
              "color": "white"
             }
            },
            "type": "table"
           }
          ]
         },
         "layout": {
          "annotationdefaults": {
           "arrowcolor": "#2a3f5f",
           "arrowhead": 0,
           "arrowwidth": 1
          },
          "autotypenumbers": "strict",
          "coloraxis": {
           "colorbar": {
            "outlinewidth": 0,
            "ticks": ""
           }
          },
          "colorscale": {
           "diverging": [
            [
             0,
             "#8e0152"
            ],
            [
             0.1,
             "#c51b7d"
            ],
            [
             0.2,
             "#de77ae"
            ],
            [
             0.3,
             "#f1b6da"
            ],
            [
             0.4,
             "#fde0ef"
            ],
            [
             0.5,
             "#f7f7f7"
            ],
            [
             0.6,
             "#e6f5d0"
            ],
            [
             0.7,
             "#b8e186"
            ],
            [
             0.8,
             "#7fbc41"
            ],
            [
             0.9,
             "#4d9221"
            ],
            [
             1,
             "#276419"
            ]
           ],
           "sequential": [
            [
             0,
             "#0d0887"
            ],
            [
             0.1111111111111111,
             "#46039f"
            ],
            [
             0.2222222222222222,
             "#7201a8"
            ],
            [
             0.3333333333333333,
             "#9c179e"
            ],
            [
             0.4444444444444444,
             "#bd3786"
            ],
            [
             0.5555555555555556,
             "#d8576b"
            ],
            [
             0.6666666666666666,
             "#ed7953"
            ],
            [
             0.7777777777777778,
             "#fb9f3a"
            ],
            [
             0.8888888888888888,
             "#fdca26"
            ],
            [
             1,
             "#f0f921"
            ]
           ],
           "sequentialminus": [
            [
             0,
             "#0d0887"
            ],
            [
             0.1111111111111111,
             "#46039f"
            ],
            [
             0.2222222222222222,
             "#7201a8"
            ],
            [
             0.3333333333333333,
             "#9c179e"
            ],
            [
             0.4444444444444444,
             "#bd3786"
            ],
            [
             0.5555555555555556,
             "#d8576b"
            ],
            [
             0.6666666666666666,
             "#ed7953"
            ],
            [
             0.7777777777777778,
             "#fb9f3a"
            ],
            [
             0.8888888888888888,
             "#fdca26"
            ],
            [
             1,
             "#f0f921"
            ]
           ]
          },
          "colorway": [
           "#636efa",
           "#EF553B",
           "#00cc96",
           "#ab63fa",
           "#FFA15A",
           "#19d3f3",
           "#FF6692",
           "#B6E880",
           "#FF97FF",
           "#FECB52"
          ],
          "font": {
           "color": "#2a3f5f"
          },
          "geo": {
           "bgcolor": "white",
           "lakecolor": "white",
           "landcolor": "#E5ECF6",
           "showlakes": true,
           "showland": true,
           "subunitcolor": "white"
          },
          "hoverlabel": {
           "align": "left"
          },
          "hovermode": "closest",
          "mapbox": {
           "style": "light"
          },
          "paper_bgcolor": "white",
          "plot_bgcolor": "#E5ECF6",
          "polar": {
           "angularaxis": {
            "gridcolor": "white",
            "linecolor": "white",
            "ticks": ""
           },
           "bgcolor": "#E5ECF6",
           "radialaxis": {
            "gridcolor": "white",
            "linecolor": "white",
            "ticks": ""
           }
          },
          "scene": {
           "xaxis": {
            "backgroundcolor": "#E5ECF6",
            "gridcolor": "white",
            "gridwidth": 2,
            "linecolor": "white",
            "showbackground": true,
            "ticks": "",
            "zerolinecolor": "white"
           },
           "yaxis": {
            "backgroundcolor": "#E5ECF6",
            "gridcolor": "white",
            "gridwidth": 2,
            "linecolor": "white",
            "showbackground": true,
            "ticks": "",
            "zerolinecolor": "white"
           },
           "zaxis": {
            "backgroundcolor": "#E5ECF6",
            "gridcolor": "white",
            "gridwidth": 2,
            "linecolor": "white",
            "showbackground": true,
            "ticks": "",
            "zerolinecolor": "white"
           }
          },
          "shapedefaults": {
           "line": {
            "color": "#2a3f5f"
           }
          },
          "ternary": {
           "aaxis": {
            "gridcolor": "white",
            "linecolor": "white",
            "ticks": ""
           },
           "baxis": {
            "gridcolor": "white",
            "linecolor": "white",
            "ticks": ""
           },
           "bgcolor": "#E5ECF6",
           "caxis": {
            "gridcolor": "white",
            "linecolor": "white",
            "ticks": ""
           }
          },
          "title": {
           "x": 0.05
          },
          "xaxis": {
           "automargin": true,
           "gridcolor": "white",
           "linecolor": "white",
           "ticks": "",
           "title": {
            "standoff": 15
           },
           "zerolinecolor": "white",
           "zerolinewidth": 2
          },
          "yaxis": {
           "automargin": true,
           "gridcolor": "white",
           "linecolor": "white",
           "ticks": "",
           "title": {
            "standoff": 15
           },
           "zerolinecolor": "white",
           "zerolinewidth": 2
          }
         }
        },
        "xaxis": {
         "anchor": "y",
         "domain": [
          0,
          1
         ],
         "title": {
          "text": "Gender"
         }
        },
        "yaxis": {
         "anchor": "x",
         "domain": [
          0,
          1
         ],
         "title": {
          "text": "count"
         }
        }
       }
      }
     },
     "metadata": {},
     "output_type": "display_data"
    },
    {
     "data": {
      "application/vnd.plotly.v1+json": {
       "config": {
        "plotlyServerURL": "https://plot.ly"
       },
       "data": [
        {
         "alignmentgroup": "True",
         "bingroup": "x",
         "hovertemplate": "Dataset=1<br>Total_Bilirubin=%{x}<br>count=%{y}<extra></extra>",
         "legendgroup": "1",
         "marker": {
          "color": "#636efa",
          "pattern": {
           "shape": ""
          }
         },
         "name": "1",
         "offsetgroup": "1",
         "orientation": "v",
         "showlegend": true,
         "type": "histogram",
         "x": [
          0.7,
          10.9,
          7.3,
          1,
          3.9,
          1.8,
          0.9,
          0.9,
          0.7,
          0.6,
          2.7,
          1.1,
          0.7,
          1.8,
          0.9,
          0.9,
          2.2,
          2.9,
          6.8,
          1.9,
          4.1,
          4.1,
          6.2,
          4,
          0.9,
          1.3,
          14.2,
          1.4,
          2.7,
          2.4,
          2.6,
          3.9,
          1.1,
          0.6,
          18.4,
          0.7,
          0.6,
          3.1,
          1.1,
          8.9,
          8.9,
          0.8,
          0.8,
          1,
          1,
          0.7,
          1.3,
          1.4,
          2.2,
          1.8,
          0.7,
          0.7,
          0.8,
          0.8,
          0.6,
          0.7,
          0.9,
          0.6,
          2.8,
          2.4,
          1,
          2,
          0.6,
          1.4,
          0.8,
          0.6,
          4,
          5.7,
          6.8,
          8.6,
          5.8,
          5.2,
          0.9,
          3.8,
          6.6,
          0.6,
          0.7,
          0.9,
          0.5,
          3.2,
          0.6,
          0.7,
          12.7,
          15.9,
          18,
          23,
          22.7,
          0.8,
          5.8,
          3,
          1.7,
          2.8,
          3.2,
          0.9,
          1.8,
          11.3,
          4.7,
          0.8,
          0.8,
          0.8,
          4.2,
          1.6,
          1.6,
          3.5,
          2.9,
          0.7,
          0.9,
          0.8,
          1.6,
          0.8,
          5.9,
          8.7,
          0.9,
          0.7,
          0.7,
          1.2,
          11,
          11.5,
          5.8,
          1.9,
          1.9,
          4.5,
          75,
          3,
          22.8,
          8.9,
          1.7,
          1.9,
          14.1,
          0.6,
          0.6,
          0.8,
          0.8,
          14.8,
          10.6,
          8,
          2.8,
          2.9,
          0.6,
          1.1,
          3.2,
          2.1,
          1.9,
          6.3,
          5.8,
          2.3,
          2.4,
          2,
          0.6,
          27.2,
          0.6,
          0.6,
          2.5,
          3.6,
          3.9,
          0.9,
          0.9,
          0.8,
          2.7,
          0.9,
          1.7,
          1.1,
          0.8,
          0.8,
          0.9,
          0.9,
          1.7,
          0.6,
          1.3,
          0.7,
          0.6,
          0.8,
          2.7,
          2,
          0.9,
          1.5,
          0.9,
          0.9,
          0.8,
          0.8,
          0.9,
          0.8,
          0.9,
          1.8,
          0.9,
          0.7,
          1.2,
          2.1,
          0.9,
          1.7,
          0.9,
          0.8,
          30.5,
          16.4,
          1.5,
          0.8,
          0.8,
          1.2,
          0.9,
          14.5,
          0.6,
          0.7,
          18.5,
          0.7,
          1.8,
          2,
          2.2,
          1,
          0.8,
          0.7,
          0.9,
          1.5,
          0.8,
          1,
          4.5,
          1,
          0.6,
          2.4,
          0.6,
          0.9,
          1.1,
          0.9,
          1.7,
          0.8,
          1.6,
          0.8,
          0.8,
          1.1,
          0.8,
          23.2,
          2,
          0.7,
          3.7,
          0.7,
          0.8,
          1.7,
          2.6,
          2,
          1.7,
          7.1,
          0.7,
          0.7,
          6.7,
          2.5,
          1.8,
          1.4,
          0.9,
          0.8,
          3.1,
          2.9,
          0.6,
          0.7,
          1.3,
          1.8,
          1.3,
          0.7,
          1.4,
          0.8,
          0.7,
          2.1,
          0.7,
          0.7,
          0.8,
          0.8,
          22.6,
          0.7,
          3.5,
          0.7,
          0.7,
          1.7,
          0.6,
          0.7,
          3.7,
          0.8,
          0.8,
          0.8,
          0.6,
          0.8,
          0.9,
          7.5,
          2.7,
          1,
          1,
          1,
          0.8,
          1,
          7.3,
          0.5,
          0.8,
          0.8,
          1,
          2.4,
          5,
          1.4,
          4.9,
          1.3,
          0.6,
          4.2,
          8.2,
          10.9,
          1.2,
          0.7,
          0.4,
          0.9,
          1.9,
          0.7,
          0.7,
          1,
          1.6,
          0.8,
          0.8,
          0.8,
          2.3,
          7.4,
          0.7,
          0.8,
          23.3,
          0.8,
          0.9,
          7.9,
          0.8,
          0.9,
          0.7,
          0.6,
          6.8,
          1.1,
          2.2,
          0.8,
          0.7,
          0.8,
          1,
          0.8,
          1.1,
          0.9,
          0.6,
          7.1,
          3.4,
          2.3,
          1.1,
          5,
          6.7,
          0.8,
          0.7,
          0.8,
          1,
          0.7,
          1,
          2.2,
          1.8,
          3.6,
          2.7,
          2.8,
          0.8,
          19.8,
          30.5,
          32.6,
          17.7,
          0.9,
          18.4,
          20,
          2.2,
          0.9,
          1,
          3.9,
          0.9,
          0.9,
          2.9,
          26.3,
          1.8,
          4.4,
          0.8,
          0.6,
          9.4,
          3.5,
          1.7,
          3.3,
          30.8,
          1.4,
          19.6,
          15.8,
          0.8,
          1.8,
          1.2,
          5.5,
          20.2,
          27.7,
          11.1,
          2.1,
          3.3,
          0.6,
          10.2,
          1.8,
          0.8,
          0.7,
          2.9,
          4,
          42.8,
          15.2,
          16.6,
          17.3,
          1.4,
          22.5,
          2.7,
          16.7,
          7.7,
          2.6,
          1.1,
          15.6,
          3.7,
          12.1,
          25,
          15,
          12.7,
          0.6,
          0.8,
          1.3
         ],
         "xaxis": "x",
         "yaxis": "y"
        },
        {
         "alignmentgroup": "True",
         "bingroup": "x",
         "hovertemplate": "Dataset=2<br>Total_Bilirubin=%{x}<br>count=%{y}<extra></extra>",
         "legendgroup": "2",
         "marker": {
          "color": "#EF553B",
          "pattern": {
           "shape": ""
          }
         },
         "name": "2",
         "offsetgroup": "2",
         "orientation": "v",
         "showlegend": true,
         "type": "histogram",
         "x": [
          0.9,
          0.9,
          0.6,
          1.6,
          0.9,
          1.1,
          0.7,
          1,
          2.6,
          2.6,
          0.7,
          0.6,
          6.8,
          1,
          1.8,
          0.8,
          0.9,
          1.1,
          0.8,
          0.7,
          1.4,
          0.7,
          0.6,
          0.6,
          0.7,
          0.8,
          5.3,
          5.3,
          0.8,
          0.8,
          0.9,
          0.7,
          1.2,
          5.8,
          7.3,
          1.7,
          0.6,
          1.8,
          0.7,
          0.8,
          0.6,
          0.8,
          1.1,
          0.6,
          1.9,
          1.5,
          0.8,
          1.3,
          2,
          0.9,
          0.8,
          1,
          0.7,
          2.7,
          0.6,
          0.9,
          0.6,
          1.1,
          1,
          1.5,
          0.8,
          0.9,
          0.7,
          1.1,
          0.6,
          0.7,
          0.8,
          0.8,
          0.9,
          0.8,
          1.9,
          0.9,
          0.7,
          1.3,
          1.3,
          0.7,
          1.1,
          0.9,
          0.9,
          0.8,
          0.7,
          1.4,
          1.3,
          0.8,
          0.9,
          0.9,
          0.9,
          0.8,
          0.8,
          1.2,
          3.3,
          0.8,
          0.7,
          0.7,
          0.8,
          0.8,
          0.8,
          1.4,
          0.8,
          0.7,
          1.1,
          0.9,
          0.8,
          0.7,
          0.7,
          2.2,
          0.8,
          0.7,
          0.7,
          0.6,
          0.7,
          1.4,
          2.7,
          0.8,
          0.7,
          0.7,
          0.7,
          2.3,
          0.7,
          1.4,
          0.7,
          1,
          1.6,
          1.3,
          0.6,
          0.8,
          0.9,
          0.7,
          0.5,
          0.8,
          0.9,
          0.6,
          0.7,
          0.8,
          0.7,
          0.6,
          0.6,
          1,
          0.6,
          0.7,
          1,
          2,
          2.2,
          0.5,
          0.8,
          0.7,
          0.8,
          1,
          0.7,
          0.7,
          0.8,
          1,
          0.8,
          0.9,
          1.1,
          0.7,
          1.6,
          0.7,
          0.8,
          0.8,
          0.7,
          0.7,
          1.2,
          0.6,
          1,
          0.5,
          1
         ],
         "xaxis": "x",
         "yaxis": "y"
        }
       ],
       "layout": {
        "barmode": "relative",
        "legend": {
         "title": {
          "text": "Dataset"
         },
         "tracegroupgap": 0
        },
        "margin": {
         "t": 60
        },
        "template": {
         "data": {
          "bar": [
           {
            "error_x": {
             "color": "#2a3f5f"
            },
            "error_y": {
             "color": "#2a3f5f"
            },
            "marker": {
             "line": {
              "color": "#E5ECF6",
              "width": 0.5
             },
             "pattern": {
              "fillmode": "overlay",
              "size": 10,
              "solidity": 0.2
             }
            },
            "type": "bar"
           }
          ],
          "barpolar": [
           {
            "marker": {
             "line": {
              "color": "#E5ECF6",
              "width": 0.5
             },
             "pattern": {
              "fillmode": "overlay",
              "size": 10,
              "solidity": 0.2
             }
            },
            "type": "barpolar"
           }
          ],
          "carpet": [
           {
            "aaxis": {
             "endlinecolor": "#2a3f5f",
             "gridcolor": "white",
             "linecolor": "white",
             "minorgridcolor": "white",
             "startlinecolor": "#2a3f5f"
            },
            "baxis": {
             "endlinecolor": "#2a3f5f",
             "gridcolor": "white",
             "linecolor": "white",
             "minorgridcolor": "white",
             "startlinecolor": "#2a3f5f"
            },
            "type": "carpet"
           }
          ],
          "choropleth": [
           {
            "colorbar": {
             "outlinewidth": 0,
             "ticks": ""
            },
            "type": "choropleth"
           }
          ],
          "contour": [
           {
            "colorbar": {
             "outlinewidth": 0,
             "ticks": ""
            },
            "colorscale": [
             [
              0,
              "#0d0887"
             ],
             [
              0.1111111111111111,
              "#46039f"
             ],
             [
              0.2222222222222222,
              "#7201a8"
             ],
             [
              0.3333333333333333,
              "#9c179e"
             ],
             [
              0.4444444444444444,
              "#bd3786"
             ],
             [
              0.5555555555555556,
              "#d8576b"
             ],
             [
              0.6666666666666666,
              "#ed7953"
             ],
             [
              0.7777777777777778,
              "#fb9f3a"
             ],
             [
              0.8888888888888888,
              "#fdca26"
             ],
             [
              1,
              "#f0f921"
             ]
            ],
            "type": "contour"
           }
          ],
          "contourcarpet": [
           {
            "colorbar": {
             "outlinewidth": 0,
             "ticks": ""
            },
            "type": "contourcarpet"
           }
          ],
          "heatmap": [
           {
            "colorbar": {
             "outlinewidth": 0,
             "ticks": ""
            },
            "colorscale": [
             [
              0,
              "#0d0887"
             ],
             [
              0.1111111111111111,
              "#46039f"
             ],
             [
              0.2222222222222222,
              "#7201a8"
             ],
             [
              0.3333333333333333,
              "#9c179e"
             ],
             [
              0.4444444444444444,
              "#bd3786"
             ],
             [
              0.5555555555555556,
              "#d8576b"
             ],
             [
              0.6666666666666666,
              "#ed7953"
             ],
             [
              0.7777777777777778,
              "#fb9f3a"
             ],
             [
              0.8888888888888888,
              "#fdca26"
             ],
             [
              1,
              "#f0f921"
             ]
            ],
            "type": "heatmap"
           }
          ],
          "heatmapgl": [
           {
            "colorbar": {
             "outlinewidth": 0,
             "ticks": ""
            },
            "colorscale": [
             [
              0,
              "#0d0887"
             ],
             [
              0.1111111111111111,
              "#46039f"
             ],
             [
              0.2222222222222222,
              "#7201a8"
             ],
             [
              0.3333333333333333,
              "#9c179e"
             ],
             [
              0.4444444444444444,
              "#bd3786"
             ],
             [
              0.5555555555555556,
              "#d8576b"
             ],
             [
              0.6666666666666666,
              "#ed7953"
             ],
             [
              0.7777777777777778,
              "#fb9f3a"
             ],
             [
              0.8888888888888888,
              "#fdca26"
             ],
             [
              1,
              "#f0f921"
             ]
            ],
            "type": "heatmapgl"
           }
          ],
          "histogram": [
           {
            "marker": {
             "pattern": {
              "fillmode": "overlay",
              "size": 10,
              "solidity": 0.2
             }
            },
            "type": "histogram"
           }
          ],
          "histogram2d": [
           {
            "colorbar": {
             "outlinewidth": 0,
             "ticks": ""
            },
            "colorscale": [
             [
              0,
              "#0d0887"
             ],
             [
              0.1111111111111111,
              "#46039f"
             ],
             [
              0.2222222222222222,
              "#7201a8"
             ],
             [
              0.3333333333333333,
              "#9c179e"
             ],
             [
              0.4444444444444444,
              "#bd3786"
             ],
             [
              0.5555555555555556,
              "#d8576b"
             ],
             [
              0.6666666666666666,
              "#ed7953"
             ],
             [
              0.7777777777777778,
              "#fb9f3a"
             ],
             [
              0.8888888888888888,
              "#fdca26"
             ],
             [
              1,
              "#f0f921"
             ]
            ],
            "type": "histogram2d"
           }
          ],
          "histogram2dcontour": [
           {
            "colorbar": {
             "outlinewidth": 0,
             "ticks": ""
            },
            "colorscale": [
             [
              0,
              "#0d0887"
             ],
             [
              0.1111111111111111,
              "#46039f"
             ],
             [
              0.2222222222222222,
              "#7201a8"
             ],
             [
              0.3333333333333333,
              "#9c179e"
             ],
             [
              0.4444444444444444,
              "#bd3786"
             ],
             [
              0.5555555555555556,
              "#d8576b"
             ],
             [
              0.6666666666666666,
              "#ed7953"
             ],
             [
              0.7777777777777778,
              "#fb9f3a"
             ],
             [
              0.8888888888888888,
              "#fdca26"
             ],
             [
              1,
              "#f0f921"
             ]
            ],
            "type": "histogram2dcontour"
           }
          ],
          "mesh3d": [
           {
            "colorbar": {
             "outlinewidth": 0,
             "ticks": ""
            },
            "type": "mesh3d"
           }
          ],
          "parcoords": [
           {
            "line": {
             "colorbar": {
              "outlinewidth": 0,
              "ticks": ""
             }
            },
            "type": "parcoords"
           }
          ],
          "pie": [
           {
            "automargin": true,
            "type": "pie"
           }
          ],
          "scatter": [
           {
            "fillpattern": {
             "fillmode": "overlay",
             "size": 10,
             "solidity": 0.2
            },
            "type": "scatter"
           }
          ],
          "scatter3d": [
           {
            "line": {
             "colorbar": {
              "outlinewidth": 0,
              "ticks": ""
             }
            },
            "marker": {
             "colorbar": {
              "outlinewidth": 0,
              "ticks": ""
             }
            },
            "type": "scatter3d"
           }
          ],
          "scattercarpet": [
           {
            "marker": {
             "colorbar": {
              "outlinewidth": 0,
              "ticks": ""
             }
            },
            "type": "scattercarpet"
           }
          ],
          "scattergeo": [
           {
            "marker": {
             "colorbar": {
              "outlinewidth": 0,
              "ticks": ""
             }
            },
            "type": "scattergeo"
           }
          ],
          "scattergl": [
           {
            "marker": {
             "colorbar": {
              "outlinewidth": 0,
              "ticks": ""
             }
            },
            "type": "scattergl"
           }
          ],
          "scattermapbox": [
           {
            "marker": {
             "colorbar": {
              "outlinewidth": 0,
              "ticks": ""
             }
            },
            "type": "scattermapbox"
           }
          ],
          "scatterpolar": [
           {
            "marker": {
             "colorbar": {
              "outlinewidth": 0,
              "ticks": ""
             }
            },
            "type": "scatterpolar"
           }
          ],
          "scatterpolargl": [
           {
            "marker": {
             "colorbar": {
              "outlinewidth": 0,
              "ticks": ""
             }
            },
            "type": "scatterpolargl"
           }
          ],
          "scatterternary": [
           {
            "marker": {
             "colorbar": {
              "outlinewidth": 0,
              "ticks": ""
             }
            },
            "type": "scatterternary"
           }
          ],
          "surface": [
           {
            "colorbar": {
             "outlinewidth": 0,
             "ticks": ""
            },
            "colorscale": [
             [
              0,
              "#0d0887"
             ],
             [
              0.1111111111111111,
              "#46039f"
             ],
             [
              0.2222222222222222,
              "#7201a8"
             ],
             [
              0.3333333333333333,
              "#9c179e"
             ],
             [
              0.4444444444444444,
              "#bd3786"
             ],
             [
              0.5555555555555556,
              "#d8576b"
             ],
             [
              0.6666666666666666,
              "#ed7953"
             ],
             [
              0.7777777777777778,
              "#fb9f3a"
             ],
             [
              0.8888888888888888,
              "#fdca26"
             ],
             [
              1,
              "#f0f921"
             ]
            ],
            "type": "surface"
           }
          ],
          "table": [
           {
            "cells": {
             "fill": {
              "color": "#EBF0F8"
             },
             "line": {
              "color": "white"
             }
            },
            "header": {
             "fill": {
              "color": "#C8D4E3"
             },
             "line": {
              "color": "white"
             }
            },
            "type": "table"
           }
          ]
         },
         "layout": {
          "annotationdefaults": {
           "arrowcolor": "#2a3f5f",
           "arrowhead": 0,
           "arrowwidth": 1
          },
          "autotypenumbers": "strict",
          "coloraxis": {
           "colorbar": {
            "outlinewidth": 0,
            "ticks": ""
           }
          },
          "colorscale": {
           "diverging": [
            [
             0,
             "#8e0152"
            ],
            [
             0.1,
             "#c51b7d"
            ],
            [
             0.2,
             "#de77ae"
            ],
            [
             0.3,
             "#f1b6da"
            ],
            [
             0.4,
             "#fde0ef"
            ],
            [
             0.5,
             "#f7f7f7"
            ],
            [
             0.6,
             "#e6f5d0"
            ],
            [
             0.7,
             "#b8e186"
            ],
            [
             0.8,
             "#7fbc41"
            ],
            [
             0.9,
             "#4d9221"
            ],
            [
             1,
             "#276419"
            ]
           ],
           "sequential": [
            [
             0,
             "#0d0887"
            ],
            [
             0.1111111111111111,
             "#46039f"
            ],
            [
             0.2222222222222222,
             "#7201a8"
            ],
            [
             0.3333333333333333,
             "#9c179e"
            ],
            [
             0.4444444444444444,
             "#bd3786"
            ],
            [
             0.5555555555555556,
             "#d8576b"
            ],
            [
             0.6666666666666666,
             "#ed7953"
            ],
            [
             0.7777777777777778,
             "#fb9f3a"
            ],
            [
             0.8888888888888888,
             "#fdca26"
            ],
            [
             1,
             "#f0f921"
            ]
           ],
           "sequentialminus": [
            [
             0,
             "#0d0887"
            ],
            [
             0.1111111111111111,
             "#46039f"
            ],
            [
             0.2222222222222222,
             "#7201a8"
            ],
            [
             0.3333333333333333,
             "#9c179e"
            ],
            [
             0.4444444444444444,
             "#bd3786"
            ],
            [
             0.5555555555555556,
             "#d8576b"
            ],
            [
             0.6666666666666666,
             "#ed7953"
            ],
            [
             0.7777777777777778,
             "#fb9f3a"
            ],
            [
             0.8888888888888888,
             "#fdca26"
            ],
            [
             1,
             "#f0f921"
            ]
           ]
          },
          "colorway": [
           "#636efa",
           "#EF553B",
           "#00cc96",
           "#ab63fa",
           "#FFA15A",
           "#19d3f3",
           "#FF6692",
           "#B6E880",
           "#FF97FF",
           "#FECB52"
          ],
          "font": {
           "color": "#2a3f5f"
          },
          "geo": {
           "bgcolor": "white",
           "lakecolor": "white",
           "landcolor": "#E5ECF6",
           "showlakes": true,
           "showland": true,
           "subunitcolor": "white"
          },
          "hoverlabel": {
           "align": "left"
          },
          "hovermode": "closest",
          "mapbox": {
           "style": "light"
          },
          "paper_bgcolor": "white",
          "plot_bgcolor": "#E5ECF6",
          "polar": {
           "angularaxis": {
            "gridcolor": "white",
            "linecolor": "white",
            "ticks": ""
           },
           "bgcolor": "#E5ECF6",
           "radialaxis": {
            "gridcolor": "white",
            "linecolor": "white",
            "ticks": ""
           }
          },
          "scene": {
           "xaxis": {
            "backgroundcolor": "#E5ECF6",
            "gridcolor": "white",
            "gridwidth": 2,
            "linecolor": "white",
            "showbackground": true,
            "ticks": "",
            "zerolinecolor": "white"
           },
           "yaxis": {
            "backgroundcolor": "#E5ECF6",
            "gridcolor": "white",
            "gridwidth": 2,
            "linecolor": "white",
            "showbackground": true,
            "ticks": "",
            "zerolinecolor": "white"
           },
           "zaxis": {
            "backgroundcolor": "#E5ECF6",
            "gridcolor": "white",
            "gridwidth": 2,
            "linecolor": "white",
            "showbackground": true,
            "ticks": "",
            "zerolinecolor": "white"
           }
          },
          "shapedefaults": {
           "line": {
            "color": "#2a3f5f"
           }
          },
          "ternary": {
           "aaxis": {
            "gridcolor": "white",
            "linecolor": "white",
            "ticks": ""
           },
           "baxis": {
            "gridcolor": "white",
            "linecolor": "white",
            "ticks": ""
           },
           "bgcolor": "#E5ECF6",
           "caxis": {
            "gridcolor": "white",
            "linecolor": "white",
            "ticks": ""
           }
          },
          "title": {
           "x": 0.05
          },
          "xaxis": {
           "automargin": true,
           "gridcolor": "white",
           "linecolor": "white",
           "ticks": "",
           "title": {
            "standoff": 15
           },
           "zerolinecolor": "white",
           "zerolinewidth": 2
          },
          "yaxis": {
           "automargin": true,
           "gridcolor": "white",
           "linecolor": "white",
           "ticks": "",
           "title": {
            "standoff": 15
           },
           "zerolinecolor": "white",
           "zerolinewidth": 2
          }
         }
        },
        "xaxis": {
         "anchor": "y",
         "domain": [
          0,
          1
         ],
         "title": {
          "text": "Total_Bilirubin"
         }
        },
        "yaxis": {
         "anchor": "x",
         "domain": [
          0,
          1
         ],
         "title": {
          "text": "count"
         },
         "type": "log"
        }
       }
      }
     },
     "metadata": {},
     "output_type": "display_data"
    },
    {
     "data": {
      "application/vnd.plotly.v1+json": {
       "config": {
        "plotlyServerURL": "https://plot.ly"
       },
       "data": [
        {
         "alignmentgroup": "True",
         "bingroup": "x",
         "hovertemplate": "Dataset=1<br>Direct_Bilirubin=%{x}<br>count=%{y}<extra></extra>",
         "legendgroup": "1",
         "marker": {
          "color": "#636efa",
          "pattern": {
           "shape": ""
          }
         },
         "name": "1",
         "offsetgroup": "1",
         "orientation": "v",
         "showlegend": true,
         "type": "histogram",
         "x": [
          0.1,
          5.5,
          4.1,
          0.4,
          2,
          0.7,
          0.2,
          0.3,
          0.2,
          0.1,
          1.3,
          0.4,
          0.2,
          0.8,
          0.3,
          0.3,
          1,
          1.3,
          3,
          1,
          2,
          2,
          3,
          1.9,
          0.2,
          0.4,
          7.8,
          0.6,
          1.3,
          1.1,
          1.2,
          1.8,
          0.3,
          0.1,
          8.8,
          0.2,
          0.1,
          1.6,
          0.3,
          4.5,
          4.5,
          0.2,
          0.2,
          0.5,
          0.5,
          0.2,
          0.4,
          0.7,
          1.2,
          0.8,
          0.2,
          0.2,
          0.2,
          0.2,
          0.1,
          0.1,
          0.2,
          0.1,
          1.3,
          1.1,
          0.3,
          1,
          0.1,
          0.5,
          0.2,
          0.2,
          1.9,
          2.8,
          3.2,
          4,
          2.7,
          2.4,
          0.2,
          1.5,
          3,
          0.1,
          0.1,
          0.2,
          0.1,
          1.6,
          0.1,
          0.1,
          6.2,
          7,
          8.2,
          11.3,
          10.2,
          0.2,
          2.5,
          1.4,
          0.8,
          1.7,
          1.4,
          0.4,
          0.7,
          5.6,
          2.2,
          0.2,
          0.2,
          0.2,
          2.1,
          0.4,
          0.4,
          1.5,
          1.3,
          0.1,
          0.2,
          0.2,
          0.8,
          0.2,
          2.5,
          4,
          0.3,
          0.1,
          0.1,
          0.4,
          4.9,
          5,
          2.7,
          0.9,
          0.9,
          2.3,
          3.6,
          1.5,
          12.6,
          4,
          0.8,
          0.6,
          7.6,
          0.1,
          0.1,
          0.2,
          0.2,
          9,
          5,
          4.6,
          1.3,
          1.3,
          0.1,
          0.4,
          1.8,
          1,
          0.8,
          3.2,
          3,
          0.6,
          1,
          1.1,
          0.2,
          11.8,
          0.1,
          0.1,
          1.2,
          1.8,
          1.7,
          0.3,
          0.3,
          0.3,
          1.3,
          0.2,
          1,
          0.5,
          0.2,
          0.2,
          0.2,
          0.2,
          0.5,
          0.2,
          0.4,
          0.2,
          0.2,
          0.1,
          1.6,
          1.4,
          0.2,
          0.6,
          0.3,
          0.3,
          0.2,
          0.2,
          0.2,
          0.2,
          0.2,
          9,
          0.2,
          0.1,
          0.3,
          1.3,
          0.8,
          0.7,
          0.3,
          0.2,
          14.2,
          8.9,
          7,
          0.2,
          0.2,
          0.4,
          0.3,
          6.4,
          0.1,
          0.2,
          9.5,
          0.2,
          0.8,
          0.8,
          0.8,
          1.4,
          0.2,
          0.2,
          0.3,
          0.5,
          0.2,
          0.5,
          2.3,
          0.3,
          0.2,
          1,
          0.2,
          0.3,
          0.3,
          0.2,
          0.6,
          0.2,
          1,
          0.2,
          0.2,
          0.7,
          0.2,
          12.6,
          0.9,
          0.2,
          2.2,
          0.2,
          0.2,
          0.5,
          1.2,
          0.9,
          0.6,
          3.3,
          0.2,
          0.1,
          3.6,
          1.2,
          0.8,
          0.4,
          0.2,
          0.2,
          1.6,
          1.3,
          0.2,
          0.2,
          0.4,
          0.8,
          0.4,
          0.2,
          0.8,
          0.2,
          0.2,
          0.7,
          0.2,
          0.2,
          0.2,
          0.2,
          11.4,
          0.2,
          1.6,
          0.1,
          0.1,
          0.8,
          0.2,
          0.1,
          2.1,
          0.2,
          0.2,
          0.2,
          0.1,
          0.2,
          0.2,
          4.3,
          1.3,
          0.3,
          0.3,
          0.3,
          0.2,
          0.2,
          3.7,
          0.1,
          0.2,
          0.2,
          0.2,
          1.1,
          2.6,
          0.6,
          2.7,
          0.3,
          0.1,
          2.3,
          3.9,
          5.1,
          0.5,
          0.1,
          0.1,
          0.2,
          0.7,
          0.1,
          0.2,
          0.3,
          0.7,
          0.2,
          0.2,
          0.2,
          1.1,
          3.6,
          0.2,
          0.2,
          12.8,
          0.2,
          0.2,
          4.3,
          0.2,
          0.2,
          0.2,
          0.1,
          3.2,
          0.5,
          1,
          0.2,
          0.2,
          0.1,
          0.3,
          0.2,
          0.5,
          0.3,
          0.2,
          3.7,
          1.6,
          1.3,
          0.4,
          2.1,
          3.2,
          0.2,
          0.2,
          0.2,
          0.3,
          0.2,
          0.2,
          1.1,
          0.5,
          1.6,
          1.2,
          1.5,
          0.2,
          10.4,
          17.1,
          14.1,
          8.8,
          0.3,
          8.5,
          10,
          1.6,
          0.2,
          0.3,
          2.1,
          0.3,
          0.2,
          1.4,
          12.1,
          0.9,
          2.9,
          0.2,
          0.2,
          5.2,
          1.6,
          0.8,
          1.5,
          18.3,
          0.4,
          9.5,
          7.2,
          0.1,
          0.8,
          0.6,
          3.2,
          11.7,
          10.8,
          6.1,
          1,
          1.5,
          0.1,
          4.2,
          0.9,
          0.2,
          0.1,
          1.2,
          2.5,
          19.7,
          7.7,
          7.6,
          8.5,
          0.5,
          11.8,
          1.4,
          8.4,
          4.1,
          1.2,
          0.3,
          9.5,
          1.6,
          6,
          13.7,
          8.2,
          8.4,
          0.1,
          0.2,
          0.5
         ],
         "xaxis": "x",
         "yaxis": "y"
        },
        {
         "alignmentgroup": "True",
         "bingroup": "x",
         "hovertemplate": "Dataset=2<br>Direct_Bilirubin=%{x}<br>count=%{y}<extra></extra>",
         "legendgroup": "2",
         "marker": {
          "color": "#EF553B",
          "pattern": {
           "shape": ""
          }
         },
         "name": "2",
         "offsetgroup": "2",
         "orientation": "v",
         "showlegend": true,
         "type": "histogram",
         "x": [
          0.3,
          0.3,
          0.1,
          0.5,
          0.2,
          0.5,
          0.2,
          0.3,
          1.2,
          1.2,
          0.2,
          0.1,
          3.2,
          0.3,
          0.6,
          0.2,
          0.2,
          0.5,
          0.2,
          0.1,
          0.6,
          0.1,
          0.1,
          0.2,
          0.2,
          0.2,
          2.3,
          2.3,
          0.2,
          0.2,
          0.1,
          0.2,
          0.4,
          3,
          3.6,
          0.8,
          0.1,
          0.5,
          0.2,
          0.2,
          0.1,
          0.2,
          0.5,
          0.1,
          0.8,
          0.4,
          0.2,
          0.4,
          0.6,
          0.2,
          0.2,
          0.3,
          0.2,
          1,
          0.2,
          0.2,
          0.1,
          0.3,
          0.3,
          0.6,
          0.2,
          0.2,
          0.2,
          0.3,
          0.2,
          0.1,
          0.2,
          0.2,
          0.2,
          0.2,
          0.8,
          0.2,
          0.2,
          0.7,
          0.6,
          0.2,
          0.5,
          0.3,
          0.2,
          0.2,
          0.2,
          0.7,
          0.6,
          0.2,
          0.3,
          0.2,
          0.3,
          0.2,
          0.2,
          0.4,
          1.6,
          0.2,
          0.2,
          0.2,
          0.2,
          0.2,
          0.2,
          0.8,
          0.2,
          0.2,
          0.3,
          0.2,
          0.2,
          0.2,
          0.2,
          1,
          0.2,
          0.1,
          0.1,
          0.2,
          0.2,
          0.7,
          1.4,
          0.2,
          0.2,
          0.2,
          0.2,
          0.8,
          0.2,
          0.6,
          0.1,
          0.3,
          0.9,
          0.6,
          0.1,
          0.2,
          0.2,
          0.2,
          0.1,
          0.2,
          0.2,
          0.2,
          0.2,
          0.2,
          0.2,
          0.1,
          0.1,
          0.3,
          0.1,
          0.2,
          0.3,
          1.1,
          1,
          0.1,
          0.2,
          0.2,
          0.1,
          0.3,
          0.2,
          0.2,
          0.2,
          0.3,
          0.2,
          0.2,
          0.3,
          0.2,
          0.8,
          0.2,
          0.2,
          0.2,
          0.2,
          0.2,
          0.4,
          0.1,
          0.3,
          0.1,
          0.3
         ],
         "xaxis": "x",
         "yaxis": "y"
        }
       ],
       "layout": {
        "barmode": "relative",
        "legend": {
         "title": {
          "text": "Dataset"
         },
         "tracegroupgap": 0
        },
        "margin": {
         "t": 60
        },
        "template": {
         "data": {
          "bar": [
           {
            "error_x": {
             "color": "#2a3f5f"
            },
            "error_y": {
             "color": "#2a3f5f"
            },
            "marker": {
             "line": {
              "color": "#E5ECF6",
              "width": 0.5
             },
             "pattern": {
              "fillmode": "overlay",
              "size": 10,
              "solidity": 0.2
             }
            },
            "type": "bar"
           }
          ],
          "barpolar": [
           {
            "marker": {
             "line": {
              "color": "#E5ECF6",
              "width": 0.5
             },
             "pattern": {
              "fillmode": "overlay",
              "size": 10,
              "solidity": 0.2
             }
            },
            "type": "barpolar"
           }
          ],
          "carpet": [
           {
            "aaxis": {
             "endlinecolor": "#2a3f5f",
             "gridcolor": "white",
             "linecolor": "white",
             "minorgridcolor": "white",
             "startlinecolor": "#2a3f5f"
            },
            "baxis": {
             "endlinecolor": "#2a3f5f",
             "gridcolor": "white",
             "linecolor": "white",
             "minorgridcolor": "white",
             "startlinecolor": "#2a3f5f"
            },
            "type": "carpet"
           }
          ],
          "choropleth": [
           {
            "colorbar": {
             "outlinewidth": 0,
             "ticks": ""
            },
            "type": "choropleth"
           }
          ],
          "contour": [
           {
            "colorbar": {
             "outlinewidth": 0,
             "ticks": ""
            },
            "colorscale": [
             [
              0,
              "#0d0887"
             ],
             [
              0.1111111111111111,
              "#46039f"
             ],
             [
              0.2222222222222222,
              "#7201a8"
             ],
             [
              0.3333333333333333,
              "#9c179e"
             ],
             [
              0.4444444444444444,
              "#bd3786"
             ],
             [
              0.5555555555555556,
              "#d8576b"
             ],
             [
              0.6666666666666666,
              "#ed7953"
             ],
             [
              0.7777777777777778,
              "#fb9f3a"
             ],
             [
              0.8888888888888888,
              "#fdca26"
             ],
             [
              1,
              "#f0f921"
             ]
            ],
            "type": "contour"
           }
          ],
          "contourcarpet": [
           {
            "colorbar": {
             "outlinewidth": 0,
             "ticks": ""
            },
            "type": "contourcarpet"
           }
          ],
          "heatmap": [
           {
            "colorbar": {
             "outlinewidth": 0,
             "ticks": ""
            },
            "colorscale": [
             [
              0,
              "#0d0887"
             ],
             [
              0.1111111111111111,
              "#46039f"
             ],
             [
              0.2222222222222222,
              "#7201a8"
             ],
             [
              0.3333333333333333,
              "#9c179e"
             ],
             [
              0.4444444444444444,
              "#bd3786"
             ],
             [
              0.5555555555555556,
              "#d8576b"
             ],
             [
              0.6666666666666666,
              "#ed7953"
             ],
             [
              0.7777777777777778,
              "#fb9f3a"
             ],
             [
              0.8888888888888888,
              "#fdca26"
             ],
             [
              1,
              "#f0f921"
             ]
            ],
            "type": "heatmap"
           }
          ],
          "heatmapgl": [
           {
            "colorbar": {
             "outlinewidth": 0,
             "ticks": ""
            },
            "colorscale": [
             [
              0,
              "#0d0887"
             ],
             [
              0.1111111111111111,
              "#46039f"
             ],
             [
              0.2222222222222222,
              "#7201a8"
             ],
             [
              0.3333333333333333,
              "#9c179e"
             ],
             [
              0.4444444444444444,
              "#bd3786"
             ],
             [
              0.5555555555555556,
              "#d8576b"
             ],
             [
              0.6666666666666666,
              "#ed7953"
             ],
             [
              0.7777777777777778,
              "#fb9f3a"
             ],
             [
              0.8888888888888888,
              "#fdca26"
             ],
             [
              1,
              "#f0f921"
             ]
            ],
            "type": "heatmapgl"
           }
          ],
          "histogram": [
           {
            "marker": {
             "pattern": {
              "fillmode": "overlay",
              "size": 10,
              "solidity": 0.2
             }
            },
            "type": "histogram"
           }
          ],
          "histogram2d": [
           {
            "colorbar": {
             "outlinewidth": 0,
             "ticks": ""
            },
            "colorscale": [
             [
              0,
              "#0d0887"
             ],
             [
              0.1111111111111111,
              "#46039f"
             ],
             [
              0.2222222222222222,
              "#7201a8"
             ],
             [
              0.3333333333333333,
              "#9c179e"
             ],
             [
              0.4444444444444444,
              "#bd3786"
             ],
             [
              0.5555555555555556,
              "#d8576b"
             ],
             [
              0.6666666666666666,
              "#ed7953"
             ],
             [
              0.7777777777777778,
              "#fb9f3a"
             ],
             [
              0.8888888888888888,
              "#fdca26"
             ],
             [
              1,
              "#f0f921"
             ]
            ],
            "type": "histogram2d"
           }
          ],
          "histogram2dcontour": [
           {
            "colorbar": {
             "outlinewidth": 0,
             "ticks": ""
            },
            "colorscale": [
             [
              0,
              "#0d0887"
             ],
             [
              0.1111111111111111,
              "#46039f"
             ],
             [
              0.2222222222222222,
              "#7201a8"
             ],
             [
              0.3333333333333333,
              "#9c179e"
             ],
             [
              0.4444444444444444,
              "#bd3786"
             ],
             [
              0.5555555555555556,
              "#d8576b"
             ],
             [
              0.6666666666666666,
              "#ed7953"
             ],
             [
              0.7777777777777778,
              "#fb9f3a"
             ],
             [
              0.8888888888888888,
              "#fdca26"
             ],
             [
              1,
              "#f0f921"
             ]
            ],
            "type": "histogram2dcontour"
           }
          ],
          "mesh3d": [
           {
            "colorbar": {
             "outlinewidth": 0,
             "ticks": ""
            },
            "type": "mesh3d"
           }
          ],
          "parcoords": [
           {
            "line": {
             "colorbar": {
              "outlinewidth": 0,
              "ticks": ""
             }
            },
            "type": "parcoords"
           }
          ],
          "pie": [
           {
            "automargin": true,
            "type": "pie"
           }
          ],
          "scatter": [
           {
            "fillpattern": {
             "fillmode": "overlay",
             "size": 10,
             "solidity": 0.2
            },
            "type": "scatter"
           }
          ],
          "scatter3d": [
           {
            "line": {
             "colorbar": {
              "outlinewidth": 0,
              "ticks": ""
             }
            },
            "marker": {
             "colorbar": {
              "outlinewidth": 0,
              "ticks": ""
             }
            },
            "type": "scatter3d"
           }
          ],
          "scattercarpet": [
           {
            "marker": {
             "colorbar": {
              "outlinewidth": 0,
              "ticks": ""
             }
            },
            "type": "scattercarpet"
           }
          ],
          "scattergeo": [
           {
            "marker": {
             "colorbar": {
              "outlinewidth": 0,
              "ticks": ""
             }
            },
            "type": "scattergeo"
           }
          ],
          "scattergl": [
           {
            "marker": {
             "colorbar": {
              "outlinewidth": 0,
              "ticks": ""
             }
            },
            "type": "scattergl"
           }
          ],
          "scattermapbox": [
           {
            "marker": {
             "colorbar": {
              "outlinewidth": 0,
              "ticks": ""
             }
            },
            "type": "scattermapbox"
           }
          ],
          "scatterpolar": [
           {
            "marker": {
             "colorbar": {
              "outlinewidth": 0,
              "ticks": ""
             }
            },
            "type": "scatterpolar"
           }
          ],
          "scatterpolargl": [
           {
            "marker": {
             "colorbar": {
              "outlinewidth": 0,
              "ticks": ""
             }
            },
            "type": "scatterpolargl"
           }
          ],
          "scatterternary": [
           {
            "marker": {
             "colorbar": {
              "outlinewidth": 0,
              "ticks": ""
             }
            },
            "type": "scatterternary"
           }
          ],
          "surface": [
           {
            "colorbar": {
             "outlinewidth": 0,
             "ticks": ""
            },
            "colorscale": [
             [
              0,
              "#0d0887"
             ],
             [
              0.1111111111111111,
              "#46039f"
             ],
             [
              0.2222222222222222,
              "#7201a8"
             ],
             [
              0.3333333333333333,
              "#9c179e"
             ],
             [
              0.4444444444444444,
              "#bd3786"
             ],
             [
              0.5555555555555556,
              "#d8576b"
             ],
             [
              0.6666666666666666,
              "#ed7953"
             ],
             [
              0.7777777777777778,
              "#fb9f3a"
             ],
             [
              0.8888888888888888,
              "#fdca26"
             ],
             [
              1,
              "#f0f921"
             ]
            ],
            "type": "surface"
           }
          ],
          "table": [
           {
            "cells": {
             "fill": {
              "color": "#EBF0F8"
             },
             "line": {
              "color": "white"
             }
            },
            "header": {
             "fill": {
              "color": "#C8D4E3"
             },
             "line": {
              "color": "white"
             }
            },
            "type": "table"
           }
          ]
         },
         "layout": {
          "annotationdefaults": {
           "arrowcolor": "#2a3f5f",
           "arrowhead": 0,
           "arrowwidth": 1
          },
          "autotypenumbers": "strict",
          "coloraxis": {
           "colorbar": {
            "outlinewidth": 0,
            "ticks": ""
           }
          },
          "colorscale": {
           "diverging": [
            [
             0,
             "#8e0152"
            ],
            [
             0.1,
             "#c51b7d"
            ],
            [
             0.2,
             "#de77ae"
            ],
            [
             0.3,
             "#f1b6da"
            ],
            [
             0.4,
             "#fde0ef"
            ],
            [
             0.5,
             "#f7f7f7"
            ],
            [
             0.6,
             "#e6f5d0"
            ],
            [
             0.7,
             "#b8e186"
            ],
            [
             0.8,
             "#7fbc41"
            ],
            [
             0.9,
             "#4d9221"
            ],
            [
             1,
             "#276419"
            ]
           ],
           "sequential": [
            [
             0,
             "#0d0887"
            ],
            [
             0.1111111111111111,
             "#46039f"
            ],
            [
             0.2222222222222222,
             "#7201a8"
            ],
            [
             0.3333333333333333,
             "#9c179e"
            ],
            [
             0.4444444444444444,
             "#bd3786"
            ],
            [
             0.5555555555555556,
             "#d8576b"
            ],
            [
             0.6666666666666666,
             "#ed7953"
            ],
            [
             0.7777777777777778,
             "#fb9f3a"
            ],
            [
             0.8888888888888888,
             "#fdca26"
            ],
            [
             1,
             "#f0f921"
            ]
           ],
           "sequentialminus": [
            [
             0,
             "#0d0887"
            ],
            [
             0.1111111111111111,
             "#46039f"
            ],
            [
             0.2222222222222222,
             "#7201a8"
            ],
            [
             0.3333333333333333,
             "#9c179e"
            ],
            [
             0.4444444444444444,
             "#bd3786"
            ],
            [
             0.5555555555555556,
             "#d8576b"
            ],
            [
             0.6666666666666666,
             "#ed7953"
            ],
            [
             0.7777777777777778,
             "#fb9f3a"
            ],
            [
             0.8888888888888888,
             "#fdca26"
            ],
            [
             1,
             "#f0f921"
            ]
           ]
          },
          "colorway": [
           "#636efa",
           "#EF553B",
           "#00cc96",
           "#ab63fa",
           "#FFA15A",
           "#19d3f3",
           "#FF6692",
           "#B6E880",
           "#FF97FF",
           "#FECB52"
          ],
          "font": {
           "color": "#2a3f5f"
          },
          "geo": {
           "bgcolor": "white",
           "lakecolor": "white",
           "landcolor": "#E5ECF6",
           "showlakes": true,
           "showland": true,
           "subunitcolor": "white"
          },
          "hoverlabel": {
           "align": "left"
          },
          "hovermode": "closest",
          "mapbox": {
           "style": "light"
          },
          "paper_bgcolor": "white",
          "plot_bgcolor": "#E5ECF6",
          "polar": {
           "angularaxis": {
            "gridcolor": "white",
            "linecolor": "white",
            "ticks": ""
           },
           "bgcolor": "#E5ECF6",
           "radialaxis": {
            "gridcolor": "white",
            "linecolor": "white",
            "ticks": ""
           }
          },
          "scene": {
           "xaxis": {
            "backgroundcolor": "#E5ECF6",
            "gridcolor": "white",
            "gridwidth": 2,
            "linecolor": "white",
            "showbackground": true,
            "ticks": "",
            "zerolinecolor": "white"
           },
           "yaxis": {
            "backgroundcolor": "#E5ECF6",
            "gridcolor": "white",
            "gridwidth": 2,
            "linecolor": "white",
            "showbackground": true,
            "ticks": "",
            "zerolinecolor": "white"
           },
           "zaxis": {
            "backgroundcolor": "#E5ECF6",
            "gridcolor": "white",
            "gridwidth": 2,
            "linecolor": "white",
            "showbackground": true,
            "ticks": "",
            "zerolinecolor": "white"
           }
          },
          "shapedefaults": {
           "line": {
            "color": "#2a3f5f"
           }
          },
          "ternary": {
           "aaxis": {
            "gridcolor": "white",
            "linecolor": "white",
            "ticks": ""
           },
           "baxis": {
            "gridcolor": "white",
            "linecolor": "white",
            "ticks": ""
           },
           "bgcolor": "#E5ECF6",
           "caxis": {
            "gridcolor": "white",
            "linecolor": "white",
            "ticks": ""
           }
          },
          "title": {
           "x": 0.05
          },
          "xaxis": {
           "automargin": true,
           "gridcolor": "white",
           "linecolor": "white",
           "ticks": "",
           "title": {
            "standoff": 15
           },
           "zerolinecolor": "white",
           "zerolinewidth": 2
          },
          "yaxis": {
           "automargin": true,
           "gridcolor": "white",
           "linecolor": "white",
           "ticks": "",
           "title": {
            "standoff": 15
           },
           "zerolinecolor": "white",
           "zerolinewidth": 2
          }
         }
        },
        "xaxis": {
         "anchor": "y",
         "domain": [
          0,
          1
         ],
         "title": {
          "text": "Direct_Bilirubin"
         }
        },
        "yaxis": {
         "anchor": "x",
         "domain": [
          0,
          1
         ],
         "title": {
          "text": "count"
         },
         "type": "log"
        }
       }
      }
     },
     "metadata": {},
     "output_type": "display_data"
    },
    {
     "data": {
      "application/vnd.plotly.v1+json": {
       "config": {
        "plotlyServerURL": "https://plot.ly"
       },
       "data": [
        {
         "alignmentgroup": "True",
         "bingroup": "x",
         "hovertemplate": "Dataset=1<br>Alkaline_Phosphotase=%{x}<br>count=%{y}<extra></extra>",
         "legendgroup": "1",
         "marker": {
          "color": "#636efa",
          "pattern": {
           "shape": ""
          }
         },
         "name": "1",
         "offsetgroup": "1",
         "orientation": "v",
         "showlegend": true,
         "type": "histogram",
         "x": [
          187,
          699,
          490,
          182,
          195,
          208,
          154,
          202,
          290,
          210,
          260,
          214,
          145,
          342,
          293,
          293,
          610,
          482,
          542,
          231,
          289,
          289,
          240,
          190,
          156,
          482,
          374,
          263,
          275,
          168,
          415,
          150,
          230,
          176,
          206,
          170,
          161,
          253,
          198,
          272,
          272,
          367,
          158,
          158,
          158,
          208,
          259,
          470,
          195,
          215,
          239,
          186,
          188,
          205,
          171,
          145,
          518,
          1620,
          670,
          915,
          75,
          258,
          237,
          269,
          298,
          538,
          238,
          214,
          308,
          298,
          204,
          168,
          282,
          298,
          215,
          265,
          312,
          224,
          170,
          257,
          272,
          1630,
          194,
          280,
          298,
          300,
          290,
          178,
          802,
          248,
          1896,
          263,
          512,
          238,
          178,
          1110,
          310,
          282,
          282,
          380,
          159,
          332,
          332,
          189,
          168,
          392,
          202,
          286,
          218,
          182,
          290,
          298,
          462,
          196,
          196,
          282,
          750,
          1050,
          599,
          180,
          180,
          282,
          332,
          292,
          962,
          950,
          200,
          298,
          750,
          175,
          175,
          198,
          482,
          1020,
          562,
          386,
          250,
          218,
          171,
          201,
          750,
          191,
          614,
          314,
          257,
          272,
          1124,
          664,
          142,
          1420,
          218,
          218,
          163,
          285,
          350,
          220,
          189,
          190,
          219,
          401,
          180,
          159,
          125,
          147,
          192,
          265,
          400,
          120,
          173,
          186,
          290,
          282,
          157,
          2110,
          285,
          360,
          158,
          196,
          230,
          205,
          316,
          218,
          290,
          272,
          190,
          202,
          498,
          480,
          680,
          859,
          901,
          335,
          285,
          245,
          505,
          228,
          185,
          195,
          140,
          358,
          110,
          235,
          380,
          262,
          196,
          190,
          209,
          144,
          123,
          188,
          300,
          575,
          192,
          239,
          315,
          250,
          245,
          340,
          202,
          234,
          190,
          280,
          430,
          155,
          588,
          174,
          165,
          527,
          175,
          574,
          195,
          198,
          216,
          63,
          198,
          205,
          171,
          157,
          210,
          258,
          350,
          182,
          458,
          375,
          405,
          215,
          206,
          650,
          198,
          230,
          115,
          216,
          358,
          145,
          195,
          144,
          621,
          150,
          256,
          205,
          176,
          218,
          182,
          130,
          558,
          326,
          206,
          168,
          192,
          331,
          188,
          172,
          490,
          152,
          160,
          160,
          102,
          148,
          162,
          149,
          580,
          310,
          175,
          152,
          208,
          205,
          92,
          162,
          198,
          215,
          719,
          554,
          555,
          215,
          190,
          690,
          862,
          450,
          1350,
          1350,
          246,
          240,
          100,
          170,
          1750,
          182,
          165,
          212,
          157,
          162,
          168,
          198,
          292,
          298,
          152,
          181,
          1550,
          142,
          173,
          282,
          279,
          1100,
          224,
          186,
          140,
          686,
          215,
          309,
          110,
          130,
          190,
          165,
          167,
          310,
          220,
          196,
          186,
          282,
          92,
          103,
          850,
          195,
          276,
          193,
          805,
          185,
          189,
          198,
          151,
          349,
          365,
          305,
          127,
          238,
          218,
          219,
          239,
          194,
          450,
          254,
          320,
          215,
          230,
          189,
          168,
          215,
          210,
          108,
          224,
          230,
          185,
          137,
          268,
          298,
          315,
          214,
          285,
          298,
          466,
          227,
          395,
          97,
          204,
          350,
          188,
          380,
          214,
          768,
          172,
          196,
          232,
          220,
          290,
          180,
          189,
          275,
          390,
          356,
          315,
          388,
          298,
          143,
          251,
          200,
          268,
          236,
          215,
          134,
          612,
          515,
          560,
          289,
          190,
          98,
          245,
          184
         ],
         "xaxis": "x",
         "yaxis": "y"
        },
        {
         "alignmentgroup": "True",
         "bingroup": "x",
         "hovertemplate": "Dataset=2<br>Alkaline_Phosphotase=%{x}<br>count=%{y}<extra></extra>",
         "legendgroup": "2",
         "marker": {
          "color": "#EF553B",
          "pattern": {
           "shape": ""
          }
         },
         "name": "2",
         "offsetgroup": "2",
         "orientation": "v",
         "showlegend": true,
         "type": "histogram",
         "x": [
          202,
          310,
          183,
          165,
          194,
          128,
          188,
          187,
          410,
          410,
          145,
          160,
          630,
          208,
          275,
          198,
          175,
          145,
          215,
          162,
          146,
          148,
          320,
          161,
          243,
          225,
          145,
          145,
          158,
          158,
          486,
          188,
          179,
          661,
          1580,
          188,
          177,
          201,
          237,
          199,
          186,
          201,
          180,
          178,
          170,
          298,
          218,
          206,
          209,
          169,
          145,
          142,
          135,
          160,
          100,
          116,
          289,
          175,
          202,
          196,
          300,
          190,
          165,
          258,
          180,
          152,
          182,
          247,
          348,
          460,
          180,
          190,
          192,
          316,
          155,
          174,
          191,
          159,
          195,
          180,
          206,
          195,
          106,
          158,
          179,
          182,
          310,
          302,
          158,
          358,
          174,
          192,
          211,
          152,
          198,
          195,
          158,
          178,
          146,
          182,
          215,
          165,
          183,
          176,
          418,
          271,
          135,
          140,
          145,
          202,
          185,
          159,
          105,
          140,
          162,
          199,
          180,
          509,
          208,
          260,
          592,
          163,
          178,
          166,
          194,
          236,
          201,
          194,
          206,
          163,
          279,
          159,
          189,
          192,
          164,
          270,
          137,
          90,
          185,
          197,
          154,
          226,
          310,
          352,
          182,
          171,
          146,
          180,
          265,
          165,
          205,
          195,
          156,
          210,
          138,
          162,
          230,
          406,
          114,
          198,
          173,
          153,
          160,
          165,
          191,
          500,
          216
         ],
         "xaxis": "x",
         "yaxis": "y"
        }
       ],
       "layout": {
        "barmode": "relative",
        "legend": {
         "title": {
          "text": "Dataset"
         },
         "tracegroupgap": 0
        },
        "margin": {
         "t": 60
        },
        "template": {
         "data": {
          "bar": [
           {
            "error_x": {
             "color": "#2a3f5f"
            },
            "error_y": {
             "color": "#2a3f5f"
            },
            "marker": {
             "line": {
              "color": "#E5ECF6",
              "width": 0.5
             },
             "pattern": {
              "fillmode": "overlay",
              "size": 10,
              "solidity": 0.2
             }
            },
            "type": "bar"
           }
          ],
          "barpolar": [
           {
            "marker": {
             "line": {
              "color": "#E5ECF6",
              "width": 0.5
             },
             "pattern": {
              "fillmode": "overlay",
              "size": 10,
              "solidity": 0.2
             }
            },
            "type": "barpolar"
           }
          ],
          "carpet": [
           {
            "aaxis": {
             "endlinecolor": "#2a3f5f",
             "gridcolor": "white",
             "linecolor": "white",
             "minorgridcolor": "white",
             "startlinecolor": "#2a3f5f"
            },
            "baxis": {
             "endlinecolor": "#2a3f5f",
             "gridcolor": "white",
             "linecolor": "white",
             "minorgridcolor": "white",
             "startlinecolor": "#2a3f5f"
            },
            "type": "carpet"
           }
          ],
          "choropleth": [
           {
            "colorbar": {
             "outlinewidth": 0,
             "ticks": ""
            },
            "type": "choropleth"
           }
          ],
          "contour": [
           {
            "colorbar": {
             "outlinewidth": 0,
             "ticks": ""
            },
            "colorscale": [
             [
              0,
              "#0d0887"
             ],
             [
              0.1111111111111111,
              "#46039f"
             ],
             [
              0.2222222222222222,
              "#7201a8"
             ],
             [
              0.3333333333333333,
              "#9c179e"
             ],
             [
              0.4444444444444444,
              "#bd3786"
             ],
             [
              0.5555555555555556,
              "#d8576b"
             ],
             [
              0.6666666666666666,
              "#ed7953"
             ],
             [
              0.7777777777777778,
              "#fb9f3a"
             ],
             [
              0.8888888888888888,
              "#fdca26"
             ],
             [
              1,
              "#f0f921"
             ]
            ],
            "type": "contour"
           }
          ],
          "contourcarpet": [
           {
            "colorbar": {
             "outlinewidth": 0,
             "ticks": ""
            },
            "type": "contourcarpet"
           }
          ],
          "heatmap": [
           {
            "colorbar": {
             "outlinewidth": 0,
             "ticks": ""
            },
            "colorscale": [
             [
              0,
              "#0d0887"
             ],
             [
              0.1111111111111111,
              "#46039f"
             ],
             [
              0.2222222222222222,
              "#7201a8"
             ],
             [
              0.3333333333333333,
              "#9c179e"
             ],
             [
              0.4444444444444444,
              "#bd3786"
             ],
             [
              0.5555555555555556,
              "#d8576b"
             ],
             [
              0.6666666666666666,
              "#ed7953"
             ],
             [
              0.7777777777777778,
              "#fb9f3a"
             ],
             [
              0.8888888888888888,
              "#fdca26"
             ],
             [
              1,
              "#f0f921"
             ]
            ],
            "type": "heatmap"
           }
          ],
          "heatmapgl": [
           {
            "colorbar": {
             "outlinewidth": 0,
             "ticks": ""
            },
            "colorscale": [
             [
              0,
              "#0d0887"
             ],
             [
              0.1111111111111111,
              "#46039f"
             ],
             [
              0.2222222222222222,
              "#7201a8"
             ],
             [
              0.3333333333333333,
              "#9c179e"
             ],
             [
              0.4444444444444444,
              "#bd3786"
             ],
             [
              0.5555555555555556,
              "#d8576b"
             ],
             [
              0.6666666666666666,
              "#ed7953"
             ],
             [
              0.7777777777777778,
              "#fb9f3a"
             ],
             [
              0.8888888888888888,
              "#fdca26"
             ],
             [
              1,
              "#f0f921"
             ]
            ],
            "type": "heatmapgl"
           }
          ],
          "histogram": [
           {
            "marker": {
             "pattern": {
              "fillmode": "overlay",
              "size": 10,
              "solidity": 0.2
             }
            },
            "type": "histogram"
           }
          ],
          "histogram2d": [
           {
            "colorbar": {
             "outlinewidth": 0,
             "ticks": ""
            },
            "colorscale": [
             [
              0,
              "#0d0887"
             ],
             [
              0.1111111111111111,
              "#46039f"
             ],
             [
              0.2222222222222222,
              "#7201a8"
             ],
             [
              0.3333333333333333,
              "#9c179e"
             ],
             [
              0.4444444444444444,
              "#bd3786"
             ],
             [
              0.5555555555555556,
              "#d8576b"
             ],
             [
              0.6666666666666666,
              "#ed7953"
             ],
             [
              0.7777777777777778,
              "#fb9f3a"
             ],
             [
              0.8888888888888888,
              "#fdca26"
             ],
             [
              1,
              "#f0f921"
             ]
            ],
            "type": "histogram2d"
           }
          ],
          "histogram2dcontour": [
           {
            "colorbar": {
             "outlinewidth": 0,
             "ticks": ""
            },
            "colorscale": [
             [
              0,
              "#0d0887"
             ],
             [
              0.1111111111111111,
              "#46039f"
             ],
             [
              0.2222222222222222,
              "#7201a8"
             ],
             [
              0.3333333333333333,
              "#9c179e"
             ],
             [
              0.4444444444444444,
              "#bd3786"
             ],
             [
              0.5555555555555556,
              "#d8576b"
             ],
             [
              0.6666666666666666,
              "#ed7953"
             ],
             [
              0.7777777777777778,
              "#fb9f3a"
             ],
             [
              0.8888888888888888,
              "#fdca26"
             ],
             [
              1,
              "#f0f921"
             ]
            ],
            "type": "histogram2dcontour"
           }
          ],
          "mesh3d": [
           {
            "colorbar": {
             "outlinewidth": 0,
             "ticks": ""
            },
            "type": "mesh3d"
           }
          ],
          "parcoords": [
           {
            "line": {
             "colorbar": {
              "outlinewidth": 0,
              "ticks": ""
             }
            },
            "type": "parcoords"
           }
          ],
          "pie": [
           {
            "automargin": true,
            "type": "pie"
           }
          ],
          "scatter": [
           {
            "fillpattern": {
             "fillmode": "overlay",
             "size": 10,
             "solidity": 0.2
            },
            "type": "scatter"
           }
          ],
          "scatter3d": [
           {
            "line": {
             "colorbar": {
              "outlinewidth": 0,
              "ticks": ""
             }
            },
            "marker": {
             "colorbar": {
              "outlinewidth": 0,
              "ticks": ""
             }
            },
            "type": "scatter3d"
           }
          ],
          "scattercarpet": [
           {
            "marker": {
             "colorbar": {
              "outlinewidth": 0,
              "ticks": ""
             }
            },
            "type": "scattercarpet"
           }
          ],
          "scattergeo": [
           {
            "marker": {
             "colorbar": {
              "outlinewidth": 0,
              "ticks": ""
             }
            },
            "type": "scattergeo"
           }
          ],
          "scattergl": [
           {
            "marker": {
             "colorbar": {
              "outlinewidth": 0,
              "ticks": ""
             }
            },
            "type": "scattergl"
           }
          ],
          "scattermapbox": [
           {
            "marker": {
             "colorbar": {
              "outlinewidth": 0,
              "ticks": ""
             }
            },
            "type": "scattermapbox"
           }
          ],
          "scatterpolar": [
           {
            "marker": {
             "colorbar": {
              "outlinewidth": 0,
              "ticks": ""
             }
            },
            "type": "scatterpolar"
           }
          ],
          "scatterpolargl": [
           {
            "marker": {
             "colorbar": {
              "outlinewidth": 0,
              "ticks": ""
             }
            },
            "type": "scatterpolargl"
           }
          ],
          "scatterternary": [
           {
            "marker": {
             "colorbar": {
              "outlinewidth": 0,
              "ticks": ""
             }
            },
            "type": "scatterternary"
           }
          ],
          "surface": [
           {
            "colorbar": {
             "outlinewidth": 0,
             "ticks": ""
            },
            "colorscale": [
             [
              0,
              "#0d0887"
             ],
             [
              0.1111111111111111,
              "#46039f"
             ],
             [
              0.2222222222222222,
              "#7201a8"
             ],
             [
              0.3333333333333333,
              "#9c179e"
             ],
             [
              0.4444444444444444,
              "#bd3786"
             ],
             [
              0.5555555555555556,
              "#d8576b"
             ],
             [
              0.6666666666666666,
              "#ed7953"
             ],
             [
              0.7777777777777778,
              "#fb9f3a"
             ],
             [
              0.8888888888888888,
              "#fdca26"
             ],
             [
              1,
              "#f0f921"
             ]
            ],
            "type": "surface"
           }
          ],
          "table": [
           {
            "cells": {
             "fill": {
              "color": "#EBF0F8"
             },
             "line": {
              "color": "white"
             }
            },
            "header": {
             "fill": {
              "color": "#C8D4E3"
             },
             "line": {
              "color": "white"
             }
            },
            "type": "table"
           }
          ]
         },
         "layout": {
          "annotationdefaults": {
           "arrowcolor": "#2a3f5f",
           "arrowhead": 0,
           "arrowwidth": 1
          },
          "autotypenumbers": "strict",
          "coloraxis": {
           "colorbar": {
            "outlinewidth": 0,
            "ticks": ""
           }
          },
          "colorscale": {
           "diverging": [
            [
             0,
             "#8e0152"
            ],
            [
             0.1,
             "#c51b7d"
            ],
            [
             0.2,
             "#de77ae"
            ],
            [
             0.3,
             "#f1b6da"
            ],
            [
             0.4,
             "#fde0ef"
            ],
            [
             0.5,
             "#f7f7f7"
            ],
            [
             0.6,
             "#e6f5d0"
            ],
            [
             0.7,
             "#b8e186"
            ],
            [
             0.8,
             "#7fbc41"
            ],
            [
             0.9,
             "#4d9221"
            ],
            [
             1,
             "#276419"
            ]
           ],
           "sequential": [
            [
             0,
             "#0d0887"
            ],
            [
             0.1111111111111111,
             "#46039f"
            ],
            [
             0.2222222222222222,
             "#7201a8"
            ],
            [
             0.3333333333333333,
             "#9c179e"
            ],
            [
             0.4444444444444444,
             "#bd3786"
            ],
            [
             0.5555555555555556,
             "#d8576b"
            ],
            [
             0.6666666666666666,
             "#ed7953"
            ],
            [
             0.7777777777777778,
             "#fb9f3a"
            ],
            [
             0.8888888888888888,
             "#fdca26"
            ],
            [
             1,
             "#f0f921"
            ]
           ],
           "sequentialminus": [
            [
             0,
             "#0d0887"
            ],
            [
             0.1111111111111111,
             "#46039f"
            ],
            [
             0.2222222222222222,
             "#7201a8"
            ],
            [
             0.3333333333333333,
             "#9c179e"
            ],
            [
             0.4444444444444444,
             "#bd3786"
            ],
            [
             0.5555555555555556,
             "#d8576b"
            ],
            [
             0.6666666666666666,
             "#ed7953"
            ],
            [
             0.7777777777777778,
             "#fb9f3a"
            ],
            [
             0.8888888888888888,
             "#fdca26"
            ],
            [
             1,
             "#f0f921"
            ]
           ]
          },
          "colorway": [
           "#636efa",
           "#EF553B",
           "#00cc96",
           "#ab63fa",
           "#FFA15A",
           "#19d3f3",
           "#FF6692",
           "#B6E880",
           "#FF97FF",
           "#FECB52"
          ],
          "font": {
           "color": "#2a3f5f"
          },
          "geo": {
           "bgcolor": "white",
           "lakecolor": "white",
           "landcolor": "#E5ECF6",
           "showlakes": true,
           "showland": true,
           "subunitcolor": "white"
          },
          "hoverlabel": {
           "align": "left"
          },
          "hovermode": "closest",
          "mapbox": {
           "style": "light"
          },
          "paper_bgcolor": "white",
          "plot_bgcolor": "#E5ECF6",
          "polar": {
           "angularaxis": {
            "gridcolor": "white",
            "linecolor": "white",
            "ticks": ""
           },
           "bgcolor": "#E5ECF6",
           "radialaxis": {
            "gridcolor": "white",
            "linecolor": "white",
            "ticks": ""
           }
          },
          "scene": {
           "xaxis": {
            "backgroundcolor": "#E5ECF6",
            "gridcolor": "white",
            "gridwidth": 2,
            "linecolor": "white",
            "showbackground": true,
            "ticks": "",
            "zerolinecolor": "white"
           },
           "yaxis": {
            "backgroundcolor": "#E5ECF6",
            "gridcolor": "white",
            "gridwidth": 2,
            "linecolor": "white",
            "showbackground": true,
            "ticks": "",
            "zerolinecolor": "white"
           },
           "zaxis": {
            "backgroundcolor": "#E5ECF6",
            "gridcolor": "white",
            "gridwidth": 2,
            "linecolor": "white",
            "showbackground": true,
            "ticks": "",
            "zerolinecolor": "white"
           }
          },
          "shapedefaults": {
           "line": {
            "color": "#2a3f5f"
           }
          },
          "ternary": {
           "aaxis": {
            "gridcolor": "white",
            "linecolor": "white",
            "ticks": ""
           },
           "baxis": {
            "gridcolor": "white",
            "linecolor": "white",
            "ticks": ""
           },
           "bgcolor": "#E5ECF6",
           "caxis": {
            "gridcolor": "white",
            "linecolor": "white",
            "ticks": ""
           }
          },
          "title": {
           "x": 0.05
          },
          "xaxis": {
           "automargin": true,
           "gridcolor": "white",
           "linecolor": "white",
           "ticks": "",
           "title": {
            "standoff": 15
           },
           "zerolinecolor": "white",
           "zerolinewidth": 2
          },
          "yaxis": {
           "automargin": true,
           "gridcolor": "white",
           "linecolor": "white",
           "ticks": "",
           "title": {
            "standoff": 15
           },
           "zerolinecolor": "white",
           "zerolinewidth": 2
          }
         }
        },
        "xaxis": {
         "anchor": "y",
         "domain": [
          0,
          1
         ],
         "title": {
          "text": "Alkaline_Phosphotase"
         }
        },
        "yaxis": {
         "anchor": "x",
         "domain": [
          0,
          1
         ],
         "title": {
          "text": "count"
         },
         "type": "log"
        }
       }
      }
     },
     "metadata": {},
     "output_type": "display_data"
    },
    {
     "data": {
      "application/vnd.plotly.v1+json": {
       "config": {
        "plotlyServerURL": "https://plot.ly"
       },
       "data": [
        {
         "alignmentgroup": "True",
         "bingroup": "x",
         "hovertemplate": "Dataset=1<br>Alanine_Aminotransferase=%{x}<br>count=%{y}<extra></extra>",
         "legendgroup": "1",
         "marker": {
          "color": "#636efa",
          "pattern": {
           "shape": ""
          }
         },
         "name": "1",
         "offsetgroup": "1",
         "orientation": "v",
         "showlegend": true,
         "type": "histogram",
         "x": [
          16,
          64,
          60,
          14,
          27,
          19,
          16,
          14,
          53,
          51,
          31,
          22,
          53,
          168,
          232,
          232,
          17,
          22,
          116,
          16,
          875,
          875,
          1680,
          45,
          35,
          102,
          38,
          38,
          123,
          33,
          407,
          36,
          1630,
          39,
          64,
          21,
          15,
          80,
          86,
          31,
          31,
          42,
          21,
          37,
          37,
          35,
          40,
          62,
          55,
          53,
          27,
          166,
          20,
          27,
          22,
          20,
          189,
          95,
          48,
          60,
          25,
          194,
          45,
          58,
          33,
          33,
          119,
          412,
          404,
          412,
          220,
          126,
          25,
          102,
          190,
          97,
          308,
          36,
          21,
          33,
          24,
          74,
          2000,
          1350,
          1250,
          482,
          322,
          17,
          133,
          46,
          61,
          57,
          50,
          17,
          35,
          1250,
          62,
          72,
          72,
          25,
          15,
          84,
          84,
          63,
          21,
          20,
          20,
          21,
          18,
          20,
          45,
          58,
          70,
          20,
          20,
          36,
          140,
          99,
          43,
          42,
          42,
          13,
          40,
          64,
          53,
          33,
          28,
          378,
          35,
          48,
          48,
          43,
          112,
          71,
          37,
          30,
          23,
          33,
          20,
          18,
          79,
          114,
          42,
          118,
          107,
          79,
          30,
          52,
          12,
          790,
          50,
          50,
          28,
          50,
          950,
          53,
          23,
          20,
          60,
          25,
          18,
          30,
          41,
          27,
          38,
          40,
          56,
          45,
          38,
          18,
          26,
          85,
          149,
          48,
          32,
          230,
          20,
          69,
          24,
          30,
          25,
          20,
          15,
          22,
          25,
          37,
          28,
          38,
          37,
          89,
          23,
          148,
          65,
          56,
          205,
          55,
          25,
          38,
          12,
          50,
          15,
          96,
          390,
          15,
          25,
          45,
          25,
          18,
          56,
          12,
          30,
          29,
          15,
          16,
          120,
          48,
          22,
          25,
          78,
          16,
          26,
          21,
          28,
          21,
          74,
          21,
          22,
          178,
          48,
          43,
          24,
          42,
          179,
          31,
          30,
          36,
          42,
          54,
          62,
          80,
          17,
          24,
          198,
          85,
          79,
          50,
          44,
          70,
          40,
          32,
          14,
          349,
          19,
          62,
          41,
          36,
          110,
          25,
          21,
          50,
          28,
          47,
          22,
          24,
          30,
          29,
          32,
          35,
          20,
          36,
          28,
          27,
          115,
          29,
          34,
          31,
          31,
          23,
          25,
          94,
          142,
          37,
          30,
          28,
          25,
          137,
          44,
          155,
          20,
          15,
          157,
          141,
          284,
          440,
          33,
          93,
          76,
          69,
          52,
          48,
          34,
          12,
          59,
          33,
          102,
          20,
          55,
          41,
          15,
          30,
          25,
          23,
          29,
          52,
          35,
          35,
          425,
          26,
          26,
          50,
          20,
          25,
          40,
          25,
          37,
          16,
          159,
          55,
          22,
          23,
          30,
          22,
          13,
          15,
          24,
          622,
          779,
          132,
          91,
          18,
          154,
          18,
          102,
          96,
          133,
          196,
          52,
          42,
          18,
          40,
          62,
          28,
          29,
          39,
          39,
          95,
          43,
          190,
          119,
          140,
          37,
          32,
          48,
          65,
          16,
          50,
          74,
          168,
          69,
          14,
          24,
          15,
          21,
          68,
          12,
          54,
          110,
          509,
          46,
          67,
          25,
          85,
          23,
          67,
          47,
          39,
          60,
          74,
          25,
          29,
          58,
          20,
          139,
          25,
          80,
          382,
          75,
          321,
          233,
          173,
          31,
          22,
          20,
          91,
          213,
          131,
          46,
          54,
          50,
          48,
          41,
          58,
          28,
          35,
          48,
          29
         ],
         "xaxis": "x",
         "yaxis": "y"
        },
        {
         "alignmentgroup": "True",
         "bingroup": "x",
         "hovertemplate": "Dataset=2<br>Alanine_Aminotransferase=%{x}<br>count=%{y}<extra></extra>",
         "legendgroup": "2",
         "marker": {
          "color": "#EF553B",
          "pattern": {
           "shape": ""
          }
         },
         "name": "2",
         "offsetgroup": "2",
         "orientation": "v",
         "showlegend": true,
         "type": "histogram",
         "x": [
          22,
          61,
          91,
          15,
          52,
          20,
          13,
          19,
          59,
          59,
          18,
          42,
          25,
          17,
          48,
          26,
          24,
          20,
          24,
          52,
          12,
          14,
          28,
          27,
          21,
          14,
          32,
          32,
          29,
          29,
          25,
          11,
          63,
          181,
          88,
          60,
          36,
          45,
          18,
          34,
          20,
          18,
          30,
          26,
          36,
          60,
          32,
          30,
          48,
          22,
          19,
          27,
          27,
          82,
          17,
          36,
          38,
          20,
          26,
          61,
          57,
          40,
          32,
          48,
          12,
          90,
          31,
          55,
          30,
          152,
          22,
          25,
          18,
          10,
          15,
          32,
          37,
          24,
          40,
          32,
          18,
          36,
          25,
          25,
          18,
          29,
          21,
          47,
          27,
          160,
          11,
          29,
          14,
          21,
          36,
          60,
          19,
          13,
          42,
          23,
          21,
          26,
          33,
          28,
          28,
          45,
          30,
          32,
          26,
          12,
          16,
          10,
          25,
          24,
          24,
          19,
          18,
          28,
          15,
          28,
          26,
          48,
          44,
          49,
          10,
          10,
          31,
          32,
          28,
          18,
          40,
          15,
          22,
          28,
          21,
          23,
          22,
          18,
          17,
          64,
          38,
          33,
          119,
          28,
          46,
          31,
          17,
          56,
          30,
          31,
          31,
          22,
          12,
          35,
          14,
          12,
          88,
          24,
          21,
          29,
          46,
          41,
          20,
          22,
          22,
          20,
          21
         ],
         "xaxis": "x",
         "yaxis": "y"
        }
       ],
       "layout": {
        "barmode": "relative",
        "legend": {
         "title": {
          "text": "Dataset"
         },
         "tracegroupgap": 0
        },
        "margin": {
         "t": 60
        },
        "template": {
         "data": {
          "bar": [
           {
            "error_x": {
             "color": "#2a3f5f"
            },
            "error_y": {
             "color": "#2a3f5f"
            },
            "marker": {
             "line": {
              "color": "#E5ECF6",
              "width": 0.5
             },
             "pattern": {
              "fillmode": "overlay",
              "size": 10,
              "solidity": 0.2
             }
            },
            "type": "bar"
           }
          ],
          "barpolar": [
           {
            "marker": {
             "line": {
              "color": "#E5ECF6",
              "width": 0.5
             },
             "pattern": {
              "fillmode": "overlay",
              "size": 10,
              "solidity": 0.2
             }
            },
            "type": "barpolar"
           }
          ],
          "carpet": [
           {
            "aaxis": {
             "endlinecolor": "#2a3f5f",
             "gridcolor": "white",
             "linecolor": "white",
             "minorgridcolor": "white",
             "startlinecolor": "#2a3f5f"
            },
            "baxis": {
             "endlinecolor": "#2a3f5f",
             "gridcolor": "white",
             "linecolor": "white",
             "minorgridcolor": "white",
             "startlinecolor": "#2a3f5f"
            },
            "type": "carpet"
           }
          ],
          "choropleth": [
           {
            "colorbar": {
             "outlinewidth": 0,
             "ticks": ""
            },
            "type": "choropleth"
           }
          ],
          "contour": [
           {
            "colorbar": {
             "outlinewidth": 0,
             "ticks": ""
            },
            "colorscale": [
             [
              0,
              "#0d0887"
             ],
             [
              0.1111111111111111,
              "#46039f"
             ],
             [
              0.2222222222222222,
              "#7201a8"
             ],
             [
              0.3333333333333333,
              "#9c179e"
             ],
             [
              0.4444444444444444,
              "#bd3786"
             ],
             [
              0.5555555555555556,
              "#d8576b"
             ],
             [
              0.6666666666666666,
              "#ed7953"
             ],
             [
              0.7777777777777778,
              "#fb9f3a"
             ],
             [
              0.8888888888888888,
              "#fdca26"
             ],
             [
              1,
              "#f0f921"
             ]
            ],
            "type": "contour"
           }
          ],
          "contourcarpet": [
           {
            "colorbar": {
             "outlinewidth": 0,
             "ticks": ""
            },
            "type": "contourcarpet"
           }
          ],
          "heatmap": [
           {
            "colorbar": {
             "outlinewidth": 0,
             "ticks": ""
            },
            "colorscale": [
             [
              0,
              "#0d0887"
             ],
             [
              0.1111111111111111,
              "#46039f"
             ],
             [
              0.2222222222222222,
              "#7201a8"
             ],
             [
              0.3333333333333333,
              "#9c179e"
             ],
             [
              0.4444444444444444,
              "#bd3786"
             ],
             [
              0.5555555555555556,
              "#d8576b"
             ],
             [
              0.6666666666666666,
              "#ed7953"
             ],
             [
              0.7777777777777778,
              "#fb9f3a"
             ],
             [
              0.8888888888888888,
              "#fdca26"
             ],
             [
              1,
              "#f0f921"
             ]
            ],
            "type": "heatmap"
           }
          ],
          "heatmapgl": [
           {
            "colorbar": {
             "outlinewidth": 0,
             "ticks": ""
            },
            "colorscale": [
             [
              0,
              "#0d0887"
             ],
             [
              0.1111111111111111,
              "#46039f"
             ],
             [
              0.2222222222222222,
              "#7201a8"
             ],
             [
              0.3333333333333333,
              "#9c179e"
             ],
             [
              0.4444444444444444,
              "#bd3786"
             ],
             [
              0.5555555555555556,
              "#d8576b"
             ],
             [
              0.6666666666666666,
              "#ed7953"
             ],
             [
              0.7777777777777778,
              "#fb9f3a"
             ],
             [
              0.8888888888888888,
              "#fdca26"
             ],
             [
              1,
              "#f0f921"
             ]
            ],
            "type": "heatmapgl"
           }
          ],
          "histogram": [
           {
            "marker": {
             "pattern": {
              "fillmode": "overlay",
              "size": 10,
              "solidity": 0.2
             }
            },
            "type": "histogram"
           }
          ],
          "histogram2d": [
           {
            "colorbar": {
             "outlinewidth": 0,
             "ticks": ""
            },
            "colorscale": [
             [
              0,
              "#0d0887"
             ],
             [
              0.1111111111111111,
              "#46039f"
             ],
             [
              0.2222222222222222,
              "#7201a8"
             ],
             [
              0.3333333333333333,
              "#9c179e"
             ],
             [
              0.4444444444444444,
              "#bd3786"
             ],
             [
              0.5555555555555556,
              "#d8576b"
             ],
             [
              0.6666666666666666,
              "#ed7953"
             ],
             [
              0.7777777777777778,
              "#fb9f3a"
             ],
             [
              0.8888888888888888,
              "#fdca26"
             ],
             [
              1,
              "#f0f921"
             ]
            ],
            "type": "histogram2d"
           }
          ],
          "histogram2dcontour": [
           {
            "colorbar": {
             "outlinewidth": 0,
             "ticks": ""
            },
            "colorscale": [
             [
              0,
              "#0d0887"
             ],
             [
              0.1111111111111111,
              "#46039f"
             ],
             [
              0.2222222222222222,
              "#7201a8"
             ],
             [
              0.3333333333333333,
              "#9c179e"
             ],
             [
              0.4444444444444444,
              "#bd3786"
             ],
             [
              0.5555555555555556,
              "#d8576b"
             ],
             [
              0.6666666666666666,
              "#ed7953"
             ],
             [
              0.7777777777777778,
              "#fb9f3a"
             ],
             [
              0.8888888888888888,
              "#fdca26"
             ],
             [
              1,
              "#f0f921"
             ]
            ],
            "type": "histogram2dcontour"
           }
          ],
          "mesh3d": [
           {
            "colorbar": {
             "outlinewidth": 0,
             "ticks": ""
            },
            "type": "mesh3d"
           }
          ],
          "parcoords": [
           {
            "line": {
             "colorbar": {
              "outlinewidth": 0,
              "ticks": ""
             }
            },
            "type": "parcoords"
           }
          ],
          "pie": [
           {
            "automargin": true,
            "type": "pie"
           }
          ],
          "scatter": [
           {
            "fillpattern": {
             "fillmode": "overlay",
             "size": 10,
             "solidity": 0.2
            },
            "type": "scatter"
           }
          ],
          "scatter3d": [
           {
            "line": {
             "colorbar": {
              "outlinewidth": 0,
              "ticks": ""
             }
            },
            "marker": {
             "colorbar": {
              "outlinewidth": 0,
              "ticks": ""
             }
            },
            "type": "scatter3d"
           }
          ],
          "scattercarpet": [
           {
            "marker": {
             "colorbar": {
              "outlinewidth": 0,
              "ticks": ""
             }
            },
            "type": "scattercarpet"
           }
          ],
          "scattergeo": [
           {
            "marker": {
             "colorbar": {
              "outlinewidth": 0,
              "ticks": ""
             }
            },
            "type": "scattergeo"
           }
          ],
          "scattergl": [
           {
            "marker": {
             "colorbar": {
              "outlinewidth": 0,
              "ticks": ""
             }
            },
            "type": "scattergl"
           }
          ],
          "scattermapbox": [
           {
            "marker": {
             "colorbar": {
              "outlinewidth": 0,
              "ticks": ""
             }
            },
            "type": "scattermapbox"
           }
          ],
          "scatterpolar": [
           {
            "marker": {
             "colorbar": {
              "outlinewidth": 0,
              "ticks": ""
             }
            },
            "type": "scatterpolar"
           }
          ],
          "scatterpolargl": [
           {
            "marker": {
             "colorbar": {
              "outlinewidth": 0,
              "ticks": ""
             }
            },
            "type": "scatterpolargl"
           }
          ],
          "scatterternary": [
           {
            "marker": {
             "colorbar": {
              "outlinewidth": 0,
              "ticks": ""
             }
            },
            "type": "scatterternary"
           }
          ],
          "surface": [
           {
            "colorbar": {
             "outlinewidth": 0,
             "ticks": ""
            },
            "colorscale": [
             [
              0,
              "#0d0887"
             ],
             [
              0.1111111111111111,
              "#46039f"
             ],
             [
              0.2222222222222222,
              "#7201a8"
             ],
             [
              0.3333333333333333,
              "#9c179e"
             ],
             [
              0.4444444444444444,
              "#bd3786"
             ],
             [
              0.5555555555555556,
              "#d8576b"
             ],
             [
              0.6666666666666666,
              "#ed7953"
             ],
             [
              0.7777777777777778,
              "#fb9f3a"
             ],
             [
              0.8888888888888888,
              "#fdca26"
             ],
             [
              1,
              "#f0f921"
             ]
            ],
            "type": "surface"
           }
          ],
          "table": [
           {
            "cells": {
             "fill": {
              "color": "#EBF0F8"
             },
             "line": {
              "color": "white"
             }
            },
            "header": {
             "fill": {
              "color": "#C8D4E3"
             },
             "line": {
              "color": "white"
             }
            },
            "type": "table"
           }
          ]
         },
         "layout": {
          "annotationdefaults": {
           "arrowcolor": "#2a3f5f",
           "arrowhead": 0,
           "arrowwidth": 1
          },
          "autotypenumbers": "strict",
          "coloraxis": {
           "colorbar": {
            "outlinewidth": 0,
            "ticks": ""
           }
          },
          "colorscale": {
           "diverging": [
            [
             0,
             "#8e0152"
            ],
            [
             0.1,
             "#c51b7d"
            ],
            [
             0.2,
             "#de77ae"
            ],
            [
             0.3,
             "#f1b6da"
            ],
            [
             0.4,
             "#fde0ef"
            ],
            [
             0.5,
             "#f7f7f7"
            ],
            [
             0.6,
             "#e6f5d0"
            ],
            [
             0.7,
             "#b8e186"
            ],
            [
             0.8,
             "#7fbc41"
            ],
            [
             0.9,
             "#4d9221"
            ],
            [
             1,
             "#276419"
            ]
           ],
           "sequential": [
            [
             0,
             "#0d0887"
            ],
            [
             0.1111111111111111,
             "#46039f"
            ],
            [
             0.2222222222222222,
             "#7201a8"
            ],
            [
             0.3333333333333333,
             "#9c179e"
            ],
            [
             0.4444444444444444,
             "#bd3786"
            ],
            [
             0.5555555555555556,
             "#d8576b"
            ],
            [
             0.6666666666666666,
             "#ed7953"
            ],
            [
             0.7777777777777778,
             "#fb9f3a"
            ],
            [
             0.8888888888888888,
             "#fdca26"
            ],
            [
             1,
             "#f0f921"
            ]
           ],
           "sequentialminus": [
            [
             0,
             "#0d0887"
            ],
            [
             0.1111111111111111,
             "#46039f"
            ],
            [
             0.2222222222222222,
             "#7201a8"
            ],
            [
             0.3333333333333333,
             "#9c179e"
            ],
            [
             0.4444444444444444,
             "#bd3786"
            ],
            [
             0.5555555555555556,
             "#d8576b"
            ],
            [
             0.6666666666666666,
             "#ed7953"
            ],
            [
             0.7777777777777778,
             "#fb9f3a"
            ],
            [
             0.8888888888888888,
             "#fdca26"
            ],
            [
             1,
             "#f0f921"
            ]
           ]
          },
          "colorway": [
           "#636efa",
           "#EF553B",
           "#00cc96",
           "#ab63fa",
           "#FFA15A",
           "#19d3f3",
           "#FF6692",
           "#B6E880",
           "#FF97FF",
           "#FECB52"
          ],
          "font": {
           "color": "#2a3f5f"
          },
          "geo": {
           "bgcolor": "white",
           "lakecolor": "white",
           "landcolor": "#E5ECF6",
           "showlakes": true,
           "showland": true,
           "subunitcolor": "white"
          },
          "hoverlabel": {
           "align": "left"
          },
          "hovermode": "closest",
          "mapbox": {
           "style": "light"
          },
          "paper_bgcolor": "white",
          "plot_bgcolor": "#E5ECF6",
          "polar": {
           "angularaxis": {
            "gridcolor": "white",
            "linecolor": "white",
            "ticks": ""
           },
           "bgcolor": "#E5ECF6",
           "radialaxis": {
            "gridcolor": "white",
            "linecolor": "white",
            "ticks": ""
           }
          },
          "scene": {
           "xaxis": {
            "backgroundcolor": "#E5ECF6",
            "gridcolor": "white",
            "gridwidth": 2,
            "linecolor": "white",
            "showbackground": true,
            "ticks": "",
            "zerolinecolor": "white"
           },
           "yaxis": {
            "backgroundcolor": "#E5ECF6",
            "gridcolor": "white",
            "gridwidth": 2,
            "linecolor": "white",
            "showbackground": true,
            "ticks": "",
            "zerolinecolor": "white"
           },
           "zaxis": {
            "backgroundcolor": "#E5ECF6",
            "gridcolor": "white",
            "gridwidth": 2,
            "linecolor": "white",
            "showbackground": true,
            "ticks": "",
            "zerolinecolor": "white"
           }
          },
          "shapedefaults": {
           "line": {
            "color": "#2a3f5f"
           }
          },
          "ternary": {
           "aaxis": {
            "gridcolor": "white",
            "linecolor": "white",
            "ticks": ""
           },
           "baxis": {
            "gridcolor": "white",
            "linecolor": "white",
            "ticks": ""
           },
           "bgcolor": "#E5ECF6",
           "caxis": {
            "gridcolor": "white",
            "linecolor": "white",
            "ticks": ""
           }
          },
          "title": {
           "x": 0.05
          },
          "xaxis": {
           "automargin": true,
           "gridcolor": "white",
           "linecolor": "white",
           "ticks": "",
           "title": {
            "standoff": 15
           },
           "zerolinecolor": "white",
           "zerolinewidth": 2
          },
          "yaxis": {
           "automargin": true,
           "gridcolor": "white",
           "linecolor": "white",
           "ticks": "",
           "title": {
            "standoff": 15
           },
           "zerolinecolor": "white",
           "zerolinewidth": 2
          }
         }
        },
        "xaxis": {
         "anchor": "y",
         "domain": [
          0,
          1
         ],
         "title": {
          "text": "Alanine_Aminotransferase"
         }
        },
        "yaxis": {
         "anchor": "x",
         "domain": [
          0,
          1
         ],
         "title": {
          "text": "count"
         },
         "type": "log"
        }
       }
      }
     },
     "metadata": {},
     "output_type": "display_data"
    },
    {
     "data": {
      "application/vnd.plotly.v1+json": {
       "config": {
        "plotlyServerURL": "https://plot.ly"
       },
       "data": [
        {
         "alignmentgroup": "True",
         "bingroup": "x",
         "hovertemplate": "Dataset=1<br>Aspartate_Aminotransferase=%{x}<br>count=%{y}<extra></extra>",
         "legendgroup": "1",
         "marker": {
          "color": "#636efa",
          "pattern": {
           "shape": ""
          }
         },
         "name": "1",
         "offsetgroup": "1",
         "orientation": "v",
         "showlegend": true,
         "type": "histogram",
         "x": [
          18,
          100,
          68,
          20,
          59,
          14,
          12,
          11,
          58,
          59,
          56,
          30,
          41,
          441,
          245,
          245,
          28,
          34,
          66,
          55,
          731,
          731,
          850,
          111,
          44,
          80,
          77,
          66,
          73,
          50,
          576,
          27,
          960,
          28,
          178,
          14,
          19,
          406,
          150,
          61,
          61,
          18,
          16,
          43,
          43,
          97,
          86,
          88,
          95,
          58,
          26,
          397,
          29,
          24,
          16,
          22,
          17,
          127,
          79,
          142,
          26,
          152,
          31,
          45,
          59,
          34,
          350,
          850,
          794,
          850,
          400,
          202,
          23,
          630,
          950,
          161,
          405,
          45,
          28,
          116,
          98,
          149,
          2946,
          1600,
          1050,
          275,
          113,
          18,
          88,
          40,
          83,
          65,
          58,
          14,
          36,
          4929,
          90,
          140,
          140,
          66,
          30,
          139,
          139,
          87,
          38,
          30,
          26,
          27,
          20,
          40,
          233,
          138,
          82,
          35,
          35,
          32,
          350,
          187,
          66,
          62,
          62,
          74,
          66,
          67,
          41,
          32,
          37,
          602,
          63,
          34,
          34,
          31,
          99,
          42,
          29,
          25,
          29,
          37,
          17,
          19,
          145,
          247,
          38,
          114,
          104,
          51,
          54,
          104,
          32,
          1050,
          53,
          53,
          22,
          60,
          1500,
          95,
          33,
          14,
          180,
          58,
          34,
          31,
          39,
          46,
          24,
          28,
          44,
          51,
          62,
          15,
          21,
          231,
          156,
          89,
          27,
          298,
          16,
          48,
          46,
          23,
          23,
          19,
          18,
          79,
          28,
          29,
          25,
          22,
          40,
          48,
          17,
          86,
          130,
          87,
          140,
          54,
          21,
          54,
          29,
          75,
          20,
          54,
          500,
          18,
          22,
          40,
          20,
          14,
          48,
          14,
          48,
          24,
          12,
          39,
          105,
          44,
          24,
          21,
          41,
          19,
          15,
          30,
          32,
          17,
          113,
          47,
          18,
          250,
          22,
          47,
          65,
          30,
          232,
          27,
          58,
          34,
          37,
          68,
          56,
          113,
          24,
          19,
          143,
          68,
          50,
          30,
          33,
          138,
          28,
          44,
          11,
          105,
          14,
          58,
          38,
          33,
          176,
          23,
          30,
          38,
          34,
          26,
          20,
          25,
          37,
          17,
          31,
          33,
          41,
          53,
          43,
          22,
          91,
          30,
          20,
          40,
          35,
          35,
          20,
          92,
          68,
          56,
          32,
          70,
          50,
          145,
          236,
          108,
          26,
          21,
          108,
          73,
          190,
          850,
          71,
          40,
          180,
          50,
          65,
          57,
          42,
          15,
          126,
          66,
          141,
          33,
          87,
          80,
          44,
          90,
          18,
          20,
          39,
          102,
          81,
          20,
          511,
          25,
          27,
          72,
          25,
          36,
          23,
          22,
          19,
          46,
          51,
          23,
          18,
          42,
          54,
          32,
          56,
          25,
          32,
          497,
          844,
          368,
          188,
          40,
          248,
          15,
          190,
          57,
          103,
          401,
          31,
          39,
          22,
          70,
          55,
          76,
          30,
          221,
          79,
          235,
          185,
          73,
          230,
          540,
          48,
          24,
          58,
          181,
          24,
          28,
          68,
          630,
          155,
          25,
          15,
          16,
          63,
          200,
          38,
          152,
          186,
          623,
          52,
          220,
          75,
          78,
          27,
          42,
          32,
          348,
          186,
          141,
          41,
          30,
          140,
          43,
          87,
          27,
          125,
          330,
          138,
          562,
          384,
          367,
          83,
          143,
          40,
          101,
          168,
          90,
          134,
          125,
          88,
          92,
          88,
          80,
          47,
          31,
          49,
          32
         ],
         "xaxis": "x",
         "yaxis": "y"
        },
        {
         "alignmentgroup": "True",
         "bingroup": "x",
         "hovertemplate": "Dataset=2<br>Aspartate_Aminotransferase=%{x}<br>count=%{y}<extra></extra>",
         "legendgroup": "2",
         "marker": {
          "color": "#EF553B",
          "pattern": {
           "shape": ""
          }
         },
         "name": "2",
         "offsetgroup": "2",
         "orientation": "v",
         "showlegend": true,
         "type": "histogram",
         "x": [
          19,
          58,
          53,
          23,
          45,
          30,
          21,
          23,
          57,
          57,
          36,
          110,
          47,
          15,
          178,
          23,
          54,
          24,
          17,
          41,
          24,
          12,
          56,
          28,
          23,
          23,
          92,
          92,
          39,
          39,
          34,
          10,
          39,
          285,
          64,
          84,
          29,
          25,
          28,
          31,
          21,
          22,
          42,
          27,
          43,
          103,
          28,
          25,
          32,
          18,
          23,
          21,
          26,
          127,
          148,
          16,
          30,
          19,
          13,
          85,
          40,
          35,
          30,
          40,
          15,
          21,
          34,
          92,
          34,
          231,
          19,
          20,
          15,
          21,
          20,
          14,
          41,
          25,
          35,
          25,
          17,
          16,
          54,
          22,
          21,
          82,
          16,
          67,
          23,
          90,
          33,
          20,
          23,
          25,
          32,
          40,
          15,
          26,
          70,
          28,
          15,
          29,
          57,
          43,
          35,
          52,
          29,
          25,
          23,
          13,
          22,
          12,
          21,
          20,
          20,
          22,
          58,
          44,
          30,
          24,
          29,
          71,
          59,
          42,
          12,
          13,
          24,
          36,
          21,
          19,
          46,
          16,
          43,
          35,
          53,
          42,
          16,
          108,
          26,
          33,
          21,
          135,
          42,
          51,
          57,
          26,
          29,
          111,
          28,
          29,
          36,
          28,
          15,
          32,
          21,
          17,
          74,
          45,
          23,
          19,
          47,
          42,
          22,
          34,
          31,
          34,
          24
         ],
         "xaxis": "x",
         "yaxis": "y"
        }
       ],
       "layout": {
        "barmode": "relative",
        "legend": {
         "title": {
          "text": "Dataset"
         },
         "tracegroupgap": 0
        },
        "margin": {
         "t": 60
        },
        "template": {
         "data": {
          "bar": [
           {
            "error_x": {
             "color": "#2a3f5f"
            },
            "error_y": {
             "color": "#2a3f5f"
            },
            "marker": {
             "line": {
              "color": "#E5ECF6",
              "width": 0.5
             },
             "pattern": {
              "fillmode": "overlay",
              "size": 10,
              "solidity": 0.2
             }
            },
            "type": "bar"
           }
          ],
          "barpolar": [
           {
            "marker": {
             "line": {
              "color": "#E5ECF6",
              "width": 0.5
             },
             "pattern": {
              "fillmode": "overlay",
              "size": 10,
              "solidity": 0.2
             }
            },
            "type": "barpolar"
           }
          ],
          "carpet": [
           {
            "aaxis": {
             "endlinecolor": "#2a3f5f",
             "gridcolor": "white",
             "linecolor": "white",
             "minorgridcolor": "white",
             "startlinecolor": "#2a3f5f"
            },
            "baxis": {
             "endlinecolor": "#2a3f5f",
             "gridcolor": "white",
             "linecolor": "white",
             "minorgridcolor": "white",
             "startlinecolor": "#2a3f5f"
            },
            "type": "carpet"
           }
          ],
          "choropleth": [
           {
            "colorbar": {
             "outlinewidth": 0,
             "ticks": ""
            },
            "type": "choropleth"
           }
          ],
          "contour": [
           {
            "colorbar": {
             "outlinewidth": 0,
             "ticks": ""
            },
            "colorscale": [
             [
              0,
              "#0d0887"
             ],
             [
              0.1111111111111111,
              "#46039f"
             ],
             [
              0.2222222222222222,
              "#7201a8"
             ],
             [
              0.3333333333333333,
              "#9c179e"
             ],
             [
              0.4444444444444444,
              "#bd3786"
             ],
             [
              0.5555555555555556,
              "#d8576b"
             ],
             [
              0.6666666666666666,
              "#ed7953"
             ],
             [
              0.7777777777777778,
              "#fb9f3a"
             ],
             [
              0.8888888888888888,
              "#fdca26"
             ],
             [
              1,
              "#f0f921"
             ]
            ],
            "type": "contour"
           }
          ],
          "contourcarpet": [
           {
            "colorbar": {
             "outlinewidth": 0,
             "ticks": ""
            },
            "type": "contourcarpet"
           }
          ],
          "heatmap": [
           {
            "colorbar": {
             "outlinewidth": 0,
             "ticks": ""
            },
            "colorscale": [
             [
              0,
              "#0d0887"
             ],
             [
              0.1111111111111111,
              "#46039f"
             ],
             [
              0.2222222222222222,
              "#7201a8"
             ],
             [
              0.3333333333333333,
              "#9c179e"
             ],
             [
              0.4444444444444444,
              "#bd3786"
             ],
             [
              0.5555555555555556,
              "#d8576b"
             ],
             [
              0.6666666666666666,
              "#ed7953"
             ],
             [
              0.7777777777777778,
              "#fb9f3a"
             ],
             [
              0.8888888888888888,
              "#fdca26"
             ],
             [
              1,
              "#f0f921"
             ]
            ],
            "type": "heatmap"
           }
          ],
          "heatmapgl": [
           {
            "colorbar": {
             "outlinewidth": 0,
             "ticks": ""
            },
            "colorscale": [
             [
              0,
              "#0d0887"
             ],
             [
              0.1111111111111111,
              "#46039f"
             ],
             [
              0.2222222222222222,
              "#7201a8"
             ],
             [
              0.3333333333333333,
              "#9c179e"
             ],
             [
              0.4444444444444444,
              "#bd3786"
             ],
             [
              0.5555555555555556,
              "#d8576b"
             ],
             [
              0.6666666666666666,
              "#ed7953"
             ],
             [
              0.7777777777777778,
              "#fb9f3a"
             ],
             [
              0.8888888888888888,
              "#fdca26"
             ],
             [
              1,
              "#f0f921"
             ]
            ],
            "type": "heatmapgl"
           }
          ],
          "histogram": [
           {
            "marker": {
             "pattern": {
              "fillmode": "overlay",
              "size": 10,
              "solidity": 0.2
             }
            },
            "type": "histogram"
           }
          ],
          "histogram2d": [
           {
            "colorbar": {
             "outlinewidth": 0,
             "ticks": ""
            },
            "colorscale": [
             [
              0,
              "#0d0887"
             ],
             [
              0.1111111111111111,
              "#46039f"
             ],
             [
              0.2222222222222222,
              "#7201a8"
             ],
             [
              0.3333333333333333,
              "#9c179e"
             ],
             [
              0.4444444444444444,
              "#bd3786"
             ],
             [
              0.5555555555555556,
              "#d8576b"
             ],
             [
              0.6666666666666666,
              "#ed7953"
             ],
             [
              0.7777777777777778,
              "#fb9f3a"
             ],
             [
              0.8888888888888888,
              "#fdca26"
             ],
             [
              1,
              "#f0f921"
             ]
            ],
            "type": "histogram2d"
           }
          ],
          "histogram2dcontour": [
           {
            "colorbar": {
             "outlinewidth": 0,
             "ticks": ""
            },
            "colorscale": [
             [
              0,
              "#0d0887"
             ],
             [
              0.1111111111111111,
              "#46039f"
             ],
             [
              0.2222222222222222,
              "#7201a8"
             ],
             [
              0.3333333333333333,
              "#9c179e"
             ],
             [
              0.4444444444444444,
              "#bd3786"
             ],
             [
              0.5555555555555556,
              "#d8576b"
             ],
             [
              0.6666666666666666,
              "#ed7953"
             ],
             [
              0.7777777777777778,
              "#fb9f3a"
             ],
             [
              0.8888888888888888,
              "#fdca26"
             ],
             [
              1,
              "#f0f921"
             ]
            ],
            "type": "histogram2dcontour"
           }
          ],
          "mesh3d": [
           {
            "colorbar": {
             "outlinewidth": 0,
             "ticks": ""
            },
            "type": "mesh3d"
           }
          ],
          "parcoords": [
           {
            "line": {
             "colorbar": {
              "outlinewidth": 0,
              "ticks": ""
             }
            },
            "type": "parcoords"
           }
          ],
          "pie": [
           {
            "automargin": true,
            "type": "pie"
           }
          ],
          "scatter": [
           {
            "fillpattern": {
             "fillmode": "overlay",
             "size": 10,
             "solidity": 0.2
            },
            "type": "scatter"
           }
          ],
          "scatter3d": [
           {
            "line": {
             "colorbar": {
              "outlinewidth": 0,
              "ticks": ""
             }
            },
            "marker": {
             "colorbar": {
              "outlinewidth": 0,
              "ticks": ""
             }
            },
            "type": "scatter3d"
           }
          ],
          "scattercarpet": [
           {
            "marker": {
             "colorbar": {
              "outlinewidth": 0,
              "ticks": ""
             }
            },
            "type": "scattercarpet"
           }
          ],
          "scattergeo": [
           {
            "marker": {
             "colorbar": {
              "outlinewidth": 0,
              "ticks": ""
             }
            },
            "type": "scattergeo"
           }
          ],
          "scattergl": [
           {
            "marker": {
             "colorbar": {
              "outlinewidth": 0,
              "ticks": ""
             }
            },
            "type": "scattergl"
           }
          ],
          "scattermapbox": [
           {
            "marker": {
             "colorbar": {
              "outlinewidth": 0,
              "ticks": ""
             }
            },
            "type": "scattermapbox"
           }
          ],
          "scatterpolar": [
           {
            "marker": {
             "colorbar": {
              "outlinewidth": 0,
              "ticks": ""
             }
            },
            "type": "scatterpolar"
           }
          ],
          "scatterpolargl": [
           {
            "marker": {
             "colorbar": {
              "outlinewidth": 0,
              "ticks": ""
             }
            },
            "type": "scatterpolargl"
           }
          ],
          "scatterternary": [
           {
            "marker": {
             "colorbar": {
              "outlinewidth": 0,
              "ticks": ""
             }
            },
            "type": "scatterternary"
           }
          ],
          "surface": [
           {
            "colorbar": {
             "outlinewidth": 0,
             "ticks": ""
            },
            "colorscale": [
             [
              0,
              "#0d0887"
             ],
             [
              0.1111111111111111,
              "#46039f"
             ],
             [
              0.2222222222222222,
              "#7201a8"
             ],
             [
              0.3333333333333333,
              "#9c179e"
             ],
             [
              0.4444444444444444,
              "#bd3786"
             ],
             [
              0.5555555555555556,
              "#d8576b"
             ],
             [
              0.6666666666666666,
              "#ed7953"
             ],
             [
              0.7777777777777778,
              "#fb9f3a"
             ],
             [
              0.8888888888888888,
              "#fdca26"
             ],
             [
              1,
              "#f0f921"
             ]
            ],
            "type": "surface"
           }
          ],
          "table": [
           {
            "cells": {
             "fill": {
              "color": "#EBF0F8"
             },
             "line": {
              "color": "white"
             }
            },
            "header": {
             "fill": {
              "color": "#C8D4E3"
             },
             "line": {
              "color": "white"
             }
            },
            "type": "table"
           }
          ]
         },
         "layout": {
          "annotationdefaults": {
           "arrowcolor": "#2a3f5f",
           "arrowhead": 0,
           "arrowwidth": 1
          },
          "autotypenumbers": "strict",
          "coloraxis": {
           "colorbar": {
            "outlinewidth": 0,
            "ticks": ""
           }
          },
          "colorscale": {
           "diverging": [
            [
             0,
             "#8e0152"
            ],
            [
             0.1,
             "#c51b7d"
            ],
            [
             0.2,
             "#de77ae"
            ],
            [
             0.3,
             "#f1b6da"
            ],
            [
             0.4,
             "#fde0ef"
            ],
            [
             0.5,
             "#f7f7f7"
            ],
            [
             0.6,
             "#e6f5d0"
            ],
            [
             0.7,
             "#b8e186"
            ],
            [
             0.8,
             "#7fbc41"
            ],
            [
             0.9,
             "#4d9221"
            ],
            [
             1,
             "#276419"
            ]
           ],
           "sequential": [
            [
             0,
             "#0d0887"
            ],
            [
             0.1111111111111111,
             "#46039f"
            ],
            [
             0.2222222222222222,
             "#7201a8"
            ],
            [
             0.3333333333333333,
             "#9c179e"
            ],
            [
             0.4444444444444444,
             "#bd3786"
            ],
            [
             0.5555555555555556,
             "#d8576b"
            ],
            [
             0.6666666666666666,
             "#ed7953"
            ],
            [
             0.7777777777777778,
             "#fb9f3a"
            ],
            [
             0.8888888888888888,
             "#fdca26"
            ],
            [
             1,
             "#f0f921"
            ]
           ],
           "sequentialminus": [
            [
             0,
             "#0d0887"
            ],
            [
             0.1111111111111111,
             "#46039f"
            ],
            [
             0.2222222222222222,
             "#7201a8"
            ],
            [
             0.3333333333333333,
             "#9c179e"
            ],
            [
             0.4444444444444444,
             "#bd3786"
            ],
            [
             0.5555555555555556,
             "#d8576b"
            ],
            [
             0.6666666666666666,
             "#ed7953"
            ],
            [
             0.7777777777777778,
             "#fb9f3a"
            ],
            [
             0.8888888888888888,
             "#fdca26"
            ],
            [
             1,
             "#f0f921"
            ]
           ]
          },
          "colorway": [
           "#636efa",
           "#EF553B",
           "#00cc96",
           "#ab63fa",
           "#FFA15A",
           "#19d3f3",
           "#FF6692",
           "#B6E880",
           "#FF97FF",
           "#FECB52"
          ],
          "font": {
           "color": "#2a3f5f"
          },
          "geo": {
           "bgcolor": "white",
           "lakecolor": "white",
           "landcolor": "#E5ECF6",
           "showlakes": true,
           "showland": true,
           "subunitcolor": "white"
          },
          "hoverlabel": {
           "align": "left"
          },
          "hovermode": "closest",
          "mapbox": {
           "style": "light"
          },
          "paper_bgcolor": "white",
          "plot_bgcolor": "#E5ECF6",
          "polar": {
           "angularaxis": {
            "gridcolor": "white",
            "linecolor": "white",
            "ticks": ""
           },
           "bgcolor": "#E5ECF6",
           "radialaxis": {
            "gridcolor": "white",
            "linecolor": "white",
            "ticks": ""
           }
          },
          "scene": {
           "xaxis": {
            "backgroundcolor": "#E5ECF6",
            "gridcolor": "white",
            "gridwidth": 2,
            "linecolor": "white",
            "showbackground": true,
            "ticks": "",
            "zerolinecolor": "white"
           },
           "yaxis": {
            "backgroundcolor": "#E5ECF6",
            "gridcolor": "white",
            "gridwidth": 2,
            "linecolor": "white",
            "showbackground": true,
            "ticks": "",
            "zerolinecolor": "white"
           },
           "zaxis": {
            "backgroundcolor": "#E5ECF6",
            "gridcolor": "white",
            "gridwidth": 2,
            "linecolor": "white",
            "showbackground": true,
            "ticks": "",
            "zerolinecolor": "white"
           }
          },
          "shapedefaults": {
           "line": {
            "color": "#2a3f5f"
           }
          },
          "ternary": {
           "aaxis": {
            "gridcolor": "white",
            "linecolor": "white",
            "ticks": ""
           },
           "baxis": {
            "gridcolor": "white",
            "linecolor": "white",
            "ticks": ""
           },
           "bgcolor": "#E5ECF6",
           "caxis": {
            "gridcolor": "white",
            "linecolor": "white",
            "ticks": ""
           }
          },
          "title": {
           "x": 0.05
          },
          "xaxis": {
           "automargin": true,
           "gridcolor": "white",
           "linecolor": "white",
           "ticks": "",
           "title": {
            "standoff": 15
           },
           "zerolinecolor": "white",
           "zerolinewidth": 2
          },
          "yaxis": {
           "automargin": true,
           "gridcolor": "white",
           "linecolor": "white",
           "ticks": "",
           "title": {
            "standoff": 15
           },
           "zerolinecolor": "white",
           "zerolinewidth": 2
          }
         }
        },
        "xaxis": {
         "anchor": "y",
         "domain": [
          0,
          1
         ],
         "title": {
          "text": "Aspartate_Aminotransferase"
         }
        },
        "yaxis": {
         "anchor": "x",
         "domain": [
          0,
          1
         ],
         "title": {
          "text": "count"
         },
         "type": "log"
        }
       }
      }
     },
     "metadata": {},
     "output_type": "display_data"
    },
    {
     "data": {
      "application/vnd.plotly.v1+json": {
       "config": {
        "plotlyServerURL": "https://plot.ly"
       },
       "data": [
        {
         "alignmentgroup": "True",
         "bingroup": "x",
         "hovertemplate": "Dataset=1<br>Total_Protiens=%{x}<br>count=%{y}<extra></extra>",
         "legendgroup": "1",
         "marker": {
          "color": "#636efa",
          "pattern": {
           "shape": ""
          }
         },
         "name": "1",
         "offsetgroup": "1",
         "orientation": "v",
         "showlegend": true,
         "type": "histogram",
         "x": [
          6.8,
          7.5,
          7,
          6.8,
          7.3,
          7.6,
          7,
          6.7,
          6.8,
          5.9,
          7.4,
          8.1,
          5.8,
          7.6,
          6.8,
          6.8,
          7.3,
          7,
          6.4,
          4.3,
          5,
          5,
          7.2,
          5.2,
          4.9,
          6.9,
          4.3,
          5.8,
          6.2,
          5.1,
          6.4,
          6.8,
          4.9,
          6,
          6.2,
          5.7,
          6.6,
          6.8,
          6.3,
          5.8,
          5.8,
          5.2,
          6,
          7.2,
          7.2,
          5.1,
          6.5,
          5.6,
          6,
          6.4,
          6.3,
          5.5,
          4.4,
          4.4,
          6.6,
          5.8,
          5.3,
          4.6,
          4.7,
          4.7,
          5.1,
          5.4,
          7.5,
          6.7,
          6.2,
          7.5,
          7.1,
          7.3,
          6.8,
          7.4,
          7,
          6.8,
          4.4,
          7.1,
          4,
          5.9,
          6.9,
          6.9,
          5.5,
          5.7,
          5,
          5.3,
          5.7,
          5.6,
          5.4,
          7.1,
          6.6,
          6.3,
          6,
          6.5,
          8,
          5.1,
          6,
          6.6,
          6.8,
          7,
          6.4,
          5.5,
          5.5,
          6.1,
          7.1,
          5.6,
          5.6,
          5.6,
          5.5,
          5.3,
          7.2,
          7.1,
          5.9,
          6,
          5.6,
          5.8,
          6.2,
          5.8,
          5.8,
          7.2,
          5.5,
          6.2,
          5.4,
          7.4,
          7.4,
          7,
          6.2,
          5.6,
          6.9,
          6.8,
          6.2,
          6.6,
          5,
          6,
          6,
          7.3,
          5.7,
          5.3,
          5.1,
          5.5,
          2.7,
          3,
          5.4,
          6.9,
          7.8,
          4,
          4.5,
          6.6,
          6.6,
          6.6,
          5.2,
          6,
          5.7,
          6.1,
          5,
          5,
          7.6,
          7,
          6.7,
          6.1,
          6.6,
          4.1,
          7,
          7.5,
          7.2,
          7,
          6.4,
          5,
          7.3,
          8,
          5.7,
          7.9,
          8,
          6.4,
          6,
          8.5,
          7.9,
          6.2,
          7.7,
          4.5,
          8,
          6.8,
          6.5,
          8.2,
          8.5,
          6.3,
          6.1,
          6.1,
          5.9,
          5,
          7,
          6.5,
          5.9,
          6,
          6.2,
          5.6,
          5.2,
          5.4,
          7.5,
          6.9,
          7,
          6.3,
          7.4,
          5.7,
          2.8,
          9.5,
          8.2,
          9.6,
          8,
          6,
          8,
          8.3,
          6,
          7,
          8,
          7.9,
          8.6,
          7.5,
          7,
          8.6,
          7.1,
          8.3,
          8,
          7.9,
          7.9,
          6.7,
          6.8,
          6.9,
          7.3,
          4.6,
          8.2,
          8,
          8.1,
          7.2,
          7.8,
          6.8,
          7.8,
          5.8,
          5.2,
          7.1,
          5.4,
          6.1,
          5.4,
          6.2,
          7.4,
          8.9,
          6.2,
          6.4,
          6.1,
          5.9,
          6.2,
          6.6,
          5.6,
          5.6,
          6.9,
          7,
          6.1,
          5.7,
          5.3,
          8.2,
          7.2,
          7.5,
          8.5,
          6.8,
          5.6,
          6.6,
          7.2,
          7,
          7.8,
          8.7,
          6.8,
          7,
          7.3,
          7.3,
          8.1,
          6.7,
          6.5,
          7.4,
          6.9,
          7.3,
          6.3,
          6,
          6.9,
          6.3,
          8,
          5.9,
          6.4,
          6.3,
          7.1,
          6,
          6.8,
          8.1,
          6.8,
          7.6,
          7.2,
          7.5,
          6.5,
          5,
          7.1,
          3.6,
          6.3,
          7,
          6.7,
          6.4,
          6.9,
          7,
          4.3,
          7,
          5.5,
          4.8,
          7.5,
          6.2,
          5.2,
          3.8,
          6.2,
          7,
          4.1,
          4.6,
          6.2,
          5.5,
          7.7,
          6,
          6.2,
          6,
          7.2,
          7.1,
          7.1,
          6.8,
          3.6,
          5.7,
          5.5,
          6.8,
          6.4,
          8,
          5.3,
          4.4,
          7.1,
          5.5,
          5.1,
          6.9,
          7.3,
          7.3,
          7.2,
          5,
          6.2,
          6.7,
          6,
          6.7,
          7.9,
          6.5,
          8,
          7.2,
          6.5,
          7.2,
          6,
          5.9,
          4.9,
          8.1,
          5.5,
          5.8,
          5.6,
          7.5,
          7.5,
          5.4,
          6.8,
          6.9,
          8.4,
          6.9,
          6.7,
          8,
          7.2,
          9.2,
          8.6,
          7.1,
          7.9,
          4.8,
          6.4,
          7.1,
          6.3,
          5.1,
          7.9,
          3.6,
          6.1,
          6.9,
          7.6,
          6.4,
          7.6,
          7,
          5.4,
          7.1,
          6.9,
          7.8,
          5.6,
          5.8,
          7,
          6.5,
          7,
          6.1,
          6.2,
          7.5,
          7.5,
          6.5,
          6.9,
          7.8,
          7.2,
          6.6,
          6,
          6.9,
          7.1,
          5.4,
          6.9,
          5.6,
          6.2,
          6.6,
          7.9,
          5.3,
          5.4,
          6,
          6.4,
          6.8
         ],
         "xaxis": "x",
         "yaxis": "y"
        },
        {
         "alignmentgroup": "True",
         "bingroup": "x",
         "hovertemplate": "Dataset=2<br>Total_Protiens=%{x}<br>count=%{y}<extra></extra>",
         "legendgroup": "2",
         "marker": {
          "color": "#EF553B",
          "pattern": {
           "shape": ""
          }
         },
         "name": "2",
         "offsetgroup": "2",
         "orientation": "v",
         "showlegend": true,
         "type": "histogram",
         "x": [
          7.4,
          7,
          5.5,
          7.3,
          6,
          3.9,
          6,
          5.2,
          5.6,
          5.6,
          7.2,
          4.9,
          6.1,
          7,
          6.5,
          8,
          5.5,
          5.5,
          6.3,
          5.2,
          6.2,
          5.4,
          7.2,
          3.7,
          5.3,
          6.1,
          5.1,
          5.1,
          6,
          6,
          5.9,
          5.5,
          6.1,
          5.7,
          5.6,
          5.9,
          6.9,
          3.9,
          5.8,
          6.5,
          6.2,
          5.4,
          6.9,
          6.5,
          3.8,
          6,
          5.2,
          6,
          5.7,
          6.1,
          6.1,
          6.4,
          6.4,
          5.5,
          5,
          6.2,
          4.8,
          7.1,
          5.3,
          6.7,
          7.9,
          7.3,
          8,
          7,
          5.2,
          7.1,
          6.4,
          7.4,
          8,
          6.5,
          8.2,
          6.4,
          7.4,
          6,
          8,
          7.8,
          7.7,
          6.9,
          7.4,
          8.2,
          8.4,
          7.9,
          8.5,
          7.9,
          6.7,
          7.1,
          8.1,
          6.7,
          6.7,
          8.3,
          7.6,
          6,
          7.3,
          5.9,
          7,
          8.2,
          6.6,
          8,
          8.4,
          6.8,
          6.2,
          8.5,
          6.8,
          5.3,
          7.2,
          6.1,
          7.2,
          7.6,
          7,
          6.1,
          7.3,
          4.9,
          7.5,
          6.3,
          6.4,
          6.3,
          6.7,
          6.9,
          4.6,
          5.2,
          7.1,
          7.1,
          6.5,
          5.6,
          6.9,
          6.7,
          7.6,
          7.5,
          7.1,
          6.3,
          7.3,
          7,
          7.4,
          6.9,
          4.5,
          5.1,
          4.9,
          6.8,
          6.6,
          5.8,
          6.8,
          6,
          7.9,
          7.9,
          7.8,
          7,
          5.9,
          6.8,
          5.2,
          6.1,
          9.2,
          5.8,
          6.8,
          8,
          7,
          8.2,
          8,
          7.2,
          7,
          6.6,
          7.3,
          4.5,
          6.2,
          5.9,
          7.8,
          5.9,
          7.3
         ],
         "xaxis": "x",
         "yaxis": "y"
        }
       ],
       "layout": {
        "barmode": "relative",
        "legend": {
         "title": {
          "text": "Dataset"
         },
         "tracegroupgap": 0
        },
        "margin": {
         "t": 60
        },
        "template": {
         "data": {
          "bar": [
           {
            "error_x": {
             "color": "#2a3f5f"
            },
            "error_y": {
             "color": "#2a3f5f"
            },
            "marker": {
             "line": {
              "color": "#E5ECF6",
              "width": 0.5
             },
             "pattern": {
              "fillmode": "overlay",
              "size": 10,
              "solidity": 0.2
             }
            },
            "type": "bar"
           }
          ],
          "barpolar": [
           {
            "marker": {
             "line": {
              "color": "#E5ECF6",
              "width": 0.5
             },
             "pattern": {
              "fillmode": "overlay",
              "size": 10,
              "solidity": 0.2
             }
            },
            "type": "barpolar"
           }
          ],
          "carpet": [
           {
            "aaxis": {
             "endlinecolor": "#2a3f5f",
             "gridcolor": "white",
             "linecolor": "white",
             "minorgridcolor": "white",
             "startlinecolor": "#2a3f5f"
            },
            "baxis": {
             "endlinecolor": "#2a3f5f",
             "gridcolor": "white",
             "linecolor": "white",
             "minorgridcolor": "white",
             "startlinecolor": "#2a3f5f"
            },
            "type": "carpet"
           }
          ],
          "choropleth": [
           {
            "colorbar": {
             "outlinewidth": 0,
             "ticks": ""
            },
            "type": "choropleth"
           }
          ],
          "contour": [
           {
            "colorbar": {
             "outlinewidth": 0,
             "ticks": ""
            },
            "colorscale": [
             [
              0,
              "#0d0887"
             ],
             [
              0.1111111111111111,
              "#46039f"
             ],
             [
              0.2222222222222222,
              "#7201a8"
             ],
             [
              0.3333333333333333,
              "#9c179e"
             ],
             [
              0.4444444444444444,
              "#bd3786"
             ],
             [
              0.5555555555555556,
              "#d8576b"
             ],
             [
              0.6666666666666666,
              "#ed7953"
             ],
             [
              0.7777777777777778,
              "#fb9f3a"
             ],
             [
              0.8888888888888888,
              "#fdca26"
             ],
             [
              1,
              "#f0f921"
             ]
            ],
            "type": "contour"
           }
          ],
          "contourcarpet": [
           {
            "colorbar": {
             "outlinewidth": 0,
             "ticks": ""
            },
            "type": "contourcarpet"
           }
          ],
          "heatmap": [
           {
            "colorbar": {
             "outlinewidth": 0,
             "ticks": ""
            },
            "colorscale": [
             [
              0,
              "#0d0887"
             ],
             [
              0.1111111111111111,
              "#46039f"
             ],
             [
              0.2222222222222222,
              "#7201a8"
             ],
             [
              0.3333333333333333,
              "#9c179e"
             ],
             [
              0.4444444444444444,
              "#bd3786"
             ],
             [
              0.5555555555555556,
              "#d8576b"
             ],
             [
              0.6666666666666666,
              "#ed7953"
             ],
             [
              0.7777777777777778,
              "#fb9f3a"
             ],
             [
              0.8888888888888888,
              "#fdca26"
             ],
             [
              1,
              "#f0f921"
             ]
            ],
            "type": "heatmap"
           }
          ],
          "heatmapgl": [
           {
            "colorbar": {
             "outlinewidth": 0,
             "ticks": ""
            },
            "colorscale": [
             [
              0,
              "#0d0887"
             ],
             [
              0.1111111111111111,
              "#46039f"
             ],
             [
              0.2222222222222222,
              "#7201a8"
             ],
             [
              0.3333333333333333,
              "#9c179e"
             ],
             [
              0.4444444444444444,
              "#bd3786"
             ],
             [
              0.5555555555555556,
              "#d8576b"
             ],
             [
              0.6666666666666666,
              "#ed7953"
             ],
             [
              0.7777777777777778,
              "#fb9f3a"
             ],
             [
              0.8888888888888888,
              "#fdca26"
             ],
             [
              1,
              "#f0f921"
             ]
            ],
            "type": "heatmapgl"
           }
          ],
          "histogram": [
           {
            "marker": {
             "pattern": {
              "fillmode": "overlay",
              "size": 10,
              "solidity": 0.2
             }
            },
            "type": "histogram"
           }
          ],
          "histogram2d": [
           {
            "colorbar": {
             "outlinewidth": 0,
             "ticks": ""
            },
            "colorscale": [
             [
              0,
              "#0d0887"
             ],
             [
              0.1111111111111111,
              "#46039f"
             ],
             [
              0.2222222222222222,
              "#7201a8"
             ],
             [
              0.3333333333333333,
              "#9c179e"
             ],
             [
              0.4444444444444444,
              "#bd3786"
             ],
             [
              0.5555555555555556,
              "#d8576b"
             ],
             [
              0.6666666666666666,
              "#ed7953"
             ],
             [
              0.7777777777777778,
              "#fb9f3a"
             ],
             [
              0.8888888888888888,
              "#fdca26"
             ],
             [
              1,
              "#f0f921"
             ]
            ],
            "type": "histogram2d"
           }
          ],
          "histogram2dcontour": [
           {
            "colorbar": {
             "outlinewidth": 0,
             "ticks": ""
            },
            "colorscale": [
             [
              0,
              "#0d0887"
             ],
             [
              0.1111111111111111,
              "#46039f"
             ],
             [
              0.2222222222222222,
              "#7201a8"
             ],
             [
              0.3333333333333333,
              "#9c179e"
             ],
             [
              0.4444444444444444,
              "#bd3786"
             ],
             [
              0.5555555555555556,
              "#d8576b"
             ],
             [
              0.6666666666666666,
              "#ed7953"
             ],
             [
              0.7777777777777778,
              "#fb9f3a"
             ],
             [
              0.8888888888888888,
              "#fdca26"
             ],
             [
              1,
              "#f0f921"
             ]
            ],
            "type": "histogram2dcontour"
           }
          ],
          "mesh3d": [
           {
            "colorbar": {
             "outlinewidth": 0,
             "ticks": ""
            },
            "type": "mesh3d"
           }
          ],
          "parcoords": [
           {
            "line": {
             "colorbar": {
              "outlinewidth": 0,
              "ticks": ""
             }
            },
            "type": "parcoords"
           }
          ],
          "pie": [
           {
            "automargin": true,
            "type": "pie"
           }
          ],
          "scatter": [
           {
            "fillpattern": {
             "fillmode": "overlay",
             "size": 10,
             "solidity": 0.2
            },
            "type": "scatter"
           }
          ],
          "scatter3d": [
           {
            "line": {
             "colorbar": {
              "outlinewidth": 0,
              "ticks": ""
             }
            },
            "marker": {
             "colorbar": {
              "outlinewidth": 0,
              "ticks": ""
             }
            },
            "type": "scatter3d"
           }
          ],
          "scattercarpet": [
           {
            "marker": {
             "colorbar": {
              "outlinewidth": 0,
              "ticks": ""
             }
            },
            "type": "scattercarpet"
           }
          ],
          "scattergeo": [
           {
            "marker": {
             "colorbar": {
              "outlinewidth": 0,
              "ticks": ""
             }
            },
            "type": "scattergeo"
           }
          ],
          "scattergl": [
           {
            "marker": {
             "colorbar": {
              "outlinewidth": 0,
              "ticks": ""
             }
            },
            "type": "scattergl"
           }
          ],
          "scattermapbox": [
           {
            "marker": {
             "colorbar": {
              "outlinewidth": 0,
              "ticks": ""
             }
            },
            "type": "scattermapbox"
           }
          ],
          "scatterpolar": [
           {
            "marker": {
             "colorbar": {
              "outlinewidth": 0,
              "ticks": ""
             }
            },
            "type": "scatterpolar"
           }
          ],
          "scatterpolargl": [
           {
            "marker": {
             "colorbar": {
              "outlinewidth": 0,
              "ticks": ""
             }
            },
            "type": "scatterpolargl"
           }
          ],
          "scatterternary": [
           {
            "marker": {
             "colorbar": {
              "outlinewidth": 0,
              "ticks": ""
             }
            },
            "type": "scatterternary"
           }
          ],
          "surface": [
           {
            "colorbar": {
             "outlinewidth": 0,
             "ticks": ""
            },
            "colorscale": [
             [
              0,
              "#0d0887"
             ],
             [
              0.1111111111111111,
              "#46039f"
             ],
             [
              0.2222222222222222,
              "#7201a8"
             ],
             [
              0.3333333333333333,
              "#9c179e"
             ],
             [
              0.4444444444444444,
              "#bd3786"
             ],
             [
              0.5555555555555556,
              "#d8576b"
             ],
             [
              0.6666666666666666,
              "#ed7953"
             ],
             [
              0.7777777777777778,
              "#fb9f3a"
             ],
             [
              0.8888888888888888,
              "#fdca26"
             ],
             [
              1,
              "#f0f921"
             ]
            ],
            "type": "surface"
           }
          ],
          "table": [
           {
            "cells": {
             "fill": {
              "color": "#EBF0F8"
             },
             "line": {
              "color": "white"
             }
            },
            "header": {
             "fill": {
              "color": "#C8D4E3"
             },
             "line": {
              "color": "white"
             }
            },
            "type": "table"
           }
          ]
         },
         "layout": {
          "annotationdefaults": {
           "arrowcolor": "#2a3f5f",
           "arrowhead": 0,
           "arrowwidth": 1
          },
          "autotypenumbers": "strict",
          "coloraxis": {
           "colorbar": {
            "outlinewidth": 0,
            "ticks": ""
           }
          },
          "colorscale": {
           "diverging": [
            [
             0,
             "#8e0152"
            ],
            [
             0.1,
             "#c51b7d"
            ],
            [
             0.2,
             "#de77ae"
            ],
            [
             0.3,
             "#f1b6da"
            ],
            [
             0.4,
             "#fde0ef"
            ],
            [
             0.5,
             "#f7f7f7"
            ],
            [
             0.6,
             "#e6f5d0"
            ],
            [
             0.7,
             "#b8e186"
            ],
            [
             0.8,
             "#7fbc41"
            ],
            [
             0.9,
             "#4d9221"
            ],
            [
             1,
             "#276419"
            ]
           ],
           "sequential": [
            [
             0,
             "#0d0887"
            ],
            [
             0.1111111111111111,
             "#46039f"
            ],
            [
             0.2222222222222222,
             "#7201a8"
            ],
            [
             0.3333333333333333,
             "#9c179e"
            ],
            [
             0.4444444444444444,
             "#bd3786"
            ],
            [
             0.5555555555555556,
             "#d8576b"
            ],
            [
             0.6666666666666666,
             "#ed7953"
            ],
            [
             0.7777777777777778,
             "#fb9f3a"
            ],
            [
             0.8888888888888888,
             "#fdca26"
            ],
            [
             1,
             "#f0f921"
            ]
           ],
           "sequentialminus": [
            [
             0,
             "#0d0887"
            ],
            [
             0.1111111111111111,
             "#46039f"
            ],
            [
             0.2222222222222222,
             "#7201a8"
            ],
            [
             0.3333333333333333,
             "#9c179e"
            ],
            [
             0.4444444444444444,
             "#bd3786"
            ],
            [
             0.5555555555555556,
             "#d8576b"
            ],
            [
             0.6666666666666666,
             "#ed7953"
            ],
            [
             0.7777777777777778,
             "#fb9f3a"
            ],
            [
             0.8888888888888888,
             "#fdca26"
            ],
            [
             1,
             "#f0f921"
            ]
           ]
          },
          "colorway": [
           "#636efa",
           "#EF553B",
           "#00cc96",
           "#ab63fa",
           "#FFA15A",
           "#19d3f3",
           "#FF6692",
           "#B6E880",
           "#FF97FF",
           "#FECB52"
          ],
          "font": {
           "color": "#2a3f5f"
          },
          "geo": {
           "bgcolor": "white",
           "lakecolor": "white",
           "landcolor": "#E5ECF6",
           "showlakes": true,
           "showland": true,
           "subunitcolor": "white"
          },
          "hoverlabel": {
           "align": "left"
          },
          "hovermode": "closest",
          "mapbox": {
           "style": "light"
          },
          "paper_bgcolor": "white",
          "plot_bgcolor": "#E5ECF6",
          "polar": {
           "angularaxis": {
            "gridcolor": "white",
            "linecolor": "white",
            "ticks": ""
           },
           "bgcolor": "#E5ECF6",
           "radialaxis": {
            "gridcolor": "white",
            "linecolor": "white",
            "ticks": ""
           }
          },
          "scene": {
           "xaxis": {
            "backgroundcolor": "#E5ECF6",
            "gridcolor": "white",
            "gridwidth": 2,
            "linecolor": "white",
            "showbackground": true,
            "ticks": "",
            "zerolinecolor": "white"
           },
           "yaxis": {
            "backgroundcolor": "#E5ECF6",
            "gridcolor": "white",
            "gridwidth": 2,
            "linecolor": "white",
            "showbackground": true,
            "ticks": "",
            "zerolinecolor": "white"
           },
           "zaxis": {
            "backgroundcolor": "#E5ECF6",
            "gridcolor": "white",
            "gridwidth": 2,
            "linecolor": "white",
            "showbackground": true,
            "ticks": "",
            "zerolinecolor": "white"
           }
          },
          "shapedefaults": {
           "line": {
            "color": "#2a3f5f"
           }
          },
          "ternary": {
           "aaxis": {
            "gridcolor": "white",
            "linecolor": "white",
            "ticks": ""
           },
           "baxis": {
            "gridcolor": "white",
            "linecolor": "white",
            "ticks": ""
           },
           "bgcolor": "#E5ECF6",
           "caxis": {
            "gridcolor": "white",
            "linecolor": "white",
            "ticks": ""
           }
          },
          "title": {
           "x": 0.05
          },
          "xaxis": {
           "automargin": true,
           "gridcolor": "white",
           "linecolor": "white",
           "ticks": "",
           "title": {
            "standoff": 15
           },
           "zerolinecolor": "white",
           "zerolinewidth": 2
          },
          "yaxis": {
           "automargin": true,
           "gridcolor": "white",
           "linecolor": "white",
           "ticks": "",
           "title": {
            "standoff": 15
           },
           "zerolinecolor": "white",
           "zerolinewidth": 2
          }
         }
        },
        "xaxis": {
         "anchor": "y",
         "domain": [
          0,
          1
         ],
         "title": {
          "text": "Total_Protiens"
         }
        },
        "yaxis": {
         "anchor": "x",
         "domain": [
          0,
          1
         ],
         "title": {
          "text": "count"
         },
         "type": "log"
        }
       }
      }
     },
     "metadata": {},
     "output_type": "display_data"
    },
    {
     "data": {
      "application/vnd.plotly.v1+json": {
       "config": {
        "plotlyServerURL": "https://plot.ly"
       },
       "data": [
        {
         "alignmentgroup": "True",
         "bingroup": "x",
         "hovertemplate": "Dataset=1<br>Albumin=%{x}<br>count=%{y}<extra></extra>",
         "legendgroup": "1",
         "marker": {
          "color": "#636efa",
          "pattern": {
           "shape": ""
          }
         },
         "name": "1",
         "offsetgroup": "1",
         "orientation": "v",
         "showlegend": true,
         "type": "histogram",
         "x": [
          3.3,
          3.2,
          3.3,
          3.4,
          2.4,
          4.4,
          3.5,
          3.6,
          3.4,
          2.7,
          3,
          4.1,
          2.7,
          4.4,
          3.1,
          3.1,
          2.6,
          2.4,
          3.1,
          1.6,
          2.7,
          2.7,
          4,
          1.5,
          2.9,
          3.3,
          2,
          2.2,
          3.3,
          2.6,
          3.2,
          3.9,
          2.8,
          3,
          1.8,
          2.5,
          3.4,
          3.9,
          3.5,
          2,
          2,
          2,
          3,
          3.6,
          3.6,
          2.1,
          2.5,
          2.5,
          3.7,
          3.8,
          3.7,
          3,
          1.8,
          2,
          3.6,
          2.9,
          2.3,
          2.1,
          1.6,
          1.8,
          2.9,
          3,
          4.3,
          3.9,
          3.1,
          3.2,
          3.3,
          3.2,
          3,
          3,
          3,
          2.9,
          2.2,
          3.3,
          1.7,
          3.1,
          3.7,
          4.2,
          2.5,
          2.2,
          2,
          2,
          3.3,
          2.8,
          2.6,
          3.5,
          2.8,
          3.1,
          2.8,
          3.2,
          3.9,
          2.3,
          2.7,
          2.9,
          3.6,
          2.4,
          2.5,
          2.5,
          2.5,
          3.7,
          2.2,
          2.7,
          2.7,
          2.9,
          1.8,
          2.8,
          4.5,
          4,
          2.9,
          2.9,
          2.7,
          2.4,
          3.1,
          2,
          2,
          3.9,
          2.1,
          2.8,
          1.8,
          4.3,
          4.3,
          2.4,
          2.5,
          1.8,
          3.3,
          3.1,
          3,
          3.3,
          1.6,
          3.7,
          3.7,
          4,
          2.6,
          2.2,
          1.8,
          1.8,
          0.9,
          1.5,
          2.5,
          4.1,
          3.2,
          1.6,
          1.8,
          3.7,
          3.5,
          3.5,
          1.9,
          2.1,
          2.4,
          2,
          2.4,
          2.4,
          4,
          2.9,
          3.8,
          2.8,
          3.9,
          2.4,
          3.2,
          3.4,
          3.6,
          4.3,
          3.4,
          2.5,
          4.3,
          4,
          3.1,
          4,
          4,
          3.8,
          3,
          4.3,
          3.1,
          3,
          3.5,
          2,
          4,
          3.1,
          3.1,
          4.1,
          5.5,
          2.5,
          2.8,
          2.7,
          2.7,
          2.6,
          3,
          3,
          2.6,
          3,
          3.5,
          3,
          2.1,
          2,
          3.9,
          4,
          3,
          3.8,
          3.5,
          2.1,
          1.6,
          4.9,
          4.1,
          4.7,
          4,
          2.8,
          4,
          4.2,
          3,
          3.4,
          4,
          3.9,
          4.7,
          3.7,
          4,
          4.3,
          3.4,
          4.5,
          3.9,
          4,
          3.8,
          3.2,
          3.5,
          3.8,
          2.4,
          2.3,
          4.1,
          4.2,
          4.6,
          3.5,
          4.3,
          3.4,
          4.5,
          3.4,
          2.8,
          3.9,
          2.7,
          2.7,
          2.2,
          2.9,
          4,
          4.9,
          3.2,
          2.9,
          2.9,
          2.6,
          2.9,
          3.1,
          2,
          2,
          3.4,
          3.5,
          2.8,
          2.9,
          2.1,
          4.3,
          3.9,
          3.9,
          3.9,
          3,
          2.6,
          3.3,
          3.9,
          4,
          3.4,
          5.5,
          3.4,
          3.7,
          3.3,
          3.4,
          3.3,
          3.2,
          2.8,
          4.1,
          3.7,
          3.8,
          3.2,
          3,
          3.7,
          3.1,
          4,
          2.5,
          3.4,
          3.1,
          3.7,
          3,
          1.6,
          4,
          3.9,
          4,
          3.7,
          3.6,
          3.3,
          1.9,
          2.9,
          2.7,
          2.7,
          3,
          2.9,
          2.3,
          3.4,
          3,
          2.5,
          3,
          2,
          1.9,
          4.6,
          3.1,
          2.5,
          1.4,
          3.1,
          4.3,
          1.8,
          1.9,
          3.2,
          2.7,
          3.5,
          2.6,
          3.1,
          3,
          3.2,
          3.5,
          3,
          3.4,
          0.9,
          1.5,
          2.5,
          4.1,
          2.5,
          4,
          2.1,
          2,
          4.1,
          2.7,
          2.4,
          3.6,
          3.2,
          4,
          3.8,
          2.1,
          2.8,
          3,
          2.9,
          3.6,
          3.3,
          3.9,
          4.8,
          3,
          4,
          2.9,
          2.4,
          2.5,
          2.7,
          2.5,
          2.7,
          3.1,
          2.4,
          3.9,
          3.3,
          3,
          3.4,
          3,
          4.2,
          3,
          3,
          4,
          3.6,
          2,
          4,
          2.1,
          3.7,
          2.6,
          2.8,
          3.4,
          2.1,
          1.8,
          2.7,
          1,
          2,
          2.6,
          3.6,
          2.7,
          4,
          3.2,
          2.3,
          2.3,
          2.8,
          4.9,
          2.4,
          2.9,
          2.7,
          3,
          3,
          3.1,
          3.1,
          4,
          2.6,
          2.2,
          2,
          2.6,
          2.6,
          2.1,
          1.7,
          3.5,
          4,
          2.6,
          3,
          4,
          1.9,
          2.4,
          2.5,
          2.2,
          2.6,
          3.2,
          3.2,
          3.4
         ],
         "xaxis": "x",
         "yaxis": "y"
        },
        {
         "alignmentgroup": "True",
         "bingroup": "x",
         "hovertemplate": "Dataset=2<br>Albumin=%{x}<br>count=%{y}<extra></extra>",
         "legendgroup": "2",
         "marker": {
          "color": "#EF553B",
          "pattern": {
           "shape": ""
          }
         },
         "name": "2",
         "offsetgroup": "2",
         "orientation": "v",
         "showlegend": true,
         "type": "histogram",
         "x": [
          4.1,
          3.4,
          2.3,
          3.5,
          3.9,
          1.9,
          3.2,
          2.9,
          3,
          3,
          3.9,
          2.6,
          2.3,
          3.6,
          3.2,
          4,
          2.7,
          3.2,
          3,
          2.5,
          3.8,
          2.8,
          3.6,
          1.6,
          2.3,
          3.3,
          2.6,
          2.6,
          2.2,
          2.2,
          2.8,
          2.3,
          3.3,
          2.3,
          2.3,
          3.5,
          4.1,
          1.7,
          2.5,
          3.5,
          3.3,
          2.9,
          3.8,
          3.6,
          1.4,
          3,
          2.5,
          3.1,
          3,
          3,
          3.1,
          3.5,
          3.3,
          3.1,
          3.3,
          3.2,
          2,
          4.5,
          2.6,
          3.8,
          3.8,
          4.7,
          4,
          3.9,
          2.7,
          4.2,
          3.8,
          4.3,
          4,
          3.2,
          4.1,
          3.6,
          4.2,
          2.1,
          4,
          4.2,
          4.3,
          4.4,
          4.1,
          4.4,
          4.2,
          3.7,
          4.8,
          4.5,
          3.7,
          3.7,
          4.2,
          3.5,
          3.1,
          4.4,
          3.9,
          2.9,
          4.1,
          3.1,
          4,
          5,
          3.6,
          4.6,
          4.9,
          2.9,
          2.9,
          4.4,
          3.5,
          2.4,
          4.1,
          2.9,
          4.4,
          4.3,
          4,
          3,
          3.7,
          2.5,
          4.2,
          3.2,
          3.2,
          3.6,
          3.7,
          2.9,
          2.1,
          2.2,
          4.2,
          3.7,
          3.9,
          2.5,
          3.3,
          2.9,
          3.8,
          3.6,
          4.5,
          2.8,
          4,
          3.5,
          3.1,
          3.4,
          1.4,
          2,
          1.9,
          3.1,
          2.9,
          2.4,
          3.9,
          2.7,
          4.1,
          4.2,
          4.3,
          3.5,
          3.2,
          3.9,
          1.8,
          3,
          4.6,
          2.6,
          3.7,
          3.9,
          3.8,
          3.2,
          4,
          3.5,
          3,
          3,
          4.1,
          2.2,
          3,
          2.9,
          4,
          1.6,
          4.4
         ],
         "xaxis": "x",
         "yaxis": "y"
        }
       ],
       "layout": {
        "barmode": "relative",
        "legend": {
         "title": {
          "text": "Dataset"
         },
         "tracegroupgap": 0
        },
        "margin": {
         "t": 60
        },
        "template": {
         "data": {
          "bar": [
           {
            "error_x": {
             "color": "#2a3f5f"
            },
            "error_y": {
             "color": "#2a3f5f"
            },
            "marker": {
             "line": {
              "color": "#E5ECF6",
              "width": 0.5
             },
             "pattern": {
              "fillmode": "overlay",
              "size": 10,
              "solidity": 0.2
             }
            },
            "type": "bar"
           }
          ],
          "barpolar": [
           {
            "marker": {
             "line": {
              "color": "#E5ECF6",
              "width": 0.5
             },
             "pattern": {
              "fillmode": "overlay",
              "size": 10,
              "solidity": 0.2
             }
            },
            "type": "barpolar"
           }
          ],
          "carpet": [
           {
            "aaxis": {
             "endlinecolor": "#2a3f5f",
             "gridcolor": "white",
             "linecolor": "white",
             "minorgridcolor": "white",
             "startlinecolor": "#2a3f5f"
            },
            "baxis": {
             "endlinecolor": "#2a3f5f",
             "gridcolor": "white",
             "linecolor": "white",
             "minorgridcolor": "white",
             "startlinecolor": "#2a3f5f"
            },
            "type": "carpet"
           }
          ],
          "choropleth": [
           {
            "colorbar": {
             "outlinewidth": 0,
             "ticks": ""
            },
            "type": "choropleth"
           }
          ],
          "contour": [
           {
            "colorbar": {
             "outlinewidth": 0,
             "ticks": ""
            },
            "colorscale": [
             [
              0,
              "#0d0887"
             ],
             [
              0.1111111111111111,
              "#46039f"
             ],
             [
              0.2222222222222222,
              "#7201a8"
             ],
             [
              0.3333333333333333,
              "#9c179e"
             ],
             [
              0.4444444444444444,
              "#bd3786"
             ],
             [
              0.5555555555555556,
              "#d8576b"
             ],
             [
              0.6666666666666666,
              "#ed7953"
             ],
             [
              0.7777777777777778,
              "#fb9f3a"
             ],
             [
              0.8888888888888888,
              "#fdca26"
             ],
             [
              1,
              "#f0f921"
             ]
            ],
            "type": "contour"
           }
          ],
          "contourcarpet": [
           {
            "colorbar": {
             "outlinewidth": 0,
             "ticks": ""
            },
            "type": "contourcarpet"
           }
          ],
          "heatmap": [
           {
            "colorbar": {
             "outlinewidth": 0,
             "ticks": ""
            },
            "colorscale": [
             [
              0,
              "#0d0887"
             ],
             [
              0.1111111111111111,
              "#46039f"
             ],
             [
              0.2222222222222222,
              "#7201a8"
             ],
             [
              0.3333333333333333,
              "#9c179e"
             ],
             [
              0.4444444444444444,
              "#bd3786"
             ],
             [
              0.5555555555555556,
              "#d8576b"
             ],
             [
              0.6666666666666666,
              "#ed7953"
             ],
             [
              0.7777777777777778,
              "#fb9f3a"
             ],
             [
              0.8888888888888888,
              "#fdca26"
             ],
             [
              1,
              "#f0f921"
             ]
            ],
            "type": "heatmap"
           }
          ],
          "heatmapgl": [
           {
            "colorbar": {
             "outlinewidth": 0,
             "ticks": ""
            },
            "colorscale": [
             [
              0,
              "#0d0887"
             ],
             [
              0.1111111111111111,
              "#46039f"
             ],
             [
              0.2222222222222222,
              "#7201a8"
             ],
             [
              0.3333333333333333,
              "#9c179e"
             ],
             [
              0.4444444444444444,
              "#bd3786"
             ],
             [
              0.5555555555555556,
              "#d8576b"
             ],
             [
              0.6666666666666666,
              "#ed7953"
             ],
             [
              0.7777777777777778,
              "#fb9f3a"
             ],
             [
              0.8888888888888888,
              "#fdca26"
             ],
             [
              1,
              "#f0f921"
             ]
            ],
            "type": "heatmapgl"
           }
          ],
          "histogram": [
           {
            "marker": {
             "pattern": {
              "fillmode": "overlay",
              "size": 10,
              "solidity": 0.2
             }
            },
            "type": "histogram"
           }
          ],
          "histogram2d": [
           {
            "colorbar": {
             "outlinewidth": 0,
             "ticks": ""
            },
            "colorscale": [
             [
              0,
              "#0d0887"
             ],
             [
              0.1111111111111111,
              "#46039f"
             ],
             [
              0.2222222222222222,
              "#7201a8"
             ],
             [
              0.3333333333333333,
              "#9c179e"
             ],
             [
              0.4444444444444444,
              "#bd3786"
             ],
             [
              0.5555555555555556,
              "#d8576b"
             ],
             [
              0.6666666666666666,
              "#ed7953"
             ],
             [
              0.7777777777777778,
              "#fb9f3a"
             ],
             [
              0.8888888888888888,
              "#fdca26"
             ],
             [
              1,
              "#f0f921"
             ]
            ],
            "type": "histogram2d"
           }
          ],
          "histogram2dcontour": [
           {
            "colorbar": {
             "outlinewidth": 0,
             "ticks": ""
            },
            "colorscale": [
             [
              0,
              "#0d0887"
             ],
             [
              0.1111111111111111,
              "#46039f"
             ],
             [
              0.2222222222222222,
              "#7201a8"
             ],
             [
              0.3333333333333333,
              "#9c179e"
             ],
             [
              0.4444444444444444,
              "#bd3786"
             ],
             [
              0.5555555555555556,
              "#d8576b"
             ],
             [
              0.6666666666666666,
              "#ed7953"
             ],
             [
              0.7777777777777778,
              "#fb9f3a"
             ],
             [
              0.8888888888888888,
              "#fdca26"
             ],
             [
              1,
              "#f0f921"
             ]
            ],
            "type": "histogram2dcontour"
           }
          ],
          "mesh3d": [
           {
            "colorbar": {
             "outlinewidth": 0,
             "ticks": ""
            },
            "type": "mesh3d"
           }
          ],
          "parcoords": [
           {
            "line": {
             "colorbar": {
              "outlinewidth": 0,
              "ticks": ""
             }
            },
            "type": "parcoords"
           }
          ],
          "pie": [
           {
            "automargin": true,
            "type": "pie"
           }
          ],
          "scatter": [
           {
            "fillpattern": {
             "fillmode": "overlay",
             "size": 10,
             "solidity": 0.2
            },
            "type": "scatter"
           }
          ],
          "scatter3d": [
           {
            "line": {
             "colorbar": {
              "outlinewidth": 0,
              "ticks": ""
             }
            },
            "marker": {
             "colorbar": {
              "outlinewidth": 0,
              "ticks": ""
             }
            },
            "type": "scatter3d"
           }
          ],
          "scattercarpet": [
           {
            "marker": {
             "colorbar": {
              "outlinewidth": 0,
              "ticks": ""
             }
            },
            "type": "scattercarpet"
           }
          ],
          "scattergeo": [
           {
            "marker": {
             "colorbar": {
              "outlinewidth": 0,
              "ticks": ""
             }
            },
            "type": "scattergeo"
           }
          ],
          "scattergl": [
           {
            "marker": {
             "colorbar": {
              "outlinewidth": 0,
              "ticks": ""
             }
            },
            "type": "scattergl"
           }
          ],
          "scattermapbox": [
           {
            "marker": {
             "colorbar": {
              "outlinewidth": 0,
              "ticks": ""
             }
            },
            "type": "scattermapbox"
           }
          ],
          "scatterpolar": [
           {
            "marker": {
             "colorbar": {
              "outlinewidth": 0,
              "ticks": ""
             }
            },
            "type": "scatterpolar"
           }
          ],
          "scatterpolargl": [
           {
            "marker": {
             "colorbar": {
              "outlinewidth": 0,
              "ticks": ""
             }
            },
            "type": "scatterpolargl"
           }
          ],
          "scatterternary": [
           {
            "marker": {
             "colorbar": {
              "outlinewidth": 0,
              "ticks": ""
             }
            },
            "type": "scatterternary"
           }
          ],
          "surface": [
           {
            "colorbar": {
             "outlinewidth": 0,
             "ticks": ""
            },
            "colorscale": [
             [
              0,
              "#0d0887"
             ],
             [
              0.1111111111111111,
              "#46039f"
             ],
             [
              0.2222222222222222,
              "#7201a8"
             ],
             [
              0.3333333333333333,
              "#9c179e"
             ],
             [
              0.4444444444444444,
              "#bd3786"
             ],
             [
              0.5555555555555556,
              "#d8576b"
             ],
             [
              0.6666666666666666,
              "#ed7953"
             ],
             [
              0.7777777777777778,
              "#fb9f3a"
             ],
             [
              0.8888888888888888,
              "#fdca26"
             ],
             [
              1,
              "#f0f921"
             ]
            ],
            "type": "surface"
           }
          ],
          "table": [
           {
            "cells": {
             "fill": {
              "color": "#EBF0F8"
             },
             "line": {
              "color": "white"
             }
            },
            "header": {
             "fill": {
              "color": "#C8D4E3"
             },
             "line": {
              "color": "white"
             }
            },
            "type": "table"
           }
          ]
         },
         "layout": {
          "annotationdefaults": {
           "arrowcolor": "#2a3f5f",
           "arrowhead": 0,
           "arrowwidth": 1
          },
          "autotypenumbers": "strict",
          "coloraxis": {
           "colorbar": {
            "outlinewidth": 0,
            "ticks": ""
           }
          },
          "colorscale": {
           "diverging": [
            [
             0,
             "#8e0152"
            ],
            [
             0.1,
             "#c51b7d"
            ],
            [
             0.2,
             "#de77ae"
            ],
            [
             0.3,
             "#f1b6da"
            ],
            [
             0.4,
             "#fde0ef"
            ],
            [
             0.5,
             "#f7f7f7"
            ],
            [
             0.6,
             "#e6f5d0"
            ],
            [
             0.7,
             "#b8e186"
            ],
            [
             0.8,
             "#7fbc41"
            ],
            [
             0.9,
             "#4d9221"
            ],
            [
             1,
             "#276419"
            ]
           ],
           "sequential": [
            [
             0,
             "#0d0887"
            ],
            [
             0.1111111111111111,
             "#46039f"
            ],
            [
             0.2222222222222222,
             "#7201a8"
            ],
            [
             0.3333333333333333,
             "#9c179e"
            ],
            [
             0.4444444444444444,
             "#bd3786"
            ],
            [
             0.5555555555555556,
             "#d8576b"
            ],
            [
             0.6666666666666666,
             "#ed7953"
            ],
            [
             0.7777777777777778,
             "#fb9f3a"
            ],
            [
             0.8888888888888888,
             "#fdca26"
            ],
            [
             1,
             "#f0f921"
            ]
           ],
           "sequentialminus": [
            [
             0,
             "#0d0887"
            ],
            [
             0.1111111111111111,
             "#46039f"
            ],
            [
             0.2222222222222222,
             "#7201a8"
            ],
            [
             0.3333333333333333,
             "#9c179e"
            ],
            [
             0.4444444444444444,
             "#bd3786"
            ],
            [
             0.5555555555555556,
             "#d8576b"
            ],
            [
             0.6666666666666666,
             "#ed7953"
            ],
            [
             0.7777777777777778,
             "#fb9f3a"
            ],
            [
             0.8888888888888888,
             "#fdca26"
            ],
            [
             1,
             "#f0f921"
            ]
           ]
          },
          "colorway": [
           "#636efa",
           "#EF553B",
           "#00cc96",
           "#ab63fa",
           "#FFA15A",
           "#19d3f3",
           "#FF6692",
           "#B6E880",
           "#FF97FF",
           "#FECB52"
          ],
          "font": {
           "color": "#2a3f5f"
          },
          "geo": {
           "bgcolor": "white",
           "lakecolor": "white",
           "landcolor": "#E5ECF6",
           "showlakes": true,
           "showland": true,
           "subunitcolor": "white"
          },
          "hoverlabel": {
           "align": "left"
          },
          "hovermode": "closest",
          "mapbox": {
           "style": "light"
          },
          "paper_bgcolor": "white",
          "plot_bgcolor": "#E5ECF6",
          "polar": {
           "angularaxis": {
            "gridcolor": "white",
            "linecolor": "white",
            "ticks": ""
           },
           "bgcolor": "#E5ECF6",
           "radialaxis": {
            "gridcolor": "white",
            "linecolor": "white",
            "ticks": ""
           }
          },
          "scene": {
           "xaxis": {
            "backgroundcolor": "#E5ECF6",
            "gridcolor": "white",
            "gridwidth": 2,
            "linecolor": "white",
            "showbackground": true,
            "ticks": "",
            "zerolinecolor": "white"
           },
           "yaxis": {
            "backgroundcolor": "#E5ECF6",
            "gridcolor": "white",
            "gridwidth": 2,
            "linecolor": "white",
            "showbackground": true,
            "ticks": "",
            "zerolinecolor": "white"
           },
           "zaxis": {
            "backgroundcolor": "#E5ECF6",
            "gridcolor": "white",
            "gridwidth": 2,
            "linecolor": "white",
            "showbackground": true,
            "ticks": "",
            "zerolinecolor": "white"
           }
          },
          "shapedefaults": {
           "line": {
            "color": "#2a3f5f"
           }
          },
          "ternary": {
           "aaxis": {
            "gridcolor": "white",
            "linecolor": "white",
            "ticks": ""
           },
           "baxis": {
            "gridcolor": "white",
            "linecolor": "white",
            "ticks": ""
           },
           "bgcolor": "#E5ECF6",
           "caxis": {
            "gridcolor": "white",
            "linecolor": "white",
            "ticks": ""
           }
          },
          "title": {
           "x": 0.05
          },
          "xaxis": {
           "automargin": true,
           "gridcolor": "white",
           "linecolor": "white",
           "ticks": "",
           "title": {
            "standoff": 15
           },
           "zerolinecolor": "white",
           "zerolinewidth": 2
          },
          "yaxis": {
           "automargin": true,
           "gridcolor": "white",
           "linecolor": "white",
           "ticks": "",
           "title": {
            "standoff": 15
           },
           "zerolinecolor": "white",
           "zerolinewidth": 2
          }
         }
        },
        "xaxis": {
         "anchor": "y",
         "domain": [
          0,
          1
         ],
         "title": {
          "text": "Albumin"
         }
        },
        "yaxis": {
         "anchor": "x",
         "domain": [
          0,
          1
         ],
         "title": {
          "text": "count"
         },
         "type": "log"
        }
       }
      }
     },
     "metadata": {},
     "output_type": "display_data"
    },
    {
     "data": {
      "application/vnd.plotly.v1+json": {
       "config": {
        "plotlyServerURL": "https://plot.ly"
       },
       "data": [
        {
         "alignmentgroup": "True",
         "bingroup": "x",
         "hovertemplate": "Dataset=1<br>Albumin_and_Globulin_Ratio=%{x}<br>count=%{y}<extra></extra>",
         "legendgroup": "1",
         "marker": {
          "color": "#636efa",
          "pattern": {
           "shape": ""
          }
         },
         "name": "1",
         "offsetgroup": "1",
         "orientation": "v",
         "showlegend": true,
         "type": "histogram",
         "x": [
          0.9,
          0.74,
          0.89,
          1,
          0.4,
          1.3,
          1,
          1.1,
          1,
          0.8,
          0.6,
          1,
          0.87,
          1.3,
          0.8,
          0.8,
          0.55,
          0.5,
          0.9,
          0.6,
          1.1,
          1.1,
          1.2,
          0.4,
          1.4,
          0.9,
          0.8,
          0.61,
          1.1,
          1,
          1,
          1.34,
          1.3,
          1,
          0.4,
          0.7,
          1,
          1.3,
          1.2,
          0.5,
          0.5,
          0.6,
          1,
          1,
          1,
          0.7,
          0.6,
          0.8,
          1.6,
          1.4,
          1.4,
          1.2,
          0.6,
          0.8,
          1.2,
          1,
          0.7,
          0.8,
          0.5,
          0.6,
          1.3,
          1.25,
          1.34,
          1.4,
          1,
          0.7,
          0.8,
          0.78,
          0.7,
          0.6,
          0.7,
          0.7,
          1,
          0.8,
          0.7,
          1.1,
          1.1,
          1.55,
          0.8,
          0.62,
          0.6,
          0.6,
          1.3,
          1,
          0.9,
          0.9,
          0.7,
          0.9,
          0.8,
          0.9,
          0.95,
          0.8,
          0.8,
          0.8,
          1.1,
          0.5,
          0.6,
          0.8,
          0.8,
          1.5,
          0.4,
          0.9,
          0.9,
          1,
          0.4,
          1.1,
          1.66,
          1.2,
          0.96,
          0.9,
          0.9,
          0.7,
          1,
          0.5,
          0.5,
          1.1,
          0.6,
          0.8,
          0.5,
          1.38,
          1.38,
          0.52,
          0.6,
          0.47,
          0.9,
          0.8,
          0.93,
          1,
          0.47,
          1.6,
          1.6,
          1.2,
          0.8,
          0.7,
          0.5,
          0.48,
          0.5,
          1,
          0.8,
          1.4,
          0.69,
          0.6,
          0.6,
          1.27,
          1.12,
          1.1,
          0.5,
          0.53,
          0.75,
          0.4,
          0.9,
          0.9,
          1.1,
          0.7,
          1.3,
          0.68,
          null,
          1.4,
          0.8,
          0.8,
          1,
          1.5,
          1.1,
          1,
          1.4,
          1,
          1.1,
          1,
          1,
          1.4,
          1,
          1,
          0.6,
          0.9,
          0.8,
          0.8,
          1,
          0.8,
          null,
          1,
          1.8,
          0.6,
          0.8,
          0.7,
          0.8,
          1,
          0.7,
          0.8,
          0.8,
          1,
          1.2,
          1.1,
          0.6,
          0.5,
          1,
          1.3,
          0.7,
          1.5,
          1.8,
          0.5,
          1.3,
          1,
          1,
          1.2,
          1,
          0.8,
          1,
          1,
          1,
          0.9,
          1,
          0.9,
          1.2,
          0.9,
          1.3,
          1,
          0.9,
          1.1,
          0.9,
          1,
          0.9,
          0.8,
          1,
          1.4,
          0.4,
          1,
          1,
          1.1,
          1.3,
          0.9,
          1.2,
          1,
          1.3,
          1.4,
          1.1,
          1.2,
          1,
          0.8,
          0.6,
          0.8,
          1.1,
          1.2,
          1,
          0.8,
          0.9,
          0.7,
          0.8,
          0.8,
          0.5,
          0.5,
          0.9,
          1,
          0.8,
          1,
          0.6,
          1.1,
          1.1,
          1,
          0.8,
          0.7,
          0.8,
          1,
          1.1,
          1.3,
          0.8,
          1.7,
          1,
          1.1,
          0.8,
          0.9,
          0.6,
          0.9,
          0.7,
          1.3,
          1.1,
          1.1,
          1,
          1,
          1.1,
          0.9,
          1,
          0.7,
          1.1,
          0.9,
          1,
          1,
          0.3,
          0.9,
          1.3,
          1.1,
          1,
          0.9,
          1,
          0.6,
          0.7,
          0.7,
          0.75,
          0.7,
          0.7,
          0.5,
          0.97,
          0.7,
          1.4,
          0.75,
          0.5,
          0.6,
          1.58,
          1,
          0.9,
          0.5,
          1,
          1.5,
          0.7,
          0.7,
          1.06,
          0.96,
          0.8,
          0.7,
          1,
          1,
          0.8,
          0.9,
          0.7,
          1,
          0.3,
          0.35,
          0.8,
          1.51,
          0.64,
          1,
          0.6,
          0.8,
          1.36,
          1,
          0.88,
          1.09,
          0.7,
          1.2,
          1.11,
          1.72,
          0.8,
          0.8,
          0.93,
          1.16,
          0.7,
          1.5,
          1.5,
          0.7,
          1.6,
          0.6,
          0.6,
          0.7,
          1.2,
          0.4,
          0.9,
          1.1,
          0.7,
          1,
          0.7,
          1.2,
          1,
          0.7,
          1,
          0.7,
          0.8,
          1,
          1,
          0.3,
          0.8,
          0.4,
          0.8,
          1.1,
          0.8,
          0.9,
          0.5,
          0.5,
          0.5,
          0.3,
          0.4,
          0.6,
          0.9,
          0.7,
          1.1,
          0.8,
          0.7,
          0.4,
          2.8,
          1.6,
          0.7,
          1,
          0.6,
          0.8,
          0.7,
          1,
          1,
          1.1,
          0.5,
          0.4,
          0.4,
          0.5,
          0.5,
          0.46,
          0.39,
          1.02,
          1.2,
          0.9,
          0.7,
          2.5,
          0.4,
          0.5,
          2.5,
          0.7,
          0.9,
          1.1,
          1,
          1
         ],
         "xaxis": "x",
         "yaxis": "y"
        },
        {
         "alignmentgroup": "True",
         "bingroup": "x",
         "hovertemplate": "Dataset=2<br>Albumin_and_Globulin_Ratio=%{x}<br>count=%{y}<extra></extra>",
         "legendgroup": "2",
         "marker": {
          "color": "#EF553B",
          "pattern": {
           "shape": ""
          }
         },
         "name": "2",
         "offsetgroup": "2",
         "orientation": "v",
         "showlegend": true,
         "type": "histogram",
         "x": [
          1.2,
          0.9,
          0.7,
          0.92,
          1.85,
          0.95,
          1.1,
          1.2,
          0.8,
          0.8,
          1.18,
          1.1,
          0.6,
          1,
          0.9,
          1,
          0.9,
          1.39,
          0.9,
          0.9,
          1.58,
          1,
          1,
          0.76,
          0.7,
          1.2,
          1,
          1,
          0.5,
          0.5,
          0.9,
          0.71,
          1.1,
          0.67,
          0.6,
          1.4,
          1.4,
          0.7,
          0.75,
          1.16,
          1.1,
          1.1,
          1.2,
          1.2,
          0.58,
          1,
          0.9,
          1.06,
          1.1,
          0.9,
          1.03,
          1.2,
          1,
          1.2,
          1.9,
          1,
          0.7,
          1.7,
          0.9,
          1.3,
          0.9,
          1.8,
          1,
          1.2,
          null,
          1.4,
          1.4,
          1.38,
          1,
          0.9,
          1,
          1.2,
          1.3,
          0.5,
          1,
          1.1,
          1.2,
          1.7,
          1.2,
          1.1,
          1,
          0.9,
          null,
          1.3,
          1.2,
          1,
          1,
          1.1,
          0.8,
          1.1,
          1,
          0.9,
          1.2,
          1.1,
          1.3,
          1.5,
          1.2,
          1.3,
          1.4,
          0.7,
          0.8,
          1,
          1,
          0.8,
          1.3,
          0.9,
          1.5,
          1.3,
          1.3,
          0.9,
          1,
          1,
          1.2,
          1,
          1,
          1.3,
          1.2,
          0.7,
          0.8,
          0.7,
          1.4,
          1,
          1.5,
          0.8,
          0.9,
          0.76,
          1,
          0.92,
          1.7,
          0.8,
          1.2,
          1,
          0.7,
          0.9,
          0.45,
          0.5,
          0.6,
          0.8,
          0.7,
          0.7,
          1.3,
          0.8,
          1,
          1.1,
          1.2,
          1,
          1.18,
          1.85,
          0.52,
          0.96,
          1,
          0.8,
          1.1,
          0.9,
          1.1,
          0.6,
          1,
          0.9,
          0.7,
          0.8,
          1.2,
          0.9,
          0.9,
          0.9,
          1,
          0.37,
          1.5
         ],
         "xaxis": "x",
         "yaxis": "y"
        }
       ],
       "layout": {
        "barmode": "relative",
        "legend": {
         "title": {
          "text": "Dataset"
         },
         "tracegroupgap": 0
        },
        "margin": {
         "t": 60
        },
        "template": {
         "data": {
          "bar": [
           {
            "error_x": {
             "color": "#2a3f5f"
            },
            "error_y": {
             "color": "#2a3f5f"
            },
            "marker": {
             "line": {
              "color": "#E5ECF6",
              "width": 0.5
             },
             "pattern": {
              "fillmode": "overlay",
              "size": 10,
              "solidity": 0.2
             }
            },
            "type": "bar"
           }
          ],
          "barpolar": [
           {
            "marker": {
             "line": {
              "color": "#E5ECF6",
              "width": 0.5
             },
             "pattern": {
              "fillmode": "overlay",
              "size": 10,
              "solidity": 0.2
             }
            },
            "type": "barpolar"
           }
          ],
          "carpet": [
           {
            "aaxis": {
             "endlinecolor": "#2a3f5f",
             "gridcolor": "white",
             "linecolor": "white",
             "minorgridcolor": "white",
             "startlinecolor": "#2a3f5f"
            },
            "baxis": {
             "endlinecolor": "#2a3f5f",
             "gridcolor": "white",
             "linecolor": "white",
             "minorgridcolor": "white",
             "startlinecolor": "#2a3f5f"
            },
            "type": "carpet"
           }
          ],
          "choropleth": [
           {
            "colorbar": {
             "outlinewidth": 0,
             "ticks": ""
            },
            "type": "choropleth"
           }
          ],
          "contour": [
           {
            "colorbar": {
             "outlinewidth": 0,
             "ticks": ""
            },
            "colorscale": [
             [
              0,
              "#0d0887"
             ],
             [
              0.1111111111111111,
              "#46039f"
             ],
             [
              0.2222222222222222,
              "#7201a8"
             ],
             [
              0.3333333333333333,
              "#9c179e"
             ],
             [
              0.4444444444444444,
              "#bd3786"
             ],
             [
              0.5555555555555556,
              "#d8576b"
             ],
             [
              0.6666666666666666,
              "#ed7953"
             ],
             [
              0.7777777777777778,
              "#fb9f3a"
             ],
             [
              0.8888888888888888,
              "#fdca26"
             ],
             [
              1,
              "#f0f921"
             ]
            ],
            "type": "contour"
           }
          ],
          "contourcarpet": [
           {
            "colorbar": {
             "outlinewidth": 0,
             "ticks": ""
            },
            "type": "contourcarpet"
           }
          ],
          "heatmap": [
           {
            "colorbar": {
             "outlinewidth": 0,
             "ticks": ""
            },
            "colorscale": [
             [
              0,
              "#0d0887"
             ],
             [
              0.1111111111111111,
              "#46039f"
             ],
             [
              0.2222222222222222,
              "#7201a8"
             ],
             [
              0.3333333333333333,
              "#9c179e"
             ],
             [
              0.4444444444444444,
              "#bd3786"
             ],
             [
              0.5555555555555556,
              "#d8576b"
             ],
             [
              0.6666666666666666,
              "#ed7953"
             ],
             [
              0.7777777777777778,
              "#fb9f3a"
             ],
             [
              0.8888888888888888,
              "#fdca26"
             ],
             [
              1,
              "#f0f921"
             ]
            ],
            "type": "heatmap"
           }
          ],
          "heatmapgl": [
           {
            "colorbar": {
             "outlinewidth": 0,
             "ticks": ""
            },
            "colorscale": [
             [
              0,
              "#0d0887"
             ],
             [
              0.1111111111111111,
              "#46039f"
             ],
             [
              0.2222222222222222,
              "#7201a8"
             ],
             [
              0.3333333333333333,
              "#9c179e"
             ],
             [
              0.4444444444444444,
              "#bd3786"
             ],
             [
              0.5555555555555556,
              "#d8576b"
             ],
             [
              0.6666666666666666,
              "#ed7953"
             ],
             [
              0.7777777777777778,
              "#fb9f3a"
             ],
             [
              0.8888888888888888,
              "#fdca26"
             ],
             [
              1,
              "#f0f921"
             ]
            ],
            "type": "heatmapgl"
           }
          ],
          "histogram": [
           {
            "marker": {
             "pattern": {
              "fillmode": "overlay",
              "size": 10,
              "solidity": 0.2
             }
            },
            "type": "histogram"
           }
          ],
          "histogram2d": [
           {
            "colorbar": {
             "outlinewidth": 0,
             "ticks": ""
            },
            "colorscale": [
             [
              0,
              "#0d0887"
             ],
             [
              0.1111111111111111,
              "#46039f"
             ],
             [
              0.2222222222222222,
              "#7201a8"
             ],
             [
              0.3333333333333333,
              "#9c179e"
             ],
             [
              0.4444444444444444,
              "#bd3786"
             ],
             [
              0.5555555555555556,
              "#d8576b"
             ],
             [
              0.6666666666666666,
              "#ed7953"
             ],
             [
              0.7777777777777778,
              "#fb9f3a"
             ],
             [
              0.8888888888888888,
              "#fdca26"
             ],
             [
              1,
              "#f0f921"
             ]
            ],
            "type": "histogram2d"
           }
          ],
          "histogram2dcontour": [
           {
            "colorbar": {
             "outlinewidth": 0,
             "ticks": ""
            },
            "colorscale": [
             [
              0,
              "#0d0887"
             ],
             [
              0.1111111111111111,
              "#46039f"
             ],
             [
              0.2222222222222222,
              "#7201a8"
             ],
             [
              0.3333333333333333,
              "#9c179e"
             ],
             [
              0.4444444444444444,
              "#bd3786"
             ],
             [
              0.5555555555555556,
              "#d8576b"
             ],
             [
              0.6666666666666666,
              "#ed7953"
             ],
             [
              0.7777777777777778,
              "#fb9f3a"
             ],
             [
              0.8888888888888888,
              "#fdca26"
             ],
             [
              1,
              "#f0f921"
             ]
            ],
            "type": "histogram2dcontour"
           }
          ],
          "mesh3d": [
           {
            "colorbar": {
             "outlinewidth": 0,
             "ticks": ""
            },
            "type": "mesh3d"
           }
          ],
          "parcoords": [
           {
            "line": {
             "colorbar": {
              "outlinewidth": 0,
              "ticks": ""
             }
            },
            "type": "parcoords"
           }
          ],
          "pie": [
           {
            "automargin": true,
            "type": "pie"
           }
          ],
          "scatter": [
           {
            "fillpattern": {
             "fillmode": "overlay",
             "size": 10,
             "solidity": 0.2
            },
            "type": "scatter"
           }
          ],
          "scatter3d": [
           {
            "line": {
             "colorbar": {
              "outlinewidth": 0,
              "ticks": ""
             }
            },
            "marker": {
             "colorbar": {
              "outlinewidth": 0,
              "ticks": ""
             }
            },
            "type": "scatter3d"
           }
          ],
          "scattercarpet": [
           {
            "marker": {
             "colorbar": {
              "outlinewidth": 0,
              "ticks": ""
             }
            },
            "type": "scattercarpet"
           }
          ],
          "scattergeo": [
           {
            "marker": {
             "colorbar": {
              "outlinewidth": 0,
              "ticks": ""
             }
            },
            "type": "scattergeo"
           }
          ],
          "scattergl": [
           {
            "marker": {
             "colorbar": {
              "outlinewidth": 0,
              "ticks": ""
             }
            },
            "type": "scattergl"
           }
          ],
          "scattermapbox": [
           {
            "marker": {
             "colorbar": {
              "outlinewidth": 0,
              "ticks": ""
             }
            },
            "type": "scattermapbox"
           }
          ],
          "scatterpolar": [
           {
            "marker": {
             "colorbar": {
              "outlinewidth": 0,
              "ticks": ""
             }
            },
            "type": "scatterpolar"
           }
          ],
          "scatterpolargl": [
           {
            "marker": {
             "colorbar": {
              "outlinewidth": 0,
              "ticks": ""
             }
            },
            "type": "scatterpolargl"
           }
          ],
          "scatterternary": [
           {
            "marker": {
             "colorbar": {
              "outlinewidth": 0,
              "ticks": ""
             }
            },
            "type": "scatterternary"
           }
          ],
          "surface": [
           {
            "colorbar": {
             "outlinewidth": 0,
             "ticks": ""
            },
            "colorscale": [
             [
              0,
              "#0d0887"
             ],
             [
              0.1111111111111111,
              "#46039f"
             ],
             [
              0.2222222222222222,
              "#7201a8"
             ],
             [
              0.3333333333333333,
              "#9c179e"
             ],
             [
              0.4444444444444444,
              "#bd3786"
             ],
             [
              0.5555555555555556,
              "#d8576b"
             ],
             [
              0.6666666666666666,
              "#ed7953"
             ],
             [
              0.7777777777777778,
              "#fb9f3a"
             ],
             [
              0.8888888888888888,
              "#fdca26"
             ],
             [
              1,
              "#f0f921"
             ]
            ],
            "type": "surface"
           }
          ],
          "table": [
           {
            "cells": {
             "fill": {
              "color": "#EBF0F8"
             },
             "line": {
              "color": "white"
             }
            },
            "header": {
             "fill": {
              "color": "#C8D4E3"
             },
             "line": {
              "color": "white"
             }
            },
            "type": "table"
           }
          ]
         },
         "layout": {
          "annotationdefaults": {
           "arrowcolor": "#2a3f5f",
           "arrowhead": 0,
           "arrowwidth": 1
          },
          "autotypenumbers": "strict",
          "coloraxis": {
           "colorbar": {
            "outlinewidth": 0,
            "ticks": ""
           }
          },
          "colorscale": {
           "diverging": [
            [
             0,
             "#8e0152"
            ],
            [
             0.1,
             "#c51b7d"
            ],
            [
             0.2,
             "#de77ae"
            ],
            [
             0.3,
             "#f1b6da"
            ],
            [
             0.4,
             "#fde0ef"
            ],
            [
             0.5,
             "#f7f7f7"
            ],
            [
             0.6,
             "#e6f5d0"
            ],
            [
             0.7,
             "#b8e186"
            ],
            [
             0.8,
             "#7fbc41"
            ],
            [
             0.9,
             "#4d9221"
            ],
            [
             1,
             "#276419"
            ]
           ],
           "sequential": [
            [
             0,
             "#0d0887"
            ],
            [
             0.1111111111111111,
             "#46039f"
            ],
            [
             0.2222222222222222,
             "#7201a8"
            ],
            [
             0.3333333333333333,
             "#9c179e"
            ],
            [
             0.4444444444444444,
             "#bd3786"
            ],
            [
             0.5555555555555556,
             "#d8576b"
            ],
            [
             0.6666666666666666,
             "#ed7953"
            ],
            [
             0.7777777777777778,
             "#fb9f3a"
            ],
            [
             0.8888888888888888,
             "#fdca26"
            ],
            [
             1,
             "#f0f921"
            ]
           ],
           "sequentialminus": [
            [
             0,
             "#0d0887"
            ],
            [
             0.1111111111111111,
             "#46039f"
            ],
            [
             0.2222222222222222,
             "#7201a8"
            ],
            [
             0.3333333333333333,
             "#9c179e"
            ],
            [
             0.4444444444444444,
             "#bd3786"
            ],
            [
             0.5555555555555556,
             "#d8576b"
            ],
            [
             0.6666666666666666,
             "#ed7953"
            ],
            [
             0.7777777777777778,
             "#fb9f3a"
            ],
            [
             0.8888888888888888,
             "#fdca26"
            ],
            [
             1,
             "#f0f921"
            ]
           ]
          },
          "colorway": [
           "#636efa",
           "#EF553B",
           "#00cc96",
           "#ab63fa",
           "#FFA15A",
           "#19d3f3",
           "#FF6692",
           "#B6E880",
           "#FF97FF",
           "#FECB52"
          ],
          "font": {
           "color": "#2a3f5f"
          },
          "geo": {
           "bgcolor": "white",
           "lakecolor": "white",
           "landcolor": "#E5ECF6",
           "showlakes": true,
           "showland": true,
           "subunitcolor": "white"
          },
          "hoverlabel": {
           "align": "left"
          },
          "hovermode": "closest",
          "mapbox": {
           "style": "light"
          },
          "paper_bgcolor": "white",
          "plot_bgcolor": "#E5ECF6",
          "polar": {
           "angularaxis": {
            "gridcolor": "white",
            "linecolor": "white",
            "ticks": ""
           },
           "bgcolor": "#E5ECF6",
           "radialaxis": {
            "gridcolor": "white",
            "linecolor": "white",
            "ticks": ""
           }
          },
          "scene": {
           "xaxis": {
            "backgroundcolor": "#E5ECF6",
            "gridcolor": "white",
            "gridwidth": 2,
            "linecolor": "white",
            "showbackground": true,
            "ticks": "",
            "zerolinecolor": "white"
           },
           "yaxis": {
            "backgroundcolor": "#E5ECF6",
            "gridcolor": "white",
            "gridwidth": 2,
            "linecolor": "white",
            "showbackground": true,
            "ticks": "",
            "zerolinecolor": "white"
           },
           "zaxis": {
            "backgroundcolor": "#E5ECF6",
            "gridcolor": "white",
            "gridwidth": 2,
            "linecolor": "white",
            "showbackground": true,
            "ticks": "",
            "zerolinecolor": "white"
           }
          },
          "shapedefaults": {
           "line": {
            "color": "#2a3f5f"
           }
          },
          "ternary": {
           "aaxis": {
            "gridcolor": "white",
            "linecolor": "white",
            "ticks": ""
           },
           "baxis": {
            "gridcolor": "white",
            "linecolor": "white",
            "ticks": ""
           },
           "bgcolor": "#E5ECF6",
           "caxis": {
            "gridcolor": "white",
            "linecolor": "white",
            "ticks": ""
           }
          },
          "title": {
           "x": 0.05
          },
          "xaxis": {
           "automargin": true,
           "gridcolor": "white",
           "linecolor": "white",
           "ticks": "",
           "title": {
            "standoff": 15
           },
           "zerolinecolor": "white",
           "zerolinewidth": 2
          },
          "yaxis": {
           "automargin": true,
           "gridcolor": "white",
           "linecolor": "white",
           "ticks": "",
           "title": {
            "standoff": 15
           },
           "zerolinecolor": "white",
           "zerolinewidth": 2
          }
         }
        },
        "xaxis": {
         "anchor": "y",
         "domain": [
          0,
          1
         ],
         "title": {
          "text": "Albumin_and_Globulin_Ratio"
         }
        },
        "yaxis": {
         "anchor": "x",
         "domain": [
          0,
          1
         ],
         "title": {
          "text": "count"
         },
         "type": "log"
        }
       }
      }
     },
     "metadata": {},
     "output_type": "display_data"
    },
    {
     "data": {
      "application/vnd.plotly.v1+json": {
       "config": {
        "plotlyServerURL": "https://plot.ly"
       },
       "data": [
        {
         "alignmentgroup": "True",
         "bingroup": "x",
         "hovertemplate": "Dataset=%{x}<br>count=%{y}<extra></extra>",
         "legendgroup": "1",
         "marker": {
          "color": "#636efa",
          "pattern": {
           "shape": ""
          }
         },
         "name": "1",
         "offsetgroup": "1",
         "orientation": "v",
         "showlegend": true,
         "type": "histogram",
         "x": [
          1,
          1,
          1,
          1,
          1,
          1,
          1,
          1,
          1,
          1,
          1,
          1,
          1,
          1,
          1,
          1,
          1,
          1,
          1,
          1,
          1,
          1,
          1,
          1,
          1,
          1,
          1,
          1,
          1,
          1,
          1,
          1,
          1,
          1,
          1,
          1,
          1,
          1,
          1,
          1,
          1,
          1,
          1,
          1,
          1,
          1,
          1,
          1,
          1,
          1,
          1,
          1,
          1,
          1,
          1,
          1,
          1,
          1,
          1,
          1,
          1,
          1,
          1,
          1,
          1,
          1,
          1,
          1,
          1,
          1,
          1,
          1,
          1,
          1,
          1,
          1,
          1,
          1,
          1,
          1,
          1,
          1,
          1,
          1,
          1,
          1,
          1,
          1,
          1,
          1,
          1,
          1,
          1,
          1,
          1,
          1,
          1,
          1,
          1,
          1,
          1,
          1,
          1,
          1,
          1,
          1,
          1,
          1,
          1,
          1,
          1,
          1,
          1,
          1,
          1,
          1,
          1,
          1,
          1,
          1,
          1,
          1,
          1,
          1,
          1,
          1,
          1,
          1,
          1,
          1,
          1,
          1,
          1,
          1,
          1,
          1,
          1,
          1,
          1,
          1,
          1,
          1,
          1,
          1,
          1,
          1,
          1,
          1,
          1,
          1,
          1,
          1,
          1,
          1,
          1,
          1,
          1,
          1,
          1,
          1,
          1,
          1,
          1,
          1,
          1,
          1,
          1,
          1,
          1,
          1,
          1,
          1,
          1,
          1,
          1,
          1,
          1,
          1,
          1,
          1,
          1,
          1,
          1,
          1,
          1,
          1,
          1,
          1,
          1,
          1,
          1,
          1,
          1,
          1,
          1,
          1,
          1,
          1,
          1,
          1,
          1,
          1,
          1,
          1,
          1,
          1,
          1,
          1,
          1,
          1,
          1,
          1,
          1,
          1,
          1,
          1,
          1,
          1,
          1,
          1,
          1,
          1,
          1,
          1,
          1,
          1,
          1,
          1,
          1,
          1,
          1,
          1,
          1,
          1,
          1,
          1,
          1,
          1,
          1,
          1,
          1,
          1,
          1,
          1,
          1,
          1,
          1,
          1,
          1,
          1,
          1,
          1,
          1,
          1,
          1,
          1,
          1,
          1,
          1,
          1,
          1,
          1,
          1,
          1,
          1,
          1,
          1,
          1,
          1,
          1,
          1,
          1,
          1,
          1,
          1,
          1,
          1,
          1,
          1,
          1,
          1,
          1,
          1,
          1,
          1,
          1,
          1,
          1,
          1,
          1,
          1,
          1,
          1,
          1,
          1,
          1,
          1,
          1,
          1,
          1,
          1,
          1,
          1,
          1,
          1,
          1,
          1,
          1,
          1,
          1,
          1,
          1,
          1,
          1,
          1,
          1,
          1,
          1,
          1,
          1,
          1,
          1,
          1,
          1,
          1,
          1,
          1,
          1,
          1,
          1,
          1,
          1,
          1,
          1,
          1,
          1,
          1,
          1,
          1,
          1,
          1,
          1,
          1,
          1,
          1,
          1,
          1,
          1,
          1,
          1,
          1,
          1,
          1,
          1,
          1,
          1,
          1,
          1,
          1,
          1,
          1,
          1,
          1,
          1,
          1,
          1,
          1,
          1,
          1,
          1,
          1,
          1,
          1,
          1,
          1,
          1,
          1,
          1,
          1,
          1,
          1,
          1,
          1,
          1,
          1,
          1,
          1,
          1,
          1,
          1,
          1,
          1,
          1,
          1,
          1,
          1,
          1,
          1,
          1,
          1,
          1,
          1,
          1,
          1,
          1,
          1,
          1,
          1,
          1,
          1,
          1,
          1,
          1,
          1,
          1,
          1
         ],
         "xaxis": "x",
         "yaxis": "y"
        },
        {
         "alignmentgroup": "True",
         "bingroup": "x",
         "hovertemplate": "Dataset=%{x}<br>count=%{y}<extra></extra>",
         "legendgroup": "2",
         "marker": {
          "color": "#EF553B",
          "pattern": {
           "shape": ""
          }
         },
         "name": "2",
         "offsetgroup": "2",
         "orientation": "v",
         "showlegend": true,
         "type": "histogram",
         "x": [
          2,
          2,
          2,
          2,
          2,
          2,
          2,
          2,
          2,
          2,
          2,
          2,
          2,
          2,
          2,
          2,
          2,
          2,
          2,
          2,
          2,
          2,
          2,
          2,
          2,
          2,
          2,
          2,
          2,
          2,
          2,
          2,
          2,
          2,
          2,
          2,
          2,
          2,
          2,
          2,
          2,
          2,
          2,
          2,
          2,
          2,
          2,
          2,
          2,
          2,
          2,
          2,
          2,
          2,
          2,
          2,
          2,
          2,
          2,
          2,
          2,
          2,
          2,
          2,
          2,
          2,
          2,
          2,
          2,
          2,
          2,
          2,
          2,
          2,
          2,
          2,
          2,
          2,
          2,
          2,
          2,
          2,
          2,
          2,
          2,
          2,
          2,
          2,
          2,
          2,
          2,
          2,
          2,
          2,
          2,
          2,
          2,
          2,
          2,
          2,
          2,
          2,
          2,
          2,
          2,
          2,
          2,
          2,
          2,
          2,
          2,
          2,
          2,
          2,
          2,
          2,
          2,
          2,
          2,
          2,
          2,
          2,
          2,
          2,
          2,
          2,
          2,
          2,
          2,
          2,
          2,
          2,
          2,
          2,
          2,
          2,
          2,
          2,
          2,
          2,
          2,
          2,
          2,
          2,
          2,
          2,
          2,
          2,
          2,
          2,
          2,
          2,
          2,
          2,
          2,
          2,
          2,
          2,
          2,
          2,
          2,
          2,
          2,
          2,
          2,
          2,
          2
         ],
         "xaxis": "x",
         "yaxis": "y"
        }
       ],
       "layout": {
        "barmode": "relative",
        "legend": {
         "title": {
          "text": "Dataset"
         },
         "tracegroupgap": 0
        },
        "margin": {
         "t": 60
        },
        "template": {
         "data": {
          "bar": [
           {
            "error_x": {
             "color": "#2a3f5f"
            },
            "error_y": {
             "color": "#2a3f5f"
            },
            "marker": {
             "line": {
              "color": "#E5ECF6",
              "width": 0.5
             },
             "pattern": {
              "fillmode": "overlay",
              "size": 10,
              "solidity": 0.2
             }
            },
            "type": "bar"
           }
          ],
          "barpolar": [
           {
            "marker": {
             "line": {
              "color": "#E5ECF6",
              "width": 0.5
             },
             "pattern": {
              "fillmode": "overlay",
              "size": 10,
              "solidity": 0.2
             }
            },
            "type": "barpolar"
           }
          ],
          "carpet": [
           {
            "aaxis": {
             "endlinecolor": "#2a3f5f",
             "gridcolor": "white",
             "linecolor": "white",
             "minorgridcolor": "white",
             "startlinecolor": "#2a3f5f"
            },
            "baxis": {
             "endlinecolor": "#2a3f5f",
             "gridcolor": "white",
             "linecolor": "white",
             "minorgridcolor": "white",
             "startlinecolor": "#2a3f5f"
            },
            "type": "carpet"
           }
          ],
          "choropleth": [
           {
            "colorbar": {
             "outlinewidth": 0,
             "ticks": ""
            },
            "type": "choropleth"
           }
          ],
          "contour": [
           {
            "colorbar": {
             "outlinewidth": 0,
             "ticks": ""
            },
            "colorscale": [
             [
              0,
              "#0d0887"
             ],
             [
              0.1111111111111111,
              "#46039f"
             ],
             [
              0.2222222222222222,
              "#7201a8"
             ],
             [
              0.3333333333333333,
              "#9c179e"
             ],
             [
              0.4444444444444444,
              "#bd3786"
             ],
             [
              0.5555555555555556,
              "#d8576b"
             ],
             [
              0.6666666666666666,
              "#ed7953"
             ],
             [
              0.7777777777777778,
              "#fb9f3a"
             ],
             [
              0.8888888888888888,
              "#fdca26"
             ],
             [
              1,
              "#f0f921"
             ]
            ],
            "type": "contour"
           }
          ],
          "contourcarpet": [
           {
            "colorbar": {
             "outlinewidth": 0,
             "ticks": ""
            },
            "type": "contourcarpet"
           }
          ],
          "heatmap": [
           {
            "colorbar": {
             "outlinewidth": 0,
             "ticks": ""
            },
            "colorscale": [
             [
              0,
              "#0d0887"
             ],
             [
              0.1111111111111111,
              "#46039f"
             ],
             [
              0.2222222222222222,
              "#7201a8"
             ],
             [
              0.3333333333333333,
              "#9c179e"
             ],
             [
              0.4444444444444444,
              "#bd3786"
             ],
             [
              0.5555555555555556,
              "#d8576b"
             ],
             [
              0.6666666666666666,
              "#ed7953"
             ],
             [
              0.7777777777777778,
              "#fb9f3a"
             ],
             [
              0.8888888888888888,
              "#fdca26"
             ],
             [
              1,
              "#f0f921"
             ]
            ],
            "type": "heatmap"
           }
          ],
          "heatmapgl": [
           {
            "colorbar": {
             "outlinewidth": 0,
             "ticks": ""
            },
            "colorscale": [
             [
              0,
              "#0d0887"
             ],
             [
              0.1111111111111111,
              "#46039f"
             ],
             [
              0.2222222222222222,
              "#7201a8"
             ],
             [
              0.3333333333333333,
              "#9c179e"
             ],
             [
              0.4444444444444444,
              "#bd3786"
             ],
             [
              0.5555555555555556,
              "#d8576b"
             ],
             [
              0.6666666666666666,
              "#ed7953"
             ],
             [
              0.7777777777777778,
              "#fb9f3a"
             ],
             [
              0.8888888888888888,
              "#fdca26"
             ],
             [
              1,
              "#f0f921"
             ]
            ],
            "type": "heatmapgl"
           }
          ],
          "histogram": [
           {
            "marker": {
             "pattern": {
              "fillmode": "overlay",
              "size": 10,
              "solidity": 0.2
             }
            },
            "type": "histogram"
           }
          ],
          "histogram2d": [
           {
            "colorbar": {
             "outlinewidth": 0,
             "ticks": ""
            },
            "colorscale": [
             [
              0,
              "#0d0887"
             ],
             [
              0.1111111111111111,
              "#46039f"
             ],
             [
              0.2222222222222222,
              "#7201a8"
             ],
             [
              0.3333333333333333,
              "#9c179e"
             ],
             [
              0.4444444444444444,
              "#bd3786"
             ],
             [
              0.5555555555555556,
              "#d8576b"
             ],
             [
              0.6666666666666666,
              "#ed7953"
             ],
             [
              0.7777777777777778,
              "#fb9f3a"
             ],
             [
              0.8888888888888888,
              "#fdca26"
             ],
             [
              1,
              "#f0f921"
             ]
            ],
            "type": "histogram2d"
           }
          ],
          "histogram2dcontour": [
           {
            "colorbar": {
             "outlinewidth": 0,
             "ticks": ""
            },
            "colorscale": [
             [
              0,
              "#0d0887"
             ],
             [
              0.1111111111111111,
              "#46039f"
             ],
             [
              0.2222222222222222,
              "#7201a8"
             ],
             [
              0.3333333333333333,
              "#9c179e"
             ],
             [
              0.4444444444444444,
              "#bd3786"
             ],
             [
              0.5555555555555556,
              "#d8576b"
             ],
             [
              0.6666666666666666,
              "#ed7953"
             ],
             [
              0.7777777777777778,
              "#fb9f3a"
             ],
             [
              0.8888888888888888,
              "#fdca26"
             ],
             [
              1,
              "#f0f921"
             ]
            ],
            "type": "histogram2dcontour"
           }
          ],
          "mesh3d": [
           {
            "colorbar": {
             "outlinewidth": 0,
             "ticks": ""
            },
            "type": "mesh3d"
           }
          ],
          "parcoords": [
           {
            "line": {
             "colorbar": {
              "outlinewidth": 0,
              "ticks": ""
             }
            },
            "type": "parcoords"
           }
          ],
          "pie": [
           {
            "automargin": true,
            "type": "pie"
           }
          ],
          "scatter": [
           {
            "fillpattern": {
             "fillmode": "overlay",
             "size": 10,
             "solidity": 0.2
            },
            "type": "scatter"
           }
          ],
          "scatter3d": [
           {
            "line": {
             "colorbar": {
              "outlinewidth": 0,
              "ticks": ""
             }
            },
            "marker": {
             "colorbar": {
              "outlinewidth": 0,
              "ticks": ""
             }
            },
            "type": "scatter3d"
           }
          ],
          "scattercarpet": [
           {
            "marker": {
             "colorbar": {
              "outlinewidth": 0,
              "ticks": ""
             }
            },
            "type": "scattercarpet"
           }
          ],
          "scattergeo": [
           {
            "marker": {
             "colorbar": {
              "outlinewidth": 0,
              "ticks": ""
             }
            },
            "type": "scattergeo"
           }
          ],
          "scattergl": [
           {
            "marker": {
             "colorbar": {
              "outlinewidth": 0,
              "ticks": ""
             }
            },
            "type": "scattergl"
           }
          ],
          "scattermapbox": [
           {
            "marker": {
             "colorbar": {
              "outlinewidth": 0,
              "ticks": ""
             }
            },
            "type": "scattermapbox"
           }
          ],
          "scatterpolar": [
           {
            "marker": {
             "colorbar": {
              "outlinewidth": 0,
              "ticks": ""
             }
            },
            "type": "scatterpolar"
           }
          ],
          "scatterpolargl": [
           {
            "marker": {
             "colorbar": {
              "outlinewidth": 0,
              "ticks": ""
             }
            },
            "type": "scatterpolargl"
           }
          ],
          "scatterternary": [
           {
            "marker": {
             "colorbar": {
              "outlinewidth": 0,
              "ticks": ""
             }
            },
            "type": "scatterternary"
           }
          ],
          "surface": [
           {
            "colorbar": {
             "outlinewidth": 0,
             "ticks": ""
            },
            "colorscale": [
             [
              0,
              "#0d0887"
             ],
             [
              0.1111111111111111,
              "#46039f"
             ],
             [
              0.2222222222222222,
              "#7201a8"
             ],
             [
              0.3333333333333333,
              "#9c179e"
             ],
             [
              0.4444444444444444,
              "#bd3786"
             ],
             [
              0.5555555555555556,
              "#d8576b"
             ],
             [
              0.6666666666666666,
              "#ed7953"
             ],
             [
              0.7777777777777778,
              "#fb9f3a"
             ],
             [
              0.8888888888888888,
              "#fdca26"
             ],
             [
              1,
              "#f0f921"
             ]
            ],
            "type": "surface"
           }
          ],
          "table": [
           {
            "cells": {
             "fill": {
              "color": "#EBF0F8"
             },
             "line": {
              "color": "white"
             }
            },
            "header": {
             "fill": {
              "color": "#C8D4E3"
             },
             "line": {
              "color": "white"
             }
            },
            "type": "table"
           }
          ]
         },
         "layout": {
          "annotationdefaults": {
           "arrowcolor": "#2a3f5f",
           "arrowhead": 0,
           "arrowwidth": 1
          },
          "autotypenumbers": "strict",
          "coloraxis": {
           "colorbar": {
            "outlinewidth": 0,
            "ticks": ""
           }
          },
          "colorscale": {
           "diverging": [
            [
             0,
             "#8e0152"
            ],
            [
             0.1,
             "#c51b7d"
            ],
            [
             0.2,
             "#de77ae"
            ],
            [
             0.3,
             "#f1b6da"
            ],
            [
             0.4,
             "#fde0ef"
            ],
            [
             0.5,
             "#f7f7f7"
            ],
            [
             0.6,
             "#e6f5d0"
            ],
            [
             0.7,
             "#b8e186"
            ],
            [
             0.8,
             "#7fbc41"
            ],
            [
             0.9,
             "#4d9221"
            ],
            [
             1,
             "#276419"
            ]
           ],
           "sequential": [
            [
             0,
             "#0d0887"
            ],
            [
             0.1111111111111111,
             "#46039f"
            ],
            [
             0.2222222222222222,
             "#7201a8"
            ],
            [
             0.3333333333333333,
             "#9c179e"
            ],
            [
             0.4444444444444444,
             "#bd3786"
            ],
            [
             0.5555555555555556,
             "#d8576b"
            ],
            [
             0.6666666666666666,
             "#ed7953"
            ],
            [
             0.7777777777777778,
             "#fb9f3a"
            ],
            [
             0.8888888888888888,
             "#fdca26"
            ],
            [
             1,
             "#f0f921"
            ]
           ],
           "sequentialminus": [
            [
             0,
             "#0d0887"
            ],
            [
             0.1111111111111111,
             "#46039f"
            ],
            [
             0.2222222222222222,
             "#7201a8"
            ],
            [
             0.3333333333333333,
             "#9c179e"
            ],
            [
             0.4444444444444444,
             "#bd3786"
            ],
            [
             0.5555555555555556,
             "#d8576b"
            ],
            [
             0.6666666666666666,
             "#ed7953"
            ],
            [
             0.7777777777777778,
             "#fb9f3a"
            ],
            [
             0.8888888888888888,
             "#fdca26"
            ],
            [
             1,
             "#f0f921"
            ]
           ]
          },
          "colorway": [
           "#636efa",
           "#EF553B",
           "#00cc96",
           "#ab63fa",
           "#FFA15A",
           "#19d3f3",
           "#FF6692",
           "#B6E880",
           "#FF97FF",
           "#FECB52"
          ],
          "font": {
           "color": "#2a3f5f"
          },
          "geo": {
           "bgcolor": "white",
           "lakecolor": "white",
           "landcolor": "#E5ECF6",
           "showlakes": true,
           "showland": true,
           "subunitcolor": "white"
          },
          "hoverlabel": {
           "align": "left"
          },
          "hovermode": "closest",
          "mapbox": {
           "style": "light"
          },
          "paper_bgcolor": "white",
          "plot_bgcolor": "#E5ECF6",
          "polar": {
           "angularaxis": {
            "gridcolor": "white",
            "linecolor": "white",
            "ticks": ""
           },
           "bgcolor": "#E5ECF6",
           "radialaxis": {
            "gridcolor": "white",
            "linecolor": "white",
            "ticks": ""
           }
          },
          "scene": {
           "xaxis": {
            "backgroundcolor": "#E5ECF6",
            "gridcolor": "white",
            "gridwidth": 2,
            "linecolor": "white",
            "showbackground": true,
            "ticks": "",
            "zerolinecolor": "white"
           },
           "yaxis": {
            "backgroundcolor": "#E5ECF6",
            "gridcolor": "white",
            "gridwidth": 2,
            "linecolor": "white",
            "showbackground": true,
            "ticks": "",
            "zerolinecolor": "white"
           },
           "zaxis": {
            "backgroundcolor": "#E5ECF6",
            "gridcolor": "white",
            "gridwidth": 2,
            "linecolor": "white",
            "showbackground": true,
            "ticks": "",
            "zerolinecolor": "white"
           }
          },
          "shapedefaults": {
           "line": {
            "color": "#2a3f5f"
           }
          },
          "ternary": {
           "aaxis": {
            "gridcolor": "white",
            "linecolor": "white",
            "ticks": ""
           },
           "baxis": {
            "gridcolor": "white",
            "linecolor": "white",
            "ticks": ""
           },
           "bgcolor": "#E5ECF6",
           "caxis": {
            "gridcolor": "white",
            "linecolor": "white",
            "ticks": ""
           }
          },
          "title": {
           "x": 0.05
          },
          "xaxis": {
           "automargin": true,
           "gridcolor": "white",
           "linecolor": "white",
           "ticks": "",
           "title": {
            "standoff": 15
           },
           "zerolinecolor": "white",
           "zerolinewidth": 2
          },
          "yaxis": {
           "automargin": true,
           "gridcolor": "white",
           "linecolor": "white",
           "ticks": "",
           "title": {
            "standoff": 15
           },
           "zerolinecolor": "white",
           "zerolinewidth": 2
          }
         }
        },
        "xaxis": {
         "anchor": "y",
         "categoryarray": [
          1,
          2
         ],
         "categoryorder": "array",
         "domain": [
          0,
          1
         ],
         "title": {
          "text": "Dataset"
         }
        },
        "yaxis": {
         "anchor": "x",
         "domain": [
          0,
          1
         ],
         "title": {
          "text": "count"
         }
        }
       }
      }
     },
     "metadata": {},
     "output_type": "display_data"
    }
   ],
   "source": [
    "from plotly.express import histogram\n",
    "\n",
    "for column in df.columns:\n",
    "    histogram(data_frame=df, x=column, color='Dataset', log_y=column in {\"Total_Bilirubin\",\"Direct_Bilirubin\",\"Alkaline_Phosphotase\",\n",
    "        \"Alanine_Aminotransferase\",\"Aspartate_Aminotransferase\",\"Total_Protiens\", \"Albumin\", \"Albumin_and_Globulin_Ratio\"}).show()"
   ]
  }
 ],
 "metadata": {
  "kernelspec": {
   "display_name": "Python 3",
   "language": "python",
   "name": "python3"
  },
  "language_info": {
   "codemirror_mode": {
    "name": "ipython",
    "version": 3
   },
   "file_extension": ".py",
   "mimetype": "text/x-python",
   "name": "python",
   "nbconvert_exporter": "python",
   "pygments_lexer": "ipython3",
   "version": "3.12.5"
  }
 },
 "nbformat": 4,
 "nbformat_minor": 2
}
